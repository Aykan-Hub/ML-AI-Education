{
 "cells": [
  {
   "cell_type": "markdown",
   "metadata": {},
   "source": [
    "### Python lists"
   ]
  },
  {
   "cell_type": "code",
   "execution_count": 1,
   "metadata": {},
   "outputs": [
    {
     "data": {
      "text/plain": [
       "[0.1, 0.2, 'a', 'b']"
      ]
     },
     "execution_count": 1,
     "metadata": {},
     "output_type": "execute_result"
    }
   ],
   "source": [
    "[0.1, 0.2, 'a', 'b']"
   ]
  },
  {
   "cell_type": "markdown",
   "metadata": {},
   "source": [
    "### Numpy array"
   ]
  },
  {
   "cell_type": "code",
   "execution_count": 2,
   "metadata": {},
   "outputs": [
    {
     "data": {
      "text/plain": [
       "array([0.1, 0.2, 0.3, 0.4])"
      ]
     },
     "execution_count": 2,
     "metadata": {},
     "output_type": "execute_result"
    }
   ],
   "source": [
    "import numpy as np\n",
    "\n",
    "np.array([0.1, 0.2, 0.3, 0.4])"
   ]
  },
  {
   "cell_type": "markdown",
   "metadata": {},
   "source": [
    "### Pandas DataFrame\n",
    "\n",
    "![title](pandas.png)"
   ]
  },
  {
   "cell_type": "markdown",
   "metadata": {},
   "source": [
    "---\n",
    "# <center> <font color=purple>[pandas](https://pandas.pydata.org/)  ([docs](https://pandas.pydata.org/pandas-docs/stable/index.html))\n",
    "</font>  </center>\n",
    "---"
   ]
  },
  {
   "cell_type": "markdown",
   "metadata": {},
   "source": [
    "## Standard import"
   ]
  },
  {
   "cell_type": "code",
   "execution_count": 3,
   "metadata": {},
   "outputs": [],
   "source": [
    "import pandas as pd"
   ]
  },
  {
   "cell_type": "markdown",
   "metadata": {},
   "source": [
    "---\n",
    "# <center> <font color=darkgreen>Creating a DataFrame</font></center>\n",
    "---"
   ]
  },
  {
   "cell_type": "markdown",
   "metadata": {},
   "source": [
    "## Create a DataFrame from a dictionary"
   ]
  },
  {
   "cell_type": "code",
   "execution_count": 4,
   "metadata": {},
   "outputs": [
    {
     "data": {
      "text/html": [
       "<div>\n",
       "<style scoped>\n",
       "    .dataframe tbody tr th:only-of-type {\n",
       "        vertical-align: middle;\n",
       "    }\n",
       "\n",
       "    .dataframe tbody tr th {\n",
       "        vertical-align: top;\n",
       "    }\n",
       "\n",
       "    .dataframe thead th {\n",
       "        text-align: right;\n",
       "    }\n",
       "</style>\n",
       "<table border=\"1\" class=\"dataframe\">\n",
       "  <thead>\n",
       "    <tr style=\"text-align: right;\">\n",
       "      <th></th>\n",
       "      <th>A</th>\n",
       "      <th>B</th>\n",
       "    </tr>\n",
       "  </thead>\n",
       "  <tbody>\n",
       "    <tr>\n",
       "      <th>0</th>\n",
       "      <td>25</td>\n",
       "      <td>str1</td>\n",
       "    </tr>\n",
       "    <tr>\n",
       "      <th>1</th>\n",
       "      <td>56</td>\n",
       "      <td>str2</td>\n",
       "    </tr>\n",
       "    <tr>\n",
       "      <th>2</th>\n",
       "      <td>93</td>\n",
       "      <td>str3</td>\n",
       "    </tr>\n",
       "  </tbody>\n",
       "</table>\n",
       "</div>"
      ],
      "text/plain": [
       "    A     B\n",
       "0  25  str1\n",
       "1  56  str2\n",
       "2  93  str3"
      ]
     },
     "execution_count": 4,
     "metadata": {},
     "output_type": "execute_result"
    }
   ],
   "source": [
    "df1 = pd.DataFrame({'A':[25,56,93] , \n",
    "                    'B':['str1','str2','str3']})\n",
    "\n",
    "df1"
   ]
  },
  {
   "cell_type": "markdown",
   "metadata": {},
   "source": [
    "### Change the index: [`set_index()`](https://pandas.pydata.org/pandas-docs/stable/reference/api/pandas.DataFrame.set_index.html)\n",
    "\n",
    "The default index is a list of integers. Use `set_index()` to assign a column to be the index."
   ]
  },
  {
   "cell_type": "code",
   "execution_count": 5,
   "metadata": {},
   "outputs": [
    {
     "data": {
      "text/html": [
       "<div>\n",
       "<style scoped>\n",
       "    .dataframe tbody tr th:only-of-type {\n",
       "        vertical-align: middle;\n",
       "    }\n",
       "\n",
       "    .dataframe tbody tr th {\n",
       "        vertical-align: top;\n",
       "    }\n",
       "\n",
       "    .dataframe thead th {\n",
       "        text-align: right;\n",
       "    }\n",
       "</style>\n",
       "<table border=\"1\" class=\"dataframe\">\n",
       "  <thead>\n",
       "    <tr style=\"text-align: right;\">\n",
       "      <th></th>\n",
       "      <th>B</th>\n",
       "    </tr>\n",
       "    <tr>\n",
       "      <th>A</th>\n",
       "      <th></th>\n",
       "    </tr>\n",
       "  </thead>\n",
       "  <tbody>\n",
       "    <tr>\n",
       "      <th>25</th>\n",
       "      <td>str1</td>\n",
       "    </tr>\n",
       "    <tr>\n",
       "      <th>56</th>\n",
       "      <td>str2</td>\n",
       "    </tr>\n",
       "    <tr>\n",
       "      <th>93</th>\n",
       "      <td>str3</td>\n",
       "    </tr>\n",
       "  </tbody>\n",
       "</table>\n",
       "</div>"
      ],
      "text/plain": [
       "       B\n",
       "A       \n",
       "25  str1\n",
       "56  str2\n",
       "93  str3"
      ]
     },
     "execution_count": 5,
     "metadata": {},
     "output_type": "execute_result"
    }
   ],
   "source": [
    "df2 = df1.set_index('A')\n",
    "df2"
   ]
  },
  {
   "cell_type": "markdown",
   "metadata": {},
   "source": [
    "## Load data from an external source"
   ]
  },
  {
   "cell_type": "code",
   "execution_count": 6,
   "metadata": {},
   "outputs": [],
   "source": [
    "# pd.read_"
   ]
  },
  {
   "cell_type": "markdown",
   "metadata": {},
   "source": [
    "## Load a DataFrame from a file"
   ]
  },
  {
   "cell_type": "code",
   "execution_count": 7,
   "metadata": {},
   "outputs": [
    {
     "data": {
      "text/html": [
       "<div>\n",
       "<style scoped>\n",
       "    .dataframe tbody tr th:only-of-type {\n",
       "        vertical-align: middle;\n",
       "    }\n",
       "\n",
       "    .dataframe tbody tr th {\n",
       "        vertical-align: top;\n",
       "    }\n",
       "\n",
       "    .dataframe thead th {\n",
       "        text-align: right;\n",
       "    }\n",
       "</style>\n",
       "<table border=\"1\" class=\"dataframe\">\n",
       "  <thead>\n",
       "    <tr style=\"text-align: right;\">\n",
       "      <th></th>\n",
       "      <th>id</th>\n",
       "      <th>firstname</th>\n",
       "      <th>midname</th>\n",
       "      <th>lastname</th>\n",
       "      <th>fullname</th>\n",
       "      <th>ftin</th>\n",
       "      <th>feet</th>\n",
       "      <th>inches</th>\n",
       "      <th>meters</th>\n",
       "      <th>gender</th>\n",
       "    </tr>\n",
       "  </thead>\n",
       "  <tbody>\n",
       "    <tr>\n",
       "      <th>0</th>\n",
       "      <td>1</td>\n",
       "      <td>Verne</td>\n",
       "      <td>NaN</td>\n",
       "      <td>Troyer</td>\n",
       "      <td>Verne Troyer</td>\n",
       "      <td>2ft 8in</td>\n",
       "      <td>2</td>\n",
       "      <td>8.00</td>\n",
       "      <td>0.81280</td>\n",
       "      <td>M</td>\n",
       "    </tr>\n",
       "    <tr>\n",
       "      <th>1</th>\n",
       "      <td>8</td>\n",
       "      <td>Herve</td>\n",
       "      <td>NaN</td>\n",
       "      <td>Villechaize</td>\n",
       "      <td>Herve Villechaize</td>\n",
       "      <td>3ft 10in</td>\n",
       "      <td>3</td>\n",
       "      <td>10.00</td>\n",
       "      <td>1.16840</td>\n",
       "      <td>M</td>\n",
       "    </tr>\n",
       "    <tr>\n",
       "      <th>2</th>\n",
       "      <td>9</td>\n",
       "      <td>David</td>\n",
       "      <td>NaN</td>\n",
       "      <td>Rappaport</td>\n",
       "      <td>David Rappaport</td>\n",
       "      <td>3ft 11in</td>\n",
       "      <td>3</td>\n",
       "      <td>11.00</td>\n",
       "      <td>1.19380</td>\n",
       "      <td>M</td>\n",
       "    </tr>\n",
       "    <tr>\n",
       "      <th>3</th>\n",
       "      <td>2</td>\n",
       "      <td>Tony</td>\n",
       "      <td>NaN</td>\n",
       "      <td>Cox</td>\n",
       "      <td>Tony Cox</td>\n",
       "      <td>3ft 6in</td>\n",
       "      <td>3</td>\n",
       "      <td>6.00</td>\n",
       "      <td>1.06680</td>\n",
       "      <td>M</td>\n",
       "    </tr>\n",
       "    <tr>\n",
       "      <th>4</th>\n",
       "      <td>3</td>\n",
       "      <td>Warwick</td>\n",
       "      <td>NaN</td>\n",
       "      <td>Davis</td>\n",
       "      <td>Warwick Davis</td>\n",
       "      <td>3ft 6in</td>\n",
       "      <td>3</td>\n",
       "      <td>6.00</td>\n",
       "      <td>1.06680</td>\n",
       "      <td>M</td>\n",
       "    </tr>\n",
       "    <tr>\n",
       "      <th>...</th>\n",
       "      <td>...</td>\n",
       "      <td>...</td>\n",
       "      <td>...</td>\n",
       "      <td>...</td>\n",
       "      <td>...</td>\n",
       "      <td>...</td>\n",
       "      <td>...</td>\n",
       "      <td>...</td>\n",
       "      <td>...</td>\n",
       "      <td>...</td>\n",
       "    </tr>\n",
       "    <tr>\n",
       "      <th>5497</th>\n",
       "      <td>5499</td>\n",
       "      <td>General</td>\n",
       "      <td>NaN</td>\n",
       "      <td>Height</td>\n",
       "      <td>General Height</td>\n",
       "      <td>7ft 6.5in</td>\n",
       "      <td>7</td>\n",
       "      <td>6.50</td>\n",
       "      <td>2.29870</td>\n",
       "      <td>NaN</td>\n",
       "    </tr>\n",
       "    <tr>\n",
       "      <th>5498</th>\n",
       "      <td>5498</td>\n",
       "      <td>Matthew</td>\n",
       "      <td>NaN</td>\n",
       "      <td>McGrory</td>\n",
       "      <td>Matthew McGrory</td>\n",
       "      <td>7ft 6in</td>\n",
       "      <td>7</td>\n",
       "      <td>6.00</td>\n",
       "      <td>2.28600</td>\n",
       "      <td>M</td>\n",
       "    </tr>\n",
       "    <tr>\n",
       "      <th>5499</th>\n",
       "      <td>5500</td>\n",
       "      <td>Sandy</td>\n",
       "      <td>NaN</td>\n",
       "      <td>Allen</td>\n",
       "      <td>Sandy Allen</td>\n",
       "      <td>7ft 7.25in</td>\n",
       "      <td>7</td>\n",
       "      <td>7.25</td>\n",
       "      <td>2.31775</td>\n",
       "      <td>F</td>\n",
       "    </tr>\n",
       "    <tr>\n",
       "      <th>5500</th>\n",
       "      <td>5501</td>\n",
       "      <td>Sun</td>\n",
       "      <td>Ming</td>\n",
       "      <td>Ming</td>\n",
       "      <td>Sun Ming Ming</td>\n",
       "      <td>7ft 8.75in</td>\n",
       "      <td>7</td>\n",
       "      <td>8.75</td>\n",
       "      <td>2.35585</td>\n",
       "      <td>NaN</td>\n",
       "    </tr>\n",
       "    <tr>\n",
       "      <th>5501</th>\n",
       "      <td>5502</td>\n",
       "      <td>Robert</td>\n",
       "      <td>NaN</td>\n",
       "      <td>Wadlow</td>\n",
       "      <td>Robert Wadlow</td>\n",
       "      <td>8ft 11in</td>\n",
       "      <td>8</td>\n",
       "      <td>11.00</td>\n",
       "      <td>2.71780</td>\n",
       "      <td>M</td>\n",
       "    </tr>\n",
       "  </tbody>\n",
       "</table>\n",
       "<p>5502 rows × 10 columns</p>\n",
       "</div>"
      ],
      "text/plain": [
       "        id firstname midname     lastname           fullname        ftin  \\\n",
       "0        1     Verne     NaN       Troyer       Verne Troyer     2ft 8in   \n",
       "1        8     Herve     NaN  Villechaize  Herve Villechaize    3ft 10in   \n",
       "2        9     David     NaN    Rappaport    David Rappaport    3ft 11in   \n",
       "3        2      Tony     NaN          Cox           Tony Cox     3ft 6in   \n",
       "4        3   Warwick     NaN        Davis      Warwick Davis     3ft 6in   \n",
       "...    ...       ...     ...          ...                ...         ...   \n",
       "5497  5499   General     NaN       Height     General Height   7ft 6.5in   \n",
       "5498  5498   Matthew     NaN      McGrory    Matthew McGrory     7ft 6in   \n",
       "5499  5500     Sandy     NaN        Allen        Sandy Allen  7ft 7.25in   \n",
       "5500  5501       Sun    Ming         Ming      Sun Ming Ming  7ft 8.75in   \n",
       "5501  5502    Robert     NaN       Wadlow      Robert Wadlow    8ft 11in   \n",
       "\n",
       "      feet  inches   meters gender  \n",
       "0        2    8.00  0.81280      M  \n",
       "1        3   10.00  1.16840      M  \n",
       "2        3   11.00  1.19380      M  \n",
       "3        3    6.00  1.06680      M  \n",
       "4        3    6.00  1.06680      M  \n",
       "...    ...     ...      ...    ...  \n",
       "5497     7    6.50  2.29870    NaN  \n",
       "5498     7    6.00  2.28600      M  \n",
       "5499     7    7.25  2.31775      F  \n",
       "5500     7    8.75  2.35585    NaN  \n",
       "5501     8   11.00  2.71780      M  \n",
       "\n",
       "[5502 rows x 10 columns]"
      ]
     },
     "execution_count": 7,
     "metadata": {},
     "output_type": "execute_result"
    }
   ],
   "source": [
    "CH = pd.read_csv('data/celebrity-heights.csv')\n",
    "CH"
   ]
  },
  {
   "cell_type": "code",
   "execution_count": 8,
   "metadata": {},
   "outputs": [
    {
     "data": {
      "text/html": [
       "<div>\n",
       "<style scoped>\n",
       "    .dataframe tbody tr th:only-of-type {\n",
       "        vertical-align: middle;\n",
       "    }\n",
       "\n",
       "    .dataframe tbody tr th {\n",
       "        vertical-align: top;\n",
       "    }\n",
       "\n",
       "    .dataframe thead th {\n",
       "        text-align: right;\n",
       "    }\n",
       "</style>\n",
       "<table border=\"1\" class=\"dataframe\">\n",
       "  <thead>\n",
       "    <tr style=\"text-align: right;\">\n",
       "      <th></th>\n",
       "      <th>id</th>\n",
       "      <th>firstname</th>\n",
       "      <th>midname</th>\n",
       "      <th>lastname</th>\n",
       "      <th>ftin</th>\n",
       "      <th>feet</th>\n",
       "      <th>inches</th>\n",
       "      <th>meters</th>\n",
       "      <th>gender</th>\n",
       "    </tr>\n",
       "    <tr>\n",
       "      <th>fullname</th>\n",
       "      <th></th>\n",
       "      <th></th>\n",
       "      <th></th>\n",
       "      <th></th>\n",
       "      <th></th>\n",
       "      <th></th>\n",
       "      <th></th>\n",
       "      <th></th>\n",
       "      <th></th>\n",
       "    </tr>\n",
       "  </thead>\n",
       "  <tbody>\n",
       "    <tr>\n",
       "      <th>Verne Troyer</th>\n",
       "      <td>1</td>\n",
       "      <td>Verne</td>\n",
       "      <td>NaN</td>\n",
       "      <td>Troyer</td>\n",
       "      <td>2ft 8in</td>\n",
       "      <td>2</td>\n",
       "      <td>8.0</td>\n",
       "      <td>0.8128</td>\n",
       "      <td>M</td>\n",
       "    </tr>\n",
       "    <tr>\n",
       "      <th>Herve Villechaize</th>\n",
       "      <td>8</td>\n",
       "      <td>Herve</td>\n",
       "      <td>NaN</td>\n",
       "      <td>Villechaize</td>\n",
       "      <td>3ft 10in</td>\n",
       "      <td>3</td>\n",
       "      <td>10.0</td>\n",
       "      <td>1.1684</td>\n",
       "      <td>M</td>\n",
       "    </tr>\n",
       "    <tr>\n",
       "      <th>David Rappaport</th>\n",
       "      <td>9</td>\n",
       "      <td>David</td>\n",
       "      <td>NaN</td>\n",
       "      <td>Rappaport</td>\n",
       "      <td>3ft 11in</td>\n",
       "      <td>3</td>\n",
       "      <td>11.0</td>\n",
       "      <td>1.1938</td>\n",
       "      <td>M</td>\n",
       "    </tr>\n",
       "    <tr>\n",
       "      <th>Tony Cox</th>\n",
       "      <td>2</td>\n",
       "      <td>Tony</td>\n",
       "      <td>NaN</td>\n",
       "      <td>Cox</td>\n",
       "      <td>3ft 6in</td>\n",
       "      <td>3</td>\n",
       "      <td>6.0</td>\n",
       "      <td>1.0668</td>\n",
       "      <td>M</td>\n",
       "    </tr>\n",
       "    <tr>\n",
       "      <th>Warwick Davis</th>\n",
       "      <td>3</td>\n",
       "      <td>Warwick</td>\n",
       "      <td>NaN</td>\n",
       "      <td>Davis</td>\n",
       "      <td>3ft 6in</td>\n",
       "      <td>3</td>\n",
       "      <td>6.0</td>\n",
       "      <td>1.0668</td>\n",
       "      <td>M</td>\n",
       "    </tr>\n",
       "  </tbody>\n",
       "</table>\n",
       "</div>"
      ],
      "text/plain": [
       "                   id firstname midname     lastname      ftin  feet  inches  \\\n",
       "fullname                                                                       \n",
       "Verne Troyer        1     Verne     NaN       Troyer   2ft 8in     2     8.0   \n",
       "Herve Villechaize   8     Herve     NaN  Villechaize  3ft 10in     3    10.0   \n",
       "David Rappaport     9     David     NaN    Rappaport  3ft 11in     3    11.0   \n",
       "Tony Cox            2      Tony     NaN          Cox   3ft 6in     3     6.0   \n",
       "Warwick Davis       3   Warwick     NaN        Davis   3ft 6in     3     6.0   \n",
       "\n",
       "                   meters gender  \n",
       "fullname                          \n",
       "Verne Troyer       0.8128      M  \n",
       "Herve Villechaize  1.1684      M  \n",
       "David Rappaport    1.1938      M  \n",
       "Tony Cox           1.0668      M  \n",
       "Warwick Davis      1.0668      M  "
      ]
     },
     "execution_count": 8,
     "metadata": {},
     "output_type": "execute_result"
    }
   ],
   "source": [
    "CH.set_index('fullname', inplace=True)\n",
    "CH.head()"
   ]
  },
  {
   "cell_type": "markdown",
   "metadata": {},
   "source": [
    "## Load a DataFrame from online data\n",
    "\n",
    "+ We will load data on eductional attainment and personal income from the [California Open Data](https://data.ca.gov/dataset/ca-educational-attainment-personal-income/resource/26201f19-4469-4311-a819-bbbd3e557eda) portal. \n",
    "+ Go to the website, copy the URL and enter it below."
   ]
  },
  {
   "cell_type": "code",
   "execution_count": 9,
   "metadata": {},
   "outputs": [],
   "source": [
    "url = 'https://data.ca.gov/dataset/cea8cd18-9d21-4676-85de-d504ee2d4aab/resource/26201f19-4469-4311-a819-bbbd3e557eda/download/ca-educational-attainment-personal-income-2008-2014.csv'\n",
    "table = pd.read_csv(url)"
   ]
  },
  {
   "cell_type": "code",
   "execution_count": 10,
   "metadata": {},
   "outputs": [
    {
     "data": {
      "text/html": [
       "<div>\n",
       "<style scoped>\n",
       "    .dataframe tbody tr th:only-of-type {\n",
       "        vertical-align: middle;\n",
       "    }\n",
       "\n",
       "    .dataframe tbody tr th {\n",
       "        vertical-align: top;\n",
       "    }\n",
       "\n",
       "    .dataframe thead th {\n",
       "        text-align: right;\n",
       "    }\n",
       "</style>\n",
       "<table border=\"1\" class=\"dataframe\">\n",
       "  <thead>\n",
       "    <tr style=\"text-align: right;\">\n",
       "      <th></th>\n",
       "      <th>Year</th>\n",
       "      <th>Age</th>\n",
       "      <th>Gender</th>\n",
       "      <th>Educational Attainment</th>\n",
       "      <th>Personal Income</th>\n",
       "      <th>Population Count</th>\n",
       "    </tr>\n",
       "  </thead>\n",
       "  <tbody>\n",
       "    <tr>\n",
       "      <th>0</th>\n",
       "      <td>01/01/2008 12:00:00 AM</td>\n",
       "      <td>00 to 17</td>\n",
       "      <td>Male</td>\n",
       "      <td>Children under 15</td>\n",
       "      <td>No Income</td>\n",
       "      <td>NaN</td>\n",
       "    </tr>\n",
       "    <tr>\n",
       "      <th>1</th>\n",
       "      <td>01/01/2008 12:00:00 AM</td>\n",
       "      <td>00 to 17</td>\n",
       "      <td>Male</td>\n",
       "      <td>No high school diploma</td>\n",
       "      <td>No Income</td>\n",
       "      <td>650889.0</td>\n",
       "    </tr>\n",
       "    <tr>\n",
       "      <th>2</th>\n",
       "      <td>01/01/2008 12:00:00 AM</td>\n",
       "      <td>00 to 17</td>\n",
       "      <td>Male</td>\n",
       "      <td>No high school diploma</td>\n",
       "      <td>$5,000 to $9,999</td>\n",
       "      <td>30152.0</td>\n",
       "    </tr>\n",
       "    <tr>\n",
       "      <th>3</th>\n",
       "      <td>01/01/2008 12:00:00 AM</td>\n",
       "      <td>00 to 17</td>\n",
       "      <td>Male</td>\n",
       "      <td>No high school diploma</td>\n",
       "      <td>$10,000 to $14,999</td>\n",
       "      <td>7092.0</td>\n",
       "    </tr>\n",
       "    <tr>\n",
       "      <th>4</th>\n",
       "      <td>01/01/2008 12:00:00 AM</td>\n",
       "      <td>00 to 17</td>\n",
       "      <td>Male</td>\n",
       "      <td>No high school diploma</td>\n",
       "      <td>$15,000 to $24,999</td>\n",
       "      <td>3974.0</td>\n",
       "    </tr>\n",
       "    <tr>\n",
       "      <th>...</th>\n",
       "      <td>...</td>\n",
       "      <td>...</td>\n",
       "      <td>...</td>\n",
       "      <td>...</td>\n",
       "      <td>...</td>\n",
       "      <td>...</td>\n",
       "    </tr>\n",
       "    <tr>\n",
       "      <th>1055</th>\n",
       "      <td>01/01/2014 12:00:00 AM</td>\n",
       "      <td>65 to 80+</td>\n",
       "      <td>Female</td>\n",
       "      <td>Bachelor's degree or higher</td>\n",
       "      <td>$15,000 to $24,999</td>\n",
       "      <td>82988.0</td>\n",
       "    </tr>\n",
       "    <tr>\n",
       "      <th>1056</th>\n",
       "      <td>01/01/2014 12:00:00 AM</td>\n",
       "      <td>65 to 80+</td>\n",
       "      <td>Female</td>\n",
       "      <td>Bachelor's degree or higher</td>\n",
       "      <td>$25,000 to $34,999</td>\n",
       "      <td>59607.0</td>\n",
       "    </tr>\n",
       "    <tr>\n",
       "      <th>1057</th>\n",
       "      <td>01/01/2014 12:00:00 AM</td>\n",
       "      <td>65 to 80+</td>\n",
       "      <td>Female</td>\n",
       "      <td>Bachelor's degree or higher</td>\n",
       "      <td>$35,000 to $49,999</td>\n",
       "      <td>113584.0</td>\n",
       "    </tr>\n",
       "    <tr>\n",
       "      <th>1058</th>\n",
       "      <td>01/01/2014 12:00:00 AM</td>\n",
       "      <td>65 to 80+</td>\n",
       "      <td>Female</td>\n",
       "      <td>Bachelor's degree or higher</td>\n",
       "      <td>$50,000 to $74,999</td>\n",
       "      <td>97657.0</td>\n",
       "    </tr>\n",
       "    <tr>\n",
       "      <th>1059</th>\n",
       "      <td>01/01/2014 12:00:00 AM</td>\n",
       "      <td>65 to 80+</td>\n",
       "      <td>Female</td>\n",
       "      <td>Bachelor's degree or higher</td>\n",
       "      <td>$75,000 and over</td>\n",
       "      <td>110009.0</td>\n",
       "    </tr>\n",
       "  </tbody>\n",
       "</table>\n",
       "<p>1060 rows × 6 columns</p>\n",
       "</div>"
      ],
      "text/plain": [
       "                        Year        Age  Gender       Educational Attainment  \\\n",
       "0     01/01/2008 12:00:00 AM   00 to 17    Male            Children under 15   \n",
       "1     01/01/2008 12:00:00 AM   00 to 17    Male       No high school diploma   \n",
       "2     01/01/2008 12:00:00 AM   00 to 17    Male       No high school diploma   \n",
       "3     01/01/2008 12:00:00 AM   00 to 17    Male       No high school diploma   \n",
       "4     01/01/2008 12:00:00 AM   00 to 17    Male       No high school diploma   \n",
       "...                      ...        ...     ...                          ...   \n",
       "1055  01/01/2014 12:00:00 AM  65 to 80+  Female  Bachelor's degree or higher   \n",
       "1056  01/01/2014 12:00:00 AM  65 to 80+  Female  Bachelor's degree or higher   \n",
       "1057  01/01/2014 12:00:00 AM  65 to 80+  Female  Bachelor's degree or higher   \n",
       "1058  01/01/2014 12:00:00 AM  65 to 80+  Female  Bachelor's degree or higher   \n",
       "1059  01/01/2014 12:00:00 AM  65 to 80+  Female  Bachelor's degree or higher   \n",
       "\n",
       "         Personal Income  Population Count  \n",
       "0              No Income               NaN  \n",
       "1              No Income          650889.0  \n",
       "2       $5,000 to $9,999           30152.0  \n",
       "3     $10,000 to $14,999            7092.0  \n",
       "4     $15,000 to $24,999            3974.0  \n",
       "...                  ...               ...  \n",
       "1055  $15,000 to $24,999           82988.0  \n",
       "1056  $25,000 to $34,999           59607.0  \n",
       "1057  $35,000 to $49,999          113584.0  \n",
       "1058  $50,000 to $74,999           97657.0  \n",
       "1059    $75,000 and over          110009.0  \n",
       "\n",
       "[1060 rows x 6 columns]"
      ]
     },
     "execution_count": 10,
     "metadata": {},
     "output_type": "execute_result"
    }
   ],
   "source": [
    "table"
   ]
  },
  {
   "cell_type": "markdown",
   "metadata": {},
   "source": [
    "## DataFrame summaries\n",
    "+ [info()](https://pandas.pydata.org/pandas-docs/stable/reference/api/pandas.DataFrame.info.html#): Column data types.\n",
    "+ [describe()](https://pandas.pydata.org/pandas-docs/stable/reference/api/pandas.DataFrame.describe.html#): Summary statistics for numerical columns\n",
    "+ [head()](https://pandas.pydata.org/pandas-docs/stable/reference/api/pandas.DataFrame.head.html), [tail()](https://pandas.pydata.org/pandas-docs/stable/reference/api/pandas.DataFrame.tail.html#pandas.DataFrame.tail) : Show first or last few rows of a table"
   ]
  },
  {
   "cell_type": "code",
   "execution_count": 11,
   "metadata": {},
   "outputs": [
    {
     "data": {
      "text/html": [
       "<div>\n",
       "<style scoped>\n",
       "    .dataframe tbody tr th:only-of-type {\n",
       "        vertical-align: middle;\n",
       "    }\n",
       "\n",
       "    .dataframe tbody tr th {\n",
       "        vertical-align: top;\n",
       "    }\n",
       "\n",
       "    .dataframe thead th {\n",
       "        text-align: right;\n",
       "    }\n",
       "</style>\n",
       "<table border=\"1\" class=\"dataframe\">\n",
       "  <thead>\n",
       "    <tr style=\"text-align: right;\">\n",
       "      <th></th>\n",
       "      <th>Year</th>\n",
       "      <th>Age</th>\n",
       "      <th>Gender</th>\n",
       "      <th>Educational Attainment</th>\n",
       "      <th>Personal Income</th>\n",
       "      <th>Population Count</th>\n",
       "    </tr>\n",
       "  </thead>\n",
       "  <tbody>\n",
       "    <tr>\n",
       "      <th>1050</th>\n",
       "      <td>01/01/2014 12:00:00 AM</td>\n",
       "      <td>65 to 80+</td>\n",
       "      <td>Female</td>\n",
       "      <td>Some college, less than 4-yr degree</td>\n",
       "      <td>$50,000 to $74,999</td>\n",
       "      <td>63144.0</td>\n",
       "    </tr>\n",
       "    <tr>\n",
       "      <th>1051</th>\n",
       "      <td>01/01/2014 12:00:00 AM</td>\n",
       "      <td>65 to 80+</td>\n",
       "      <td>Female</td>\n",
       "      <td>Some college, less than 4-yr degree</td>\n",
       "      <td>$75,000 and over</td>\n",
       "      <td>54704.0</td>\n",
       "    </tr>\n",
       "    <tr>\n",
       "      <th>1052</th>\n",
       "      <td>01/01/2014 12:00:00 AM</td>\n",
       "      <td>65 to 80+</td>\n",
       "      <td>Female</td>\n",
       "      <td>Bachelor's degree or higher</td>\n",
       "      <td>No Income</td>\n",
       "      <td>15459.0</td>\n",
       "    </tr>\n",
       "    <tr>\n",
       "      <th>1053</th>\n",
       "      <td>01/01/2014 12:00:00 AM</td>\n",
       "      <td>65 to 80+</td>\n",
       "      <td>Female</td>\n",
       "      <td>Bachelor's degree or higher</td>\n",
       "      <td>$5,000 to $9,999</td>\n",
       "      <td>62471.0</td>\n",
       "    </tr>\n",
       "    <tr>\n",
       "      <th>1054</th>\n",
       "      <td>01/01/2014 12:00:00 AM</td>\n",
       "      <td>65 to 80+</td>\n",
       "      <td>Female</td>\n",
       "      <td>Bachelor's degree or higher</td>\n",
       "      <td>$10,000 to $14,999</td>\n",
       "      <td>104583.0</td>\n",
       "    </tr>\n",
       "    <tr>\n",
       "      <th>1055</th>\n",
       "      <td>01/01/2014 12:00:00 AM</td>\n",
       "      <td>65 to 80+</td>\n",
       "      <td>Female</td>\n",
       "      <td>Bachelor's degree or higher</td>\n",
       "      <td>$15,000 to $24,999</td>\n",
       "      <td>82988.0</td>\n",
       "    </tr>\n",
       "    <tr>\n",
       "      <th>1056</th>\n",
       "      <td>01/01/2014 12:00:00 AM</td>\n",
       "      <td>65 to 80+</td>\n",
       "      <td>Female</td>\n",
       "      <td>Bachelor's degree or higher</td>\n",
       "      <td>$25,000 to $34,999</td>\n",
       "      <td>59607.0</td>\n",
       "    </tr>\n",
       "    <tr>\n",
       "      <th>1057</th>\n",
       "      <td>01/01/2014 12:00:00 AM</td>\n",
       "      <td>65 to 80+</td>\n",
       "      <td>Female</td>\n",
       "      <td>Bachelor's degree or higher</td>\n",
       "      <td>$35,000 to $49,999</td>\n",
       "      <td>113584.0</td>\n",
       "    </tr>\n",
       "    <tr>\n",
       "      <th>1058</th>\n",
       "      <td>01/01/2014 12:00:00 AM</td>\n",
       "      <td>65 to 80+</td>\n",
       "      <td>Female</td>\n",
       "      <td>Bachelor's degree or higher</td>\n",
       "      <td>$50,000 to $74,999</td>\n",
       "      <td>97657.0</td>\n",
       "    </tr>\n",
       "    <tr>\n",
       "      <th>1059</th>\n",
       "      <td>01/01/2014 12:00:00 AM</td>\n",
       "      <td>65 to 80+</td>\n",
       "      <td>Female</td>\n",
       "      <td>Bachelor's degree or higher</td>\n",
       "      <td>$75,000 and over</td>\n",
       "      <td>110009.0</td>\n",
       "    </tr>\n",
       "  </tbody>\n",
       "</table>\n",
       "</div>"
      ],
      "text/plain": [
       "                        Year        Age  Gender  \\\n",
       "1050  01/01/2014 12:00:00 AM  65 to 80+  Female   \n",
       "1051  01/01/2014 12:00:00 AM  65 to 80+  Female   \n",
       "1052  01/01/2014 12:00:00 AM  65 to 80+  Female   \n",
       "1053  01/01/2014 12:00:00 AM  65 to 80+  Female   \n",
       "1054  01/01/2014 12:00:00 AM  65 to 80+  Female   \n",
       "1055  01/01/2014 12:00:00 AM  65 to 80+  Female   \n",
       "1056  01/01/2014 12:00:00 AM  65 to 80+  Female   \n",
       "1057  01/01/2014 12:00:00 AM  65 to 80+  Female   \n",
       "1058  01/01/2014 12:00:00 AM  65 to 80+  Female   \n",
       "1059  01/01/2014 12:00:00 AM  65 to 80+  Female   \n",
       "\n",
       "                   Educational Attainment     Personal Income  \\\n",
       "1050  Some college, less than 4-yr degree  $50,000 to $74,999   \n",
       "1051  Some college, less than 4-yr degree    $75,000 and over   \n",
       "1052          Bachelor's degree or higher           No Income   \n",
       "1053          Bachelor's degree or higher    $5,000 to $9,999   \n",
       "1054          Bachelor's degree or higher  $10,000 to $14,999   \n",
       "1055          Bachelor's degree or higher  $15,000 to $24,999   \n",
       "1056          Bachelor's degree or higher  $25,000 to $34,999   \n",
       "1057          Bachelor's degree or higher  $35,000 to $49,999   \n",
       "1058          Bachelor's degree or higher  $50,000 to $74,999   \n",
       "1059          Bachelor's degree or higher    $75,000 and over   \n",
       "\n",
       "      Population Count  \n",
       "1050           63144.0  \n",
       "1051           54704.0  \n",
       "1052           15459.0  \n",
       "1053           62471.0  \n",
       "1054          104583.0  \n",
       "1055           82988.0  \n",
       "1056           59607.0  \n",
       "1057          113584.0  \n",
       "1058           97657.0  \n",
       "1059          110009.0  "
      ]
     },
     "execution_count": 11,
     "metadata": {},
     "output_type": "execute_result"
    }
   ],
   "source": [
    "table.tail(10)"
   ]
  },
  {
   "cell_type": "markdown",
   "metadata": {},
   "source": [
    "---\n",
    "# <center> <font color=darkgreen>Selecting data</font>  </center>\n",
    "---\n",
    "\n",
    "There are three basic ways to select data from a DataFrame. \n",
    "\n",
    "+ `[]`: Bracket selection\n",
    "+ `.loc[]` : Label-based selection\n",
    "+ `.iloc[]` : Integer-based selection"
   ]
  },
  {
   "cell_type": "markdown",
   "metadata": {},
   "source": [
    "## `[]` Bracket selection\n",
    "\n",
    "Syntax: `X[selector]`\n",
    "+ To select columns the `selector` can be\n",
    "    + A column label (string)\n",
    "    + A list of column labels (list of strings)\n",
    "+ To select rows the `selector` can be\n",
    "    + A slice\n",
    "    + A boolean mask"
   ]
  },
  {
   "cell_type": "markdown",
   "metadata": {},
   "source": [
    "### Select a single column (string)"
   ]
  },
  {
   "cell_type": "code",
   "execution_count": 12,
   "metadata": {},
   "outputs": [
    {
     "data": {
      "text/plain": [
       "fullname\n",
       "Verne Troyer           Verne\n",
       "Herve Villechaize      Herve\n",
       "David Rappaport        David\n",
       "Tony Cox                Tony\n",
       "Warwick Davis        Warwick\n",
       "                      ...   \n",
       "General Height       General\n",
       "Matthew McGrory      Matthew\n",
       "Sandy Allen            Sandy\n",
       "Sun Ming Ming            Sun\n",
       "Robert Wadlow         Robert\n",
       "Name: firstname, Length: 5502, dtype: object"
      ]
     },
     "execution_count": 12,
     "metadata": {},
     "output_type": "execute_result"
    }
   ],
   "source": [
    "CH['firstname']"
   ]
  },
  {
   "cell_type": "markdown",
   "metadata": {},
   "source": [
    "### Select multiple columns (list of strings)"
   ]
  },
  {
   "cell_type": "code",
   "execution_count": 13,
   "metadata": {},
   "outputs": [
    {
     "data": {
      "text/plain": [
       "pandas.core.frame.DataFrame"
      ]
     },
     "execution_count": 13,
     "metadata": {},
     "output_type": "execute_result"
    }
   ],
   "source": [
    "type(CH[['firstname','lastname']])"
   ]
  },
  {
   "cell_type": "markdown",
   "metadata": {},
   "source": [
    "### Select rows with slice indexing\n",
    "[Slice indexing](https://docs.python.org/3/tutorial/introduction.html), in which you specify a start index, a stop index, and a step, works in the same way in Pandas as it does for regaular Python lists."
   ]
  },
  {
   "cell_type": "code",
   "execution_count": null,
   "metadata": {},
   "outputs": [],
   "source": []
  },
  {
   "cell_type": "markdown",
   "metadata": {},
   "source": [
    "### Select rows with a boolean mask\n",
    "\n",
    "You can use a boolean list or a boolean Series as a mask for filtering rows."
   ]
  },
  {
   "cell_type": "code",
   "execution_count": null,
   "metadata": {},
   "outputs": [],
   "source": []
  },
  {
   "cell_type": "markdown",
   "metadata": {},
   "source": [
    "## `loc[]` : Label-based selection\n",
    "\n",
    "Syntax: `X.loc[rowselector,columnselector]` (`columnselector` is optional)\n",
    " \n",
    "`rowselector` can be\n",
    "+ An index (integer, string, date, etc.)\n",
    "+ A list of indexes.\n",
    "+ A slice (only if the index is integer-based)\n",
    "+ A boolean mask\n",
    "\n",
    "`columnselector` can be \n",
    "+ A string label. \n",
    "+ A list of strings labels."
   ]
  },
  {
   "cell_type": "markdown",
   "metadata": {},
   "source": [
    "### `.loc` can do (almost) anything `[]` can do\n",
    "\n",
    "+ Except: .loc(slice) only works if the index is the integer-based default index. \n",
    "+ For column selection, use `.loc[:,columnselector]`"
   ]
  },
  {
   "cell_type": "code",
   "execution_count": 14,
   "metadata": {},
   "outputs": [
    {
     "data": {
      "text/plain": [
       "fullname\n",
       "Verne Troyer           M\n",
       "Herve Villechaize      M\n",
       "David Rappaport        M\n",
       "Tony Cox               M\n",
       "Warwick Davis          M\n",
       "                    ... \n",
       "General Height       NaN\n",
       "Matthew McGrory        M\n",
       "Sandy Allen            F\n",
       "Sun Ming Ming        NaN\n",
       "Robert Wadlow          M\n",
       "Name: gender, Length: 5502, dtype: object"
      ]
     },
     "execution_count": 14,
     "metadata": {},
     "output_type": "execute_result"
    }
   ],
   "source": [
    "CH.loc[:,'gender']"
   ]
  },
  {
   "cell_type": "markdown",
   "metadata": {},
   "source": [
    "### Example: Select multiple rows and columns"
   ]
  },
  {
   "cell_type": "code",
   "execution_count": null,
   "metadata": {},
   "outputs": [],
   "source": []
  },
  {
   "cell_type": "markdown",
   "metadata": {},
   "source": [
    "### Example: Boolean masking"
   ]
  },
  {
   "cell_type": "code",
   "execution_count": null,
   "metadata": {},
   "outputs": [],
   "source": []
  },
  {
   "cell_type": "markdown",
   "metadata": {},
   "source": [
    "## `iloc[]`:  Integer-based selection\n",
    "    \n",
    "Syntax: `iloc[rowselector,columnselector]` (`columnselector` is optional)\n",
    " \n",
    "`rowselector` and `columnselector` can be\n",
    "+ An integer or list of integers\n",
    "+ A slice\n",
    "\n",
    "    \n",
    "### Examples"
   ]
  },
  {
   "cell_type": "code",
   "execution_count": 15,
   "metadata": {},
   "outputs": [
    {
     "data": {
      "text/html": [
       "<div>\n",
       "<style scoped>\n",
       "    .dataframe tbody tr th:only-of-type {\n",
       "        vertical-align: middle;\n",
       "    }\n",
       "\n",
       "    .dataframe tbody tr th {\n",
       "        vertical-align: top;\n",
       "    }\n",
       "\n",
       "    .dataframe thead th {\n",
       "        text-align: right;\n",
       "    }\n",
       "</style>\n",
       "<table border=\"1\" class=\"dataframe\">\n",
       "  <thead>\n",
       "    <tr style=\"text-align: right;\">\n",
       "      <th></th>\n",
       "      <th>firstname</th>\n",
       "      <th>midname</th>\n",
       "    </tr>\n",
       "    <tr>\n",
       "      <th>fullname</th>\n",
       "      <th></th>\n",
       "      <th></th>\n",
       "    </tr>\n",
       "  </thead>\n",
       "  <tbody>\n",
       "    <tr>\n",
       "      <th>Verne Troyer</th>\n",
       "      <td>Verne</td>\n",
       "      <td>NaN</td>\n",
       "    </tr>\n",
       "    <tr>\n",
       "      <th>Herve Villechaize</th>\n",
       "      <td>Herve</td>\n",
       "      <td>NaN</td>\n",
       "    </tr>\n",
       "    <tr>\n",
       "      <th>David Rappaport</th>\n",
       "      <td>David</td>\n",
       "      <td>NaN</td>\n",
       "    </tr>\n",
       "    <tr>\n",
       "      <th>Tony Cox</th>\n",
       "      <td>Tony</td>\n",
       "      <td>NaN</td>\n",
       "    </tr>\n",
       "    <tr>\n",
       "      <th>Warwick Davis</th>\n",
       "      <td>Warwick</td>\n",
       "      <td>NaN</td>\n",
       "    </tr>\n",
       "    <tr>\n",
       "      <th>Phil Fondacaro</th>\n",
       "      <td>Phil</td>\n",
       "      <td>NaN</td>\n",
       "    </tr>\n",
       "    <tr>\n",
       "      <th>Michael J Anderson</th>\n",
       "      <td>Michael</td>\n",
       "      <td>J</td>\n",
       "    </tr>\n",
       "    <tr>\n",
       "      <th>Kenny Baker</th>\n",
       "      <td>Kenny</td>\n",
       "      <td>NaN</td>\n",
       "    </tr>\n",
       "    <tr>\n",
       "      <th>Billy Barty</th>\n",
       "      <td>Billy</td>\n",
       "      <td>NaN</td>\n",
       "    </tr>\n",
       "    <tr>\n",
       "      <th>Kiran Shah</th>\n",
       "      <td>Kiran</td>\n",
       "      <td>NaN</td>\n",
       "    </tr>\n",
       "  </tbody>\n",
       "</table>\n",
       "</div>"
      ],
      "text/plain": [
       "                   firstname midname\n",
       "fullname                            \n",
       "Verne Troyer           Verne     NaN\n",
       "Herve Villechaize      Herve     NaN\n",
       "David Rappaport        David     NaN\n",
       "Tony Cox                Tony     NaN\n",
       "Warwick Davis        Warwick     NaN\n",
       "Phil Fondacaro          Phil     NaN\n",
       "Michael J Anderson   Michael       J\n",
       "Kenny Baker            Kenny     NaN\n",
       "Billy Barty            Billy     NaN\n",
       "Kiran Shah             Kiran     NaN"
      ]
     },
     "execution_count": 15,
     "metadata": {},
     "output_type": "execute_result"
    }
   ],
   "source": [
    "CH.iloc[:10,[1,2]]"
   ]
  }
 ],
 "metadata": {
  "kernelspec": {
   "display_name": "Python 3 (ipykernel)",
   "language": "python",
   "name": "python3"
  },
  "language_info": {
   "codemirror_mode": {
    "name": "ipython",
    "version": 3
   },
   "file_extension": ".py",
   "mimetype": "text/x-python",
   "name": "python",
   "nbconvert_exporter": "python",
   "pygments_lexer": "ipython3",
   "version": "3.9.7"
  }
 },
 "nbformat": 4,
 "nbformat_minor": 2
}
