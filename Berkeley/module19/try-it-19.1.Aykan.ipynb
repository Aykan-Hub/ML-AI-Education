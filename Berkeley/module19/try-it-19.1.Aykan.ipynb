{
 "cells": [
  {
   "cell_type": "markdown",
   "metadata": {},
   "source": [
    "### Building a Recommender system with Surprise\n",
    "\n",
    "This try-it focuses on exploring additional algorithms with the `Suprise` library to generate recommendations.  Your goal is to identify the optimal algorithm by minimizing the mean squared error using cross validation. You are also going to select a dataset to use from [grouplens](https://grouplens.org/datasets/movielens/) example datasets.  \n",
    "\n",
    "To begin, head over to grouplens and examine the different datasets available.  Choose one so that it is easy to create the data as expected in `Surprise` with user, item, and rating information.  Then, compare the performance of at least the `KNNBasic`, `SVD`, `NMF`, `SlopeOne`, and `CoClustering` algorithms to build your recommendations.  For more information on the algorithms see the documentation for the algorithm package [here](https://surprise.readthedocs.io/en/stable/prediction_algorithms_package.html).\n",
    "\n",
    "Share the results of your investigation and include the results of your cross validation and a basic description of your dataset with your peers.\n",
    "\n"
   ]
  },
  {
   "cell_type": "code",
   "execution_count": 1,
   "metadata": {},
   "outputs": [],
   "source": [
    "import pandas as pd\n",
    "import numpy as np\n",
    "import seaborn as sns\n",
    "import matplotlib.pyplot as plt\n",
    "\n",
    "from surprise import Dataset, Reader, SVD, NMF, KNNBasic, SlopeOne, CoClustering\n",
    "from surprise.model_selection import cross_validate\n",
    "from sklearn.metrics import ConfusionMatrixDisplay"
   ]
  },
  {
   "cell_type": "markdown",
   "metadata": {},
   "source": [
    "# Introduction to Dataset\n",
    "This dataset `ml-latest-small` taken from [grouplens](https://grouplens.org/datasets/movielens/) describes 5-star rating and free-text tagging activity from MovieLens, a movie recommendation service. It contains 100836 ratings and 3683 tag applications across 9742 movies. These data were created by 610 users between March 29, 1996 and September 24, 2018. This dataset was generated on September 26, 2018.\n",
    "\n",
    "Users were selected at random for inclusion. All selected users had rated at least 20 movies. No demographic information is included. Each user is represented by an id, and no other information is provided.\n",
    "\n",
    "The data are contained in the files links.csv, movies.csv, ratings.csv and tags.csv. More details about the contents and use of all these files follows.\n",
    "\n",
    "## Ratings Data File Structure (ratings.csv)\n",
    "All ratings are contained in the file ratings.csv. Each line of this file after the header row represents one rating of one movie by one user, and has the following format:\n",
    "\n",
    "`userId,movieId,rating,timestamp`\n",
    "The lines within this file are ordered first by userId, then, within user, by movieId.\n",
    "\n",
    "Ratings are made on a 5-star scale, with half-star increments (0.5 stars - 5.0 stars).\n",
    "\n",
    "Timestamps represent seconds since midnight Coordinated Universal Time (UTC) of January 1, 1970.\n",
    "\n",
    "User Ids have been anonymized but they are consistent across files.\n",
    "\n",
    "Movie Ids are consistent across files and with those used on the MovieLens web site (e.g., id 1 corresponds to the URL https://movielens.org/movies/1). Only movies with at least one rating or tag are included in the dataset.\n",
    "\n",
    "\n"
   ]
  },
  {
   "cell_type": "code",
   "execution_count": 2,
   "metadata": {},
   "outputs": [],
   "source": [
    "ratings = pd.read_csv('data/ratings.csv')"
   ]
  },
  {
   "cell_type": "code",
   "execution_count": 3,
   "metadata": {},
   "outputs": [],
   "source": [
    "movies = pd.read_csv('data/movies.csv')"
   ]
  },
  {
   "cell_type": "code",
   "execution_count": 4,
   "metadata": {},
   "outputs": [
    {
     "data": {
      "text/html": [
       "<div>\n",
       "<style scoped>\n",
       "    .dataframe tbody tr th:only-of-type {\n",
       "        vertical-align: middle;\n",
       "    }\n",
       "\n",
       "    .dataframe tbody tr th {\n",
       "        vertical-align: top;\n",
       "    }\n",
       "\n",
       "    .dataframe thead th {\n",
       "        text-align: right;\n",
       "    }\n",
       "</style>\n",
       "<table border=\"1\" class=\"dataframe\">\n",
       "  <thead>\n",
       "    <tr style=\"text-align: right;\">\n",
       "      <th></th>\n",
       "      <th>movieId</th>\n",
       "      <th>title</th>\n",
       "      <th>genres</th>\n",
       "    </tr>\n",
       "  </thead>\n",
       "  <tbody>\n",
       "    <tr>\n",
       "      <th>0</th>\n",
       "      <td>1</td>\n",
       "      <td>Toy Story (1995)</td>\n",
       "      <td>Adventure|Animation|Children|Comedy|Fantasy</td>\n",
       "    </tr>\n",
       "    <tr>\n",
       "      <th>1</th>\n",
       "      <td>2</td>\n",
       "      <td>Jumanji (1995)</td>\n",
       "      <td>Adventure|Children|Fantasy</td>\n",
       "    </tr>\n",
       "    <tr>\n",
       "      <th>2</th>\n",
       "      <td>3</td>\n",
       "      <td>Grumpier Old Men (1995)</td>\n",
       "      <td>Comedy|Romance</td>\n",
       "    </tr>\n",
       "    <tr>\n",
       "      <th>3</th>\n",
       "      <td>4</td>\n",
       "      <td>Waiting to Exhale (1995)</td>\n",
       "      <td>Comedy|Drama|Romance</td>\n",
       "    </tr>\n",
       "    <tr>\n",
       "      <th>4</th>\n",
       "      <td>5</td>\n",
       "      <td>Father of the Bride Part II (1995)</td>\n",
       "      <td>Comedy</td>\n",
       "    </tr>\n",
       "    <tr>\n",
       "      <th>...</th>\n",
       "      <td>...</td>\n",
       "      <td>...</td>\n",
       "      <td>...</td>\n",
       "    </tr>\n",
       "    <tr>\n",
       "      <th>9737</th>\n",
       "      <td>193581</td>\n",
       "      <td>Black Butler: Book of the Atlantic (2017)</td>\n",
       "      <td>Action|Animation|Comedy|Fantasy</td>\n",
       "    </tr>\n",
       "    <tr>\n",
       "      <th>9738</th>\n",
       "      <td>193583</td>\n",
       "      <td>No Game No Life: Zero (2017)</td>\n",
       "      <td>Animation|Comedy|Fantasy</td>\n",
       "    </tr>\n",
       "    <tr>\n",
       "      <th>9739</th>\n",
       "      <td>193585</td>\n",
       "      <td>Flint (2017)</td>\n",
       "      <td>Drama</td>\n",
       "    </tr>\n",
       "    <tr>\n",
       "      <th>9740</th>\n",
       "      <td>193587</td>\n",
       "      <td>Bungo Stray Dogs: Dead Apple (2018)</td>\n",
       "      <td>Action|Animation</td>\n",
       "    </tr>\n",
       "    <tr>\n",
       "      <th>9741</th>\n",
       "      <td>193609</td>\n",
       "      <td>Andrew Dice Clay: Dice Rules (1991)</td>\n",
       "      <td>Comedy</td>\n",
       "    </tr>\n",
       "  </tbody>\n",
       "</table>\n",
       "<p>9742 rows × 3 columns</p>\n",
       "</div>"
      ],
      "text/plain": [
       "      movieId                                      title  \\\n",
       "0           1                           Toy Story (1995)   \n",
       "1           2                             Jumanji (1995)   \n",
       "2           3                    Grumpier Old Men (1995)   \n",
       "3           4                   Waiting to Exhale (1995)   \n",
       "4           5         Father of the Bride Part II (1995)   \n",
       "...       ...                                        ...   \n",
       "9737   193581  Black Butler: Book of the Atlantic (2017)   \n",
       "9738   193583               No Game No Life: Zero (2017)   \n",
       "9739   193585                               Flint (2017)   \n",
       "9740   193587        Bungo Stray Dogs: Dead Apple (2018)   \n",
       "9741   193609        Andrew Dice Clay: Dice Rules (1991)   \n",
       "\n",
       "                                           genres  \n",
       "0     Adventure|Animation|Children|Comedy|Fantasy  \n",
       "1                      Adventure|Children|Fantasy  \n",
       "2                                  Comedy|Romance  \n",
       "3                            Comedy|Drama|Romance  \n",
       "4                                          Comedy  \n",
       "...                                           ...  \n",
       "9737              Action|Animation|Comedy|Fantasy  \n",
       "9738                     Animation|Comedy|Fantasy  \n",
       "9739                                        Drama  \n",
       "9740                             Action|Animation  \n",
       "9741                                       Comedy  \n",
       "\n",
       "[9742 rows x 3 columns]"
      ]
     },
     "execution_count": 4,
     "metadata": {},
     "output_type": "execute_result"
    }
   ],
   "source": [
    "movies"
   ]
  },
  {
   "cell_type": "code",
   "execution_count": null,
   "metadata": {},
   "outputs": [],
   "source": []
  },
  {
   "cell_type": "markdown",
   "metadata": {},
   "source": [
    "merge datasets as df to resolve movie titles and genres but it has no affect on the algorithms! Still use `userId, movieId, rating` columns to run models."
   ]
  },
  {
   "cell_type": "code",
   "execution_count": 5,
   "metadata": {},
   "outputs": [],
   "source": [
    "df = pd.merge(ratings, movies, how = 'left', on = 'movieId')"
   ]
  },
  {
   "cell_type": "code",
   "execution_count": 6,
   "metadata": {},
   "outputs": [],
   "source": [
    "# # either this or above dataset\n",
    "# df = pd.read_csv('data/ratings.csv')"
   ]
  },
  {
   "cell_type": "markdown",
   "metadata": {},
   "source": [
    "# Exploratory Data Analysis"
   ]
  },
  {
   "cell_type": "code",
   "execution_count": 7,
   "metadata": {},
   "outputs": [
    {
     "name": "stdout",
     "output_type": "stream",
     "text": [
      "<class 'pandas.core.frame.DataFrame'>\n",
      "Int64Index: 100836 entries, 0 to 100835\n",
      "Data columns (total 6 columns):\n",
      " #   Column     Non-Null Count   Dtype  \n",
      "---  ------     --------------   -----  \n",
      " 0   userId     100836 non-null  int64  \n",
      " 1   movieId    100836 non-null  int64  \n",
      " 2   rating     100836 non-null  float64\n",
      " 3   timestamp  100836 non-null  int64  \n",
      " 4   title      100836 non-null  object \n",
      " 5   genres     100836 non-null  object \n",
      "dtypes: float64(1), int64(3), object(2)\n",
      "memory usage: 5.4+ MB\n"
     ]
    }
   ],
   "source": [
    "df.info()"
   ]
  },
  {
   "cell_type": "code",
   "execution_count": 8,
   "metadata": {},
   "outputs": [
    {
     "data": {
      "text/html": [
       "<div>\n",
       "<style scoped>\n",
       "    .dataframe tbody tr th:only-of-type {\n",
       "        vertical-align: middle;\n",
       "    }\n",
       "\n",
       "    .dataframe tbody tr th {\n",
       "        vertical-align: top;\n",
       "    }\n",
       "\n",
       "    .dataframe thead th {\n",
       "        text-align: right;\n",
       "    }\n",
       "</style>\n",
       "<table border=\"1\" class=\"dataframe\">\n",
       "  <thead>\n",
       "    <tr style=\"text-align: right;\">\n",
       "      <th></th>\n",
       "      <th>userId</th>\n",
       "      <th>movieId</th>\n",
       "      <th>rating</th>\n",
       "      <th>timestamp</th>\n",
       "    </tr>\n",
       "  </thead>\n",
       "  <tbody>\n",
       "    <tr>\n",
       "      <th>count</th>\n",
       "      <td>100836.000000</td>\n",
       "      <td>100836.000000</td>\n",
       "      <td>100836.000000</td>\n",
       "      <td>1.008360e+05</td>\n",
       "    </tr>\n",
       "    <tr>\n",
       "      <th>mean</th>\n",
       "      <td>326.127564</td>\n",
       "      <td>19435.295718</td>\n",
       "      <td>3.501557</td>\n",
       "      <td>1.205946e+09</td>\n",
       "    </tr>\n",
       "    <tr>\n",
       "      <th>std</th>\n",
       "      <td>182.618491</td>\n",
       "      <td>35530.987199</td>\n",
       "      <td>1.042529</td>\n",
       "      <td>2.162610e+08</td>\n",
       "    </tr>\n",
       "    <tr>\n",
       "      <th>min</th>\n",
       "      <td>1.000000</td>\n",
       "      <td>1.000000</td>\n",
       "      <td>0.500000</td>\n",
       "      <td>8.281246e+08</td>\n",
       "    </tr>\n",
       "    <tr>\n",
       "      <th>25%</th>\n",
       "      <td>177.000000</td>\n",
       "      <td>1199.000000</td>\n",
       "      <td>3.000000</td>\n",
       "      <td>1.019124e+09</td>\n",
       "    </tr>\n",
       "    <tr>\n",
       "      <th>50%</th>\n",
       "      <td>325.000000</td>\n",
       "      <td>2991.000000</td>\n",
       "      <td>3.500000</td>\n",
       "      <td>1.186087e+09</td>\n",
       "    </tr>\n",
       "    <tr>\n",
       "      <th>75%</th>\n",
       "      <td>477.000000</td>\n",
       "      <td>8122.000000</td>\n",
       "      <td>4.000000</td>\n",
       "      <td>1.435994e+09</td>\n",
       "    </tr>\n",
       "    <tr>\n",
       "      <th>max</th>\n",
       "      <td>610.000000</td>\n",
       "      <td>193609.000000</td>\n",
       "      <td>5.000000</td>\n",
       "      <td>1.537799e+09</td>\n",
       "    </tr>\n",
       "  </tbody>\n",
       "</table>\n",
       "</div>"
      ],
      "text/plain": [
       "              userId        movieId         rating     timestamp\n",
       "count  100836.000000  100836.000000  100836.000000  1.008360e+05\n",
       "mean      326.127564   19435.295718       3.501557  1.205946e+09\n",
       "std       182.618491   35530.987199       1.042529  2.162610e+08\n",
       "min         1.000000       1.000000       0.500000  8.281246e+08\n",
       "25%       177.000000    1199.000000       3.000000  1.019124e+09\n",
       "50%       325.000000    2991.000000       3.500000  1.186087e+09\n",
       "75%       477.000000    8122.000000       4.000000  1.435994e+09\n",
       "max       610.000000  193609.000000       5.000000  1.537799e+09"
      ]
     },
     "execution_count": 8,
     "metadata": {},
     "output_type": "execute_result"
    }
   ],
   "source": [
    "df.describe()"
   ]
  },
  {
   "cell_type": "code",
   "execution_count": 9,
   "metadata": {},
   "outputs": [
    {
     "data": {
      "text/html": [
       "<div>\n",
       "<style scoped>\n",
       "    .dataframe tbody tr th:only-of-type {\n",
       "        vertical-align: middle;\n",
       "    }\n",
       "\n",
       "    .dataframe tbody tr th {\n",
       "        vertical-align: top;\n",
       "    }\n",
       "\n",
       "    .dataframe thead th {\n",
       "        text-align: right;\n",
       "    }\n",
       "</style>\n",
       "<table border=\"1\" class=\"dataframe\">\n",
       "  <thead>\n",
       "    <tr style=\"text-align: right;\">\n",
       "      <th></th>\n",
       "      <th>userId</th>\n",
       "      <th>movieId</th>\n",
       "      <th>rating</th>\n",
       "      <th>timestamp</th>\n",
       "      <th>title</th>\n",
       "      <th>genres</th>\n",
       "    </tr>\n",
       "  </thead>\n",
       "  <tbody>\n",
       "    <tr>\n",
       "      <th>0</th>\n",
       "      <td>1</td>\n",
       "      <td>1</td>\n",
       "      <td>4.0</td>\n",
       "      <td>964982703</td>\n",
       "      <td>Toy Story (1995)</td>\n",
       "      <td>Adventure|Animation|Children|Comedy|Fantasy</td>\n",
       "    </tr>\n",
       "    <tr>\n",
       "      <th>1</th>\n",
       "      <td>1</td>\n",
       "      <td>3</td>\n",
       "      <td>4.0</td>\n",
       "      <td>964981247</td>\n",
       "      <td>Grumpier Old Men (1995)</td>\n",
       "      <td>Comedy|Romance</td>\n",
       "    </tr>\n",
       "    <tr>\n",
       "      <th>2</th>\n",
       "      <td>1</td>\n",
       "      <td>6</td>\n",
       "      <td>4.0</td>\n",
       "      <td>964982224</td>\n",
       "      <td>Heat (1995)</td>\n",
       "      <td>Action|Crime|Thriller</td>\n",
       "    </tr>\n",
       "    <tr>\n",
       "      <th>3</th>\n",
       "      <td>1</td>\n",
       "      <td>47</td>\n",
       "      <td>5.0</td>\n",
       "      <td>964983815</td>\n",
       "      <td>Seven (a.k.a. Se7en) (1995)</td>\n",
       "      <td>Mystery|Thriller</td>\n",
       "    </tr>\n",
       "    <tr>\n",
       "      <th>4</th>\n",
       "      <td>1</td>\n",
       "      <td>50</td>\n",
       "      <td>5.0</td>\n",
       "      <td>964982931</td>\n",
       "      <td>Usual Suspects, The (1995)</td>\n",
       "      <td>Crime|Mystery|Thriller</td>\n",
       "    </tr>\n",
       "    <tr>\n",
       "      <th>...</th>\n",
       "      <td>...</td>\n",
       "      <td>...</td>\n",
       "      <td>...</td>\n",
       "      <td>...</td>\n",
       "      <td>...</td>\n",
       "      <td>...</td>\n",
       "    </tr>\n",
       "    <tr>\n",
       "      <th>100831</th>\n",
       "      <td>610</td>\n",
       "      <td>166534</td>\n",
       "      <td>4.0</td>\n",
       "      <td>1493848402</td>\n",
       "      <td>Split (2017)</td>\n",
       "      <td>Drama|Horror|Thriller</td>\n",
       "    </tr>\n",
       "    <tr>\n",
       "      <th>100832</th>\n",
       "      <td>610</td>\n",
       "      <td>168248</td>\n",
       "      <td>5.0</td>\n",
       "      <td>1493850091</td>\n",
       "      <td>John Wick: Chapter Two (2017)</td>\n",
       "      <td>Action|Crime|Thriller</td>\n",
       "    </tr>\n",
       "    <tr>\n",
       "      <th>100833</th>\n",
       "      <td>610</td>\n",
       "      <td>168250</td>\n",
       "      <td>5.0</td>\n",
       "      <td>1494273047</td>\n",
       "      <td>Get Out (2017)</td>\n",
       "      <td>Horror</td>\n",
       "    </tr>\n",
       "    <tr>\n",
       "      <th>100834</th>\n",
       "      <td>610</td>\n",
       "      <td>168252</td>\n",
       "      <td>5.0</td>\n",
       "      <td>1493846352</td>\n",
       "      <td>Logan (2017)</td>\n",
       "      <td>Action|Sci-Fi</td>\n",
       "    </tr>\n",
       "    <tr>\n",
       "      <th>100835</th>\n",
       "      <td>610</td>\n",
       "      <td>170875</td>\n",
       "      <td>3.0</td>\n",
       "      <td>1493846415</td>\n",
       "      <td>The Fate of the Furious (2017)</td>\n",
       "      <td>Action|Crime|Drama|Thriller</td>\n",
       "    </tr>\n",
       "  </tbody>\n",
       "</table>\n",
       "<p>100836 rows × 6 columns</p>\n",
       "</div>"
      ],
      "text/plain": [
       "        userId  movieId  rating   timestamp                           title  \\\n",
       "0            1        1     4.0   964982703                Toy Story (1995)   \n",
       "1            1        3     4.0   964981247         Grumpier Old Men (1995)   \n",
       "2            1        6     4.0   964982224                     Heat (1995)   \n",
       "3            1       47     5.0   964983815     Seven (a.k.a. Se7en) (1995)   \n",
       "4            1       50     5.0   964982931      Usual Suspects, The (1995)   \n",
       "...        ...      ...     ...         ...                             ...   \n",
       "100831     610   166534     4.0  1493848402                    Split (2017)   \n",
       "100832     610   168248     5.0  1493850091   John Wick: Chapter Two (2017)   \n",
       "100833     610   168250     5.0  1494273047                  Get Out (2017)   \n",
       "100834     610   168252     5.0  1493846352                    Logan (2017)   \n",
       "100835     610   170875     3.0  1493846415  The Fate of the Furious (2017)   \n",
       "\n",
       "                                             genres  \n",
       "0       Adventure|Animation|Children|Comedy|Fantasy  \n",
       "1                                    Comedy|Romance  \n",
       "2                             Action|Crime|Thriller  \n",
       "3                                  Mystery|Thriller  \n",
       "4                            Crime|Mystery|Thriller  \n",
       "...                                             ...  \n",
       "100831                        Drama|Horror|Thriller  \n",
       "100832                        Action|Crime|Thriller  \n",
       "100833                                       Horror  \n",
       "100834                                Action|Sci-Fi  \n",
       "100835                  Action|Crime|Drama|Thriller  \n",
       "\n",
       "[100836 rows x 6 columns]"
      ]
     },
     "execution_count": 9,
     "metadata": {},
     "output_type": "execute_result"
    }
   ],
   "source": [
    "df"
   ]
  },
  {
   "cell_type": "code",
   "execution_count": 10,
   "metadata": {},
   "outputs": [],
   "source": [
    "# plt.subplots(figsize=(8,6))\n",
    "# splot = sns.histplot(data=df, x = 'rating')\n",
    "# #splot.set_xticklabels(['No Show', 'Donated'])\n",
    "# plt.xlabel('Rating')\n",
    "# plt.ylabel('Histogram')\n",
    "# plt.title('Rating Histogram')\n",
    "# plt.show()\n"
   ]
  },
  {
   "cell_type": "code",
   "execution_count": 11,
   "metadata": {},
   "outputs": [
    {
     "data": {
      "image/png": "[encoded data removed]",
      "text/plain": [
       "<Figure size 576x432 with 1 Axes>"
      ]
     },
     "metadata": {
      "needs_background": "light"
     },
     "output_type": "display_data"
    }
   ],
   "source": [
    "df['rating'].hist(figsize = (8, 6))\n",
    "plt.xlabel('Movie Rating')\n",
    "plt.ylabel('Histogram')\n",
    "plt.title('Movie Rating Histogram')\n",
    "plt.xticks(np.arange(0, 5.5, .5))\n",
    "plt.show()"
   ]
  },
  {
   "cell_type": "code",
   "execution_count": null,
   "metadata": {},
   "outputs": [],
   "source": []
  },
  {
   "cell_type": "markdown",
   "metadata": {},
   "source": [
    "# Models"
   ]
  },
  {
   "cell_type": "markdown",
   "metadata": {},
   "source": [
    "Prepare datasets for model executions"
   ]
  },
  {
   "cell_type": "code",
   "execution_count": 12,
   "metadata": {},
   "outputs": [],
   "source": [
    "# set rating scale to 0 - 5\n",
    "reader = Reader(rating_scale=(0, 5))\n",
    "# reformat data\n",
    "data = Dataset.load_from_df(df[['userId', 'movieId', 'rating']], reader)\n",
    "# build train and test sets\n",
    "train = data.build_full_trainset()\n",
    "test = train.build_testset()"
   ]
  },
  {
   "cell_type": "markdown",
   "metadata": {},
   "source": [
    "## KNNBasic"
   ]
  },
  {
   "cell_type": "code",
   "execution_count": 13,
   "metadata": {},
   "outputs": [
    {
     "name": "stdout",
     "output_type": "stream",
     "text": [
      "Computing the msd similarity matrix...\n",
      "Done computing similarity matrix.\n",
      "Computing the msd similarity matrix...\n",
      "Done computing similarity matrix.\n",
      "Computing the msd similarity matrix...\n",
      "Done computing similarity matrix.\n",
      "Computing the msd similarity matrix...\n",
      "Done computing similarity matrix.\n",
      "Computing the msd similarity matrix...\n",
      "Done computing similarity matrix.\n",
      "Computing the msd similarity matrix...\n",
      "Done computing similarity matrix.\n",
      "Evaluating RMSE of algorithm KNNBasic on 5 split(s).\n",
      "\n",
      "                  Fold 1  Fold 2  Fold 3  Fold 4  Fold 5  Mean    Std     \n",
      "RMSE (testset)    0.9538  0.9494  0.9467  0.9425  0.9429  0.9471  0.0042  \n",
      "Fit time          0.08    0.10    0.10    0.10    0.10    0.10    0.01    \n",
      "Test time         0.98    1.03    1.03    1.03    1.00    1.01    0.02    \n",
      "CPU times: user 12 s, sys: 53.1 ms, total: 12 s\n",
      "Wall time: 12 s\n"
     ]
    }
   ],
   "source": [
    "%%time\n",
    "knnb = KNNBasic(random_state = 93)\n",
    "knnb.fit(train)\n",
    "\n",
    "# predictions\n",
    "knnb_preds = knnb.test(test)\n",
    "\n",
    "# cross validations\n",
    "knnb_cross = cross_validate(knnb, data, measures=['RMSE'], verbose=True)"
   ]
  },
  {
   "cell_type": "code",
   "execution_count": 14,
   "metadata": {},
   "outputs": [
    {
     "data": {
      "text/plain": [
       "(Prediction(uid=1, iid=1, r_ui=4.0, est=4.194241094435477, details={'actual_k': 40, 'was_impossible': False}),\n",
       " Prediction(uid=610, iid=170875, r_ui=3.0, est=2.7089361394468137, details={'actual_k': 3, 'was_impossible': False}))"
      ]
     },
     "execution_count": 14,
     "metadata": {},
     "output_type": "execute_result"
    }
   ],
   "source": [
    "knnb_preds[0], knnb_preds[-1]"
   ]
  },
  {
   "cell_type": "markdown",
   "metadata": {},
   "source": [
    "## Funk SVD"
   ]
  },
  {
   "cell_type": "code",
   "execution_count": 15,
   "metadata": {},
   "outputs": [
    {
     "name": "stdout",
     "output_type": "stream",
     "text": [
      "Evaluating RMSE of algorithm SVD on 5 split(s).\n",
      "\n",
      "                  Fold 1  Fold 2  Fold 3  Fold 4  Fold 5  Mean    Std     \n",
      "RMSE (testset)    0.8708  0.8695  0.8752  0.8734  0.8737  0.8725  0.0021  \n",
      "Fit time          3.67    3.81    3.85    3.84    3.62    3.76    0.09    \n",
      "Test time         0.09    0.21    0.09    0.10    0.10    0.12    0.05    \n",
      "CPU times: user 24.8 s, sys: 69.3 ms, total: 24.8 s\n",
      "Wall time: 24.9 s\n"
     ]
    }
   ],
   "source": [
    "%%time\n",
    "fsvd = SVD(random_state = 93)\n",
    "fsvd.fit(train)\n",
    "\n",
    "# predictions\n",
    "fsvd_preds = fsvd.test(test)\n",
    "\n",
    "# cross validations\n",
    "fsvd_cross = cross_validate(fsvd, data, measures=['RMSE'], verbose=True)"
   ]
  },
  {
   "cell_type": "markdown",
   "metadata": {},
   "source": [
    "## NMF"
   ]
  },
  {
   "cell_type": "code",
   "execution_count": 16,
   "metadata": {},
   "outputs": [
    {
     "name": "stdout",
     "output_type": "stream",
     "text": [
      "Evaluating RMSE of algorithm NMF on 5 split(s).\n",
      "\n",
      "                  Fold 1  Fold 2  Fold 3  Fold 4  Fold 5  Mean    Std     \n",
      "RMSE (testset)    0.9204  0.9188  0.9117  0.9227  0.9167  0.9181  0.0037  \n",
      "Fit time          4.45    4.46    4.56    4.55    4.69    4.54    0.09    \n",
      "Test time         0.23    0.08    0.10    0.08    0.09    0.12    0.06    \n",
      "CPU times: user 28.4 s, sys: 57.6 ms, total: 28.4 s\n",
      "Wall time: 28.5 s\n"
     ]
    }
   ],
   "source": [
    "%%time\n",
    "nmf = NMF(random_state = 93)\n",
    "nmf.fit(train)\n",
    "\n",
    "# predictions\n",
    "nmf_preds = nmf.test(test)\n",
    "\n",
    "# cross validations\n",
    "nmf_cross = cross_validate(nmf, data, measures=['RMSE'], verbose=True)"
   ]
  },
  {
   "cell_type": "markdown",
   "metadata": {},
   "source": [
    "## Slope One"
   ]
  },
  {
   "cell_type": "code",
   "execution_count": 17,
   "metadata": {},
   "outputs": [
    {
     "name": "stderr",
     "output_type": "stream",
     "text": [
      "<timed exec>:2: DeprecationWarning: `np.int` is a deprecated alias for the builtin `int`. To silence this warning, use `int` by itself. Doing this will not modify any behavior and is safe. When replacing `np.int`, you may wish to use e.g. `np.int64` or `np.int32` to specify the precision. If you wish to review your current use, check the release note link for additional information.\n",
      "Deprecated in NumPy 1.20; for more details and guidance: https://numpy.org/devdocs/release/1.20.0-notes.html#deprecations\n"
     ]
    },
    {
     "name": "stdout",
     "output_type": "stream",
     "text": [
      "Evaluating RMSE of algorithm SlopeOne on 5 split(s).\n",
      "\n",
      "                  Fold 1  Fold 2  Fold 3  Fold 4  Fold 5  Mean    Std     \n",
      "RMSE (testset)    0.9037  0.9001  0.8967  0.9086  0.9032  0.9024  0.0040  \n",
      "Fit time          4.39    4.23    4.35    4.39    4.49    4.37    0.08    \n",
      "Test time         5.06    5.07    4.80    4.66    4.77    4.87    0.16    \n",
      "CPU times: user 1min 15s, sys: 2.93 s, total: 1min 18s\n",
      "Wall time: 1min 18s\n"
     ]
    }
   ],
   "source": [
    "%%time\n",
    "sone = SlopeOne()\n",
    "sone.fit(train)\n",
    "\n",
    "# predictions\n",
    "sone_preds = sone.test(test)\n",
    "\n",
    "# cross validations\n",
    "sone_cross = cross_validate(sone, data, measures=['RMSE'], verbose=True)"
   ]
  },
  {
   "cell_type": "markdown",
   "metadata": {},
   "source": [
    "## CoClustering"
   ]
  },
  {
   "cell_type": "code",
   "execution_count": 18,
   "metadata": {},
   "outputs": [
    {
     "name": "stderr",
     "output_type": "stream",
     "text": [
      "<timed exec>:2: DeprecationWarning: `np.int` is a deprecated alias for the builtin `int`. To silence this warning, use `int` by itself. Doing this will not modify any behavior and is safe. When replacing `np.int`, you may wish to use e.g. `np.int64` or `np.int32` to specify the precision. If you wish to review your current use, check the release note link for additional information.\n",
      "Deprecated in NumPy 1.20; for more details and guidance: https://numpy.org/devdocs/release/1.20.0-notes.html#deprecations\n"
     ]
    },
    {
     "name": "stdout",
     "output_type": "stream",
     "text": [
      "Evaluating RMSE of algorithm CoClustering on 5 split(s).\n",
      "\n",
      "                  Fold 1  Fold 2  Fold 3  Fold 4  Fold 5  Mean    Std     \n",
      "RMSE (testset)    0.9433  0.9465  0.9445  0.9534  0.9373  0.9450  0.0052  \n",
      "Fit time          1.90    1.95    1.91    1.89    2.03    1.94    0.05    \n",
      "Test time         0.08    0.07    0.07    0.07    0.26    0.11    0.07    \n",
      "CPU times: user 13 s, sys: 192 ms, total: 13.2 s\n",
      "Wall time: 13 s\n"
     ]
    }
   ],
   "source": [
    "%%time\n",
    "cocl = CoClustering(random_state = 93)\n",
    "cocl.fit(train)\n",
    "\n",
    "# predictions\n",
    "cocl_preds = cocl.test(test)\n",
    "\n",
    "# cross validations\n",
    "cocl_cross = cross_validate(cocl, data, measures=['RMSE'], verbose=True)"
   ]
  },
  {
   "cell_type": "code",
   "execution_count": 19,
   "metadata": {},
   "outputs": [
    {
     "data": {
      "text/plain": [
       "{'test_rmse': array([0.94331039, 0.94650521, 0.94453433, 0.95341576, 0.93732682]),\n",
       " 'fit_time': (1.8976619243621826,\n",
       "  1.9546570777893066,\n",
       "  1.914384126663208,\n",
       "  1.8880598545074463,\n",
       "  2.0346267223358154),\n",
       " 'test_time': (0.07578778266906738,\n",
       "  0.0699777603149414,\n",
       "  0.07384085655212402,\n",
       "  0.07141709327697754,\n",
       "  0.2581920623779297)}"
      ]
     },
     "execution_count": 19,
     "metadata": {},
     "output_type": "execute_result"
    }
   ],
   "source": [
    "# cross_val_results\n",
    "# {'test_rmse': array([0.86831423, 0.88265561, 0.8713308 , 0.88075923, 0.87803021]),\n",
    "#  'fit_time': (3.7954299449920654,\n",
    "#   3.855754852294922,\n",
    "#   3.746534824371338,\n",
    "#   3.647125005722046,\n",
    "#   3.7879738807678223),\n",
    "#  'test_time': (0.19200515747070312,\n",
    "#   0.10164880752563477,\n",
    "#   0.17315292358398438,\n",
    "#   0.10031914710998535,\n",
    "#   0.10289621353149414)}\n",
    "cocl_cross"
   ]
  },
  {
   "cell_type": "code",
   "execution_count": 20,
   "metadata": {},
   "outputs": [
    {
     "data": {
      "text/plain": [
       "(0.9450185015814224, 9.689389705657959, 0.54921555519104)"
      ]
     },
     "execution_count": 20,
     "metadata": {},
     "output_type": "execute_result"
    }
   ],
   "source": [
    "cocl_cross['test_rmse'].mean(), sum(cocl_cross['fit_time']), sum(cocl_cross['test_time'])"
   ]
  },
  {
   "cell_type": "code",
   "execution_count": 21,
   "metadata": {},
   "outputs": [],
   "source": [
    "#cocl_preds"
   ]
  },
  {
   "cell_type": "code",
   "execution_count": null,
   "metadata": {},
   "outputs": [],
   "source": []
  },
  {
   "cell_type": "markdown",
   "metadata": {},
   "source": [
    "# Visualizations"
   ]
  },
  {
   "cell_type": "code",
   "execution_count": 22,
   "metadata": {},
   "outputs": [],
   "source": [
    "def plot_confusion_matrix(preds):\n",
    "    # extract y_true and y_pred\n",
    "    y, y_p = zip(*[(r.r_ui*2, round(r.est*2)) for r in preds])\n",
    "    \n",
    "    # plot confusion matrix , display_labels=[0, 0.5, 1, 1.5, 2, 2.5, 3, 3.5, 4, 4.5, 5]\n",
    "    fig, ax = plt.subplots(figsize = (10, 10))\n",
    "    ConfusionMatrixDisplay.from_predictions(y, y_p, ax = ax)\n",
    "    plt.title('Confusion Matrix')\n",
    "    plt.grid(False)\n",
    "    plt.show()"
   ]
  },
  {
   "cell_type": "code",
   "execution_count": 23,
   "metadata": {},
   "outputs": [],
   "source": [
    "#y, y_p = zip(*[(r.r_ui, round(r.est*2)/2.0) for r in cocl_preds])\n",
    "#y_p\n",
    "\n",
    "#plot_confusion_matrix(cocl_preds)"
   ]
  },
  {
   "cell_type": "code",
   "execution_count": 24,
   "metadata": {},
   "outputs": [],
   "source": [
    "def plot_results(grid_options, test_accs, elapsed_times):\n",
    "    # plot accuracy and time elapsed\n",
    "    fig, ax = plt.subplots(1, 2, figsize = (15, 8))\n",
    "    ax[0].plot(grid_options, test_accs, '-o', label = 'Testing RMSE')\n",
    "    ax[0].plot(np.argmin(test_accs), min(test_accs), 'ro', markersize = 12, alpha = 0.4, label = 'Best RMSE')\n",
    "    ax[0].tick_params(axis='x', rotation=90)\n",
    "    ax[0].set_xlabel('Models')\n",
    "    ax[0].set_ylabel('RMSE')\n",
    "    ax[0].set_title(f'Models versus RMSE best @{grid_options[np.argmin(test_accs)]}')\n",
    "    ax[0].legend()\n",
    "\n",
    "    # time plot\n",
    "    ax[1].plot(grid_options, elapsed_times, '-o', label = 'Elapsed Time')\n",
    "    ax[1].tick_params(axis='x', rotation=90)\n",
    "    ax[1].set_xlabel('Models')\n",
    "    ax[1].set_ylabel('Cumulative Elapsed Time')\n",
    "    ax[1].set_title(f'Models versus Elapsed Time best @{grid_options[np.argmin(elapsed_times)]}')\n",
    "    ax[1].plot(np.argmin(elapsed_times), min(elapsed_times), 'ro', markersize = 12, alpha = 0.4, label = 'Best Time')\n",
    "    ax[1].legend()"
   ]
  },
  {
   "cell_type": "code",
   "execution_count": 25,
   "metadata": {},
   "outputs": [
    {
     "data": {
      "image/png": "[encoded data removed]",
      "text/plain": [
       "<Figure size 1080x576 with 2 Axes>"
      ]
     },
     "metadata": {
      "needs_background": "light"
     },
     "output_type": "display_data"
    }
   ],
   "source": [
    "# Time spent\n",
    "# set metrics!\n",
    "grid_options1=['KNNBasic', 'Funk SVD', 'NMF', 'SlopeOne', 'CoClustering']\n",
    "test_accs1   = [knnb_cross['test_rmse'].mean(), fsvd_cross['test_rmse'].mean(), nmf_cross['test_rmse'].mean(), \n",
    "              sone_cross['test_rmse'].mean(), cocl_cross['test_rmse'].mean()]\n",
    "elapsed_times1 = [sum(knnb_cross['fit_time']) + sum(knnb_cross['test_time']),\n",
    "                 sum(fsvd_cross['fit_time']) + sum(fsvd_cross['test_time']),\n",
    "                 sum(nmf_cross['fit_time'])  + sum(nmf_cross['test_time']),\n",
    "                 sum(sone_cross['fit_time']) + sum(sone_cross['test_time']),\n",
    "                 sum(cocl_cross['fit_time']) + sum(cocl_cross['test_time'])]\n",
    "# plot accuracy and time elapsed\n",
    "plot_results(grid_options1, test_accs1, elapsed_times1)"
   ]
  },
  {
   "cell_type": "code",
   "execution_count": null,
   "metadata": {},
   "outputs": [],
   "source": []
  },
  {
   "cell_type": "code",
   "execution_count": 27,
   "metadata": {},
   "outputs": [
    {
     "data": {
      "text/html": [
       "<div>\n",
       "<style scoped>\n",
       "    .dataframe tbody tr th:only-of-type {\n",
       "        vertical-align: middle;\n",
       "    }\n",
       "\n",
       "    .dataframe tbody tr th {\n",
       "        vertical-align: top;\n",
       "    }\n",
       "\n",
       "    .dataframe thead th {\n",
       "        text-align: right;\n",
       "    }\n",
       "</style>\n",
       "<table border=\"1\" class=\"dataframe\">\n",
       "  <thead>\n",
       "    <tr style=\"text-align: right;\">\n",
       "      <th></th>\n",
       "      <th>RMSE</th>\n",
       "      <th>elapsed_time</th>\n",
       "    </tr>\n",
       "    <tr>\n",
       "      <th>model</th>\n",
       "      <th></th>\n",
       "      <th></th>\n",
       "    </tr>\n",
       "  </thead>\n",
       "  <tbody>\n",
       "    <tr>\n",
       "      <th>KNNBasic</th>\n",
       "      <td>0.947087</td>\n",
       "      <td>5.553551</td>\n",
       "    </tr>\n",
       "    <tr>\n",
       "      <th>Funk SVD</th>\n",
       "      <td>0.872506</td>\n",
       "      <td>19.375785</td>\n",
       "    </tr>\n",
       "    <tr>\n",
       "      <th>NMF</th>\n",
       "      <td>0.918075</td>\n",
       "      <td>23.282161</td>\n",
       "    </tr>\n",
       "    <tr>\n",
       "      <th>SlopeOne</th>\n",
       "      <td>0.902435</td>\n",
       "      <td>46.206460</td>\n",
       "    </tr>\n",
       "    <tr>\n",
       "      <th>CoClustering</th>\n",
       "      <td>0.945019</td>\n",
       "      <td>10.238605</td>\n",
       "    </tr>\n",
       "  </tbody>\n",
       "</table>\n",
       "</div>"
      ],
      "text/plain": [
       "                  RMSE  elapsed_time\n",
       "model                               \n",
       "KNNBasic      0.947087      5.553551\n",
       "Funk SVD      0.872506     19.375785\n",
       "NMF           0.918075     23.282161\n",
       "SlopeOne      0.902435     46.206460\n",
       "CoClustering  0.945019     10.238605"
      ]
     },
     "execution_count": 27,
     "metadata": {},
     "output_type": "execute_result"
    }
   ],
   "source": [
    "pd.DataFrame({'model': grid_options1, \n",
    "             'RMSE': test_accs1,\n",
    "             'elapsed_time': elapsed_times1}\n",
    "            ).set_index('model')"
   ]
  },
  {
   "cell_type": "markdown",
   "metadata": {},
   "source": [
    "# Fine Tuning Models"
   ]
  },
  {
   "cell_type": "code",
   "execution_count": 28,
   "metadata": {},
   "outputs": [
    {
     "name": "stdout",
     "output_type": "stream",
     "text": [
      "Computing the cosine similarity matrix...\n",
      "Done computing similarity matrix.\n",
      "Computing the cosine similarity matrix...\n",
      "Done computing similarity matrix.\n",
      "Computing the cosine similarity matrix...\n",
      "Done computing similarity matrix.\n",
      "Computing the cosine similarity matrix...\n",
      "Done computing similarity matrix.\n",
      "Computing the cosine similarity matrix...\n",
      "Done computing similarity matrix.\n",
      "Computing the cosine similarity matrix...\n",
      "Done computing similarity matrix.\n",
      "Evaluating RMSE of algorithm KNNBasic on 5 split(s).\n",
      "\n",
      "                  Fold 1  Fold 2  Fold 3  Fold 4  Fold 5  Mean    Std     \n",
      "RMSE (testset)    0.9974  0.9978  0.9920  0.9883  0.9991  0.9949  0.0041  \n",
      "Fit time          12.13   11.71   11.93   11.73   11.79   11.86   0.16    \n",
      "Test time         4.86    4.83    5.16    4.88    4.72    4.89    0.15    \n",
      "CPU times: user 1min 56s, sys: 7.44 s, total: 2min 4s\n",
      "Wall time: 2min 3s\n"
     ]
    }
   ],
   "source": [
    "%%time\n",
    "##KNNBasic\n",
    "sim_params = {'name': 'cosine',\n",
    "              'user_based': False  # compute  similarities between items\n",
    "             }\n",
    "knnb2 = KNNBasic(random_state = 93, k = 20, min_k = 5, sim_options = sim_params)\n",
    "knnb2.fit(train)\n",
    "\n",
    "# predictions\n",
    "knnb_preds2 = knnb2.test(test)\n",
    "\n",
    "# cross validations\n",
    "knnb_cross2 = cross_validate(knnb2, data, measures=['RMSE'], verbose=True)"
   ]
  },
  {
   "cell_type": "code",
   "execution_count": 29,
   "metadata": {},
   "outputs": [
    {
     "name": "stdout",
     "output_type": "stream",
     "text": [
      "Evaluating RMSE of algorithm SVD on 5 split(s).\n",
      "\n",
      "                  Fold 1  Fold 2  Fold 3  Fold 4  Fold 5  Mean    Std     \n",
      "RMSE (testset)    0.9274  0.9217  0.9186  0.9217  0.9146  0.9208  0.0042  \n",
      "Fit time          1.26    1.28    1.28    1.29    1.29    1.28    0.01    \n",
      "Test time         0.31    0.09    0.09    0.08    0.09    0.13    0.09    \n",
      "CPU times: user 9.22 s, sys: 30.6 ms, total: 9.25 s\n",
      "Wall time: 9.25 s\n"
     ]
    }
   ],
   "source": [
    "%%time\n",
    "##Funk SVD from 0.02 (overfit 1.0575) to 0.015! Lowering lr_all helped!\n",
    "fsvd2 = SVD(random_state = 93, n_factors = 10, n_epochs = 20, biased = False, lr_all = 0.007)\n",
    "fsvd2.fit(train)\n",
    "\n",
    "# predictions\n",
    "fsvd_preds2 = fsvd2.test(test)\n",
    "\n",
    "# cross validations\n",
    "fsvd_cross2 = cross_validate(fsvd2, data, measures=['RMSE'], verbose=True)"
   ]
  },
  {
   "cell_type": "code",
   "execution_count": 30,
   "metadata": {},
   "outputs": [
    {
     "name": "stdout",
     "output_type": "stream",
     "text": [
      "Evaluating RMSE of algorithm NMF on 5 split(s).\n",
      "\n",
      "                  Fold 1  Fold 2  Fold 3  Fold 4  Fold 5  Mean    Std     \n",
      "RMSE (testset)    0.9350  0.9368  0.9293  0.9319  0.9336  0.9333  0.0026  \n",
      "Fit time          1.55    1.57    1.57    1.58    1.62    1.58    0.02    \n",
      "Test time         0.09    0.09    0.09    0.10    0.10    0.09    0.00    \n",
      "CPU times: user 11.1 s, sys: 35.9 ms, total: 11.1 s\n",
      "Wall time: 11.1 s\n"
     ]
    }
   ],
   "source": [
    "%%time\n",
    "##NMF from 0.006 (overfit 1.0708) to 0.025! Increasing reg_pu & reg_qi helped!\n",
    "nmf2 = NMF(random_state = 93, n_factors = 10, n_epochs = 20, biased = False, reg_pu = 0.2, reg_qi = 0.2)\n",
    "nmf2.fit(train)\n",
    "\n",
    "# predictions\n",
    "nmf_preds2 = nmf2.test(test)\n",
    "\n",
    "# cross validations\n",
    "nmf_cross2 = cross_validate(nmf2, data, measures=['RMSE'], verbose=True)"
   ]
  },
  {
   "cell_type": "code",
   "execution_count": 31,
   "metadata": {},
   "outputs": [
    {
     "name": "stderr",
     "output_type": "stream",
     "text": [
      "<timed exec>:4: DeprecationWarning: `np.int` is a deprecated alias for the builtin `int`. To silence this warning, use `int` by itself. Doing this will not modify any behavior and is safe. When replacing `np.int`, you may wish to use e.g. `np.int64` or `np.int32` to specify the precision. If you wish to review your current use, check the release note link for additional information.\n",
      "Deprecated in NumPy 1.20; for more details and guidance: https://numpy.org/devdocs/release/1.20.0-notes.html#deprecations\n"
     ]
    },
    {
     "name": "stdout",
     "output_type": "stream",
     "text": [
      "Evaluating RMSE of algorithm SlopeOne on 5 split(s).\n",
      "\n",
      "                  Fold 1  Fold 2  Fold 3  Fold 4  Fold 5  Mean    Std     \n",
      "RMSE (testset)    0.9038  0.9018  0.8984  0.9070  0.9006  0.9023  0.0029  \n",
      "Fit time          4.02    4.01    4.03    4.12    4.01    4.04    0.04    \n",
      "Test time         4.46    4.40    4.48    4.54    4.52    4.48    0.05    \n",
      "CPU times: user 1min 9s, sys: 2.73 s, total: 1min 12s\n",
      "Wall time: 1min 12s\n"
     ]
    }
   ],
   "source": [
    "%%time\n",
    "##SlopeOne\n",
    "# takes no parameter\n",
    "sone2 = SlopeOne()\n",
    "sone2.fit(train)\n",
    "\n",
    "# predictions\n",
    "sone_preds2 = sone2.test(test)\n",
    "\n",
    "# cross validations\n",
    "sone_cross2 = cross_validate(sone2, data, measures=['RMSE'], verbose=True)"
   ]
  },
  {
   "cell_type": "code",
   "execution_count": 32,
   "metadata": {},
   "outputs": [
    {
     "name": "stderr",
     "output_type": "stream",
     "text": [
      "<timed exec>:7: DeprecationWarning: `np.int` is a deprecated alias for the builtin `int`. To silence this warning, use `int` by itself. Doing this will not modify any behavior and is safe. When replacing `np.int`, you may wish to use e.g. `np.int64` or `np.int32` to specify the precision. If you wish to review your current use, check the release note link for additional information.\n",
      "Deprecated in NumPy 1.20; for more details and guidance: https://numpy.org/devdocs/release/1.20.0-notes.html#deprecations\n"
     ]
    },
    {
     "name": "stdout",
     "output_type": "stream",
     "text": [
      "Evaluating RMSE of algorithm CoClustering on 5 split(s).\n",
      "\n",
      "                  Fold 1  Fold 2  Fold 3  Fold 4  Fold 5  Mean    Std     \n",
      "RMSE (testset)    0.9639  0.9551  0.9528  0.9617  0.9581  0.9583  0.0041  \n",
      "Fit time          2.18    2.19    2.22    2.21    2.19    2.20    0.02    \n",
      "Test time         0.07    0.07    0.07    0.36    0.07    0.13    0.12    \n",
      "CPU times: user 14.5 s, sys: 239 ms, total: 14.7 s\n",
      "Wall time: 14.5 s\n"
     ]
    }
   ],
   "source": [
    "%%time\n",
    "##CoClustering\n",
    "# n_cltr_u (int) – Number of user clusters. Default is 3.\n",
    "# n_cltr_i (int) – Number of item clusters. Default is 3.\n",
    "# n_epochs (int) – Number of iteration of the optimization loop. Default is 20.\n",
    "\n",
    "cocl2 = CoClustering(random_state = 93, n_cltr_u = 6, n_cltr_i = 6, n_epochs = 20)\n",
    "cocl2.fit(train)\n",
    "\n",
    "# predictions\n",
    "cocl_preds2 = cocl2.test(test)\n",
    "\n",
    "# cross validations\n",
    "cocl_cross2 = cross_validate(cocl2, data, measures=['RMSE'], verbose=True)"
   ]
  },
  {
   "cell_type": "code",
   "execution_count": null,
   "metadata": {},
   "outputs": [],
   "source": []
  },
  {
   "cell_type": "code",
   "execution_count": 33,
   "metadata": {},
   "outputs": [
    {
     "data": {
      "image/png": "[encoded data removed]",
      "text/plain": [
       "<Figure size 1080x576 with 2 Axes>"
      ]
     },
     "metadata": {
      "needs_background": "light"
     },
     "output_type": "display_data"
    }
   ],
   "source": [
    "# Time spent\n",
    "# set metrics!\n",
    "grid_options2=['KNNBasic', 'Funk SVD', 'NMF', 'SlopeOne', 'CoClustering']\n",
    "test_accs2  = [knnb_cross2['test_rmse'].mean(), fsvd_cross2['test_rmse'].mean(), nmf_cross2['test_rmse'].mean(), \n",
    "              sone_cross2['test_rmse'].mean(), cocl_cross2['test_rmse'].mean()]\n",
    "elapsed_times2 = [sum(knnb_cross2['fit_time']) + sum(knnb_cross2['test_time']),\n",
    "                 sum(fsvd_cross2['fit_time']) + sum(fsvd_cross2['test_time']),\n",
    "                 sum(nmf_cross2['fit_time'])  + sum(nmf_cross2['test_time']),\n",
    "                 sum(sone_cross2['fit_time']) + sum(sone_cross2['test_time']),\n",
    "                 sum(cocl_cross2['fit_time']) + sum(cocl_cross2['test_time'])]\n",
    "# plot accuracy and time elapsed\n",
    "# plot accuracy and time elapsed\n",
    "plot_results(grid_options2, test_accs2, elapsed_times2)"
   ]
  },
  {
   "cell_type": "code",
   "execution_count": 34,
   "metadata": {},
   "outputs": [
    {
     "data": {
      "text/html": [
       "<div>\n",
       "<style scoped>\n",
       "    .dataframe tbody tr th:only-of-type {\n",
       "        vertical-align: middle;\n",
       "    }\n",
       "\n",
       "    .dataframe tbody tr th {\n",
       "        vertical-align: top;\n",
       "    }\n",
       "\n",
       "    .dataframe thead th {\n",
       "        text-align: right;\n",
       "    }\n",
       "</style>\n",
       "<table border=\"1\" class=\"dataframe\">\n",
       "  <thead>\n",
       "    <tr style=\"text-align: right;\">\n",
       "      <th></th>\n",
       "      <th>RMSE</th>\n",
       "      <th>elapsed_time</th>\n",
       "    </tr>\n",
       "    <tr>\n",
       "      <th>model</th>\n",
       "      <th></th>\n",
       "      <th></th>\n",
       "    </tr>\n",
       "  </thead>\n",
       "  <tbody>\n",
       "    <tr>\n",
       "      <th>KNNBasic</th>\n",
       "      <td>0.994919</td>\n",
       "      <td>83.730121</td>\n",
       "    </tr>\n",
       "    <tr>\n",
       "      <th>Funk SVD</th>\n",
       "      <td>0.920815</td>\n",
       "      <td>7.051978</td>\n",
       "    </tr>\n",
       "    <tr>\n",
       "      <th>NMF</th>\n",
       "      <td>0.933334</td>\n",
       "      <td>8.368757</td>\n",
       "    </tr>\n",
       "    <tr>\n",
       "      <th>SlopeOne</th>\n",
       "      <td>0.902320</td>\n",
       "      <td>42.589867</td>\n",
       "    </tr>\n",
       "    <tr>\n",
       "      <th>CoClustering</th>\n",
       "      <td>0.958308</td>\n",
       "      <td>11.626945</td>\n",
       "    </tr>\n",
       "  </tbody>\n",
       "</table>\n",
       "</div>"
      ],
      "text/plain": [
       "                  RMSE  elapsed_time\n",
       "model                               \n",
       "KNNBasic      0.994919     83.730121\n",
       "Funk SVD      0.920815      7.051978\n",
       "NMF           0.933334      8.368757\n",
       "SlopeOne      0.902320     42.589867\n",
       "CoClustering  0.958308     11.626945"
      ]
     },
     "execution_count": 34,
     "metadata": {},
     "output_type": "execute_result"
    }
   ],
   "source": [
    "pd.DataFrame({'model': grid_options2, \n",
    "             'RMSE': test_accs2,\n",
    "             'elapsed_time': elapsed_times2}\n",
    "            ).set_index('model')"
   ]
  },
  {
   "cell_type": "markdown",
   "metadata": {},
   "source": [
    "# Top N"
   ]
  },
  {
   "cell_type": "code",
   "execution_count": 35,
   "metadata": {},
   "outputs": [],
   "source": [
    "from collections import defaultdict\n",
    "def get_top_n(predictions, n=10):\n",
    "    \"\"\"Return the top-N recommendation for each user from a set of predictions.\n",
    "\n",
    "    Args:\n",
    "        predictions(list of Prediction objects): The list of predictions, as\n",
    "            returned by the test method of an algorithm.\n",
    "        n(int): The number of recommendation to output for each user. Default\n",
    "            is 10.\n",
    "\n",
    "    Returns:\n",
    "    A dict where keys are user (raw) ids and values are lists of tuples:\n",
    "        [(raw item id, rating estimation), ...] of size n.\n",
    "\n",
    "    Check out for more SURPRISE examples:\n",
    "        https://surprise.readthedocs.io/en/stable/FAQ.html\n",
    "    \"\"\"\n",
    "\n",
    "    # First map the predictions to each user.\n",
    "    top_n = defaultdict(list)\n",
    "    for uid, iid, true_r, est, _ in predictions:\n",
    "        top_n[uid].append((iid, est))\n",
    "\n",
    "    # Then sort the predictions for each user and retrieve the k highest ones.\n",
    "    for uid, user_ratings in top_n.items():\n",
    "        user_ratings.sort(key=lambda x: x[1], reverse=True)\n",
    "        top_n[uid] = user_ratings[:n]\n",
    "\n",
    "    return top_n"
   ]
  },
  {
   "cell_type": "code",
   "execution_count": null,
   "metadata": {},
   "outputs": [],
   "source": [
    "\n"
   ]
  },
  {
   "cell_type": "code",
   "execution_count": 36,
   "metadata": {},
   "outputs": [],
   "source": [
    "#defaultdict(list)"
   ]
  },
  {
   "cell_type": "code",
   "execution_count": 37,
   "metadata": {},
   "outputs": [],
   "source": [
    "# All users\n",
    "top_n = get_top_n(cocl_preds2, 5)"
   ]
  },
  {
   "cell_type": "code",
   "execution_count": 38,
   "metadata": {},
   "outputs": [
    {
     "data": {
      "text/plain": [
       "[(277    Shawshank Redemption, The (1994)\n",
       "  Name: title, dtype: object,\n",
       "  4.955303348731821),\n",
       " (2568    Double Indemnity (1944)\n",
       "  Name: title, dtype: object,\n",
       "  4.862521756599701),\n",
       " (659    Godfather, The (1972)\n",
       "  Name: title, dtype: object,\n",
       "  4.809519305619309),\n",
       " (314    Forrest Gump (1994)\n",
       "  Name: title, dtype: object,\n",
       "  4.772792692277813),\n",
       " (510    Silence of the Lambs, The (1991)\n",
       "  Name: title, dtype: object,\n",
       "  4.7688053732596085)]"
      ]
     },
     "execution_count": 38,
     "metadata": {},
     "output_type": "execute_result"
    }
   ],
   "source": [
    "# user 17\n",
    "[(movies.loc[movies['movieId'] == iid, 'title'], rating) for iid, rating in top_n[17]]"
   ]
  },
  {
   "cell_type": "markdown",
   "metadata": {},
   "source": [
    "### Top 5 Results per User 17\n",
    "\n",
    "KNN\n",
    "```\n",
    "[(911     Star Wars: Episode VI - Return of the Jedi (1983),  4.380525373689884),\n",
    " (1503    Saving Private Ryan (1998),  4.379897343225128),\n",
    " (97      Braveheart (1995),  4.368996844186546),\n",
    " (2743    For a Few Dollars More (Per qualche dollaro in...,  4.3500311577305055),\n",
    " (4800    Lord of the Rings: The Return of the King, The...,  4.349948122173956)]\n",
    "```\n",
    "  \n",
    "SVD\n",
    "```\n",
    "[(1939    Matrix, The (1999),  4.762507409802968),\n",
    " (659     Godfather, The (1972),  4.613647063141319),\n",
    " (3984    Spirited Away (Sen to Chihiro no kamikakushi) ...,  4.6121289193965485),\n",
    " (2226    Fight Club (1999),  4.59929205144252),\n",
    " (510     Silence of the Lambs, The (1991),  4.592112817644183)]\n",
    "```\n",
    "  \n",
    "NMF\n",
    "```\n",
    "[(5695    Old Boy (2003),  4.664905657896616),\n",
    " (659     Godfather, The (1972),  4.595745010502069),\n",
    " (4769    Nausicaä of the Valley of the Wind (Kaze no ta...,  4.572468721803215),\n",
    " (224     Star Wars: Episode IV - A New Hope (1977),  4.499789437591513),\n",
    " (602     Dr. Strangelove or: How I Learned to Stop Worr...,  4.474597592215093)]\n",
    "```\n",
    "  \n",
    "SlopeOne\n",
    "```\n",
    "[(659     Godfather, The (1972),  4.715753793474932),\n",
    " (277     Shawshank Redemption, The (1994),  4.663368415073634),\n",
    " (257     Pulp Fiction (1994),  4.65934590226499),\n",
    " (602     Dr. Strangelove or: How I Learned to Stop Worr...,  4.635543583952147),\n",
    " (898     Star Wars: Episode V - The Empire Strikes Back...,  4.602479767733954)]\n",
    "```\n",
    "\n",
    "CoClustering\n",
    "```\n",
    "[(2568    Double Indemnity (1944),  4.891546601066998),\n",
    " (2623    Outlaw Josey Wales, The (1976),  4.878474705642161),\n",
    " (474     Blade Runner (1982),  4.757109212490918),\n",
    " (2145    American Beauty (1999),  4.720739826026655),\n",
    " (1494    Seven Samurai (Shichinin no samurai) (1954),  4.697919150086604)]\n",
    "```"
   ]
  },
  {
   "cell_type": "code",
   "execution_count": null,
   "metadata": {},
   "outputs": [],
   "source": []
  },
  {
   "cell_type": "code",
   "execution_count": null,
   "metadata": {},
   "outputs": [],
   "source": []
  },
  {
   "cell_type": "code",
   "execution_count": null,
   "metadata": {},
   "outputs": [],
   "source": []
  }
 ],
 "metadata": {
  "kernelspec": {
   "display_name": "Python 3 (ipykernel)",
   "language": "python",
   "name": "python3"
  },
  "language_info": {
   "codemirror_mode": {
    "name": "ipython",
    "version": 3
   },
   "file_extension": ".py",
   "mimetype": "text/x-python",
   "name": "python",
   "nbconvert_exporter": "python",
   "pygments_lexer": "ipython3",
   "version": "3.9.7"
  }
 },
 "nbformat": 4,
 "nbformat_minor": 4
}
