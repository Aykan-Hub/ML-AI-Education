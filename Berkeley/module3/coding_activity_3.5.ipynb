{
 "cells": [
  {
   "cell_type": "markdown",
   "metadata": {
    "nbgrader": {
     "grade": false,
     "grade_id": "cell-ea6adcdba6a15fba",
     "locked": true,
     "schema_version": 1,
     "solution": false
    }
   },
   "source": [
    "### Codio Activity 3.5: Sorting the result of `groupby`\n",
    "\n",
    "**Expected Time**: 60 Minutes\n",
    "\n",
    "**Total Points**: 10\n",
    "\n",
    "This activity focuses on sorting the results of a groupby operation. The dataset is again the gapminder data from plotly.  Your tasks involve aggregating and sorting as well as plotting summary results using `matplotlib`, `seaborn`, and `plotly`.\n",
    "\n",
    "#### Index:\n",
    "\n",
    "- [Problem 1](#Problem-1:-Lowest-to-Highest-Average-Life-Expectancy)\n",
    "- [Problem 2](#Problem-2:-Sorting-GDP)\n",
    "- [Problem 3](#Problem-3:-Sorting-Results-of-Multiple-Aggregates)\n",
    "- [Problem 4](#Problem-4:-Sorting-Custom-Outputs)\n",
    "- [Problem 5](#Problem-5:-Applying-the-\\`column_range\\`-function)"
   ]
  },
  {
   "cell_type": "code",
   "execution_count": 1,
   "metadata": {
    "nbgrader": {
     "grade": false,
     "grade_id": "cell-3d34886fad60d0be",
     "locked": true,
     "schema_version": 1,
     "solution": false
    }
   },
   "outputs": [],
   "source": [
    "import plotly.express as px\n",
    "import pandas as pd\n",
    "import numpy as np\n",
    "import seaborn as sns\n",
    "import matplotlib.pyplot as plt"
   ]
  },
  {
   "cell_type": "code",
   "execution_count": 2,
   "metadata": {
    "nbgrader": {
     "grade": false,
     "grade_id": "cell-76f0f79f7da57214",
     "locked": true,
     "schema_version": 1,
     "solution": false
    }
   },
   "outputs": [
    {
     "ename": "NameError",
     "evalue": "name 'px' is not defined",
     "output_type": "error",
     "traceback": [
      "\u001b[0;31m---------------------------------------------------------------------------\u001b[0m",
      "\u001b[0;31mNameError\u001b[0m                                 Traceback (most recent call last)",
      "\u001b[0;32m/var/folders/y8/q3tyf2ls6hdcr5jmw1zdr2f40000gp/T/ipykernel_84326/1138654827.py\u001b[0m in \u001b[0;36m<module>\u001b[0;34m\u001b[0m\n\u001b[0;32m----> 1\u001b[0;31m \u001b[0mgapminder\u001b[0m \u001b[0;34m=\u001b[0m \u001b[0mpx\u001b[0m\u001b[0;34m.\u001b[0m\u001b[0mdata\u001b[0m\u001b[0;34m.\u001b[0m\u001b[0mgapminder\u001b[0m\u001b[0;34m(\u001b[0m\u001b[0;34m)\u001b[0m\u001b[0;34m\u001b[0m\u001b[0;34m\u001b[0m\u001b[0m\n\u001b[0m",
      "\u001b[0;31mNameError\u001b[0m: name 'px' is not defined"
     ]
    }
   ],
   "source": [
    "gapminder = px.data.gapminder()"
   ]
  },
  {
   "cell_type": "code",
   "execution_count": null,
   "metadata": {
    "nbgrader": {
     "grade": false,
     "grade_id": "cell-d6b7f3d8a857ca14",
     "locked": true,
     "schema_version": 1,
     "solution": false
    }
   },
   "outputs": [],
   "source": [
    "gapminder.head(2)"
   ]
  },
  {
   "cell_type": "code",
   "execution_count": null,
   "metadata": {
    "nbgrader": {
     "grade": false,
     "grade_id": "cell-954d081a14a46272",
     "locked": true,
     "schema_version": 1,
     "solution": false
    }
   },
   "outputs": [],
   "source": [
    "gapminder.info()"
   ]
  },
  {
   "cell_type": "markdown",
   "metadata": {
    "nbgrader": {
     "grade": false,
     "grade_id": "cell-9ae73b51a1f95520",
     "locked": true,
     "schema_version": 1,
     "solution": false
    }
   },
   "source": [
    "[Back to top](#Index:) \n",
    "\n",
    "### Problem 1: Lowest to Highest Average Life Expectancy\n",
    "\n",
    "**2 Points**\n",
    "\n",
    "Using the gapminder data, group on the continent and find the average life expectancy by continent.  Sort the results from greatest to least using the `.sort_values` method.  Make sure to set the `ascending` argument to `False`.  Assign your results as a DataFrame to `ans1` below.  "
   ]
  },
  {
   "cell_type": "code",
   "execution_count": null,
   "metadata": {
    "nbgrader": {
     "grade": false,
     "grade_id": "cell-9174b84554ea287c",
     "locked": false,
     "schema_version": 1,
     "solution": true
    }
   },
   "outputs": [],
   "source": [
    "### GRADED\n",
    "\n",
    "ans1 = None\n",
    "\n",
    "### BEGIN SOLUTION\n",
    "#ans1 = gapminder.groupby('continent')[['lifeExp']].mean().sort_values(by = 'lifeExp', ascending = False)\n",
    "ans1 = gapminder.groupby('continent')[['lifeExp']].agg('mean').sort_values('lifeExp', ascending=False)\n",
    "\n",
    "### END SOLUTION\n",
    "\n",
    "# Answer check\n",
    "print(ans1)\n",
    "print(type(ans1))"
   ]
  },
  {
   "cell_type": "code",
   "execution_count": null,
   "metadata": {
    "nbgrader": {
     "grade": true,
     "grade_id": "cell-3667c338ac1d9a93",
     "locked": true,
     "points": 2,
     "schema_version": 1,
     "solution": false
    }
   },
   "outputs": [],
   "source": [
    "### BEGIN HIDDEN TESTS\n",
    "gapminder_ = px.data.gapminder()\n",
    "ans1_ = gapminder_.groupby('continent')[['lifeExp']].mean().sort_values(by = 'lifeExp', ascending = False)\n",
    "#\n",
    "#\n",
    "#\n",
    "assert type(ans1_) == type(ans1)\n",
    "pd.testing.assert_frame_equal(ans1, ans1_)\n",
    "### END HIDDEN TESTS"
   ]
  },
  {
   "cell_type": "markdown",
   "metadata": {
    "nbgrader": {
     "grade": false,
     "grade_id": "cell-1bea53fc0d43687b",
     "locked": true,
     "schema_version": 1,
     "solution": false
    }
   },
   "source": [
    "[Back to top](#Index:) \n",
    "\n",
    "### Problem 2: Sorting GDP\n",
    "\n",
    "**2 Points**\n",
    "\n",
    "Which country has the highest average GDP?  Use groupby to answer this question and assign your answer as a one word string representing the name of the country to `ans2` below."
   ]
  },
  {
   "cell_type": "code",
   "execution_count": null,
   "metadata": {
    "nbgrader": {
     "grade": false,
     "grade_id": "cell-53f700d04cb1c94e",
     "locked": false,
     "schema_version": 1,
     "solution": true
    }
   },
   "outputs": [],
   "source": [
    "### GRADED\n",
    "\n",
    "ans2 = None\n",
    "\n",
    "### BEGIN SOLUTION\n",
    "#ans2 = 'Kuwait' #gapminder.groupby('country')[['gdpPercap']].mean().sort_values(by = 'gdpPercap', ascending = False)\n",
    "ans2 = gapminder.groupby('country', as_index=False)[['gdpPercap']].agg('mean').sort_values('gdpPercap', ascending=False).head(1).iloc[0,0]\n",
    "### END SOLUTION\n",
    "\n",
    "# Answer check\n",
    "print(ans2)\n",
    "print(type(ans2))"
   ]
  },
  {
   "cell_type": "code",
   "execution_count": null,
   "metadata": {
    "nbgrader": {
     "grade": true,
     "grade_id": "cell-d18568269e3c1098",
     "locked": true,
     "points": 2,
     "schema_version": 1,
     "solution": false
    }
   },
   "outputs": [],
   "source": [
    "### BEGIN HIDDEN TESTS\n",
    "ans2_ = 'Kuwait'\n",
    "#\n",
    "#\n",
    "#\n",
    "assert type(ans2_) == type(ans2)\n",
    "assert ans2_.lower() == ans2.lower()\n",
    "### END HIDDEN TESTS"
   ]
  },
  {
   "cell_type": "markdown",
   "metadata": {
    "nbgrader": {
     "grade": false,
     "grade_id": "cell-3ebc023b2b54189b",
     "locked": true,
     "schema_version": 1,
     "solution": false
    }
   },
   "source": [
    "[Back to top](#Index:) \n",
    "\n",
    "### Problem 3: Sorting Results of Multiple Aggregates\n",
    "\n",
    "**2 Points**\n",
    "\n",
    "For this problem, use the `['mean', 'std', 'median']` functions to determine these values for the Life Expectancy of each continent.  Save this DataFrame to `ans3a` below  To sort the resulting values by medians from greatest to least, first flatten and rename the columns using the code:\n",
    "\n",
    "```python\n",
    "ans3a.columns = [\" \".join(c) for c in ans3a.columns.to_flat_index()]\n",
    "```\n",
    "\n",
    "\n",
    "Sort the results based on the median and assign your results as a DataFrame to `ans3b` below.  "
   ]
  },
  {
   "cell_type": "code",
   "execution_count": null,
   "metadata": {
    "nbgrader": {
     "grade": false,
     "grade_id": "cell-52e240bec4e8a6a0",
     "locked": false,
     "schema_version": 1,
     "solution": true
    }
   },
   "outputs": [],
   "source": [
    "### GRADED\n",
    "\n",
    "ans3a = None\n",
    "ans3b = None\n",
    "\n",
    "### BEGIN SOLUTION\n",
    "#ans3a = gapminder.groupby('continent').agg(['mean', 'std', 'median'])[['lifeExp']]\n",
    "#ans3a.columns = [\" \".join(c) for c in ans3a.columns.to_flat_index()]\n",
    "#ans3b = ans3a.sort_values(by = 'lifeExp median')\n",
    "ans3a = gapminder.groupby('continent')[['lifeExp']].agg(['mean','std','median'])\n",
    "ans3a.columns = [\" \".join(c) for c in ans3a.columns.to_flat_index()]\n",
    "\n",
    "ans3b = ans3a.sort_values('lifeExp median')\n",
    "### END SOLUTION\n",
    "\n",
    "# Answer check\n",
    "print(ans3a)\n",
    "print(ans3b)"
   ]
  },
  {
   "cell_type": "code",
   "execution_count": null,
   "metadata": {
    "nbgrader": {
     "grade": true,
     "grade_id": "cell-e472f07102714ee4",
     "locked": true,
     "points": 2,
     "schema_version": 1,
     "solution": false
    }
   },
   "outputs": [],
   "source": [
    "### BEGIN HIDDEN TESTS\n",
    "gapminder_ = px.data.gapminder()\n",
    "ans3a_ = gapminder_.groupby('continent').agg(['mean', 'std', 'median'])[['lifeExp']]\n",
    "ans3a_.columns = [\" \".join(c) for c in ans3a_.columns.to_flat_index()]\n",
    "ans3b_ = ans3a_.sort_values(by = 'lifeExp median')\n",
    "#\n",
    "#\n",
    "#\n",
    "assert type(ans3a_) == type(ans3a)\n",
    "pd.testing.assert_frame_equal(ans3a, ans3a_)\n",
    "pd.testing.assert_frame_equal(ans3b, ans3b_)\n",
    "### END HIDDEN TESTS"
   ]
  },
  {
   "cell_type": "markdown",
   "metadata": {
    "nbgrader": {
     "grade": false,
     "grade_id": "cell-96f7c21c0351e655",
     "locked": true,
     "schema_version": 1,
     "solution": false
    }
   },
   "source": [
    "[Back to top](#Index:) \n",
    "\n",
    "### Problem 4: Sorting Custom Outputs\n",
    "\n",
    "**2 Points**\n",
    "\n",
    "Complete the function `column_range` that takes in a column, and returns the range (max - min) of a column in a DataFrame. "
   ]
  },
  {
   "cell_type": "code",
   "execution_count": null,
   "metadata": {
    "nbgrader": {
     "grade": false,
     "grade_id": "cell-ef54140f4c5e26da",
     "locked": false,
     "schema_version": 1,
     "solution": true
    }
   },
   "outputs": [],
   "source": [
    "### GRADED\n",
    "\n",
    "def column_range():\n",
    "    '''\n",
    "    This function takes in a pandas series and returns\n",
    "    the range of the series (max - min) as a float.\n",
    "    '''\n",
    "    pass\n",
    "\n",
    "### BEGIN SOLUTION\n",
    "#def column_range(col):\n",
    "#    return col.max() - col.min()\n",
    "def column_range(s):\n",
    "    '''\n",
    "    This function takes in a pandas series and returns\n",
    "    the range of the series (max - min) as a float.\n",
    "    '''\n",
    "    offset=s.max() - s.min()\n",
    "    return offset\n",
    "### END SOLUTION\n",
    "\n",
    "# Answer check\n",
    "column_range(gapminder['lifeExp'])"
   ]
  },
  {
   "cell_type": "code",
   "execution_count": null,
   "metadata": {
    "nbgrader": {
     "grade": true,
     "grade_id": "cell-1f39c6bb5e22442b",
     "locked": true,
     "points": 2,
     "schema_version": 1,
     "solution": false
    }
   },
   "outputs": [],
   "source": [
    "### BEGIN HIDDEN TESTS\n",
    "gapminder_ = px.data.gapminder()\n",
    "def column_range_(col):\n",
    "    return col.max() - col.min()\n",
    "\n",
    "\n",
    "ans4 = column_range(gapminder['lifeExp'])\n",
    "ans4_ = column_range_(gapminder['lifeExp'])\n",
    "#\n",
    "#\n",
    "#\n",
    "assert type(ans4) == type(ans4_)\n",
    "assert ans4 == ans4_\n",
    "### END HIDDEN TESTS"
   ]
  },
  {
   "cell_type": "markdown",
   "metadata": {
    "nbgrader": {
     "grade": false,
     "grade_id": "cell-d477c09a95ab23ab",
     "locked": true,
     "schema_version": 1,
     "solution": false
    }
   },
   "source": [
    "[Back to top](#Index:) \n",
    "\n",
    "### Problem 5: Applying the `column_range` function\n",
    "\n",
    "**2 Points**\n",
    "\n",
    "Use the `column_range` function to first groupby continent and then apply the function to the GDP feature.  Sort the results from greatest to least.  Assign your results as a DataFrame to `ans5` below."
   ]
  },
  {
   "cell_type": "code",
   "execution_count": null,
   "metadata": {
    "nbgrader": {
     "grade": false,
     "grade_id": "cell-c44321bb8f95b1c6",
     "locked": false,
     "schema_version": 1,
     "solution": true
    }
   },
   "outputs": [],
   "source": [
    "### GRADED\n",
    "\n",
    "ans5 = None\n",
    "\n",
    "### BEGIN SOLUTION\n",
    "#ans5 = gapminder.groupby('continent')[['gdpPercap']].apply(column_range).sort_values(by = 'gdpPercap', ascending = False)\n",
    "ans5 = gapminder.groupby('continent')[['gdpPercap']].apply(column_range).sort_values(by = 'gdpPercap', ascending=False)\n",
    "### END SOLUTION\n",
    "\n",
    "# Answer check\n",
    "ans5"
   ]
  },
  {
   "cell_type": "code",
   "execution_count": null,
   "metadata": {
    "nbgrader": {
     "grade": true,
     "grade_id": "cell-c48d7e9f2e76e4fb",
     "locked": true,
     "points": 2,
     "schema_version": 1,
     "solution": false
    }
   },
   "outputs": [],
   "source": [
    "### BEGIN HIDDEN TESTS\n",
    "gapminder_ = px.data.gapminder()\n",
    "def column_range_(col):\n",
    "    return col.max() - col.min()\n",
    "\n",
    "ans5_ = gapminder_.groupby('continent')[['gdpPercap']].apply(column_range).sort_values(by = 'gdpPercap', ascending = False)\n",
    "\n",
    "#\n",
    "#\n",
    "#\n",
    "pd.testing.assert_frame_equal(ans5_, ans5)\n",
    "### END HIDDEN TESTS"
   ]
  }
 ],
 "metadata": {
  "celltoolbar": "Create Assignment",
  "kernelspec": {
   "display_name": "Python 3 (ipykernel)",
   "language": "python",
   "name": "python3"
  },
  "language_info": {
   "codemirror_mode": {
    "name": "ipython",
    "version": 3
   },
   "file_extension": ".py",
   "mimetype": "text/x-python",
   "name": "python",
   "nbconvert_exporter": "python",
   "pygments_lexer": "ipython3",
   "version": "3.9.7"
  }
 },
 "nbformat": 4,
 "nbformat_minor": 4
}
