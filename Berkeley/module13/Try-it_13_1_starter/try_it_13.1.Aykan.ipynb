{
 "cells": [
  {
   "cell_type": "markdown",
   "metadata": {},
   "source": [
    "### Classification in Business\n",
    "\n",
    "<center>\n",
    "    <img src = 'images/uci_biz.png' />\n",
    "</center>\n",
    "\n",
    "\n",
    "\n",
    "------------\n",
    "\n",
    "\n",
    "For this try-it, you are to explore some available datasets related to business applications of classification.  Using a dataset from the UCI Machine Learning Repository, scan datasets   under the subject area \"BUSINESS\" [link here](https://archive.ics.uci.edu/ml/datasets.php?format=&task=cla&att=&area=bus&numAtt=&numIns=&type=&sort=nameUp&view=table).  Find a dataset that looks interesting to you and decide how you could use Logistic Regression to help make a business decision using the data. \n",
    "\n",
    "In sharing your results, be sure to clearly describe the following:\n",
    "\n",
    "- the dataset and its features\n",
    "- the classification problem -- what are you classifying here?\n",
    "- a business decision that can be supported using the results of the classification model\n",
    "\n",
    "Share your summary on the appropriate discussion board for the activity. "
   ]
  },
  {
   "cell_type": "code",
   "execution_count": 2,
   "metadata": {},
   "outputs": [],
   "source": [
    "import pandas as pd\n",
    "import numpy as np\n",
    "import matplotlib.pyplot as plt\n",
    "import seaborn as sns\n",
    "\n",
    "from sklearn.neighbors import KNeighborsRegressor, KNeighborsClassifier\n",
    "from sklearn.impute import KNNImputer\n",
    "from sklearn.preprocessing import StandardScaler, OneHotEncoder\n",
    "from sklearn.pipeline import Pipeline\n",
    "from sklearn.compose import make_column_transformer\n",
    "from sklearn.metrics import mean_squared_error, confusion_matrix, ConfusionMatrixDisplay, RocCurveDisplay, \\\n",
    "                            accuracy_score, recall_score, precision_score, precision_recall_curve\n",
    "from sklearn.inspection import PartialDependenceDisplay, partial_dependence\n",
    "from sklearn.model_selection import train_test_split, GridSearchCV\n",
    "from sklearn import set_config"
   ]
  },
  {
   "cell_type": "code",
   "execution_count": 3,
   "metadata": {},
   "outputs": [],
   "source": [
    "set_config(\"figure\")"
   ]
  },
  {
   "cell_type": "code",
   "execution_count": 5,
   "metadata": {},
   "outputs": [],
   "source": [
    "lv = pd.read_csv('data/LasVegasTripAdvisorReviews-Dataset.csv', sep=';')"
   ]
  },
  {
   "cell_type": "code",
   "execution_count": 6,
   "metadata": {},
   "outputs": [
    {
     "name": "stdout",
     "output_type": "stream",
     "text": [
      "<class 'pandas.core.frame.DataFrame'>\n",
      "RangeIndex: 504 entries, 0 to 503\n",
      "Data columns (total 20 columns):\n",
      " #   Column             Non-Null Count  Dtype \n",
      "---  ------             --------------  ----- \n",
      " 0   User country       504 non-null    object\n",
      " 1   Nr. reviews        504 non-null    int64 \n",
      " 2   Nr. hotel reviews  504 non-null    int64 \n",
      " 3   Helpful votes      504 non-null    int64 \n",
      " 4   Score              504 non-null    int64 \n",
      " 5   Period of stay     504 non-null    object\n",
      " 6   Traveler type      504 non-null    object\n",
      " 7   Pool               504 non-null    object\n",
      " 8   Gym                504 non-null    object\n",
      " 9   Tennis court       504 non-null    object\n",
      " 10  Spa                504 non-null    object\n",
      " 11  Casino             504 non-null    object\n",
      " 12  Free internet      504 non-null    object\n",
      " 13  Hotel name         504 non-null    object\n",
      " 14  Hotel stars        504 non-null    object\n",
      " 15  Nr. rooms          504 non-null    int64 \n",
      " 16  User continent     504 non-null    object\n",
      " 17  Member years       504 non-null    int64 \n",
      " 18  Review month       504 non-null    object\n",
      " 19  Review weekday     504 non-null    object\n",
      "dtypes: int64(6), object(14)\n",
      "memory usage: 78.9+ KB\n"
     ]
    }
   ],
   "source": [
    "lv.info()"
   ]
  },
  {
   "cell_type": "code",
   "execution_count": 7,
   "metadata": {},
   "outputs": [
    {
     "data": {
      "text/html": [
       "<div>\n",
       "<style scoped>\n",
       "    .dataframe tbody tr th:only-of-type {\n",
       "        vertical-align: middle;\n",
       "    }\n",
       "\n",
       "    .dataframe tbody tr th {\n",
       "        vertical-align: top;\n",
       "    }\n",
       "\n",
       "    .dataframe thead th {\n",
       "        text-align: right;\n",
       "    }\n",
       "</style>\n",
       "<table border=\"1\" class=\"dataframe\">\n",
       "  <thead>\n",
       "    <tr style=\"text-align: right;\">\n",
       "      <th></th>\n",
       "      <th>Nr. reviews</th>\n",
       "      <th>Nr. hotel reviews</th>\n",
       "      <th>Helpful votes</th>\n",
       "      <th>Score</th>\n",
       "      <th>Nr. rooms</th>\n",
       "      <th>Member years</th>\n",
       "    </tr>\n",
       "  </thead>\n",
       "  <tbody>\n",
       "    <tr>\n",
       "      <th>count</th>\n",
       "      <td>504.000000</td>\n",
       "      <td>504.000000</td>\n",
       "      <td>504.000000</td>\n",
       "      <td>504.000000</td>\n",
       "      <td>504.000000</td>\n",
       "      <td>504.000000</td>\n",
       "    </tr>\n",
       "    <tr>\n",
       "      <th>mean</th>\n",
       "      <td>48.130952</td>\n",
       "      <td>16.023810</td>\n",
       "      <td>31.751984</td>\n",
       "      <td>4.123016</td>\n",
       "      <td>2196.380952</td>\n",
       "      <td>0.767857</td>\n",
       "    </tr>\n",
       "    <tr>\n",
       "      <th>std</th>\n",
       "      <td>74.996426</td>\n",
       "      <td>23.957953</td>\n",
       "      <td>48.520783</td>\n",
       "      <td>1.007302</td>\n",
       "      <td>1285.476807</td>\n",
       "      <td>80.692897</td>\n",
       "    </tr>\n",
       "    <tr>\n",
       "      <th>min</th>\n",
       "      <td>1.000000</td>\n",
       "      <td>0.000000</td>\n",
       "      <td>0.000000</td>\n",
       "      <td>1.000000</td>\n",
       "      <td>188.000000</td>\n",
       "      <td>-1806.000000</td>\n",
       "    </tr>\n",
       "    <tr>\n",
       "      <th>25%</th>\n",
       "      <td>12.000000</td>\n",
       "      <td>5.000000</td>\n",
       "      <td>8.000000</td>\n",
       "      <td>4.000000</td>\n",
       "      <td>826.000000</td>\n",
       "      <td>2.000000</td>\n",
       "    </tr>\n",
       "    <tr>\n",
       "      <th>50%</th>\n",
       "      <td>23.500000</td>\n",
       "      <td>9.000000</td>\n",
       "      <td>16.000000</td>\n",
       "      <td>4.000000</td>\n",
       "      <td>2700.000000</td>\n",
       "      <td>4.000000</td>\n",
       "    </tr>\n",
       "    <tr>\n",
       "      <th>75%</th>\n",
       "      <td>54.250000</td>\n",
       "      <td>18.000000</td>\n",
       "      <td>35.000000</td>\n",
       "      <td>5.000000</td>\n",
       "      <td>3025.000000</td>\n",
       "      <td>6.000000</td>\n",
       "    </tr>\n",
       "    <tr>\n",
       "      <th>max</th>\n",
       "      <td>775.000000</td>\n",
       "      <td>263.000000</td>\n",
       "      <td>365.000000</td>\n",
       "      <td>5.000000</td>\n",
       "      <td>4027.000000</td>\n",
       "      <td>13.000000</td>\n",
       "    </tr>\n",
       "  </tbody>\n",
       "</table>\n",
       "</div>"
      ],
      "text/plain": [
       "       Nr. reviews  Nr. hotel reviews  Helpful votes       Score    Nr. rooms  \\\n",
       "count   504.000000         504.000000     504.000000  504.000000   504.000000   \n",
       "mean     48.130952          16.023810      31.751984    4.123016  2196.380952   \n",
       "std      74.996426          23.957953      48.520783    1.007302  1285.476807   \n",
       "min       1.000000           0.000000       0.000000    1.000000   188.000000   \n",
       "25%      12.000000           5.000000       8.000000    4.000000   826.000000   \n",
       "50%      23.500000           9.000000      16.000000    4.000000  2700.000000   \n",
       "75%      54.250000          18.000000      35.000000    5.000000  3025.000000   \n",
       "max     775.000000         263.000000     365.000000    5.000000  4027.000000   \n",
       "\n",
       "       Member years  \n",
       "count    504.000000  \n",
       "mean       0.767857  \n",
       "std       80.692897  \n",
       "min    -1806.000000  \n",
       "25%        2.000000  \n",
       "50%        4.000000  \n",
       "75%        6.000000  \n",
       "max       13.000000  "
      ]
     },
     "execution_count": 7,
     "metadata": {},
     "output_type": "execute_result"
    }
   ],
   "source": [
    "lv.describe()"
   ]
  },
  {
   "cell_type": "code",
   "execution_count": 11,
   "metadata": {},
   "outputs": [
    {
     "data": {
      "image/png": "[encoded data removed]",
      "text/plain": [
       "<Figure size 720x576 with 6 Axes>"
      ]
     },
     "metadata": {},
     "output_type": "display_data"
    }
   ],
   "source": [
    "# histograms\n",
    "lv.hist(figsize = (10, 8))\n",
    "plt.show()"
   ]
  },
  {
   "cell_type": "code",
   "execution_count": 10,
   "metadata": {},
   "outputs": [
    {
     "data": {
      "text/plain": [
       "<AxesSubplot:>"
      ]
     },
     "execution_count": 10,
     "metadata": {},
     "output_type": "execute_result"
    },
    {
     "data": {
      "image/png": "[encoded data removed]",
      "text/plain": [
       "<Figure size 432x432 with 2 Axes>"
      ]
     },
     "metadata": {
      "needs_background": "light"
     },
     "output_type": "display_data"
    }
   ],
   "source": [
    "#heatmap\n",
    "plt.subplots(figsize=(6,6))\n",
    "sns.set(font_scale=1.1)\n",
    "sns.heatmap(lv.corr(), annot=True, fmt='.2f')"
   ]
  },
  {
   "cell_type": "code",
   "execution_count": 8,
   "metadata": {},
   "outputs": [
    {
     "data": {
      "text/html": [
       "<div>\n",
       "<style scoped>\n",
       "    .dataframe tbody tr th:only-of-type {\n",
       "        vertical-align: middle;\n",
       "    }\n",
       "\n",
       "    .dataframe tbody tr th {\n",
       "        vertical-align: top;\n",
       "    }\n",
       "\n",
       "    .dataframe thead th {\n",
       "        text-align: right;\n",
       "    }\n",
       "</style>\n",
       "<table border=\"1\" class=\"dataframe\">\n",
       "  <thead>\n",
       "    <tr style=\"text-align: right;\">\n",
       "      <th></th>\n",
       "      <th>User country</th>\n",
       "      <th>Nr. reviews</th>\n",
       "      <th>Nr. hotel reviews</th>\n",
       "      <th>Helpful votes</th>\n",
       "      <th>Score</th>\n",
       "      <th>Period of stay</th>\n",
       "      <th>Traveler type</th>\n",
       "      <th>Pool</th>\n",
       "      <th>Gym</th>\n",
       "      <th>Tennis court</th>\n",
       "      <th>Spa</th>\n",
       "      <th>Casino</th>\n",
       "      <th>Free internet</th>\n",
       "      <th>Hotel name</th>\n",
       "      <th>Hotel stars</th>\n",
       "      <th>Nr. rooms</th>\n",
       "      <th>User continent</th>\n",
       "      <th>Member years</th>\n",
       "      <th>Review month</th>\n",
       "      <th>Review weekday</th>\n",
       "    </tr>\n",
       "  </thead>\n",
       "  <tbody>\n",
       "    <tr>\n",
       "      <th>0</th>\n",
       "      <td>USA</td>\n",
       "      <td>11</td>\n",
       "      <td>4</td>\n",
       "      <td>13</td>\n",
       "      <td>5</td>\n",
       "      <td>Dec-Feb</td>\n",
       "      <td>Friends</td>\n",
       "      <td>NO</td>\n",
       "      <td>YES</td>\n",
       "      <td>NO</td>\n",
       "      <td>NO</td>\n",
       "      <td>YES</td>\n",
       "      <td>YES</td>\n",
       "      <td>Circus Circus Hotel &amp; Casino Las Vegas</td>\n",
       "      <td>3</td>\n",
       "      <td>3773</td>\n",
       "      <td>North America</td>\n",
       "      <td>9</td>\n",
       "      <td>January</td>\n",
       "      <td>Thursday</td>\n",
       "    </tr>\n",
       "    <tr>\n",
       "      <th>1</th>\n",
       "      <td>USA</td>\n",
       "      <td>119</td>\n",
       "      <td>21</td>\n",
       "      <td>75</td>\n",
       "      <td>3</td>\n",
       "      <td>Dec-Feb</td>\n",
       "      <td>Business</td>\n",
       "      <td>NO</td>\n",
       "      <td>YES</td>\n",
       "      <td>NO</td>\n",
       "      <td>NO</td>\n",
       "      <td>YES</td>\n",
       "      <td>YES</td>\n",
       "      <td>Circus Circus Hotel &amp; Casino Las Vegas</td>\n",
       "      <td>3</td>\n",
       "      <td>3773</td>\n",
       "      <td>North America</td>\n",
       "      <td>3</td>\n",
       "      <td>January</td>\n",
       "      <td>Friday</td>\n",
       "    </tr>\n",
       "    <tr>\n",
       "      <th>2</th>\n",
       "      <td>USA</td>\n",
       "      <td>36</td>\n",
       "      <td>9</td>\n",
       "      <td>25</td>\n",
       "      <td>5</td>\n",
       "      <td>Mar-May</td>\n",
       "      <td>Families</td>\n",
       "      <td>NO</td>\n",
       "      <td>YES</td>\n",
       "      <td>NO</td>\n",
       "      <td>NO</td>\n",
       "      <td>YES</td>\n",
       "      <td>YES</td>\n",
       "      <td>Circus Circus Hotel &amp; Casino Las Vegas</td>\n",
       "      <td>3</td>\n",
       "      <td>3773</td>\n",
       "      <td>North America</td>\n",
       "      <td>2</td>\n",
       "      <td>February</td>\n",
       "      <td>Saturday</td>\n",
       "    </tr>\n",
       "    <tr>\n",
       "      <th>3</th>\n",
       "      <td>UK</td>\n",
       "      <td>14</td>\n",
       "      <td>7</td>\n",
       "      <td>14</td>\n",
       "      <td>4</td>\n",
       "      <td>Mar-May</td>\n",
       "      <td>Friends</td>\n",
       "      <td>NO</td>\n",
       "      <td>YES</td>\n",
       "      <td>NO</td>\n",
       "      <td>NO</td>\n",
       "      <td>YES</td>\n",
       "      <td>YES</td>\n",
       "      <td>Circus Circus Hotel &amp; Casino Las Vegas</td>\n",
       "      <td>3</td>\n",
       "      <td>3773</td>\n",
       "      <td>Europe</td>\n",
       "      <td>6</td>\n",
       "      <td>February</td>\n",
       "      <td>Friday</td>\n",
       "    </tr>\n",
       "    <tr>\n",
       "      <th>4</th>\n",
       "      <td>Canada</td>\n",
       "      <td>5</td>\n",
       "      <td>5</td>\n",
       "      <td>2</td>\n",
       "      <td>4</td>\n",
       "      <td>Mar-May</td>\n",
       "      <td>Solo</td>\n",
       "      <td>NO</td>\n",
       "      <td>YES</td>\n",
       "      <td>NO</td>\n",
       "      <td>NO</td>\n",
       "      <td>YES</td>\n",
       "      <td>YES</td>\n",
       "      <td>Circus Circus Hotel &amp; Casino Las Vegas</td>\n",
       "      <td>3</td>\n",
       "      <td>3773</td>\n",
       "      <td>North America</td>\n",
       "      <td>7</td>\n",
       "      <td>March</td>\n",
       "      <td>Tuesday</td>\n",
       "    </tr>\n",
       "    <tr>\n",
       "      <th>...</th>\n",
       "      <td>...</td>\n",
       "      <td>...</td>\n",
       "      <td>...</td>\n",
       "      <td>...</td>\n",
       "      <td>...</td>\n",
       "      <td>...</td>\n",
       "      <td>...</td>\n",
       "      <td>...</td>\n",
       "      <td>...</td>\n",
       "      <td>...</td>\n",
       "      <td>...</td>\n",
       "      <td>...</td>\n",
       "      <td>...</td>\n",
       "      <td>...</td>\n",
       "      <td>...</td>\n",
       "      <td>...</td>\n",
       "      <td>...</td>\n",
       "      <td>...</td>\n",
       "      <td>...</td>\n",
       "      <td>...</td>\n",
       "    </tr>\n",
       "    <tr>\n",
       "      <th>499</th>\n",
       "      <td>UK</td>\n",
       "      <td>15</td>\n",
       "      <td>4</td>\n",
       "      <td>8</td>\n",
       "      <td>5</td>\n",
       "      <td>Sep-Nov</td>\n",
       "      <td>Couples</td>\n",
       "      <td>YES</td>\n",
       "      <td>YES</td>\n",
       "      <td>NO</td>\n",
       "      <td>YES</td>\n",
       "      <td>YES</td>\n",
       "      <td>YES</td>\n",
       "      <td>The Westin las Vegas Hotel Casino &amp; Spa</td>\n",
       "      <td>4</td>\n",
       "      <td>826</td>\n",
       "      <td>Europe</td>\n",
       "      <td>1</td>\n",
       "      <td>October</td>\n",
       "      <td>Sunday</td>\n",
       "    </tr>\n",
       "    <tr>\n",
       "      <th>500</th>\n",
       "      <td>Canada</td>\n",
       "      <td>50</td>\n",
       "      <td>13</td>\n",
       "      <td>29</td>\n",
       "      <td>4</td>\n",
       "      <td>Sep-Nov</td>\n",
       "      <td>Couples</td>\n",
       "      <td>YES</td>\n",
       "      <td>YES</td>\n",
       "      <td>NO</td>\n",
       "      <td>YES</td>\n",
       "      <td>YES</td>\n",
       "      <td>YES</td>\n",
       "      <td>The Westin las Vegas Hotel Casino &amp; Spa</td>\n",
       "      <td>4</td>\n",
       "      <td>826</td>\n",
       "      <td>North America</td>\n",
       "      <td>8</td>\n",
       "      <td>November</td>\n",
       "      <td>Thursday</td>\n",
       "    </tr>\n",
       "    <tr>\n",
       "      <th>501</th>\n",
       "      <td>USA</td>\n",
       "      <td>154</td>\n",
       "      <td>23</td>\n",
       "      <td>31</td>\n",
       "      <td>4</td>\n",
       "      <td>Sep-Nov</td>\n",
       "      <td>Friends</td>\n",
       "      <td>YES</td>\n",
       "      <td>YES</td>\n",
       "      <td>NO</td>\n",
       "      <td>YES</td>\n",
       "      <td>YES</td>\n",
       "      <td>YES</td>\n",
       "      <td>The Westin las Vegas Hotel Casino &amp; Spa</td>\n",
       "      <td>4</td>\n",
       "      <td>826</td>\n",
       "      <td>North America</td>\n",
       "      <td>4</td>\n",
       "      <td>November</td>\n",
       "      <td>Thursday</td>\n",
       "    </tr>\n",
       "    <tr>\n",
       "      <th>502</th>\n",
       "      <td>USA</td>\n",
       "      <td>9</td>\n",
       "      <td>6</td>\n",
       "      <td>5</td>\n",
       "      <td>2</td>\n",
       "      <td>Dec-Feb</td>\n",
       "      <td>Families</td>\n",
       "      <td>YES</td>\n",
       "      <td>YES</td>\n",
       "      <td>NO</td>\n",
       "      <td>YES</td>\n",
       "      <td>YES</td>\n",
       "      <td>YES</td>\n",
       "      <td>The Westin las Vegas Hotel Casino &amp; Spa</td>\n",
       "      <td>4</td>\n",
       "      <td>826</td>\n",
       "      <td>North America</td>\n",
       "      <td>9</td>\n",
       "      <td>December</td>\n",
       "      <td>Wednesday</td>\n",
       "    </tr>\n",
       "    <tr>\n",
       "      <th>503</th>\n",
       "      <td>USA</td>\n",
       "      <td>20</td>\n",
       "      <td>19</td>\n",
       "      <td>112</td>\n",
       "      <td>4</td>\n",
       "      <td>Dec-Feb</td>\n",
       "      <td>Families</td>\n",
       "      <td>YES</td>\n",
       "      <td>YES</td>\n",
       "      <td>NO</td>\n",
       "      <td>YES</td>\n",
       "      <td>YES</td>\n",
       "      <td>YES</td>\n",
       "      <td>The Westin las Vegas Hotel Casino &amp; Spa</td>\n",
       "      <td>4</td>\n",
       "      <td>826</td>\n",
       "      <td>North America</td>\n",
       "      <td>5</td>\n",
       "      <td>December</td>\n",
       "      <td>Tuesday</td>\n",
       "    </tr>\n",
       "  </tbody>\n",
       "</table>\n",
       "<p>504 rows × 20 columns</p>\n",
       "</div>"
      ],
      "text/plain": [
       "    User country  Nr. reviews  Nr. hotel reviews  Helpful votes  Score  \\\n",
       "0            USA           11                  4             13      5   \n",
       "1            USA          119                 21             75      3   \n",
       "2            USA           36                  9             25      5   \n",
       "3             UK           14                  7             14      4   \n",
       "4         Canada            5                  5              2      4   \n",
       "..           ...          ...                ...            ...    ...   \n",
       "499           UK           15                  4              8      5   \n",
       "500       Canada           50                 13             29      4   \n",
       "501          USA          154                 23             31      4   \n",
       "502          USA            9                  6              5      2   \n",
       "503          USA           20                 19            112      4   \n",
       "\n",
       "    Period of stay Traveler type Pool  Gym Tennis court  Spa Casino  \\\n",
       "0          Dec-Feb       Friends   NO  YES           NO   NO    YES   \n",
       "1          Dec-Feb      Business   NO  YES           NO   NO    YES   \n",
       "2          Mar-May      Families   NO  YES           NO   NO    YES   \n",
       "3          Mar-May       Friends   NO  YES           NO   NO    YES   \n",
       "4          Mar-May          Solo   NO  YES           NO   NO    YES   \n",
       "..             ...           ...  ...  ...          ...  ...    ...   \n",
       "499        Sep-Nov       Couples  YES  YES           NO  YES    YES   \n",
       "500        Sep-Nov       Couples  YES  YES           NO  YES    YES   \n",
       "501        Sep-Nov       Friends  YES  YES           NO  YES    YES   \n",
       "502        Dec-Feb      Families  YES  YES           NO  YES    YES   \n",
       "503        Dec-Feb      Families  YES  YES           NO  YES    YES   \n",
       "\n",
       "    Free internet                               Hotel name Hotel stars  \\\n",
       "0             YES   Circus Circus Hotel & Casino Las Vegas           3   \n",
       "1             YES   Circus Circus Hotel & Casino Las Vegas           3   \n",
       "2             YES   Circus Circus Hotel & Casino Las Vegas           3   \n",
       "3             YES   Circus Circus Hotel & Casino Las Vegas           3   \n",
       "4             YES   Circus Circus Hotel & Casino Las Vegas           3   \n",
       "..            ...                                      ...         ...   \n",
       "499           YES  The Westin las Vegas Hotel Casino & Spa           4   \n",
       "500           YES  The Westin las Vegas Hotel Casino & Spa           4   \n",
       "501           YES  The Westin las Vegas Hotel Casino & Spa           4   \n",
       "502           YES  The Westin las Vegas Hotel Casino & Spa           4   \n",
       "503           YES  The Westin las Vegas Hotel Casino & Spa           4   \n",
       "\n",
       "     Nr. rooms User continent  Member years Review month Review weekday  \n",
       "0         3773  North America             9      January       Thursday  \n",
       "1         3773  North America             3      January         Friday  \n",
       "2         3773  North America             2     February       Saturday  \n",
       "3         3773         Europe             6     February         Friday  \n",
       "4         3773  North America             7        March        Tuesday  \n",
       "..         ...            ...           ...          ...            ...  \n",
       "499        826         Europe             1      October         Sunday  \n",
       "500        826  North America             8     November       Thursday  \n",
       "501        826  North America             4     November       Thursday  \n",
       "502        826  North America             9     December      Wednesday  \n",
       "503        826  North America             5     December        Tuesday  \n",
       "\n",
       "[504 rows x 20 columns]"
      ]
     },
     "execution_count": 8,
     "metadata": {},
     "output_type": "execute_result"
    }
   ],
   "source": [
    "lv"
   ]
  },
  {
   "cell_type": "code",
   "execution_count": 13,
   "metadata": {},
   "outputs": [
    {
     "data": {
      "text/plain": [
       "Index(['Friends', 'Business', 'Families', 'Solo', 'Couples'], dtype='object')"
      ]
     },
     "execution_count": 13,
     "metadata": {},
     "output_type": "execute_result"
    }
   ],
   "source": [
    "pd.factorize(lv['Traveler type'])[1]"
   ]
  },
  {
   "cell_type": "code",
   "execution_count": 16,
   "metadata": {},
   "outputs": [],
   "source": [
    "lv.loc[:,'traveler'] = pd.factorize(lv['Traveler type'])[0]"
   ]
  },
  {
   "cell_type": "code",
   "execution_count": 17,
   "metadata": {},
   "outputs": [
    {
     "data": {
      "text/plain": [
       "Index(['Dec-Feb', 'Mar-May', 'Jun-Aug', 'Sep-Nov'], dtype='object')"
      ]
     },
     "execution_count": 17,
     "metadata": {},
     "output_type": "execute_result"
    }
   ],
   "source": [
    "pd.factorize(lv['Period of stay'])[1]"
   ]
  },
  {
   "cell_type": "code",
   "execution_count": 18,
   "metadata": {},
   "outputs": [],
   "source": [
    "lv.loc[:,'season'] = pd.factorize(lv['Period of stay'])[0]"
   ]
  },
  {
   "cell_type": "code",
   "execution_count": 19,
   "metadata": {},
   "outputs": [
    {
     "data": {
      "text/plain": [
       "Index(['North America', 'Europe', 'Asia', 'Oceania', 'Africa',\n",
       "       'South America'],\n",
       "      dtype='object')"
      ]
     },
     "execution_count": 19,
     "metadata": {},
     "output_type": "execute_result"
    }
   ],
   "source": [
    "pd.factorize(lv['User continent'])[1]"
   ]
  },
  {
   "cell_type": "code",
   "execution_count": 20,
   "metadata": {},
   "outputs": [],
   "source": [
    "lv.loc[:,'continent'] = pd.factorize(lv['User continent'])[0]"
   ]
  },
  {
   "cell_type": "code",
   "execution_count": 21,
   "metadata": {},
   "outputs": [
    {
     "data": {
      "text/plain": [
       "Index(['Circus Circus Hotel & Casino Las Vegas', 'Excalibur Hotel & Casino',\n",
       "       'Monte Carlo Resort&Casino', 'Treasure Island- TI Hotel & Casino',\n",
       "       'Tropicana Las Vegas - A Double Tree by Hilton Hotel', 'Caesars Palace',\n",
       "       'The Cosmopolitan Las Vegas', 'The Palazzo Resort Hotel Casino',\n",
       "       'Wynn Las Vegas', 'Trump International Hotel Las Vegas', 'The Cromwell',\n",
       "       'Encore at wynn Las Vegas', 'Hilton Grand Vacations on the Boulevard',\n",
       "       'Marriott's Grand Chateau', 'Tuscany Las Vegas Suites & Casino',\n",
       "       'Hilton Grand Vacations at the Flamingo', 'Wyndham Grand Desert',\n",
       "       'The Venetian Las Vegas Hotel', 'Bellagio Las Vegas', 'Paris Las Vegas',\n",
       "       'The Westin las Vegas Hotel Casino & Spa'],\n",
       "      dtype='object')"
      ]
     },
     "execution_count": 21,
     "metadata": {},
     "output_type": "execute_result"
    }
   ],
   "source": [
    "pd.factorize(lv['Hotel name'])[1]"
   ]
  },
  {
   "cell_type": "code",
   "execution_count": 22,
   "metadata": {},
   "outputs": [],
   "source": [
    "lv.loc[:,'hotel'] = pd.factorize(lv['Hotel name'])[0]"
   ]
  },
  {
   "cell_type": "code",
   "execution_count": 24,
   "metadata": {},
   "outputs": [
    {
     "data": {
      "text/plain": [
       "Index(['January', 'February', 'March', 'April', 'May', 'June', 'July',\n",
       "       'August', 'September', 'October', 'November', 'December'],\n",
       "      dtype='object')"
      ]
     },
     "execution_count": 24,
     "metadata": {},
     "output_type": "execute_result"
    }
   ],
   "source": [
    "pd.factorize(lv['Review month'])[1]"
   ]
  },
  {
   "cell_type": "code",
   "execution_count": 29,
   "metadata": {},
   "outputs": [],
   "source": [
    "lv.loc[:,'month'] = pd.factorize(lv['Review month'])[0]"
   ]
  },
  {
   "cell_type": "code",
   "execution_count": 25,
   "metadata": {},
   "outputs": [
    {
     "data": {
      "text/plain": [
       "Index(['Thursday', 'Friday', 'Saturday', 'Tuesday', 'Wednesday', 'Sunday',\n",
       "       'Monday'],\n",
       "      dtype='object')"
      ]
     },
     "execution_count": 25,
     "metadata": {},
     "output_type": "execute_result"
    }
   ],
   "source": [
    "pd.factorize(lv['Review weekday'])[1]"
   ]
  },
  {
   "cell_type": "code",
   "execution_count": 26,
   "metadata": {},
   "outputs": [
    {
     "data": {
      "text/plain": [
       "0      4\n",
       "1      5\n",
       "2      6\n",
       "3      5\n",
       "4      2\n",
       "      ..\n",
       "499    7\n",
       "500    4\n",
       "501    4\n",
       "502    3\n",
       "503    2\n",
       "Name: Review weekday, Length: 504, dtype: int64"
      ]
     },
     "execution_count": 26,
     "metadata": {},
     "output_type": "execute_result"
    }
   ],
   "source": [
    "lv['Review weekday'].map({'Monday':1, 'Tuesday':2, 'Wednesday':3, 'Thursday':4, 'Friday':5, 'Saturday':6, 'Sunday':7})"
   ]
  },
  {
   "cell_type": "code",
   "execution_count": 27,
   "metadata": {},
   "outputs": [],
   "source": [
    "lv.loc[:,'weekday'] = lv['Review weekday'].map({'Monday':1, 'Tuesday':2, 'Wednesday':3, 'Thursday':4,\n",
    "                                                'Friday':5, 'Saturday':6, 'Sunday':7})"
   ]
  },
  {
   "cell_type": "code",
   "execution_count": 40,
   "metadata": {},
   "outputs": [],
   "source": [
    "lv.loc[:,'stars'] = lv['Hotel stars'].str.replace(',','.')\n",
    "# convert str to float\n",
    "lv = lv.astype({\"stars\":'float'})"
   ]
  },
  {
   "cell_type": "code",
   "execution_count": 42,
   "metadata": {},
   "outputs": [
    {
     "name": "stdout",
     "output_type": "stream",
     "text": [
      "<class 'pandas.core.frame.DataFrame'>\n",
      "RangeIndex: 504 entries, 0 to 503\n",
      "Data columns (total 27 columns):\n",
      " #   Column             Non-Null Count  Dtype  \n",
      "---  ------             --------------  -----  \n",
      " 0   User country       504 non-null    object \n",
      " 1   Nr. reviews        504 non-null    int64  \n",
      " 2   Nr. hotel reviews  504 non-null    int64  \n",
      " 3   Helpful votes      504 non-null    int64  \n",
      " 4   Score              504 non-null    int64  \n",
      " 5   Period of stay     504 non-null    object \n",
      " 6   Traveler type      504 non-null    object \n",
      " 7   Pool               504 non-null    object \n",
      " 8   Gym                504 non-null    object \n",
      " 9   Tennis court       504 non-null    object \n",
      " 10  Spa                504 non-null    object \n",
      " 11  Casino             504 non-null    object \n",
      " 12  Free internet      504 non-null    object \n",
      " 13  Hotel name         504 non-null    object \n",
      " 14  Hotel stars        504 non-null    object \n",
      " 15  Nr. rooms          504 non-null    int64  \n",
      " 16  User continent     504 non-null    object \n",
      " 17  Member years       504 non-null    int64  \n",
      " 18  Review month       504 non-null    object \n",
      " 19  Review weekday     504 non-null    object \n",
      " 20  traveler           504 non-null    int64  \n",
      " 21  season             504 non-null    int64  \n",
      " 22  continent          504 non-null    int64  \n",
      " 23  hotel              504 non-null    int64  \n",
      " 24  weekday            504 non-null    int64  \n",
      " 25  month              504 non-null    int64  \n",
      " 26  stars              504 non-null    float64\n",
      "dtypes: float64(1), int64(12), object(14)\n",
      "memory usage: 106.4+ KB\n"
     ]
    }
   ],
   "source": [
    "lv.info()"
   ]
  },
  {
   "cell_type": "code",
   "execution_count": 41,
   "metadata": {},
   "outputs": [],
   "source": []
  },
  {
   "cell_type": "code",
   "execution_count": null,
   "metadata": {},
   "outputs": [],
   "source": []
  },
  {
   "cell_type": "code",
   "execution_count": null,
   "metadata": {},
   "outputs": [],
   "source": []
  },
  {
   "cell_type": "code",
   "execution_count": null,
   "metadata": {},
   "outputs": [],
   "source": []
  },
  {
   "cell_type": "code",
   "execution_count": 43,
   "metadata": {},
   "outputs": [],
   "source": [
    "# separate independent variable - features - from target and split training and test datasets\n",
    "X, y = lv.drop(['User country', 'Period of stay','Traveler type','Pool','Gym', \\\n",
    "               'Tennis court','Spa','Casino','Free internet','Hotel name','User continent', \\\n",
    "               'Review month', 'Review weekday', 'Hotel stars', 'Score'], axis = 1), lv.Score\n",
    "X_train, X_test, y_train, y_test = train_test_split(X, y, random_state = 93, stratify = y)"
   ]
  },
  {
   "cell_type": "code",
   "execution_count": 57,
   "metadata": {},
   "outputs": [
    {
     "data": {
      "text/plain": [
       "5    0.450397\n",
       "4    0.325397\n",
       "3    0.142857\n",
       "2    0.059524\n",
       "1    0.021825\n",
       "Name: Score, dtype: float64"
      ]
     },
     "execution_count": 57,
     "metadata": {},
     "output_type": "execute_result"
    }
   ],
   "source": [
    "y.value_counts(normalize=True)"
   ]
  },
  {
   "cell_type": "code",
   "execution_count": 58,
   "metadata": {},
   "outputs": [
    {
     "data": {
      "text/plain": [
       "5    0.449735\n",
       "4    0.325397\n",
       "3    0.142857\n",
       "2    0.060847\n",
       "1    0.021164\n",
       "Name: Score, dtype: float64"
      ]
     },
     "execution_count": 58,
     "metadata": {},
     "output_type": "execute_result"
    }
   ],
   "source": [
    "y_train.value_counts(normalize=True)"
   ]
  },
  {
   "cell_type": "code",
   "execution_count": 59,
   "metadata": {},
   "outputs": [
    {
     "data": {
      "text/plain": [
       "5    0.452381\n",
       "4    0.325397\n",
       "3    0.142857\n",
       "2    0.055556\n",
       "1    0.023810\n",
       "Name: Score, dtype: float64"
      ]
     },
     "execution_count": 59,
     "metadata": {},
     "output_type": "execute_result"
    }
   ],
   "source": [
    "y_test.value_counts(normalize=True)"
   ]
  },
  {
   "cell_type": "code",
   "execution_count": 44,
   "metadata": {},
   "outputs": [],
   "source": [
    "# since there is no aplhanumeric columns, we can just scale and classify data, no transformation needed\n",
    "# n_neighbors=5 by default!\n",
    "lv_pipeline = Pipeline([('scale', StandardScaler()),\n",
    "                        ('knn', KNeighborsClassifier())])\n",
    "lv_pipeline.fit(X_train, y_train)\n",
    "lv_preds = lv_pipeline.predict(X_test)\n",
    "lv_proba = lv_pipeline.predict_proba(X_test)"
   ]
  },
  {
   "cell_type": "code",
   "execution_count": 48,
   "metadata": {},
   "outputs": [],
   "source": [
    "# adjust decision boundary\n",
    "thresholds = np.arange(0, 1, .1)\n",
    "# auc decision boundary\n",
    "lv_db = pd.DataFrame(\n",
    "    {'threshold':thresholds,\n",
    "     'accuracy' :[accuracy_score(y_test, np.where(lv_proba[:, 1] >= t, 1, 0) ) for t in thresholds],\n",
    "     'precision':[precision_score(y_test, np.where(lv_proba[:, 1] >= t, 1, 0),\n",
    "                                  pos_label=1, zero_division=0, average='weighted') for t in thresholds],\n",
    "     'recall'   :[recall_score(y_test, np.where(lv_proba[:, 1] >= t, 1, 0),\n",
    "                               pos_label=1, zero_division=0, average='weighted') for t in thresholds]\n",
    "    })"
   ]
  },
  {
   "cell_type": "code",
   "execution_count": 49,
   "metadata": {},
   "outputs": [
    {
     "data": {
      "text/html": [
       "<div>\n",
       "<style scoped>\n",
       "    .dataframe tbody tr th:only-of-type {\n",
       "        vertical-align: middle;\n",
       "    }\n",
       "\n",
       "    .dataframe tbody tr th {\n",
       "        vertical-align: top;\n",
       "    }\n",
       "\n",
       "    .dataframe thead th {\n",
       "        text-align: right;\n",
       "    }\n",
       "</style>\n",
       "<table border=\"1\" class=\"dataframe\">\n",
       "  <thead>\n",
       "    <tr style=\"text-align: right;\">\n",
       "      <th></th>\n",
       "      <th>threshold</th>\n",
       "      <th>accuracy</th>\n",
       "      <th>precision</th>\n",
       "      <th>recall</th>\n",
       "    </tr>\n",
       "  </thead>\n",
       "  <tbody>\n",
       "    <tr>\n",
       "      <th>0</th>\n",
       "      <td>0.0</td>\n",
       "      <td>0.023810</td>\n",
       "      <td>0.000567</td>\n",
       "      <td>0.023810</td>\n",
       "    </tr>\n",
       "    <tr>\n",
       "      <th>1</th>\n",
       "      <td>0.1</td>\n",
       "      <td>0.007937</td>\n",
       "      <td>0.000700</td>\n",
       "      <td>0.007937</td>\n",
       "    </tr>\n",
       "    <tr>\n",
       "      <th>2</th>\n",
       "      <td>0.2</td>\n",
       "      <td>0.007937</td>\n",
       "      <td>0.000700</td>\n",
       "      <td>0.007937</td>\n",
       "    </tr>\n",
       "    <tr>\n",
       "      <th>3</th>\n",
       "      <td>0.3</td>\n",
       "      <td>0.000000</td>\n",
       "      <td>0.000000</td>\n",
       "      <td>0.000000</td>\n",
       "    </tr>\n",
       "    <tr>\n",
       "      <th>4</th>\n",
       "      <td>0.4</td>\n",
       "      <td>0.000000</td>\n",
       "      <td>0.000000</td>\n",
       "      <td>0.000000</td>\n",
       "    </tr>\n",
       "    <tr>\n",
       "      <th>5</th>\n",
       "      <td>0.5</td>\n",
       "      <td>0.000000</td>\n",
       "      <td>0.000000</td>\n",
       "      <td>0.000000</td>\n",
       "    </tr>\n",
       "    <tr>\n",
       "      <th>6</th>\n",
       "      <td>0.6</td>\n",
       "      <td>0.000000</td>\n",
       "      <td>0.000000</td>\n",
       "      <td>0.000000</td>\n",
       "    </tr>\n",
       "    <tr>\n",
       "      <th>7</th>\n",
       "      <td>0.7</td>\n",
       "      <td>0.000000</td>\n",
       "      <td>0.000000</td>\n",
       "      <td>0.000000</td>\n",
       "    </tr>\n",
       "    <tr>\n",
       "      <th>8</th>\n",
       "      <td>0.8</td>\n",
       "      <td>0.000000</td>\n",
       "      <td>0.000000</td>\n",
       "      <td>0.000000</td>\n",
       "    </tr>\n",
       "    <tr>\n",
       "      <th>9</th>\n",
       "      <td>0.9</td>\n",
       "      <td>0.000000</td>\n",
       "      <td>0.000000</td>\n",
       "      <td>0.000000</td>\n",
       "    </tr>\n",
       "  </tbody>\n",
       "</table>\n",
       "</div>"
      ],
      "text/plain": [
       "   threshold  accuracy  precision    recall\n",
       "0        0.0  0.023810   0.000567  0.023810\n",
       "1        0.1  0.007937   0.000700  0.007937\n",
       "2        0.2  0.007937   0.000700  0.007937\n",
       "3        0.3  0.000000   0.000000  0.000000\n",
       "4        0.4  0.000000   0.000000  0.000000\n",
       "5        0.5  0.000000   0.000000  0.000000\n",
       "6        0.6  0.000000   0.000000  0.000000\n",
       "7        0.7  0.000000   0.000000  0.000000\n",
       "8        0.8  0.000000   0.000000  0.000000\n",
       "9        0.9  0.000000   0.000000  0.000000"
      ]
     },
     "execution_count": 49,
     "metadata": {},
     "output_type": "execute_result"
    }
   ],
   "source": [
    "lv_db"
   ]
  },
  {
   "cell_type": "code",
   "execution_count": 52,
   "metadata": {},
   "outputs": [
    {
     "data": {
      "image/png": "[encoded data removed]",
      "text/plain": [
       "<Figure size 720x576 with 1 Axes>"
      ]
     },
     "metadata": {},
     "output_type": "display_data"
    }
   ],
   "source": [
    "# plot \n",
    "plt.subplots(figsize=(10,8))\n",
    "plt.plot(lv_db['threshold'], lv_db['accuracy'], '--o', label = 'accuracy')\n",
    "plt.plot(lv_db['threshold'], lv_db['precision'], '--o', label = 'precision')\n",
    "plt.plot(lv_db['threshold'], lv_db['recall'], '--o', label = 'recall')\n",
    "#plt.axvline(x=0.45, color=\"black\", label = 'intersection')\n",
    "plt.xticks(thresholds)\n",
    "plt.xlabel('Threshold')\n",
    "plt.ylabel('Scores')\n",
    "plt.title('Accuracy, Precision and Recall vs. Decision Thresholds')\n",
    "plt.legend()\n",
    "plt.grid(True)"
   ]
  },
  {
   "cell_type": "code",
   "execution_count": 53,
   "metadata": {},
   "outputs": [
    {
     "name": "stdout",
     "output_type": "stream",
     "text": [
      "[0.  0.2 0.4]\n"
     ]
    },
    {
     "data": {
      "text/plain": [
       "Text(0.5, 1.0, 'Precision vs Recall')"
      ]
     },
     "execution_count": 53,
     "metadata": {},
     "output_type": "execute_result"
    },
    {
     "data": {
      "image/png": "[encoded data removed]",
      "text/plain": [
       "<Figure size 720x576 with 1 Axes>"
      ]
     },
     "metadata": {},
     "output_type": "display_data"
    }
   ],
   "source": [
    "# Precision vs Recall\n",
    "precision, recall, boundaries = precision_recall_curve(y_true = y_test,\n",
    "                                                       probas_pred=lv_proba[:, 1], pos_label=1)\n",
    "# \n",
    "print(boundaries[:5])\n",
    "plt.subplots(figsize=(10,8))\n",
    "plt.plot(precision, recall, '--o')\n",
    "plt.xticks(np.arange(0, 1.1, .1))\n",
    "plt.grid(True)\n",
    "plt.ylabel('Recall')\n",
    "plt.xlabel('Precision')\n",
    "plt.title('Precision vs Recall')"
   ]
  },
  {
   "cell_type": "code",
   "execution_count": 56,
   "metadata": {},
   "outputs": [
    {
     "data": {
      "text/plain": [
       "5    57\n",
       "4    41\n",
       "3    18\n",
       "2     7\n",
       "1     3\n",
       "Name: Score, dtype: int64"
      ]
     },
     "execution_count": 56,
     "metadata": {},
     "output_type": "execute_result"
    }
   ],
   "source": [
    "y_test.value_counts()"
   ]
  },
  {
   "cell_type": "code",
   "execution_count": 54,
   "metadata": {},
   "outputs": [
    {
     "data": {
      "image/png": "[encoded data removed]",
      "text/plain": [
       "<Figure size 432x288 with 2 Axes>"
      ]
     },
     "metadata": {},
     "output_type": "display_data"
    }
   ],
   "source": [
    "# blood_confusion_mat = confusion_matrix(y_test, blood_preds, labels=blood_pipeline.classes_)\n",
    "# cplot = ConfusionMatrixDisplay(confusion_matrix=blood_confusion_mat, display_labels = ['No', 'Yes'])\n",
    "# cplot.plot()\n",
    "# plt.show()\n",
    "ConfusionMatrixDisplay.from_predictions(y_test, lv_preds)\n",
    "plt.title('Confusion Matrix')\n",
    "plt.grid(False)\n",
    "plt.show()"
   ]
  },
  {
   "cell_type": "code",
   "execution_count": null,
   "metadata": {},
   "outputs": [],
   "source": []
  },
  {
   "cell_type": "code",
   "execution_count": null,
   "metadata": {},
   "outputs": [],
   "source": []
  },
  {
   "cell_type": "code",
   "execution_count": null,
   "metadata": {},
   "outputs": [],
   "source": []
  },
  {
   "cell_type": "code",
   "execution_count": null,
   "metadata": {},
   "outputs": [],
   "source": []
  }
 ],
 "metadata": {
  "kernelspec": {
   "display_name": "Python 3 (ipykernel)",
   "language": "python",
   "name": "python3"
  },
  "language_info": {
   "codemirror_mode": {
    "name": "ipython",
    "version": 3
   },
   "file_extension": ".py",
   "mimetype": "text/x-python",
   "name": "python",
   "nbconvert_exporter": "python",
   "pygments_lexer": "ipython3",
   "version": "3.9.7"
  },
  "widgets": {
   "application/vnd.jupyter.widget-state+json": {
    "state": {},
    "version_major": 2,
    "version_minor": 0
   }
  }
 },
 "nbformat": 4,
 "nbformat_minor": 4
}
