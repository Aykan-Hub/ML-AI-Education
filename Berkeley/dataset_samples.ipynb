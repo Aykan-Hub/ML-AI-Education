{
 "cells": [
  {
   "cell_type": "code",
   "execution_count": 1,
   "id": "375d8981",
   "metadata": {},
   "outputs": [],
   "source": [
    "import pandas as pd\n",
    "from matplotlib import pyplot as plt"
   ]
  },
  {
   "cell_type": "code",
   "execution_count": 3,
   "id": "1b4731b8",
   "metadata": {},
   "outputs": [],
   "source": [
    "data = pd.read_csv(\"datasets/nobel_final.csv\")"
   ]
  },
  {
   "cell_type": "code",
   "execution_count": 6,
   "id": "6421c578",
   "metadata": {},
   "outputs": [
    {
     "name": "stdout",
     "output_type": "stream",
     "text": [
      "<class 'pandas.core.frame.DataFrame'>\n",
      "RangeIndex: 923 entries, 0 to 922\n",
      "Data columns (total 14 columns):\n",
      " #   Column                 Non-Null Count  Dtype \n",
      "---  ------                 --------------  ----- \n",
      " 0   firstname              923 non-null    object\n",
      " 1   surname                921 non-null    object\n",
      " 2   born_country_code      923 non-null    object\n",
      " 3   died_country_code      617 non-null    object\n",
      " 4   gender                 923 non-null    object\n",
      " 5   year                   923 non-null    int64 \n",
      " 6   category               923 non-null    object\n",
      " 7   share                  923 non-null    int64 \n",
      " 8   name_of_university     697 non-null    object\n",
      " 9   city_of_university     692 non-null    object\n",
      " 10  country_of_university  693 non-null    object\n",
      " 11  born_month             923 non-null    object\n",
      " 12  age                    923 non-null    int64 \n",
      " 13  age_get_prize          923 non-null    int64 \n",
      "dtypes: int64(4), object(10)\n",
      "memory usage: 101.1+ KB\n"
     ]
    }
   ],
   "source": [
    "data.info()"
   ]
  },
  {
   "cell_type": "code",
   "execution_count": 7,
   "id": "877e8735",
   "metadata": {},
   "outputs": [
    {
     "data": {
      "text/html": [
       "<div>\n",
       "<style scoped>\n",
       "    .dataframe tbody tr th:only-of-type {\n",
       "        vertical-align: middle;\n",
       "    }\n",
       "\n",
       "    .dataframe tbody tr th {\n",
       "        vertical-align: top;\n",
       "    }\n",
       "\n",
       "    .dataframe thead th {\n",
       "        text-align: right;\n",
       "    }\n",
       "</style>\n",
       "<table border=\"1\" class=\"dataframe\">\n",
       "  <thead>\n",
       "    <tr style=\"text-align: right;\">\n",
       "      <th></th>\n",
       "      <th>year</th>\n",
       "      <th>share</th>\n",
       "      <th>age</th>\n",
       "      <th>age_get_prize</th>\n",
       "    </tr>\n",
       "  </thead>\n",
       "  <tbody>\n",
       "    <tr>\n",
       "      <th>count</th>\n",
       "      <td>923.000000</td>\n",
       "      <td>923.000000</td>\n",
       "      <td>923.000000</td>\n",
       "      <td>923.000000</td>\n",
       "    </tr>\n",
       "    <tr>\n",
       "      <th>mean</th>\n",
       "      <td>1971.102925</td>\n",
       "      <td>2.020585</td>\n",
       "      <td>79.346696</td>\n",
       "      <td>59.823402</td>\n",
       "    </tr>\n",
       "    <tr>\n",
       "      <th>std</th>\n",
       "      <td>33.606425</td>\n",
       "      <td>0.943415</td>\n",
       "      <td>11.134606</td>\n",
       "      <td>12.571109</td>\n",
       "    </tr>\n",
       "    <tr>\n",
       "      <th>min</th>\n",
       "      <td>1901.000000</td>\n",
       "      <td>1.000000</td>\n",
       "      <td>23.000000</td>\n",
       "      <td>17.000000</td>\n",
       "    </tr>\n",
       "    <tr>\n",
       "      <th>25%</th>\n",
       "      <td>1947.000000</td>\n",
       "      <td>1.000000</td>\n",
       "      <td>73.000000</td>\n",
       "      <td>51.000000</td>\n",
       "    </tr>\n",
       "    <tr>\n",
       "      <th>50%</th>\n",
       "      <td>1977.000000</td>\n",
       "      <td>2.000000</td>\n",
       "      <td>80.000000</td>\n",
       "      <td>60.000000</td>\n",
       "    </tr>\n",
       "    <tr>\n",
       "      <th>75%</th>\n",
       "      <td>2000.000000</td>\n",
       "      <td>3.000000</td>\n",
       "      <td>87.500000</td>\n",
       "      <td>69.000000</td>\n",
       "    </tr>\n",
       "    <tr>\n",
       "      <th>max</th>\n",
       "      <td>2019.000000</td>\n",
       "      <td>4.000000</td>\n",
       "      <td>103.000000</td>\n",
       "      <td>97.000000</td>\n",
       "    </tr>\n",
       "  </tbody>\n",
       "</table>\n",
       "</div>"
      ],
      "text/plain": [
       "              year       share         age  age_get_prize\n",
       "count   923.000000  923.000000  923.000000     923.000000\n",
       "mean   1971.102925    2.020585   79.346696      59.823402\n",
       "std      33.606425    0.943415   11.134606      12.571109\n",
       "min    1901.000000    1.000000   23.000000      17.000000\n",
       "25%    1947.000000    1.000000   73.000000      51.000000\n",
       "50%    1977.000000    2.000000   80.000000      60.000000\n",
       "75%    2000.000000    3.000000   87.500000      69.000000\n",
       "max    2019.000000    4.000000  103.000000      97.000000"
      ]
     },
     "execution_count": 7,
     "metadata": {},
     "output_type": "execute_result"
    }
   ],
   "source": [
    "data.describe()"
   ]
  },
  {
   "cell_type": "code",
   "execution_count": 38,
   "id": "5a526b2f",
   "metadata": {},
   "outputs": [
    {
     "data": {
      "text/html": [
       "<div>\n",
       "<style scoped>\n",
       "    .dataframe tbody tr th:only-of-type {\n",
       "        vertical-align: middle;\n",
       "    }\n",
       "\n",
       "    .dataframe tbody tr th {\n",
       "        vertical-align: top;\n",
       "    }\n",
       "\n",
       "    .dataframe thead th {\n",
       "        text-align: right;\n",
       "    }\n",
       "</style>\n",
       "<table border=\"1\" class=\"dataframe\">\n",
       "  <thead>\n",
       "    <tr style=\"text-align: right;\">\n",
       "      <th></th>\n",
       "      <th>firstname</th>\n",
       "      <th>surname</th>\n",
       "      <th>born_country_code</th>\n",
       "      <th>died_country_code</th>\n",
       "      <th>gender</th>\n",
       "      <th>year</th>\n",
       "      <th>category</th>\n",
       "      <th>share</th>\n",
       "      <th>name_of_university</th>\n",
       "      <th>city_of_university</th>\n",
       "      <th>country_of_university</th>\n",
       "      <th>born_month</th>\n",
       "      <th>age</th>\n",
       "      <th>age_get_prize</th>\n",
       "    </tr>\n",
       "  </thead>\n",
       "  <tbody>\n",
       "    <tr>\n",
       "      <th>0</th>\n",
       "      <td>Wilhelm Conrad</td>\n",
       "      <td>Röntgen</td>\n",
       "      <td>DE</td>\n",
       "      <td>DE</td>\n",
       "      <td>male</td>\n",
       "      <td>1901</td>\n",
       "      <td>physics</td>\n",
       "      <td>1</td>\n",
       "      <td>Munich University</td>\n",
       "      <td>Munich</td>\n",
       "      <td>Germany</td>\n",
       "      <td>Mar</td>\n",
       "      <td>78</td>\n",
       "      <td>56</td>\n",
       "    </tr>\n",
       "    <tr>\n",
       "      <th>1</th>\n",
       "      <td>Hendrik A.</td>\n",
       "      <td>Lorentz</td>\n",
       "      <td>NL</td>\n",
       "      <td>NL</td>\n",
       "      <td>male</td>\n",
       "      <td>1902</td>\n",
       "      <td>physics</td>\n",
       "      <td>2</td>\n",
       "      <td>Leiden University</td>\n",
       "      <td>Leiden</td>\n",
       "      <td>the Netherlands</td>\n",
       "      <td>Jul</td>\n",
       "      <td>75</td>\n",
       "      <td>49</td>\n",
       "    </tr>\n",
       "    <tr>\n",
       "      <th>2</th>\n",
       "      <td>Pieter</td>\n",
       "      <td>Zeeman</td>\n",
       "      <td>NL</td>\n",
       "      <td>NL</td>\n",
       "      <td>male</td>\n",
       "      <td>1902</td>\n",
       "      <td>physics</td>\n",
       "      <td>2</td>\n",
       "      <td>Amsterdam University</td>\n",
       "      <td>Amsterdam</td>\n",
       "      <td>the Netherlands</td>\n",
       "      <td>May</td>\n",
       "      <td>78</td>\n",
       "      <td>37</td>\n",
       "    </tr>\n",
       "    <tr>\n",
       "      <th>3</th>\n",
       "      <td>Henri</td>\n",
       "      <td>Becquerel</td>\n",
       "      <td>FR</td>\n",
       "      <td>FR</td>\n",
       "      <td>male</td>\n",
       "      <td>1903</td>\n",
       "      <td>physics</td>\n",
       "      <td>2</td>\n",
       "      <td>École Polytechnique</td>\n",
       "      <td>Paris</td>\n",
       "      <td>France</td>\n",
       "      <td>Dec</td>\n",
       "      <td>56</td>\n",
       "      <td>51</td>\n",
       "    </tr>\n",
       "    <tr>\n",
       "      <th>4</th>\n",
       "      <td>Pierre</td>\n",
       "      <td>Curie</td>\n",
       "      <td>FR</td>\n",
       "      <td>FR</td>\n",
       "      <td>male</td>\n",
       "      <td>1903</td>\n",
       "      <td>physics</td>\n",
       "      <td>4</td>\n",
       "      <td>École municipale de physique et de chimie indu...</td>\n",
       "      <td>Paris</td>\n",
       "      <td>France</td>\n",
       "      <td>May</td>\n",
       "      <td>47</td>\n",
       "      <td>44</td>\n",
       "    </tr>\n",
       "    <tr>\n",
       "      <th>...</th>\n",
       "      <td>...</td>\n",
       "      <td>...</td>\n",
       "      <td>...</td>\n",
       "      <td>...</td>\n",
       "      <td>...</td>\n",
       "      <td>...</td>\n",
       "      <td>...</td>\n",
       "      <td>...</td>\n",
       "      <td>...</td>\n",
       "      <td>...</td>\n",
       "      <td>...</td>\n",
       "      <td>...</td>\n",
       "      <td>...</td>\n",
       "      <td>...</td>\n",
       "    </tr>\n",
       "    <tr>\n",
       "      <th>918</th>\n",
       "      <td>Peter</td>\n",
       "      <td>Handke</td>\n",
       "      <td>AT</td>\n",
       "      <td>NaN</td>\n",
       "      <td>male</td>\n",
       "      <td>2019</td>\n",
       "      <td>literature</td>\n",
       "      <td>1</td>\n",
       "      <td>NaN</td>\n",
       "      <td>NaN</td>\n",
       "      <td>NaN</td>\n",
       "      <td>Dec</td>\n",
       "      <td>78</td>\n",
       "      <td>77</td>\n",
       "    </tr>\n",
       "    <tr>\n",
       "      <th>919</th>\n",
       "      <td>Abiy</td>\n",
       "      <td>Ahmed Ali</td>\n",
       "      <td>ET</td>\n",
       "      <td>NaN</td>\n",
       "      <td>male</td>\n",
       "      <td>2019</td>\n",
       "      <td>peace</td>\n",
       "      <td>1</td>\n",
       "      <td>NaN</td>\n",
       "      <td>NaN</td>\n",
       "      <td>NaN</td>\n",
       "      <td>Aug</td>\n",
       "      <td>44</td>\n",
       "      <td>43</td>\n",
       "    </tr>\n",
       "    <tr>\n",
       "      <th>920</th>\n",
       "      <td>Abhijit</td>\n",
       "      <td>Banerjee</td>\n",
       "      <td>IN</td>\n",
       "      <td>NaN</td>\n",
       "      <td>male</td>\n",
       "      <td>2019</td>\n",
       "      <td>economics</td>\n",
       "      <td>3</td>\n",
       "      <td>Massachusetts Institute of Technology (MIT)</td>\n",
       "      <td>Cambridge MA</td>\n",
       "      <td>USA</td>\n",
       "      <td>Feb</td>\n",
       "      <td>59</td>\n",
       "      <td>58</td>\n",
       "    </tr>\n",
       "    <tr>\n",
       "      <th>921</th>\n",
       "      <td>Esther</td>\n",
       "      <td>Duflo</td>\n",
       "      <td>FR</td>\n",
       "      <td>NaN</td>\n",
       "      <td>female</td>\n",
       "      <td>2019</td>\n",
       "      <td>economics</td>\n",
       "      <td>3</td>\n",
       "      <td>Massachusetts Institute of Technology (MIT)</td>\n",
       "      <td>Cambridge MA</td>\n",
       "      <td>USA</td>\n",
       "      <td>Oct</td>\n",
       "      <td>48</td>\n",
       "      <td>47</td>\n",
       "    </tr>\n",
       "    <tr>\n",
       "      <th>922</th>\n",
       "      <td>Michael</td>\n",
       "      <td>Kremer</td>\n",
       "      <td>US</td>\n",
       "      <td>NaN</td>\n",
       "      <td>male</td>\n",
       "      <td>2019</td>\n",
       "      <td>economics</td>\n",
       "      <td>3</td>\n",
       "      <td>Harvard University</td>\n",
       "      <td>Cambridge MA</td>\n",
       "      <td>USA</td>\n",
       "      <td>Nov</td>\n",
       "      <td>56</td>\n",
       "      <td>55</td>\n",
       "    </tr>\n",
       "  </tbody>\n",
       "</table>\n",
       "<p>923 rows × 14 columns</p>\n",
       "</div>"
      ],
      "text/plain": [
       "          firstname    surname born_country_code died_country_code  gender  \\\n",
       "0    Wilhelm Conrad    Röntgen                DE                DE    male   \n",
       "1        Hendrik A.    Lorentz                NL                NL    male   \n",
       "2            Pieter     Zeeman                NL                NL    male   \n",
       "3             Henri  Becquerel                FR                FR    male   \n",
       "4            Pierre      Curie                FR                FR    male   \n",
       "..              ...        ...               ...               ...     ...   \n",
       "918           Peter     Handke                AT               NaN    male   \n",
       "919            Abiy  Ahmed Ali                ET               NaN    male   \n",
       "920         Abhijit   Banerjee                IN               NaN    male   \n",
       "921          Esther      Duflo                FR               NaN  female   \n",
       "922         Michael     Kremer                US               NaN    male   \n",
       "\n",
       "     year    category  share  \\\n",
       "0    1901     physics      1   \n",
       "1    1902     physics      2   \n",
       "2    1902     physics      2   \n",
       "3    1903     physics      2   \n",
       "4    1903     physics      4   \n",
       "..    ...         ...    ...   \n",
       "918  2019  literature      1   \n",
       "919  2019       peace      1   \n",
       "920  2019   economics      3   \n",
       "921  2019   economics      3   \n",
       "922  2019   economics      3   \n",
       "\n",
       "                                    name_of_university city_of_university  \\\n",
       "0                                    Munich University             Munich   \n",
       "1                                    Leiden University             Leiden   \n",
       "2                                 Amsterdam University          Amsterdam   \n",
       "3                                  École Polytechnique              Paris   \n",
       "4    École municipale de physique et de chimie indu...              Paris   \n",
       "..                                                 ...                ...   \n",
       "918                                                NaN                NaN   \n",
       "919                                                NaN                NaN   \n",
       "920        Massachusetts Institute of Technology (MIT)       Cambridge MA   \n",
       "921        Massachusetts Institute of Technology (MIT)       Cambridge MA   \n",
       "922                                 Harvard University       Cambridge MA   \n",
       "\n",
       "    country_of_university born_month  age  age_get_prize  \n",
       "0                 Germany        Mar   78             56  \n",
       "1         the Netherlands        Jul   75             49  \n",
       "2         the Netherlands        May   78             37  \n",
       "3                  France        Dec   56             51  \n",
       "4                  France        May   47             44  \n",
       "..                    ...        ...  ...            ...  \n",
       "918                   NaN        Dec   78             77  \n",
       "919                   NaN        Aug   44             43  \n",
       "920                   USA        Feb   59             58  \n",
       "921                   USA        Oct   48             47  \n",
       "922                   USA        Nov   56             55  \n",
       "\n",
       "[923 rows x 14 columns]"
      ]
     },
     "execution_count": 38,
     "metadata": {},
     "output_type": "execute_result"
    }
   ],
   "source": [
    "data"
   ]
  },
  {
   "cell_type": "code",
   "execution_count": 231,
   "id": "f19aeb80",
   "metadata": {},
   "outputs": [
    {
     "data": {
      "text/plain": [
       "<AxesSubplot:title={'center':'Prizes by Gender'}, xlabel='Gender', ylabel='Prizes'>"
      ]
     },
     "execution_count": 231,
     "metadata": {},
     "output_type": "execute_result"
    },
    {
     "data": {
      "image/png": "[encoded data removed]",
      "text/plain": [
       "<Figure size 432x288 with 1 Axes>"
      ]
     },
     "metadata": {
      "needs_background": "light"
     },
     "output_type": "display_data"
    }
   ],
   "source": [
    "data.groupby('gender').size().plot(kind='bar',title='Prizes by Gender', xlabel='Gender', ylabel='Prizes')"
   ]
  },
  {
   "cell_type": "code",
   "execution_count": 222,
   "id": "64e9c498",
   "metadata": {},
   "outputs": [
    {
     "data": {
      "text/plain": [
       "<AxesSubplot:title={'center':'Prizes by Gender'}, ylabel='Gender'>"
      ]
     },
     "execution_count": 222,
     "metadata": {},
     "output_type": "execute_result"
    },
    {
     "data": {
      "image/png": "[encoded data removed]",
      "text/plain": [
       "<Figure size 432x288 with 1 Axes>"
      ]
     },
     "metadata": {},
     "output_type": "display_data"
    }
   ],
   "source": [
    "data.groupby('gender').size().plot(kind='pie', title='Prizes by Gender', ylabel='Gender', autopct='%1.0f%%')"
   ]
  },
  {
   "cell_type": "code",
   "execution_count": 172,
   "id": "b1306e3b",
   "metadata": {},
   "outputs": [
    {
     "data": {
      "text/html": [
       "<div>\n",
       "<style scoped>\n",
       "    .dataframe tbody tr th:only-of-type {\n",
       "        vertical-align: middle;\n",
       "    }\n",
       "\n",
       "    .dataframe tbody tr th {\n",
       "        vertical-align: top;\n",
       "    }\n",
       "\n",
       "    .dataframe thead th {\n",
       "        text-align: right;\n",
       "    }\n",
       "</style>\n",
       "<table border=\"1\" class=\"dataframe\">\n",
       "  <thead>\n",
       "    <tr style=\"text-align: right;\">\n",
       "      <th></th>\n",
       "      <th>gender</th>\n",
       "      <th>category</th>\n",
       "      <th>size</th>\n",
       "    </tr>\n",
       "  </thead>\n",
       "  <tbody>\n",
       "    <tr>\n",
       "      <th>0</th>\n",
       "      <td>female</td>\n",
       "      <td>chemistry</td>\n",
       "      <td>5</td>\n",
       "    </tr>\n",
       "    <tr>\n",
       "      <th>1</th>\n",
       "      <td>female</td>\n",
       "      <td>economics</td>\n",
       "      <td>2</td>\n",
       "    </tr>\n",
       "    <tr>\n",
       "      <th>2</th>\n",
       "      <td>female</td>\n",
       "      <td>literature</td>\n",
       "      <td>15</td>\n",
       "    </tr>\n",
       "    <tr>\n",
       "      <th>3</th>\n",
       "      <td>female</td>\n",
       "      <td>medicine</td>\n",
       "      <td>12</td>\n",
       "    </tr>\n",
       "    <tr>\n",
       "      <th>4</th>\n",
       "      <td>female</td>\n",
       "      <td>peace</td>\n",
       "      <td>17</td>\n",
       "    </tr>\n",
       "    <tr>\n",
       "      <th>5</th>\n",
       "      <td>female</td>\n",
       "      <td>physics</td>\n",
       "      <td>3</td>\n",
       "    </tr>\n",
       "    <tr>\n",
       "      <th>6</th>\n",
       "      <td>male</td>\n",
       "      <td>chemistry</td>\n",
       "      <td>179</td>\n",
       "    </tr>\n",
       "    <tr>\n",
       "      <th>7</th>\n",
       "      <td>male</td>\n",
       "      <td>economics</td>\n",
       "      <td>82</td>\n",
       "    </tr>\n",
       "    <tr>\n",
       "      <th>8</th>\n",
       "      <td>male</td>\n",
       "      <td>literature</td>\n",
       "      <td>101</td>\n",
       "    </tr>\n",
       "    <tr>\n",
       "      <th>9</th>\n",
       "      <td>male</td>\n",
       "      <td>medicine</td>\n",
       "      <td>207</td>\n",
       "    </tr>\n",
       "    <tr>\n",
       "      <th>10</th>\n",
       "      <td>male</td>\n",
       "      <td>peace</td>\n",
       "      <td>90</td>\n",
       "    </tr>\n",
       "    <tr>\n",
       "      <th>11</th>\n",
       "      <td>male</td>\n",
       "      <td>physics</td>\n",
       "      <td>210</td>\n",
       "    </tr>\n",
       "  </tbody>\n",
       "</table>\n",
       "</div>"
      ],
      "text/plain": [
       "    gender    category  size\n",
       "0   female   chemistry     5\n",
       "1   female   economics     2\n",
       "2   female  literature    15\n",
       "3   female    medicine    12\n",
       "4   female       peace    17\n",
       "5   female     physics     3\n",
       "6     male   chemistry   179\n",
       "7     male   economics    82\n",
       "8     male  literature   101\n",
       "9     male    medicine   207\n",
       "10    male       peace    90\n",
       "11    male     physics   210"
      ]
     },
     "execution_count": 172,
     "metadata": {},
     "output_type": "execute_result"
    }
   ],
   "source": [
    "cnt"
   ]
  },
  {
   "cell_type": "code",
   "execution_count": 174,
   "id": "b7a27a60",
   "metadata": {},
   "outputs": [
    {
     "data": {
      "text/plain": [
       "<AxesSubplot:title={'center':'Noble Prize by Category'}, xlabel='Category', ylabel='Prizes'>"
      ]
     },
     "execution_count": 174,
     "metadata": {},
     "output_type": "execute_result"
    },
    {
     "data": {
      "image/png": "[encoded data removed]",
      "text/plain": [
       "<Figure size 504x432 with 1 Axes>"
      ]
     },
     "metadata": {
      "needs_background": "light"
     },
     "output_type": "display_data"
    }
   ],
   "source": [
    "cnt=data.groupby(['category','gender']).size().unstack()\n",
    "cnt.plot(kind='bar',stacked=True, title='Noble Prize by Category', xlabel='Category', ylabel='Prizes', figsize=(7,6))"
   ]
  },
  {
   "cell_type": "code",
   "execution_count": 175,
   "id": "58fe179d",
   "metadata": {},
   "outputs": [
    {
     "data": {
      "text/html": [
       "<div>\n",
       "<style scoped>\n",
       "    .dataframe tbody tr th:only-of-type {\n",
       "        vertical-align: middle;\n",
       "    }\n",
       "\n",
       "    .dataframe tbody tr th {\n",
       "        vertical-align: top;\n",
       "    }\n",
       "\n",
       "    .dataframe thead th {\n",
       "        text-align: right;\n",
       "    }\n",
       "</style>\n",
       "<table border=\"1\" class=\"dataframe\">\n",
       "  <thead>\n",
       "    <tr style=\"text-align: right;\">\n",
       "      <th>gender</th>\n",
       "      <th>female</th>\n",
       "      <th>male</th>\n",
       "    </tr>\n",
       "    <tr>\n",
       "      <th>category</th>\n",
       "      <th></th>\n",
       "      <th></th>\n",
       "    </tr>\n",
       "  </thead>\n",
       "  <tbody>\n",
       "    <tr>\n",
       "      <th>chemistry</th>\n",
       "      <td>5</td>\n",
       "      <td>179</td>\n",
       "    </tr>\n",
       "    <tr>\n",
       "      <th>economics</th>\n",
       "      <td>2</td>\n",
       "      <td>82</td>\n",
       "    </tr>\n",
       "    <tr>\n",
       "      <th>literature</th>\n",
       "      <td>15</td>\n",
       "      <td>101</td>\n",
       "    </tr>\n",
       "    <tr>\n",
       "      <th>medicine</th>\n",
       "      <td>12</td>\n",
       "      <td>207</td>\n",
       "    </tr>\n",
       "    <tr>\n",
       "      <th>peace</th>\n",
       "      <td>17</td>\n",
       "      <td>90</td>\n",
       "    </tr>\n",
       "    <tr>\n",
       "      <th>physics</th>\n",
       "      <td>3</td>\n",
       "      <td>210</td>\n",
       "    </tr>\n",
       "  </tbody>\n",
       "</table>\n",
       "</div>"
      ],
      "text/plain": [
       "gender      female  male\n",
       "category                \n",
       "chemistry        5   179\n",
       "economics        2    82\n",
       "literature      15   101\n",
       "medicine        12   207\n",
       "peace           17    90\n",
       "physics          3   210"
      ]
     },
     "execution_count": 175,
     "metadata": {},
     "output_type": "execute_result"
    }
   ],
   "source": [
    "cnt"
   ]
  },
  {
   "cell_type": "code",
   "execution_count": 4,
   "id": "63fdbd65",
   "metadata": {},
   "outputs": [],
   "source": [
    "subset=data.groupby('country_of_university', as_index=False).size().set_index('country_of_university')\n",
    "subset=subset[subset['size']>1]"
   ]
  },
  {
   "cell_type": "code",
   "execution_count": 216,
   "id": "f60e701a",
   "metadata": {},
   "outputs": [
    {
     "data": {
      "text/html": [
       "<div>\n",
       "<style scoped>\n",
       "    .dataframe tbody tr th:only-of-type {\n",
       "        vertical-align: middle;\n",
       "    }\n",
       "\n",
       "    .dataframe tbody tr th {\n",
       "        vertical-align: top;\n",
       "    }\n",
       "\n",
       "    .dataframe thead th {\n",
       "        text-align: right;\n",
       "    }\n",
       "</style>\n",
       "<table border=\"1\" class=\"dataframe\">\n",
       "  <thead>\n",
       "    <tr style=\"text-align: right;\">\n",
       "      <th></th>\n",
       "      <th>size</th>\n",
       "    </tr>\n",
       "    <tr>\n",
       "      <th>country_of_university</th>\n",
       "      <th></th>\n",
       "    </tr>\n",
       "  </thead>\n",
       "  <tbody>\n",
       "    <tr>\n",
       "      <th>Argentina</th>\n",
       "      <td>2</td>\n",
       "    </tr>\n",
       "    <tr>\n",
       "      <th>Australia</th>\n",
       "      <td>4</td>\n",
       "    </tr>\n",
       "    <tr>\n",
       "      <th>Austria</th>\n",
       "      <td>6</td>\n",
       "    </tr>\n",
       "    <tr>\n",
       "      <th>Belgium</th>\n",
       "      <td>5</td>\n",
       "    </tr>\n",
       "    <tr>\n",
       "      <th>Canada</th>\n",
       "      <td>8</td>\n",
       "    </tr>\n",
       "    <tr>\n",
       "      <th>Denmark</th>\n",
       "      <td>8</td>\n",
       "    </tr>\n",
       "    <tr>\n",
       "      <th>France</th>\n",
       "      <td>37</td>\n",
       "    </tr>\n",
       "    <tr>\n",
       "      <th>Germany</th>\n",
       "      <td>66</td>\n",
       "    </tr>\n",
       "    <tr>\n",
       "      <th>Israel</th>\n",
       "      <td>5</td>\n",
       "    </tr>\n",
       "    <tr>\n",
       "      <th>Italy</th>\n",
       "      <td>6</td>\n",
       "    </tr>\n",
       "    <tr>\n",
       "      <th>Japan</th>\n",
       "      <td>18</td>\n",
       "    </tr>\n",
       "    <tr>\n",
       "      <th>Norway</th>\n",
       "      <td>5</td>\n",
       "    </tr>\n",
       "    <tr>\n",
       "      <th>Russia</th>\n",
       "      <td>3</td>\n",
       "    </tr>\n",
       "    <tr>\n",
       "      <th>Sweden</th>\n",
       "      <td>17</td>\n",
       "    </tr>\n",
       "    <tr>\n",
       "      <th>Switzerland</th>\n",
       "      <td>24</td>\n",
       "    </tr>\n",
       "    <tr>\n",
       "      <th>USA</th>\n",
       "      <td>358</td>\n",
       "    </tr>\n",
       "    <tr>\n",
       "      <th>USSR (now Russia)</th>\n",
       "      <td>9</td>\n",
       "    </tr>\n",
       "    <tr>\n",
       "      <th>United Kingdom</th>\n",
       "      <td>92</td>\n",
       "    </tr>\n",
       "    <tr>\n",
       "      <th>the Netherlands</th>\n",
       "      <td>10</td>\n",
       "    </tr>\n",
       "  </tbody>\n",
       "</table>\n",
       "</div>"
      ],
      "text/plain": [
       "                       size\n",
       "country_of_university      \n",
       "Argentina                 2\n",
       "Australia                 4\n",
       "Austria                   6\n",
       "Belgium                   5\n",
       "Canada                    8\n",
       "Denmark                   8\n",
       "France                   37\n",
       "Germany                  66\n",
       "Israel                    5\n",
       "Italy                     6\n",
       "Japan                    18\n",
       "Norway                    5\n",
       "Russia                    3\n",
       "Sweden                   17\n",
       "Switzerland              24\n",
       "USA                     358\n",
       "USSR (now Russia)         9\n",
       "United Kingdom           92\n",
       "the Netherlands          10"
      ]
     },
     "execution_count": 216,
     "metadata": {},
     "output_type": "execute_result"
    }
   ],
   "source": [
    "subset"
   ]
  },
  {
   "cell_type": "code",
   "execution_count": 19,
   "id": "3b67af81",
   "metadata": {},
   "outputs": [
    {
     "data": {
      "text/plain": [
       "<matplotlib.legend.Legend at 0x7fe19835eb50>"
      ]
     },
     "execution_count": 19,
     "metadata": {},
     "output_type": "execute_result"
    },
    {
     "data": {
      "image/png": "[encoded data removed]",
      "text/plain": [
       "<Figure size 648x648 with 1 Axes>"
      ]
     },
     "metadata": {},
     "output_type": "display_data"
    }
   ],
   "source": [
    "subset.plot(kind='pie', title='Number of Institutions by Country', x='country_of_university', y='size', ylabel='Countries', autopct='%1.0f%%', figsize=(9, 9), fontsize=10, startangle=315)\n",
    "plt.legend(loc='center left', bbox_to_anchor=(1.2, 0.5))"
   ]
  },
  {
   "cell_type": "code",
   "execution_count": null,
   "id": "ae4b0e27",
   "metadata": {},
   "outputs": [],
   "source": []
  },
  {
   "cell_type": "code",
   "execution_count": null,
   "id": "7a717fd4",
   "metadata": {},
   "outputs": [],
   "source": []
  },
  {
   "cell_type": "code",
   "execution_count": 176,
   "id": "d4ccbf05",
   "metadata": {},
   "outputs": [
    {
     "data": {
      "text/plain": [
       "<AxesSubplot:xlabel='category'>"
      ]
     },
     "execution_count": 176,
     "metadata": {},
     "output_type": "execute_result"
    },
    {
     "data": {
      "image/png": "[encoded data removed]",
      "text/plain": [
       "<Figure size 432x288 with 1 Axes>"
      ]
     },
     "metadata": {
      "needs_background": "light"
     },
     "output_type": "display_data"
    }
   ],
   "source": [
    "data.groupby('category', as_index=False).size().plot(kind='bar',x='category', stacked=True)"
   ]
  },
  {
   "cell_type": "code",
   "execution_count": null,
   "id": "d796dcd9",
   "metadata": {},
   "outputs": [],
   "source": []
  },
  {
   "cell_type": "code",
   "execution_count": 233,
   "id": "fb543887",
   "metadata": {},
   "outputs": [
    {
     "data": {
      "text/plain": [
       "<AxesSubplot:title={'center':'Noble Prize by Birthplace'}, xlabel='Birthplace', ylabel='Prizes'>"
      ]
     },
     "execution_count": 233,
     "metadata": {},
     "output_type": "execute_result"
    },
    {
     "data": {
      "image/png": "[encoded data removed]",
      "text/plain": [
       "<Figure size 1440x360 with 1 Axes>"
      ]
     },
     "metadata": {
      "needs_background": "light"
     },
     "output_type": "display_data"
    }
   ],
   "source": [
    "bornset=data.groupby('born_country_code', as_index=False).size()\n",
    "bornset=bornset[bornset['size'] > 4]\n",
    "bornset.plot(kind='bar', figsize=(20,5), x='born_country_code', title='Noble Prize by Birthplace', xlabel='Birthplace', ylabel='Prizes', legend=False)"
   ]
  },
  {
   "cell_type": "code",
   "execution_count": 78,
   "id": "4cf6c95b",
   "metadata": {},
   "outputs": [
    {
     "data": {
      "text/plain": [
       "<AxesSubplot:xlabel='gender', ylabel='category'>"
      ]
     },
     "execution_count": 78,
     "metadata": {},
     "output_type": "execute_result"
    },
    {
     "data": {
      "image/png": "[encoded data removed]",
      "text/plain": [
       "<Figure size 432x288 with 1 Axes>"
      ]
     },
     "metadata": {
      "needs_background": "light"
     },
     "output_type": "display_data"
    }
   ],
   "source": [
    "data.plot(kind='scatter',x='gender',y='category')"
   ]
  },
  {
   "cell_type": "code",
   "execution_count": 94,
   "id": "715f9f53",
   "metadata": {},
   "outputs": [
    {
     "data": {
      "text/plain": [
       "<AxesSubplot:>"
      ]
     },
     "execution_count": 94,
     "metadata": {},
     "output_type": "execute_result"
    },
    {
     "data": {
      "image/png": "[encoded data removed]",
      "text/plain": [
       "<Figure size 432x288 with 1 Axes>"
      ]
     },
     "metadata": {
      "needs_background": "light"
     },
     "output_type": "display_data"
    }
   ],
   "source": [
    "data[['gender','age_get_prize']].plot(kind='bar')"
   ]
  },
  {
   "cell_type": "code",
   "execution_count": 95,
   "id": "0fb2a9b3",
   "metadata": {},
   "outputs": [
    {
     "data": {
      "text/plain": [
       "<AxesSubplot:>"
      ]
     },
     "execution_count": 95,
     "metadata": {},
     "output_type": "execute_result"
    },
    {
     "data": {
      "image/png": "[encoded data removed]",
      "text/plain": [
       "<Figure size 432x288 with 1 Axes>"
      ]
     },
     "metadata": {
      "needs_background": "light"
     },
     "output_type": "display_data"
    }
   ],
   "source": [
    "data[['category','age_get_prize']].plot(kind='bar')"
   ]
  },
  {
   "cell_type": "code",
   "execution_count": 86,
   "id": "c5ac5d66",
   "metadata": {},
   "outputs": [
    {
     "data": {
      "text/plain": [
       "<AxesSubplot:xlabel='category'>"
      ]
     },
     "execution_count": 86,
     "metadata": {},
     "output_type": "execute_result"
    },
    {
     "data": {
      "image/png": "[encoded data removed]",
      "text/plain": [
       "<Figure size 432x288 with 1 Axes>"
      ]
     },
     "metadata": {
      "needs_background": "light"
     },
     "output_type": "display_data"
    }
   ],
   "source": [
    "data.groupby('category').size().plot(kind='bar')"
   ]
  },
  {
   "cell_type": "code",
   "execution_count": 126,
   "id": "61266d4b",
   "metadata": {},
   "outputs": [
    {
     "data": {
      "text/html": [
       "<div>\n",
       "<style scoped>\n",
       "    .dataframe tbody tr th:only-of-type {\n",
       "        vertical-align: middle;\n",
       "    }\n",
       "\n",
       "    .dataframe tbody tr th {\n",
       "        vertical-align: top;\n",
       "    }\n",
       "\n",
       "    .dataframe thead th {\n",
       "        text-align: right;\n",
       "    }\n",
       "</style>\n",
       "<table border=\"1\" class=\"dataframe\">\n",
       "  <thead>\n",
       "    <tr style=\"text-align: right;\">\n",
       "      <th></th>\n",
       "      <th>name_of_university</th>\n",
       "      <th>size</th>\n",
       "    </tr>\n",
       "  </thead>\n",
       "  <tbody>\n",
       "    <tr>\n",
       "      <th>0</th>\n",
       "      <td>A.F. Ioffe Physico-Technical Institute</td>\n",
       "      <td>1</td>\n",
       "    </tr>\n",
       "    <tr>\n",
       "      <th>1</th>\n",
       "      <td>Aarhus University</td>\n",
       "      <td>1</td>\n",
       "    </tr>\n",
       "    <tr>\n",
       "      <th>2</th>\n",
       "      <td>Academy of Sciences</td>\n",
       "      <td>3</td>\n",
       "    </tr>\n",
       "    <tr>\n",
       "      <th>3</th>\n",
       "      <td>All Souls College</td>\n",
       "      <td>1</td>\n",
       "    </tr>\n",
       "    <tr>\n",
       "      <th>4</th>\n",
       "      <td>Amsterdam University</td>\n",
       "      <td>2</td>\n",
       "    </tr>\n",
       "    <tr>\n",
       "      <th>...</th>\n",
       "      <td>...</td>\n",
       "      <td>...</td>\n",
       "    </tr>\n",
       "    <tr>\n",
       "      <th>302</th>\n",
       "      <td>École Nationale Supérieur des Mines de Paris</td>\n",
       "      <td>1</td>\n",
       "    </tr>\n",
       "    <tr>\n",
       "      <th>303</th>\n",
       "      <td>École Normale Supérieure</td>\n",
       "      <td>1</td>\n",
       "    </tr>\n",
       "    <tr>\n",
       "      <th>304</th>\n",
       "      <td>École Polytechnique</td>\n",
       "      <td>2</td>\n",
       "    </tr>\n",
       "    <tr>\n",
       "      <th>305</th>\n",
       "      <td>École Supérieure de Physique et Chimie</td>\n",
       "      <td>1</td>\n",
       "    </tr>\n",
       "    <tr>\n",
       "      <th>306</th>\n",
       "      <td>École municipale de physique et de chimie indu...</td>\n",
       "      <td>1</td>\n",
       "    </tr>\n",
       "  </tbody>\n",
       "</table>\n",
       "<p>307 rows × 2 columns</p>\n",
       "</div>"
      ],
      "text/plain": [
       "                                    name_of_university  size\n",
       "0               A.F. Ioffe Physico-Technical Institute     1\n",
       "1                                    Aarhus University     1\n",
       "2                                  Academy of Sciences     3\n",
       "3                                    All Souls College     1\n",
       "4                                 Amsterdam University     2\n",
       "..                                                 ...   ...\n",
       "302       École Nationale Supérieur des Mines de Paris     1\n",
       "303                           École Normale Supérieure     1\n",
       "304                                École Polytechnique     2\n",
       "305             École Supérieure de Physique et Chimie     1\n",
       "306  École municipale de physique et de chimie indu...     1\n",
       "\n",
       "[307 rows x 2 columns]"
      ]
     },
     "execution_count": 126,
     "metadata": {},
     "output_type": "execute_result"
    }
   ],
   "source": [
    "data.groupby('name_of_university', as_index=False).size()"
   ]
  },
  {
   "cell_type": "code",
   "execution_count": 224,
   "id": "45b86f8d",
   "metadata": {},
   "outputs": [
    {
     "data": {
      "text/html": [
       "<div>\n",
       "<style scoped>\n",
       "    .dataframe tbody tr th:only-of-type {\n",
       "        vertical-align: middle;\n",
       "    }\n",
       "\n",
       "    .dataframe tbody tr th {\n",
       "        vertical-align: top;\n",
       "    }\n",
       "\n",
       "    .dataframe thead th {\n",
       "        text-align: right;\n",
       "    }\n",
       "</style>\n",
       "<table border=\"1\" class=\"dataframe\">\n",
       "  <thead>\n",
       "    <tr style=\"text-align: right;\">\n",
       "      <th></th>\n",
       "      <th>name_of_university</th>\n",
       "      <th>size</th>\n",
       "    </tr>\n",
       "  </thead>\n",
       "  <tbody>\n",
       "    <tr>\n",
       "      <th>0</th>\n",
       "      <td>A.F. Ioffe Physico-Technical Institute</td>\n",
       "      <td>1</td>\n",
       "    </tr>\n",
       "    <tr>\n",
       "      <th>1</th>\n",
       "      <td>Aarhus University</td>\n",
       "      <td>1</td>\n",
       "    </tr>\n",
       "    <tr>\n",
       "      <th>2</th>\n",
       "      <td>Academy of Sciences</td>\n",
       "      <td>3</td>\n",
       "    </tr>\n",
       "    <tr>\n",
       "      <th>3</th>\n",
       "      <td>All Souls College</td>\n",
       "      <td>1</td>\n",
       "    </tr>\n",
       "    <tr>\n",
       "      <th>4</th>\n",
       "      <td>Amsterdam University</td>\n",
       "      <td>2</td>\n",
       "    </tr>\n",
       "    <tr>\n",
       "      <th>...</th>\n",
       "      <td>...</td>\n",
       "      <td>...</td>\n",
       "    </tr>\n",
       "    <tr>\n",
       "      <th>302</th>\n",
       "      <td>École Nationale Supérieur des Mines de Paris</td>\n",
       "      <td>1</td>\n",
       "    </tr>\n",
       "    <tr>\n",
       "      <th>303</th>\n",
       "      <td>École Normale Supérieure</td>\n",
       "      <td>1</td>\n",
       "    </tr>\n",
       "    <tr>\n",
       "      <th>304</th>\n",
       "      <td>École Polytechnique</td>\n",
       "      <td>2</td>\n",
       "    </tr>\n",
       "    <tr>\n",
       "      <th>305</th>\n",
       "      <td>École Supérieure de Physique et Chimie</td>\n",
       "      <td>1</td>\n",
       "    </tr>\n",
       "    <tr>\n",
       "      <th>306</th>\n",
       "      <td>École municipale de physique et de chimie indu...</td>\n",
       "      <td>1</td>\n",
       "    </tr>\n",
       "  </tbody>\n",
       "</table>\n",
       "<p>307 rows × 2 columns</p>\n",
       "</div>"
      ],
      "text/plain": [
       "                                    name_of_university  size\n",
       "0               A.F. Ioffe Physico-Technical Institute     1\n",
       "1                                    Aarhus University     1\n",
       "2                                  Academy of Sciences     3\n",
       "3                                    All Souls College     1\n",
       "4                                 Amsterdam University     2\n",
       "..                                                 ...   ...\n",
       "302       École Nationale Supérieur des Mines de Paris     1\n",
       "303                           École Normale Supérieure     1\n",
       "304                                École Polytechnique     2\n",
       "305             École Supérieure de Physique et Chimie     1\n",
       "306  École municipale de physique et de chimie indu...     1\n",
       "\n",
       "[307 rows x 2 columns]"
      ]
     },
     "execution_count": 224,
     "metadata": {},
     "output_type": "execute_result"
    }
   ],
   "source": [
    "subset=data.groupby('name_of_university', as_index=False).size()\n",
    "subset"
   ]
  },
  {
   "cell_type": "code",
   "execution_count": 230,
   "id": "8bfb4d1a",
   "metadata": {},
   "outputs": [
    {
     "data": {
      "text/plain": [
       "<AxesSubplot:title={'center':'Noble Prize by Institution'}, xlabel='Institutions', ylabel='Prizes'>"
      ]
     },
     "execution_count": 230,
     "metadata": {},
     "output_type": "execute_result"
    },
    {
     "data": {
      "image/png": "[encoded data removed]",
      "text/plain": [
       "<Figure size 1800x720 with 1 Axes>"
      ]
     },
     "metadata": {
      "needs_background": "light"
     },
     "output_type": "display_data"
    }
   ],
   "source": [
    "subset[subset['size'] > 4].plot(kind='bar', figsize=(25,10), x='name_of_university', title='Noble Prize by Institution', xlabel='Institutions', ylabel='Prizes', fontsize=12, legend=False)"
   ]
  },
  {
   "cell_type": "code",
   "execution_count": 184,
   "id": "f7a57e94",
   "metadata": {},
   "outputs": [
    {
     "data": {
      "text/html": [
       "<div>\n",
       "<style scoped>\n",
       "    .dataframe tbody tr th:only-of-type {\n",
       "        vertical-align: middle;\n",
       "    }\n",
       "\n",
       "    .dataframe tbody tr th {\n",
       "        vertical-align: top;\n",
       "    }\n",
       "\n",
       "    .dataframe thead th {\n",
       "        text-align: right;\n",
       "    }\n",
       "</style>\n",
       "<table border=\"1\" class=\"dataframe\">\n",
       "  <thead>\n",
       "    <tr style=\"text-align: right;\">\n",
       "      <th></th>\n",
       "      <th>name_of_university</th>\n",
       "      <th>size</th>\n",
       "    </tr>\n",
       "  </thead>\n",
       "  <tbody>\n",
       "    <tr>\n",
       "      <th>13</th>\n",
       "      <td>Bell Laboratories</td>\n",
       "      <td>5</td>\n",
       "    </tr>\n",
       "    <tr>\n",
       "      <th>15</th>\n",
       "      <td>Berlin University</td>\n",
       "      <td>6</td>\n",
       "    </tr>\n",
       "    <tr>\n",
       "      <th>28</th>\n",
       "      <td>California Institute of Technology (Caltech)</td>\n",
       "      <td>17</td>\n",
       "    </tr>\n",
       "    <tr>\n",
       "      <th>40</th>\n",
       "      <td>Columbia University</td>\n",
       "      <td>16</td>\n",
       "    </tr>\n",
       "    <tr>\n",
       "      <th>43</th>\n",
       "      <td>Cornell University</td>\n",
       "      <td>8</td>\n",
       "    </tr>\n",
       "    <tr>\n",
       "      <th>63</th>\n",
       "      <td>Goettingen University</td>\n",
       "      <td>5</td>\n",
       "    </tr>\n",
       "    <tr>\n",
       "      <th>70</th>\n",
       "      <td>Harvard Medical School</td>\n",
       "      <td>7</td>\n",
       "    </tr>\n",
       "    <tr>\n",
       "      <th>71</th>\n",
       "      <td>Harvard University</td>\n",
       "      <td>27</td>\n",
       "    </tr>\n",
       "    <tr>\n",
       "      <th>85</th>\n",
       "      <td>Institut Pasteur</td>\n",
       "      <td>6</td>\n",
       "    </tr>\n",
       "    <tr>\n",
       "      <th>125</th>\n",
       "      <td>London University</td>\n",
       "      <td>6</td>\n",
       "    </tr>\n",
       "    <tr>\n",
       "      <th>128</th>\n",
       "      <td>MRC Laboratory of Molecular Biology</td>\n",
       "      <td>10</td>\n",
       "    </tr>\n",
       "    <tr>\n",
       "      <th>134</th>\n",
       "      <td>Massachusetts Institute of Technology (MIT)</td>\n",
       "      <td>20</td>\n",
       "    </tr>\n",
       "    <tr>\n",
       "      <th>176</th>\n",
       "      <td>Princeton University</td>\n",
       "      <td>15</td>\n",
       "    </tr>\n",
       "    <tr>\n",
       "      <th>183</th>\n",
       "      <td>Rockefeller Institute for Medical Research</td>\n",
       "      <td>6</td>\n",
       "    </tr>\n",
       "    <tr>\n",
       "      <th>184</th>\n",
       "      <td>Rockefeller University</td>\n",
       "      <td>12</td>\n",
       "    </tr>\n",
       "    <tr>\n",
       "      <th>195</th>\n",
       "      <td>Sorbonne University</td>\n",
       "      <td>6</td>\n",
       "    </tr>\n",
       "    <tr>\n",
       "      <th>200</th>\n",
       "      <td>Stanford University</td>\n",
       "      <td>18</td>\n",
       "    </tr>\n",
       "    <tr>\n",
       "      <th>227</th>\n",
       "      <td>University College</td>\n",
       "      <td>7</td>\n",
       "    </tr>\n",
       "    <tr>\n",
       "      <th>230</th>\n",
       "      <td>University of California</td>\n",
       "      <td>32</td>\n",
       "    </tr>\n",
       "    <tr>\n",
       "      <th>233</th>\n",
       "      <td>University of Cambridge</td>\n",
       "      <td>17</td>\n",
       "    </tr>\n",
       "    <tr>\n",
       "      <th>234</th>\n",
       "      <td>University of Chicago</td>\n",
       "      <td>18</td>\n",
       "    </tr>\n",
       "    <tr>\n",
       "      <th>245</th>\n",
       "      <td>University of Heidelberg</td>\n",
       "      <td>6</td>\n",
       "    </tr>\n",
       "    <tr>\n",
       "      <th>260</th>\n",
       "      <td>University of Oxford</td>\n",
       "      <td>9</td>\n",
       "    </tr>\n",
       "    <tr>\n",
       "      <th>269</th>\n",
       "      <td>University of Texas Southwestern Medical Cente...</td>\n",
       "      <td>5</td>\n",
       "    </tr>\n",
       "    <tr>\n",
       "      <th>284</th>\n",
       "      <td>Uppsala University</td>\n",
       "      <td>5</td>\n",
       "    </tr>\n",
       "    <tr>\n",
       "      <th>299</th>\n",
       "      <td>Yale University</td>\n",
       "      <td>8</td>\n",
       "    </tr>\n",
       "  </tbody>\n",
       "</table>\n",
       "</div>"
      ],
      "text/plain": [
       "                                    name_of_university  size\n",
       "13                                   Bell Laboratories     5\n",
       "15                                   Berlin University     6\n",
       "28        California Institute of Technology (Caltech)    17\n",
       "40                                 Columbia University    16\n",
       "43                                  Cornell University     8\n",
       "63                               Goettingen University     5\n",
       "70                              Harvard Medical School     7\n",
       "71                                  Harvard University    27\n",
       "85                                    Institut Pasteur     6\n",
       "125                                  London University     6\n",
       "128                MRC Laboratory of Molecular Biology    10\n",
       "134        Massachusetts Institute of Technology (MIT)    20\n",
       "176                               Princeton University    15\n",
       "183         Rockefeller Institute for Medical Research     6\n",
       "184                             Rockefeller University    12\n",
       "195                                Sorbonne University     6\n",
       "200                                Stanford University    18\n",
       "227                                 University College     7\n",
       "230                           University of California    32\n",
       "233                            University of Cambridge    17\n",
       "234                              University of Chicago    18\n",
       "245                           University of Heidelberg     6\n",
       "260                               University of Oxford     9\n",
       "269  University of Texas Southwestern Medical Cente...     5\n",
       "284                                 Uppsala University     5\n",
       "299                                    Yale University     8"
      ]
     },
     "execution_count": 184,
     "metadata": {},
     "output_type": "execute_result"
    }
   ],
   "source": [
    "subset[subset['size'] > 4]"
   ]
  },
  {
   "cell_type": "code",
   "execution_count": 97,
   "id": "ba80aded",
   "metadata": {},
   "outputs": [
    {
     "data": {
      "text/plain": [
       "<AxesSubplot:xlabel='born_month'>"
      ]
     },
     "execution_count": 97,
     "metadata": {},
     "output_type": "execute_result"
    },
    {
     "data": {
      "image/png": "[encoded data removed]",
      "text/plain": [
       "<Figure size 432x288 with 1 Axes>"
      ]
     },
     "metadata": {
      "needs_background": "light"
     },
     "output_type": "display_data"
    }
   ],
   "source": [
    "data.groupby('born_month').size().plot(kind='bar')"
   ]
  },
  {
   "cell_type": "code",
   "execution_count": 143,
   "id": "0c197c3d",
   "metadata": {},
   "outputs": [
    {
     "data": {
      "text/plain": [
       "<AxesSubplot:title={'center':'Noble Prize versus Age'}, xlabel='Age', ylabel='Prizes'>"
      ]
     },
     "execution_count": 143,
     "metadata": {},
     "output_type": "execute_result"
    },
    {
     "data": {
      "image/png": "[encoded data removed]",
      "text/plain": [
       "<Figure size 936x360 with 1 Axes>"
      ]
     },
     "metadata": {
      "needs_background": "light"
     },
     "output_type": "display_data"
    }
   ],
   "source": [
    "data.groupby('age_get_prize').size().plot(kind='bar', figsize=(13,5), title='Noble Prize versus Age', xlabel='Age', ylabel='Prizes')"
   ]
  },
  {
   "cell_type": "code",
   "execution_count": 182,
   "id": "f4aa56f2",
   "metadata": {},
   "outputs": [
    {
     "data": {
      "text/plain": [
       "<AxesSubplot:title={'center':'Noble Prize versus Age'}, xlabel='Age', ylabel='Prizes'>"
      ]
     },
     "execution_count": 182,
     "metadata": {},
     "output_type": "execute_result"
    },
    {
     "data": {
      "image/png": "[encoded data removed]",
      "text/plain": [
       "<Figure size 432x288 with 1 Axes>"
      ]
     },
     "metadata": {
      "needs_background": "light"
     },
     "output_type": "display_data"
    }
   ],
   "source": [
    "data.groupby('age_get_prize', as_index=False).size().plot(kind='scatter',x='age_get_prize',y='size', title='Noble Prize versus Age', xlabel='Age', ylabel='Prizes')"
   ]
  },
  {
   "cell_type": "code",
   "execution_count": 181,
   "id": "9f5e7246",
   "metadata": {},
   "outputs": [
    {
     "data": {
      "text/plain": [
       "<AxesSubplot:ylabel='Frequency'>"
      ]
     },
     "execution_count": 181,
     "metadata": {},
     "output_type": "execute_result"
    },
    {
     "data": {
      "image/png": "[encoded data removed]",
      "text/plain": [
       "<Figure size 432x288 with 1 Axes>"
      ]
     },
     "metadata": {
      "needs_background": "light"
     },
     "output_type": "display_data"
    }
   ],
   "source": [
    "data.groupby('age_get_prize', as_index=False).size().plot(kind='hist')"
   ]
  },
  {
   "cell_type": "code",
   "execution_count": 117,
   "id": "12b729c2",
   "metadata": {},
   "outputs": [
    {
     "data": {
      "text/plain": [
       "<AxesSubplot:xlabel='category', ylabel='age_get_prize'>"
      ]
     },
     "execution_count": 117,
     "metadata": {},
     "output_type": "execute_result"
    },
    {
     "data": {
      "image/png": "[encoded data removed]",
      "text/plain": [
       "<Figure size 432x288 with 1 Axes>"
      ]
     },
     "metadata": {
      "needs_background": "light"
     },
     "output_type": "display_data"
    }
   ],
   "source": [
    "data.plot(kind='scatter',x='category',y='age_get_prize')"
   ]
  },
  {
   "cell_type": "code",
   "execution_count": 118,
   "id": "70a71492",
   "metadata": {},
   "outputs": [
    {
     "data": {
      "text/plain": [
       "<AxesSubplot:xlabel='gender', ylabel='age_get_prize'>"
      ]
     },
     "execution_count": 118,
     "metadata": {},
     "output_type": "execute_result"
    },
    {
     "data": {
      "image/png": "[encoded data removed]",
      "text/plain": [
       "<Figure size 432x288 with 1 Axes>"
      ]
     },
     "metadata": {
      "needs_background": "light"
     },
     "output_type": "display_data"
    }
   ],
   "source": [
    "data.plot(kind='scatter',x='gender',y='age_get_prize')"
   ]
  },
  {
   "cell_type": "code",
   "execution_count": 152,
   "id": "edcf5077",
   "metadata": {},
   "outputs": [
    {
     "data": {
      "text/plain": [
       "<AxesSubplot:xlabel='born_country_code'>"
      ]
     },
     "execution_count": 152,
     "metadata": {},
     "output_type": "execute_result"
    },
    {
     "data": {
      "image/png": "[encoded data removed]",
      "text/plain": [
       "<Figure size 1440x360 with 1 Axes>"
      ]
     },
     "metadata": {
      "needs_background": "light"
     },
     "output_type": "display_data"
    }
   ],
   "source": [
    "data.groupby('born_country_code').size().plot(kind='bar', figsize=(20,5))"
   ]
  },
  {
   "cell_type": "code",
   "execution_count": null,
   "id": "699473b5",
   "metadata": {},
   "outputs": [],
   "source": []
  },
  {
   "cell_type": "code",
   "execution_count": null,
   "id": "b05ce963",
   "metadata": {},
   "outputs": [],
   "source": []
  },
  {
   "cell_type": "code",
   "execution_count": null,
   "id": "1aa3ae19",
   "metadata": {},
   "outputs": [],
   "source": []
  },
  {
   "cell_type": "code",
   "execution_count": null,
   "id": "8ef1e937",
   "metadata": {},
   "outputs": [],
   "source": []
  },
  {
   "cell_type": "code",
   "execution_count": null,
   "id": "e0ddeae9",
   "metadata": {},
   "outputs": [],
   "source": []
  },
  {
   "cell_type": "code",
   "execution_count": null,
   "id": "51516af1",
   "metadata": {},
   "outputs": [],
   "source": []
  },
  {
   "cell_type": "code",
   "execution_count": null,
   "id": "9bd09df1",
   "metadata": {},
   "outputs": [],
   "source": []
  },
  {
   "cell_type": "code",
   "execution_count": null,
   "id": "b081f0be",
   "metadata": {},
   "outputs": [],
   "source": []
  },
  {
   "cell_type": "code",
   "execution_count": null,
   "id": "767e8137",
   "metadata": {},
   "outputs": [],
   "source": []
  },
  {
   "cell_type": "code",
   "execution_count": 15,
   "id": "48b558f9",
   "metadata": {},
   "outputs": [
    {
     "data": {
      "text/html": [
       "<div>\n",
       "<style scoped>\n",
       "    .dataframe tbody tr th:only-of-type {\n",
       "        vertical-align: middle;\n",
       "    }\n",
       "\n",
       "    .dataframe tbody tr th {\n",
       "        vertical-align: top;\n",
       "    }\n",
       "\n",
       "    .dataframe thead th {\n",
       "        text-align: right;\n",
       "    }\n",
       "</style>\n",
       "<table border=\"1\" class=\"dataframe\">\n",
       "  <thead>\n",
       "    <tr style=\"text-align: right;\">\n",
       "      <th></th>\n",
       "      <th>MODEL</th>\n",
       "      <th>MAKE</th>\n",
       "      <th>MODEL.1</th>\n",
       "      <th>VEHICLE CLASS</th>\n",
       "      <th>ENGINE_SIZE</th>\n",
       "      <th>CYLINDERS</th>\n",
       "      <th>TRANSMISSION</th>\n",
       "      <th>FUEL</th>\n",
       "      <th>FUEL_CONSUMPTION*</th>\n",
       "      <th>Unnamed: 9</th>\n",
       "      <th>Unnamed: 10</th>\n",
       "      <th>Unnamed: 11</th>\n",
       "      <th>CO2_EMISSIONS</th>\n",
       "    </tr>\n",
       "  </thead>\n",
       "  <tbody>\n",
       "    <tr>\n",
       "      <th>0</th>\n",
       "      <td>2001</td>\n",
       "      <td>ACURA</td>\n",
       "      <td>1.7EL</td>\n",
       "      <td>COMPACT</td>\n",
       "      <td>1.7</td>\n",
       "      <td>4</td>\n",
       "      <td>A4</td>\n",
       "      <td>X</td>\n",
       "      <td>9.3</td>\n",
       "      <td>7.2</td>\n",
       "      <td>8.3</td>\n",
       "      <td>34</td>\n",
       "      <td>191</td>\n",
       "    </tr>\n",
       "    <tr>\n",
       "      <th>1</th>\n",
       "      <td>2001</td>\n",
       "      <td>ACURA</td>\n",
       "      <td>1.7EL</td>\n",
       "      <td>COMPACT</td>\n",
       "      <td>1.7</td>\n",
       "      <td>4</td>\n",
       "      <td>M5</td>\n",
       "      <td>X</td>\n",
       "      <td>8.9</td>\n",
       "      <td>7.4</td>\n",
       "      <td>8.3</td>\n",
       "      <td>34</td>\n",
       "      <td>191</td>\n",
       "    </tr>\n",
       "    <tr>\n",
       "      <th>2</th>\n",
       "      <td>2001</td>\n",
       "      <td>ACURA</td>\n",
       "      <td>3.2CL</td>\n",
       "      <td>COMPACT</td>\n",
       "      <td>3.2</td>\n",
       "      <td>6</td>\n",
       "      <td>AS5</td>\n",
       "      <td>Z</td>\n",
       "      <td>13.7</td>\n",
       "      <td>8.8</td>\n",
       "      <td>11.5</td>\n",
       "      <td>25</td>\n",
       "      <td>265</td>\n",
       "    </tr>\n",
       "    <tr>\n",
       "      <th>3</th>\n",
       "      <td>2001</td>\n",
       "      <td>ACURA</td>\n",
       "      <td>3.2TL</td>\n",
       "      <td>MID-SIZE</td>\n",
       "      <td>3.2</td>\n",
       "      <td>6</td>\n",
       "      <td>AS5</td>\n",
       "      <td>Z</td>\n",
       "      <td>13.8</td>\n",
       "      <td>8.8</td>\n",
       "      <td>11.6</td>\n",
       "      <td>24</td>\n",
       "      <td>267</td>\n",
       "    </tr>\n",
       "    <tr>\n",
       "      <th>4</th>\n",
       "      <td>2001</td>\n",
       "      <td>ACURA</td>\n",
       "      <td>3.5RL</td>\n",
       "      <td>MID-SIZE</td>\n",
       "      <td>3.5</td>\n",
       "      <td>6</td>\n",
       "      <td>A4</td>\n",
       "      <td>Z</td>\n",
       "      <td>15.0</td>\n",
       "      <td>10.9</td>\n",
       "      <td>13.1</td>\n",
       "      <td>22</td>\n",
       "      <td>301</td>\n",
       "    </tr>\n",
       "    <tr>\n",
       "      <th>...</th>\n",
       "      <td>...</td>\n",
       "      <td>...</td>\n",
       "      <td>...</td>\n",
       "      <td>...</td>\n",
       "      <td>...</td>\n",
       "      <td>...</td>\n",
       "      <td>...</td>\n",
       "      <td>...</td>\n",
       "      <td>...</td>\n",
       "      <td>...</td>\n",
       "      <td>...</td>\n",
       "      <td>...</td>\n",
       "      <td>...</td>\n",
       "    </tr>\n",
       "    <tr>\n",
       "      <th>674</th>\n",
       "      <td>2001</td>\n",
       "      <td>VOLVO</td>\n",
       "      <td>V70 T5 WAGON TURBO</td>\n",
       "      <td>STATION WAGON - MID-SIZE</td>\n",
       "      <td>2.3</td>\n",
       "      <td>5</td>\n",
       "      <td>M5</td>\n",
       "      <td>Z</td>\n",
       "      <td>13.0</td>\n",
       "      <td>9.3</td>\n",
       "      <td>11.3</td>\n",
       "      <td>25</td>\n",
       "      <td>260</td>\n",
       "    </tr>\n",
       "    <tr>\n",
       "      <th>675</th>\n",
       "      <td>2001</td>\n",
       "      <td>VOLVO</td>\n",
       "      <td>V70 WAGON</td>\n",
       "      <td>STATION WAGON - MID-SIZE</td>\n",
       "      <td>2.4</td>\n",
       "      <td>5</td>\n",
       "      <td>A5</td>\n",
       "      <td>Z</td>\n",
       "      <td>12.8</td>\n",
       "      <td>9.3</td>\n",
       "      <td>11.2</td>\n",
       "      <td>25</td>\n",
       "      <td>258</td>\n",
       "    </tr>\n",
       "    <tr>\n",
       "      <th>676</th>\n",
       "      <td>2001</td>\n",
       "      <td>VOLVO</td>\n",
       "      <td>V70 WAGON</td>\n",
       "      <td>STATION WAGON - MID-SIZE</td>\n",
       "      <td>2.4</td>\n",
       "      <td>5</td>\n",
       "      <td>M5</td>\n",
       "      <td>Z</td>\n",
       "      <td>12.5</td>\n",
       "      <td>9.3</td>\n",
       "      <td>11.0</td>\n",
       "      <td>26</td>\n",
       "      <td>253</td>\n",
       "    </tr>\n",
       "    <tr>\n",
       "      <th>677</th>\n",
       "      <td>2001</td>\n",
       "      <td>VOLVO</td>\n",
       "      <td>V70 WAGON AWD TURBO</td>\n",
       "      <td>STATION WAGON - MID-SIZE</td>\n",
       "      <td>2.4</td>\n",
       "      <td>5</td>\n",
       "      <td>AS5</td>\n",
       "      <td>Z</td>\n",
       "      <td>14.4</td>\n",
       "      <td>10.3</td>\n",
       "      <td>12.5</td>\n",
       "      <td>23</td>\n",
       "      <td>288</td>\n",
       "    </tr>\n",
       "    <tr>\n",
       "      <th>678</th>\n",
       "      <td>2001</td>\n",
       "      <td>VOLVO</td>\n",
       "      <td>V70 XC AWD TURBO</td>\n",
       "      <td>SUV</td>\n",
       "      <td>2.4</td>\n",
       "      <td>5</td>\n",
       "      <td>AS5</td>\n",
       "      <td>Z</td>\n",
       "      <td>14.8</td>\n",
       "      <td>11.4</td>\n",
       "      <td>13.3</td>\n",
       "      <td>21</td>\n",
       "      <td>306</td>\n",
       "    </tr>\n",
       "  </tbody>\n",
       "</table>\n",
       "<p>679 rows × 13 columns</p>\n",
       "</div>"
      ],
      "text/plain": [
       "     MODEL   MAKE              MODEL.1             VEHICLE CLASS  ENGINE_SIZE  \\\n",
       "0     2001  ACURA                1.7EL                   COMPACT          1.7   \n",
       "1     2001  ACURA                1.7EL                   COMPACT          1.7   \n",
       "2     2001  ACURA                3.2CL                   COMPACT          3.2   \n",
       "3     2001  ACURA                3.2TL                  MID-SIZE          3.2   \n",
       "4     2001  ACURA                3.5RL                  MID-SIZE          3.5   \n",
       "..     ...    ...                  ...                       ...          ...   \n",
       "674   2001  VOLVO   V70 T5 WAGON TURBO  STATION WAGON - MID-SIZE          2.3   \n",
       "675   2001  VOLVO            V70 WAGON  STATION WAGON - MID-SIZE          2.4   \n",
       "676   2001  VOLVO            V70 WAGON  STATION WAGON - MID-SIZE          2.4   \n",
       "677   2001  VOLVO  V70 WAGON AWD TURBO  STATION WAGON - MID-SIZE          2.4   \n",
       "678   2001  VOLVO     V70 XC AWD TURBO                       SUV          2.4   \n",
       "\n",
       "     CYLINDERS TRANSMISSION FUEL  FUEL_CONSUMPTION*  Unnamed: 9  Unnamed: 10  \\\n",
       "0            4           A4    X                9.3         7.2          8.3   \n",
       "1            4           M5    X                8.9         7.4          8.3   \n",
       "2            6          AS5    Z               13.7         8.8         11.5   \n",
       "3            6          AS5    Z               13.8         8.8         11.6   \n",
       "4            6           A4    Z               15.0        10.9         13.1   \n",
       "..         ...          ...  ...                ...         ...          ...   \n",
       "674          5           M5    Z               13.0         9.3         11.3   \n",
       "675          5           A5    Z               12.8         9.3         11.2   \n",
       "676          5           M5    Z               12.5         9.3         11.0   \n",
       "677          5          AS5    Z               14.4        10.3         12.5   \n",
       "678          5          AS5    Z               14.8        11.4         13.3   \n",
       "\n",
       "     Unnamed: 11  CO2_EMISSIONS  \n",
       "0             34            191  \n",
       "1             34            191  \n",
       "2             25            265  \n",
       "3             24            267  \n",
       "4             22            301  \n",
       "..           ...            ...  \n",
       "674           25            260  \n",
       "675           25            258  \n",
       "676           26            253  \n",
       "677           23            288  \n",
       "678           21            306  \n",
       "\n",
       "[679 rows x 13 columns]"
      ]
     },
     "execution_count": 15,
     "metadata": {},
     "output_type": "execute_result"
    }
   ],
   "source": [
    "data"
   ]
  },
  {
   "cell_type": "code",
   "execution_count": 54,
   "id": "5ea6f595",
   "metadata": {},
   "outputs": [],
   "source": [
    "data.columns = [c.replace(' ', '_') for c in data.columns]"
   ]
  },
  {
   "cell_type": "code",
   "execution_count": 61,
   "id": "0b7fa699",
   "metadata": {},
   "outputs": [
    {
     "data": {
      "image/png": "[encoded data removed]",
      "text/plain": [
       "<Figure size 432x288 with 1 Axes>"
      ]
     },
     "metadata": {
      "needs_background": "light"
     },
     "output_type": "display_data"
    }
   ],
   "source": [
    "scat=data.plot(kind='scatter',x='VEHICLE_CLASS',y='CO2_EMISSIONS')"
   ]
  },
  {
   "cell_type": "code",
   "execution_count": 62,
   "id": "f0b58f33",
   "metadata": {},
   "outputs": [
    {
     "data": {
      "text/plain": [
       "<AxesSubplot:xlabel='ENGINE_SIZE', ylabel='CO2_EMISSIONS'>"
      ]
     },
     "execution_count": 62,
     "metadata": {},
     "output_type": "execute_result"
    },
    {
     "data": {
      "image/png": "[encoded data removed]",
      "text/plain": [
       "<Figure size 432x288 with 1 Axes>"
      ]
     },
     "metadata": {
      "needs_background": "light"
     },
     "output_type": "display_data"
    }
   ],
   "source": [
    "data.plot(kind='scatter',x='ENGINE_SIZE',y='CO2_EMISSIONS')"
   ]
  },
  {
   "cell_type": "code",
   "execution_count": 64,
   "id": "8389fecb",
   "metadata": {},
   "outputs": [
    {
     "data": {
      "text/plain": [
       "<AxesSubplot:xlabel='ENGINE_SIZE'>"
      ]
     },
     "execution_count": 64,
     "metadata": {},
     "output_type": "execute_result"
    },
    {
     "data": {
      "image/png": "[encoded data removed]",
      "text/plain": [
       "<Figure size 432x288 with 1 Axes>"
      ]
     },
     "metadata": {
      "needs_background": "light"
     },
     "output_type": "display_data"
    }
   ],
   "source": [
    "data.plot(kind='bar',x='ENGINE_SIZE',y='CO2_EMISSIONS')"
   ]
  },
  {
   "cell_type": "code",
   "execution_count": 56,
   "id": "b6a7dba8",
   "metadata": {},
   "outputs": [
    {
     "data": {
      "text/plain": [
       "<AxesSubplot:xlabel='VEHICLE_CLASS'>"
      ]
     },
     "execution_count": 56,
     "metadata": {},
     "output_type": "execute_result"
    },
    {
     "data": {
      "image/png": "[encoded data removed]",
      "text/plain": [
       "<Figure size 432x288 with 1 Axes>"
      ]
     },
     "metadata": {
      "needs_background": "light"
     },
     "output_type": "display_data"
    }
   ],
   "source": [
    "data.groupby('VEHICLE_CLASS')['CO2_EMISSIONS'].mean().plot(kind='bar',x='VEHICLE_CLASS',y='CO2_EMISSIONS')"
   ]
  },
  {
   "cell_type": "code",
   "execution_count": 26,
   "id": "29a1102d",
   "metadata": {},
   "outputs": [
    {
     "data": {
      "text/plain": [
       "<AxesSubplot:xlabel='VEHICLE CLASS'>"
      ]
     },
     "execution_count": 26,
     "metadata": {},
     "output_type": "execute_result"
    },
    {
     "data": {
      "image/png": "[encoded data removed]",
      "text/plain": [
       "<Figure size 432x288 with 1 Axes>"
      ]
     },
     "metadata": {
      "needs_background": "light"
     },
     "output_type": "display_data"
    }
   ],
   "source": [
    "data.groupby('VEHICLE CLASS')['CO2_EMISSIONS'].sum().plot(kind='bar',x='VEHICLE CLASS',y='CO2_EMISSIONS')"
   ]
  },
  {
   "cell_type": "code",
   "execution_count": 27,
   "id": "492b5880",
   "metadata": {},
   "outputs": [
    {
     "data": {
      "text/plain": [
       "<AxesSubplot:xlabel='MAKE'>"
      ]
     },
     "execution_count": 27,
     "metadata": {},
     "output_type": "execute_result"
    },
    {
     "data": {
      "image/png": "[encoded data removed]",
      "text/plain": [
       "<Figure size 432x288 with 1 Axes>"
      ]
     },
     "metadata": {
      "needs_background": "light"
     },
     "output_type": "display_data"
    }
   ],
   "source": [
    "data.groupby('MAKE')['CO2_EMISSIONS'].sum().plot(kind='bar',x='MAKE',y='CO2_EMISSIONS')"
   ]
  },
  {
   "cell_type": "code",
   "execution_count": 34,
   "id": "a9cd4361",
   "metadata": {},
   "outputs": [
    {
     "data": {
      "text/plain": [
       "<AxesSubplot:xlabel='MAKE'>"
      ]
     },
     "execution_count": 34,
     "metadata": {},
     "output_type": "execute_result"
    },
    {
     "data": {
      "image/png": "[encoded data removed]",
      "text/plain": [
       "<Figure size 432x288 with 1 Axes>"
      ]
     },
     "metadata": {
      "needs_background": "light"
     },
     "output_type": "display_data"
    }
   ],
   "source": [
    "data.groupby('MAKE')['CO2_EMISSIONS'].sum().plot(kind='line',x='MAKE',y='CO2_EMISSIONS')"
   ]
  },
  {
   "cell_type": "code",
   "execution_count": 45,
   "id": "daff97e6",
   "metadata": {},
   "outputs": [
    {
     "ename": "ValueError",
     "evalue": "plot kind scatter can only be used for data frames",
     "output_type": "error",
     "traceback": [
      "\u001b[0;31m---------------------------------------------------------------------------\u001b[0m",
      "\u001b[0;31mValueError\u001b[0m                                Traceback (most recent call last)",
      "\u001b[0;32m/var/folders/y8/q3tyf2ls6hdcr5jmw1zdr2f40000gp/T/ipykernel_44003/3884176187.py\u001b[0m in \u001b[0;36m<module>\u001b[0;34m\u001b[0m\n\u001b[0;32m----> 1\u001b[0;31m \u001b[0mdata\u001b[0m\u001b[0;34m.\u001b[0m\u001b[0mgroupby\u001b[0m\u001b[0;34m(\u001b[0m\u001b[0;34m'MAKE'\u001b[0m\u001b[0;34m)\u001b[0m\u001b[0;34m[\u001b[0m\u001b[0;34m'CO2_EMISSIONS'\u001b[0m\u001b[0;34m]\u001b[0m\u001b[0;34m.\u001b[0m\u001b[0msum\u001b[0m\u001b[0;34m(\u001b[0m\u001b[0;34m)\u001b[0m\u001b[0;34m.\u001b[0m\u001b[0mplot\u001b[0m\u001b[0;34m(\u001b[0m\u001b[0mkind\u001b[0m\u001b[0;34m=\u001b[0m\u001b[0;34m'scatter'\u001b[0m\u001b[0;34m,\u001b[0m\u001b[0mx\u001b[0m\u001b[0;34m=\u001b[0m\u001b[0;34m'MAKE'\u001b[0m\u001b[0;34m,\u001b[0m\u001b[0my\u001b[0m\u001b[0;34m=\u001b[0m\u001b[0;34m'CO2_EMISSIONS'\u001b[0m\u001b[0;34m)\u001b[0m\u001b[0;34m\u001b[0m\u001b[0;34m\u001b[0m\u001b[0m\n\u001b[0m",
      "\u001b[0;32m/Applications/anaconda3/lib/python3.9/site-packages/pandas/plotting/_core.py\u001b[0m in \u001b[0;36m__call__\u001b[0;34m(self, *args, **kwargs)\u001b[0m\n\u001b[1;32m    917\u001b[0m                 \u001b[0;32mreturn\u001b[0m \u001b[0mplot_backend\u001b[0m\u001b[0;34m.\u001b[0m\u001b[0mplot\u001b[0m\u001b[0;34m(\u001b[0m\u001b[0mdata\u001b[0m\u001b[0;34m,\u001b[0m \u001b[0mx\u001b[0m\u001b[0;34m=\u001b[0m\u001b[0mx\u001b[0m\u001b[0;34m,\u001b[0m \u001b[0my\u001b[0m\u001b[0;34m=\u001b[0m\u001b[0my\u001b[0m\u001b[0;34m,\u001b[0m \u001b[0mkind\u001b[0m\u001b[0;34m=\u001b[0m\u001b[0mkind\u001b[0m\u001b[0;34m,\u001b[0m \u001b[0;34m**\u001b[0m\u001b[0mkwargs\u001b[0m\u001b[0;34m)\u001b[0m\u001b[0;34m\u001b[0m\u001b[0;34m\u001b[0m\u001b[0m\n\u001b[1;32m    918\u001b[0m             \u001b[0;32melse\u001b[0m\u001b[0;34m:\u001b[0m\u001b[0;34m\u001b[0m\u001b[0;34m\u001b[0m\u001b[0m\n\u001b[0;32m--> 919\u001b[0;31m                 \u001b[0;32mraise\u001b[0m \u001b[0mValueError\u001b[0m\u001b[0;34m(\u001b[0m\u001b[0;34mf\"plot kind {kind} can only be used for data frames\"\u001b[0m\u001b[0;34m)\u001b[0m\u001b[0;34m\u001b[0m\u001b[0;34m\u001b[0m\u001b[0m\n\u001b[0m\u001b[1;32m    920\u001b[0m         \u001b[0;32melif\u001b[0m \u001b[0mkind\u001b[0m \u001b[0;32min\u001b[0m \u001b[0mself\u001b[0m\u001b[0;34m.\u001b[0m\u001b[0m_series_kinds\u001b[0m\u001b[0;34m:\u001b[0m\u001b[0;34m\u001b[0m\u001b[0;34m\u001b[0m\u001b[0m\n\u001b[1;32m    921\u001b[0m             \u001b[0;32mif\u001b[0m \u001b[0misinstance\u001b[0m\u001b[0;34m(\u001b[0m\u001b[0mdata\u001b[0m\u001b[0;34m,\u001b[0m \u001b[0mABCDataFrame\u001b[0m\u001b[0;34m)\u001b[0m\u001b[0;34m:\u001b[0m\u001b[0;34m\u001b[0m\u001b[0;34m\u001b[0m\u001b[0m\n",
      "\u001b[0;31mValueError\u001b[0m: plot kind scatter can only be used for data frames"
     ]
    }
   ],
   "source": [
    "data.groupby('MAKE')['CO2_EMISSIONS'].sum().plot(kind='scatter',x='MAKE',y='CO2_EMISSIONS')"
   ]
  },
  {
   "cell_type": "code",
   "execution_count": 46,
   "id": "54c86400",
   "metadata": {},
   "outputs": [
    {
     "data": {
      "text/plain": [
       "MAKE\n",
       "ACURA             2816\n",
       "AUDI              6939\n",
       "BMW              12408\n",
       "BUICK             1615\n",
       "CADILLAC          1190\n",
       "CHEVROLET        19145\n",
       "CHRYSLER          6705\n",
       "DAEWOO            2328\n",
       "DODGE            17994\n",
       "FORD             19905\n",
       "GMC              14906\n",
       "HONDA             3184\n",
       "HYUNDAI           2829\n",
       "INFINITI          1403\n",
       "ISUZU             1395\n",
       "JAGUAR            3104\n",
       "JEEP              3101\n",
       "KIA               2565\n",
       "LEXUS             2485\n",
       "LINCOLN           2258\n",
       "MAZDA             6605\n",
       "MERCEDES-BENZ     8606\n",
       "NISSAN            7004\n",
       "OLDSMOBILE        1881\n",
       "PLYMOUTH           311\n",
       "PONTIAC           5004\n",
       "PORSCHE           3087\n",
       "SAAB              3953\n",
       "SATURN            3246\n",
       "SUBARU            3253\n",
       "SUZUKI            3635\n",
       "TOYOTA            9843\n",
       "VOLKSWAGEN        8365\n",
       "VOLVO             6325\n",
       "Name: CO2_EMISSIONS, dtype: int64"
      ]
     },
     "execution_count": 46,
     "metadata": {},
     "output_type": "execute_result"
    }
   ],
   "source": [
    "data.groupby('MAKE')['CO2_EMISSIONS'].sum()"
   ]
  },
  {
   "cell_type": "code",
   "execution_count": 36,
   "id": "dc01403c",
   "metadata": {},
   "outputs": [
    {
     "data": {
      "text/plain": [
       "<AxesSubplot:ylabel='Frequency'>"
      ]
     },
     "execution_count": 36,
     "metadata": {},
     "output_type": "execute_result"
    },
    {
     "data": {
      "image/png": "[encoded data removed]",
      "text/plain": [
       "<Figure size 432x288 with 1 Axes>"
      ]
     },
     "metadata": {
      "needs_background": "light"
     },
     "output_type": "display_data"
    }
   ],
   "source": [
    "data.groupby('MAKE')['CO2_EMISSIONS'].sum().plot(kind='hist',x='MAKE',y='CO2_EMISSIONS')"
   ]
  },
  {
   "cell_type": "code",
   "execution_count": null,
   "id": "40340406",
   "metadata": {},
   "outputs": [],
   "source": []
  },
  {
   "cell_type": "code",
   "execution_count": 33,
   "id": "ae77d63a",
   "metadata": {},
   "outputs": [
    {
     "data": {
      "text/plain": [
       "<AxesSubplot:xlabel='MAKE'>"
      ]
     },
     "execution_count": 33,
     "metadata": {},
     "output_type": "execute_result"
    },
    {
     "data": {
      "image/png": "[encoded data removed]",
      "text/plain": [
       "<Figure size 432x288 with 1 Axes>"
      ]
     },
     "metadata": {
      "needs_background": "light"
     },
     "output_type": "display_data"
    }
   ],
   "source": [
    "data.groupby('MAKE').size().plot(kind='bar')"
   ]
  },
  {
   "cell_type": "code",
   "execution_count": 39,
   "id": "cdaa9c5d",
   "metadata": {},
   "outputs": [
    {
     "name": "stdout",
     "output_type": "stream",
     "text": [
      "<class 'pandas.core.frame.DataFrame'>\n",
      "RangeIndex: 122733 entries, 0 to 122732\n",
      "Data columns (total 10 columns):\n",
      " #   Column                   Non-Null Count   Dtype  \n",
      "---  ------                   --------------   -----  \n",
      " 0   DateTime                 122733 non-null  object \n",
      " 1   Temperature              122733 non-null  float64\n",
      " 2   Sunshine Duration        122733 non-null  int64  \n",
      " 3   Shortwave Radiation      122733 non-null  float64\n",
      " 4   Relative Humidity        122733 non-null  int64  \n",
      " 5   Mean Sea Level Pressure  122733 non-null  float64\n",
      " 6   Soil Temperature         122733 non-null  float64\n",
      " 7   Soil Moisture            122733 non-null  float64\n",
      " 8   Wind Speed               122733 non-null  float64\n",
      " 9   Wind Direction           122733 non-null  float64\n",
      "dtypes: float64(7), int64(2), object(1)\n",
      "memory usage: 9.4+ MB\n"
     ]
    }
   ],
   "source": [
    "data = pd.read_csv(\"workspace/training/ML-AI/datasets/Hourly Weather Data in Gallipoli (2008-2021).csv\")\n",
    "data.info()"
   ]
  },
  {
   "cell_type": "code",
   "execution_count": 12,
   "id": "737defaf",
   "metadata": {},
   "outputs": [
    {
     "data": {
      "text/html": [
       "<div>\n",
       "<style scoped>\n",
       "    .dataframe tbody tr th:only-of-type {\n",
       "        vertical-align: middle;\n",
       "    }\n",
       "\n",
       "    .dataframe tbody tr th {\n",
       "        vertical-align: top;\n",
       "    }\n",
       "\n",
       "    .dataframe thead th {\n",
       "        text-align: right;\n",
       "    }\n",
       "</style>\n",
       "<table border=\"1\" class=\"dataframe\">\n",
       "  <thead>\n",
       "    <tr style=\"text-align: right;\">\n",
       "      <th></th>\n",
       "      <th>Temperature</th>\n",
       "      <th>Sunshine Duration</th>\n",
       "      <th>Shortwave Radiation</th>\n",
       "      <th>Relative Humidity</th>\n",
       "      <th>Mean Sea Level Pressure</th>\n",
       "      <th>Soil Temperature</th>\n",
       "      <th>Soil Moisture</th>\n",
       "      <th>Wind Speed</th>\n",
       "      <th>Wind Direction</th>\n",
       "    </tr>\n",
       "  </thead>\n",
       "  <tbody>\n",
       "    <tr>\n",
       "      <th>count</th>\n",
       "      <td>122733.000000</td>\n",
       "      <td>122733.000000</td>\n",
       "      <td>122733.000000</td>\n",
       "      <td>122733.000000</td>\n",
       "      <td>122733.000000</td>\n",
       "      <td>122733.000000</td>\n",
       "      <td>122733.000000</td>\n",
       "      <td>122733.000000</td>\n",
       "      <td>122733.000000</td>\n",
       "    </tr>\n",
       "    <tr>\n",
       "      <th>mean</th>\n",
       "      <td>15.670196</td>\n",
       "      <td>21.084680</td>\n",
       "      <td>202.333411</td>\n",
       "      <td>69.683924</td>\n",
       "      <td>1015.073141</td>\n",
       "      <td>16.336311</td>\n",
       "      <td>0.210705</td>\n",
       "      <td>19.391254</td>\n",
       "      <td>108.071393</td>\n",
       "    </tr>\n",
       "    <tr>\n",
       "      <th>std</th>\n",
       "      <td>8.192027</td>\n",
       "      <td>27.030718</td>\n",
       "      <td>272.710423</td>\n",
       "      <td>19.079325</td>\n",
       "      <td>6.795215</td>\n",
       "      <td>8.054375</td>\n",
       "      <td>0.067094</td>\n",
       "      <td>11.141315</td>\n",
       "      <td>91.270893</td>\n",
       "    </tr>\n",
       "    <tr>\n",
       "      <th>min</th>\n",
       "      <td>-13.800000</td>\n",
       "      <td>0.000000</td>\n",
       "      <td>0.000000</td>\n",
       "      <td>13.000000</td>\n",
       "      <td>981.300000</td>\n",
       "      <td>-5.200000</td>\n",
       "      <td>0.102000</td>\n",
       "      <td>0.000000</td>\n",
       "      <td>0.310000</td>\n",
       "    </tr>\n",
       "    <tr>\n",
       "      <th>25%</th>\n",
       "      <td>9.700000</td>\n",
       "      <td>0.000000</td>\n",
       "      <td>0.000000</td>\n",
       "      <td>55.000000</td>\n",
       "      <td>1010.600000</td>\n",
       "      <td>10.100000</td>\n",
       "      <td>0.153000</td>\n",
       "      <td>10.400000</td>\n",
       "      <td>44.090000</td>\n",
       "    </tr>\n",
       "    <tr>\n",
       "      <th>50%</th>\n",
       "      <td>15.500000</td>\n",
       "      <td>0.000000</td>\n",
       "      <td>16.020000</td>\n",
       "      <td>72.000000</td>\n",
       "      <td>1014.400000</td>\n",
       "      <td>15.900000</td>\n",
       "      <td>0.214000</td>\n",
       "      <td>18.300000</td>\n",
       "      <td>60.360000</td>\n",
       "    </tr>\n",
       "    <tr>\n",
       "      <th>75%</th>\n",
       "      <td>21.400000</td>\n",
       "      <td>56.000000</td>\n",
       "      <td>379.140000</td>\n",
       "      <td>86.000000</td>\n",
       "      <td>1019.200000</td>\n",
       "      <td>22.400000</td>\n",
       "      <td>0.263000</td>\n",
       "      <td>26.800000</td>\n",
       "      <td>195.020000</td>\n",
       "    </tr>\n",
       "    <tr>\n",
       "      <th>max</th>\n",
       "      <td>40.800000</td>\n",
       "      <td>60.000000</td>\n",
       "      <td>950.520000</td>\n",
       "      <td>100.000000</td>\n",
       "      <td>1043.600000</td>\n",
       "      <td>40.100000</td>\n",
       "      <td>0.433000</td>\n",
       "      <td>93.300000</td>\n",
       "      <td>360.000000</td>\n",
       "    </tr>\n",
       "  </tbody>\n",
       "</table>\n",
       "</div>"
      ],
      "text/plain": [
       "         Temperature  Sunshine Duration  Shortwave Radiation  \\\n",
       "count  122733.000000      122733.000000        122733.000000   \n",
       "mean       15.670196          21.084680           202.333411   \n",
       "std         8.192027          27.030718           272.710423   \n",
       "min       -13.800000           0.000000             0.000000   \n",
       "25%         9.700000           0.000000             0.000000   \n",
       "50%        15.500000           0.000000            16.020000   \n",
       "75%        21.400000          56.000000           379.140000   \n",
       "max        40.800000          60.000000           950.520000   \n",
       "\n",
       "       Relative Humidity  Mean Sea Level Pressure  Soil Temperature  \\\n",
       "count      122733.000000            122733.000000     122733.000000   \n",
       "mean           69.683924              1015.073141         16.336311   \n",
       "std            19.079325                 6.795215          8.054375   \n",
       "min            13.000000               981.300000         -5.200000   \n",
       "25%            55.000000              1010.600000         10.100000   \n",
       "50%            72.000000              1014.400000         15.900000   \n",
       "75%            86.000000              1019.200000         22.400000   \n",
       "max           100.000000              1043.600000         40.100000   \n",
       "\n",
       "       Soil Moisture     Wind Speed  Wind Direction  \n",
       "count  122733.000000  122733.000000   122733.000000  \n",
       "mean        0.210705      19.391254      108.071393  \n",
       "std         0.067094      11.141315       91.270893  \n",
       "min         0.102000       0.000000        0.310000  \n",
       "25%         0.153000      10.400000       44.090000  \n",
       "50%         0.214000      18.300000       60.360000  \n",
       "75%         0.263000      26.800000      195.020000  \n",
       "max         0.433000      93.300000      360.000000  "
      ]
     },
     "execution_count": 12,
     "metadata": {},
     "output_type": "execute_result"
    }
   ],
   "source": [
    "data.describe()"
   ]
  },
  {
   "cell_type": "code",
   "execution_count": 40,
   "id": "bf64f6f4",
   "metadata": {},
   "outputs": [
    {
     "data": {
      "text/html": [
       "<div>\n",
       "<style scoped>\n",
       "    .dataframe tbody tr th:only-of-type {\n",
       "        vertical-align: middle;\n",
       "    }\n",
       "\n",
       "    .dataframe tbody tr th {\n",
       "        vertical-align: top;\n",
       "    }\n",
       "\n",
       "    .dataframe thead th {\n",
       "        text-align: right;\n",
       "    }\n",
       "</style>\n",
       "<table border=\"1\" class=\"dataframe\">\n",
       "  <thead>\n",
       "    <tr style=\"text-align: right;\">\n",
       "      <th></th>\n",
       "      <th>DateTime</th>\n",
       "      <th>Temperature</th>\n",
       "      <th>Sunshine Duration</th>\n",
       "      <th>Shortwave Radiation</th>\n",
       "      <th>Relative Humidity</th>\n",
       "      <th>Mean Sea Level Pressure</th>\n",
       "      <th>Soil Temperature</th>\n",
       "      <th>Soil Moisture</th>\n",
       "      <th>Wind Speed</th>\n",
       "      <th>Wind Direction</th>\n",
       "    </tr>\n",
       "  </thead>\n",
       "  <tbody>\n",
       "    <tr>\n",
       "      <th>0</th>\n",
       "      <td>1.01.2008 03:00</td>\n",
       "      <td>-0.1</td>\n",
       "      <td>0</td>\n",
       "      <td>0.0</td>\n",
       "      <td>92</td>\n",
       "      <td>1019.2</td>\n",
       "      <td>5.9</td>\n",
       "      <td>0.212</td>\n",
       "      <td>0.0</td>\n",
       "      <td>180.00</td>\n",
       "    </tr>\n",
       "    <tr>\n",
       "      <th>1</th>\n",
       "      <td>1.01.2008 04:00</td>\n",
       "      <td>2.5</td>\n",
       "      <td>0</td>\n",
       "      <td>0.0</td>\n",
       "      <td>92</td>\n",
       "      <td>1018.2</td>\n",
       "      <td>5.4</td>\n",
       "      <td>0.212</td>\n",
       "      <td>22.7</td>\n",
       "      <td>43.07</td>\n",
       "    </tr>\n",
       "    <tr>\n",
       "      <th>2</th>\n",
       "      <td>1.01.2008 05:00</td>\n",
       "      <td>2.9</td>\n",
       "      <td>0</td>\n",
       "      <td>0.0</td>\n",
       "      <td>95</td>\n",
       "      <td>1017.1</td>\n",
       "      <td>5.1</td>\n",
       "      <td>0.212</td>\n",
       "      <td>25.8</td>\n",
       "      <td>54.09</td>\n",
       "    </tr>\n",
       "    <tr>\n",
       "      <th>3</th>\n",
       "      <td>1.01.2008 06:00</td>\n",
       "      <td>3.9</td>\n",
       "      <td>0</td>\n",
       "      <td>0.0</td>\n",
       "      <td>95</td>\n",
       "      <td>1017.4</td>\n",
       "      <td>4.9</td>\n",
       "      <td>0.212</td>\n",
       "      <td>25.8</td>\n",
       "      <td>59.86</td>\n",
       "    </tr>\n",
       "    <tr>\n",
       "      <th>4</th>\n",
       "      <td>1.01.2008 07:00</td>\n",
       "      <td>4.9</td>\n",
       "      <td>0</td>\n",
       "      <td>0.0</td>\n",
       "      <td>93</td>\n",
       "      <td>1016.4</td>\n",
       "      <td>5.1</td>\n",
       "      <td>0.211</td>\n",
       "      <td>26.7</td>\n",
       "      <td>61.02</td>\n",
       "    </tr>\n",
       "    <tr>\n",
       "      <th>...</th>\n",
       "      <td>...</td>\n",
       "      <td>...</td>\n",
       "      <td>...</td>\n",
       "      <td>...</td>\n",
       "      <td>...</td>\n",
       "      <td>...</td>\n",
       "      <td>...</td>\n",
       "      <td>...</td>\n",
       "      <td>...</td>\n",
       "      <td>...</td>\n",
       "    </tr>\n",
       "    <tr>\n",
       "      <th>122728</th>\n",
       "      <td>31.12.2021 19:00</td>\n",
       "      <td>6.3</td>\n",
       "      <td>0</td>\n",
       "      <td>0.0</td>\n",
       "      <td>92</td>\n",
       "      <td>1023.1</td>\n",
       "      <td>9.1</td>\n",
       "      <td>0.260</td>\n",
       "      <td>11.9</td>\n",
       "      <td>54.87</td>\n",
       "    </tr>\n",
       "    <tr>\n",
       "      <th>122729</th>\n",
       "      <td>31.12.2021 20:00</td>\n",
       "      <td>5.8</td>\n",
       "      <td>0</td>\n",
       "      <td>0.0</td>\n",
       "      <td>94</td>\n",
       "      <td>1023.3</td>\n",
       "      <td>8.2</td>\n",
       "      <td>0.260</td>\n",
       "      <td>10.7</td>\n",
       "      <td>70.35</td>\n",
       "    </tr>\n",
       "    <tr>\n",
       "      <th>122730</th>\n",
       "      <td>31.12.2021 21:00</td>\n",
       "      <td>5.2</td>\n",
       "      <td>0</td>\n",
       "      <td>0.0</td>\n",
       "      <td>93</td>\n",
       "      <td>1023.4</td>\n",
       "      <td>7.5</td>\n",
       "      <td>0.260</td>\n",
       "      <td>9.1</td>\n",
       "      <td>71.57</td>\n",
       "    </tr>\n",
       "    <tr>\n",
       "      <th>122731</th>\n",
       "      <td>31.12.2021 22:00</td>\n",
       "      <td>5.0</td>\n",
       "      <td>0</td>\n",
       "      <td>0.0</td>\n",
       "      <td>93</td>\n",
       "      <td>1023.8</td>\n",
       "      <td>6.8</td>\n",
       "      <td>0.260</td>\n",
       "      <td>8.2</td>\n",
       "      <td>61.19</td>\n",
       "    </tr>\n",
       "    <tr>\n",
       "      <th>122732</th>\n",
       "      <td>31.12.2021 23:00</td>\n",
       "      <td>4.9</td>\n",
       "      <td>0</td>\n",
       "      <td>0.0</td>\n",
       "      <td>92</td>\n",
       "      <td>1023.0</td>\n",
       "      <td>6.1</td>\n",
       "      <td>0.260</td>\n",
       "      <td>7.7</td>\n",
       "      <td>52.59</td>\n",
       "    </tr>\n",
       "  </tbody>\n",
       "</table>\n",
       "<p>122733 rows × 10 columns</p>\n",
       "</div>"
      ],
      "text/plain": [
       "                DateTime  Temperature  Sunshine Duration  Shortwave Radiation  \\\n",
       "0        1.01.2008 03:00         -0.1                  0                  0.0   \n",
       "1        1.01.2008 04:00          2.5                  0                  0.0   \n",
       "2        1.01.2008 05:00          2.9                  0                  0.0   \n",
       "3        1.01.2008 06:00          3.9                  0                  0.0   \n",
       "4        1.01.2008 07:00          4.9                  0                  0.0   \n",
       "...                  ...          ...                ...                  ...   \n",
       "122728  31.12.2021 19:00          6.3                  0                  0.0   \n",
       "122729  31.12.2021 20:00          5.8                  0                  0.0   \n",
       "122730  31.12.2021 21:00          5.2                  0                  0.0   \n",
       "122731  31.12.2021 22:00          5.0                  0                  0.0   \n",
       "122732  31.12.2021 23:00          4.9                  0                  0.0   \n",
       "\n",
       "        Relative Humidity  Mean Sea Level Pressure  Soil Temperature  \\\n",
       "0                      92                   1019.2               5.9   \n",
       "1                      92                   1018.2               5.4   \n",
       "2                      95                   1017.1               5.1   \n",
       "3                      95                   1017.4               4.9   \n",
       "4                      93                   1016.4               5.1   \n",
       "...                   ...                      ...               ...   \n",
       "122728                 92                   1023.1               9.1   \n",
       "122729                 94                   1023.3               8.2   \n",
       "122730                 93                   1023.4               7.5   \n",
       "122731                 93                   1023.8               6.8   \n",
       "122732                 92                   1023.0               6.1   \n",
       "\n",
       "        Soil Moisture  Wind Speed  Wind Direction  \n",
       "0               0.212         0.0          180.00  \n",
       "1               0.212        22.7           43.07  \n",
       "2               0.212        25.8           54.09  \n",
       "3               0.212        25.8           59.86  \n",
       "4               0.211        26.7           61.02  \n",
       "...               ...         ...             ...  \n",
       "122728          0.260        11.9           54.87  \n",
       "122729          0.260        10.7           70.35  \n",
       "122730          0.260         9.1           71.57  \n",
       "122731          0.260         8.2           61.19  \n",
       "122732          0.260         7.7           52.59  \n",
       "\n",
       "[122733 rows x 10 columns]"
      ]
     },
     "execution_count": 40,
     "metadata": {},
     "output_type": "execute_result"
    }
   ],
   "source": [
    "data"
   ]
  },
  {
   "cell_type": "code",
   "execution_count": 44,
   "id": "f4b4d18c",
   "metadata": {},
   "outputs": [
    {
     "name": "stdout",
     "output_type": "stream",
     "text": [
      "<class 'pandas.core.frame.DataFrame'>\n",
      "RangeIndex: 679 entries, 0 to 678\n",
      "Data columns (total 13 columns):\n",
      " #   Column             Non-Null Count  Dtype  \n",
      "---  ------             --------------  -----  \n",
      " 0   MODEL              679 non-null    int64  \n",
      " 1   MAKE               679 non-null    object \n",
      " 2   MODEL.1            679 non-null    object \n",
      " 3   VEHICLE CLASS      679 non-null    object \n",
      " 4   ENGINE_SIZE        679 non-null    float64\n",
      " 5   CYLINDERS          679 non-null    int64  \n",
      " 6   TRANSMISSION       679 non-null    object \n",
      " 7   FUEL               679 non-null    object \n",
      " 8   FUEL_CONSUMPTION*  679 non-null    float64\n",
      " 9   Unnamed: 9         679 non-null    float64\n",
      " 10  Unnamed: 10        679 non-null    float64\n",
      " 11  Unnamed: 11        679 non-null    int64  \n",
      " 12  CO2_EMISSIONS      679 non-null    int64  \n",
      "dtypes: float64(4), int64(4), object(5)\n",
      "memory usage: 69.1+ KB\n"
     ]
    }
   ],
   "source": [
    "data = pd.read_csv(\"workspace/training/ML-AI/datasets/auto-co2.csv\")\n",
    "data.info()"
   ]
  },
  {
   "cell_type": "code",
   "execution_count": 14,
   "id": "12efab4b",
   "metadata": {},
   "outputs": [
    {
     "data": {
      "text/html": [
       "<div>\n",
       "<style scoped>\n",
       "    .dataframe tbody tr th:only-of-type {\n",
       "        vertical-align: middle;\n",
       "    }\n",
       "\n",
       "    .dataframe tbody tr th {\n",
       "        vertical-align: top;\n",
       "    }\n",
       "\n",
       "    .dataframe thead th {\n",
       "        text-align: right;\n",
       "    }\n",
       "</style>\n",
       "<table border=\"1\" class=\"dataframe\">\n",
       "  <thead>\n",
       "    <tr style=\"text-align: right;\">\n",
       "      <th></th>\n",
       "      <th>MODEL</th>\n",
       "      <th>ENGINE_SIZE</th>\n",
       "      <th>CYLINDERS</th>\n",
       "      <th>FUEL_CONSUMPTION*</th>\n",
       "      <th>Unnamed: 9</th>\n",
       "      <th>Unnamed: 10</th>\n",
       "      <th>Unnamed: 11</th>\n",
       "      <th>CO2_EMISSIONS</th>\n",
       "    </tr>\n",
       "  </thead>\n",
       "  <tbody>\n",
       "    <tr>\n",
       "      <th>count</th>\n",
       "      <td>679.0</td>\n",
       "      <td>679.000000</td>\n",
       "      <td>679.000000</td>\n",
       "      <td>679.000000</td>\n",
       "      <td>679.000000</td>\n",
       "      <td>679.000000</td>\n",
       "      <td>679.000000</td>\n",
       "      <td>679.000000</td>\n",
       "    </tr>\n",
       "    <tr>\n",
       "      <th>mean</th>\n",
       "      <td>2001.0</td>\n",
       "      <td>3.252577</td>\n",
       "      <td>5.798233</td>\n",
       "      <td>14.591900</td>\n",
       "      <td>10.613844</td>\n",
       "      <td>12.802798</td>\n",
       "      <td>23.107511</td>\n",
       "      <td>293.656848</td>\n",
       "    </tr>\n",
       "    <tr>\n",
       "      <th>std</th>\n",
       "      <td>0.0</td>\n",
       "      <td>1.203751</td>\n",
       "      <td>1.531073</td>\n",
       "      <td>3.025654</td>\n",
       "      <td>2.357724</td>\n",
       "      <td>2.685590</td>\n",
       "      <td>5.308083</td>\n",
       "      <td>60.372456</td>\n",
       "    </tr>\n",
       "    <tr>\n",
       "      <th>min</th>\n",
       "      <td>2001.0</td>\n",
       "      <td>1.000000</td>\n",
       "      <td>3.000000</td>\n",
       "      <td>4.900000</td>\n",
       "      <td>4.000000</td>\n",
       "      <td>4.500000</td>\n",
       "      <td>14.000000</td>\n",
       "      <td>104.000000</td>\n",
       "    </tr>\n",
       "    <tr>\n",
       "      <th>25%</th>\n",
       "      <td>2001.0</td>\n",
       "      <td>2.200000</td>\n",
       "      <td>4.000000</td>\n",
       "      <td>12.700000</td>\n",
       "      <td>9.000000</td>\n",
       "      <td>11.000000</td>\n",
       "      <td>19.000000</td>\n",
       "      <td>253.000000</td>\n",
       "    </tr>\n",
       "    <tr>\n",
       "      <th>50%</th>\n",
       "      <td>2001.0</td>\n",
       "      <td>3.000000</td>\n",
       "      <td>6.000000</td>\n",
       "      <td>14.300000</td>\n",
       "      <td>10.100000</td>\n",
       "      <td>12.300000</td>\n",
       "      <td>23.000000</td>\n",
       "      <td>283.000000</td>\n",
       "    </tr>\n",
       "    <tr>\n",
       "      <th>75%</th>\n",
       "      <td>2001.0</td>\n",
       "      <td>4.200000</td>\n",
       "      <td>6.000000</td>\n",
       "      <td>16.650000</td>\n",
       "      <td>12.500000</td>\n",
       "      <td>14.850000</td>\n",
       "      <td>26.000000</td>\n",
       "      <td>340.000000</td>\n",
       "    </tr>\n",
       "    <tr>\n",
       "      <th>max</th>\n",
       "      <td>2001.0</td>\n",
       "      <td>8.000000</td>\n",
       "      <td>12.000000</td>\n",
       "      <td>23.200000</td>\n",
       "      <td>18.000000</td>\n",
       "      <td>20.800000</td>\n",
       "      <td>63.000000</td>\n",
       "      <td>478.000000</td>\n",
       "    </tr>\n",
       "  </tbody>\n",
       "</table>\n",
       "</div>"
      ],
      "text/plain": [
       "        MODEL  ENGINE_SIZE   CYLINDERS  FUEL_CONSUMPTION*  Unnamed: 9  \\\n",
       "count   679.0   679.000000  679.000000         679.000000  679.000000   \n",
       "mean   2001.0     3.252577    5.798233          14.591900   10.613844   \n",
       "std       0.0     1.203751    1.531073           3.025654    2.357724   \n",
       "min    2001.0     1.000000    3.000000           4.900000    4.000000   \n",
       "25%    2001.0     2.200000    4.000000          12.700000    9.000000   \n",
       "50%    2001.0     3.000000    6.000000          14.300000   10.100000   \n",
       "75%    2001.0     4.200000    6.000000          16.650000   12.500000   \n",
       "max    2001.0     8.000000   12.000000          23.200000   18.000000   \n",
       "\n",
       "       Unnamed: 10  Unnamed: 11  CO2_EMISSIONS  \n",
       "count   679.000000   679.000000     679.000000  \n",
       "mean     12.802798    23.107511     293.656848  \n",
       "std       2.685590     5.308083      60.372456  \n",
       "min       4.500000    14.000000     104.000000  \n",
       "25%      11.000000    19.000000     253.000000  \n",
       "50%      12.300000    23.000000     283.000000  \n",
       "75%      14.850000    26.000000     340.000000  \n",
       "max      20.800000    63.000000     478.000000  "
      ]
     },
     "execution_count": 14,
     "metadata": {},
     "output_type": "execute_result"
    }
   ],
   "source": [
    "data.describe()"
   ]
  },
  {
   "cell_type": "code",
   "execution_count": null,
   "id": "dde715fa",
   "metadata": {},
   "outputs": [],
   "source": []
  }
 ],
 "metadata": {
  "kernelspec": {
   "display_name": "Python 3 (ipykernel)",
   "language": "python",
   "name": "python3"
  },
  "language_info": {
   "codemirror_mode": {
    "name": "ipython",
    "version": 3
   },
   "file_extension": ".py",
   "mimetype": "text/x-python",
   "name": "python",
   "nbconvert_exporter": "python",
   "pygments_lexer": "ipython3",
   "version": "3.9.7"
  }
 },
 "nbformat": 4,
 "nbformat_minor": 5
}
