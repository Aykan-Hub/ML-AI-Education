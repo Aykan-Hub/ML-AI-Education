{
 "cells": [
  {
   "cell_type": "markdown",
   "metadata": {
    "nbgrader": {
     "grade": false,
     "grade_id": "cell-1006daf9a11a75b1",
     "locked": true,
     "schema_version": 3,
     "solution": false
    }
   },
   "source": [
    "### Codio Activity 12.3: Decision Boundaries \n",
    "\n",
    "**Estimated Time: 60 Minutes**\n",
    "\n",
    "**Total Points: 55**\n",
    "\n",
    "This activity focuses on the effect of changing your decision threshold and the resulting predictions.  Again, you will use the `KNeighborsClassifier` but this time you will explore the `predict_proba` method of the fit estimator to change the thresholds for classifying observations.  You will explore the results of changing the decision threshold on the false negative rate of the classifier for the insurance data.  Here, we suppose the important thing is to not make the mistake of predicting somebody would not default when they really do.  \n",
    "\n",
    "#### Index\n",
    "\n",
    "- [Problem 1](#Problem-1)\n",
    "- [Problem 2](#Problem-2)\n",
    "- [Problem 3](#Problem-3)\n",
    "- [Problem 4](#Problem-4)\n",
    "- [Problem 5](#Problem-5)\n",
    "- [Problem 6](#Problem-6)"
   ]
  },
  {
   "cell_type": "code",
   "execution_count": 4,
   "metadata": {},
   "outputs": [],
   "source": [
    "import pandas as pd\n",
    "import numpy as np\n",
    "import matplotlib.pyplot as plt\n",
    "\n",
    "from sklearn.neighbors import KNeighborsClassifier\n",
    "from sklearn.preprocessing import StandardScaler, OneHotEncoder\n",
    "from sklearn.model_selection import train_test_split, GridSearchCV\n",
    "from sklearn.compose import make_column_transformer\n",
    "from sklearn.pipeline import Pipeline\n",
    "from sklearn import set_config\n",
    "\n",
    "set_config(display=\"diagram\")"
   ]
  },
  {
   "cell_type": "markdown",
   "metadata": {
    "nbgrader": {
     "grade": false,
     "grade_id": "cell-a80926e87f2438cb",
     "locked": true,
     "schema_version": 3,
     "solution": false
    }
   },
   "source": [
    "### The Dataset\n",
    "\n",
    "You continue to use the default example, and the data is again loaded and split for you below. "
   ]
  },
  {
   "cell_type": "code",
   "execution_count": 5,
   "metadata": {},
   "outputs": [],
   "source": [
    "default = pd.read_csv('data/default.csv')"
   ]
  },
  {
   "cell_type": "code",
   "execution_count": 6,
   "metadata": {},
   "outputs": [
    {
     "data": {
      "text/html": [
       "<div>\n",
       "<style scoped>\n",
       "    .dataframe tbody tr th:only-of-type {\n",
       "        vertical-align: middle;\n",
       "    }\n",
       "\n",
       "    .dataframe tbody tr th {\n",
       "        vertical-align: top;\n",
       "    }\n",
       "\n",
       "    .dataframe thead th {\n",
       "        text-align: right;\n",
       "    }\n",
       "</style>\n",
       "<table border=\"1\" class=\"dataframe\">\n",
       "  <thead>\n",
       "    <tr style=\"text-align: right;\">\n",
       "      <th></th>\n",
       "      <th>Unnamed: 0</th>\n",
       "      <th>default</th>\n",
       "      <th>student</th>\n",
       "      <th>balance</th>\n",
       "      <th>income</th>\n",
       "    </tr>\n",
       "  </thead>\n",
       "  <tbody>\n",
       "    <tr>\n",
       "      <th>0</th>\n",
       "      <td>1</td>\n",
       "      <td>No</td>\n",
       "      <td>No</td>\n",
       "      <td>729.526495</td>\n",
       "      <td>44361.625074</td>\n",
       "    </tr>\n",
       "    <tr>\n",
       "      <th>1</th>\n",
       "      <td>2</td>\n",
       "      <td>No</td>\n",
       "      <td>Yes</td>\n",
       "      <td>817.180407</td>\n",
       "      <td>12106.134700</td>\n",
       "    </tr>\n",
       "  </tbody>\n",
       "</table>\n",
       "</div>"
      ],
      "text/plain": [
       "   Unnamed: 0 default student     balance        income\n",
       "0           1      No      No  729.526495  44361.625074\n",
       "1           2      No     Yes  817.180407  12106.134700"
      ]
     },
     "execution_count": 6,
     "metadata": {},
     "output_type": "execute_result"
    }
   ],
   "source": [
    "default.head(2)"
   ]
  },
  {
   "cell_type": "code",
   "execution_count": 7,
   "metadata": {},
   "outputs": [],
   "source": [
    "X_train, X_test, y_train, y_test = train_test_split(default.drop('default', axis = 1), \n",
    "                                                    default['default'],\n",
    "                                                   random_state=42)"
   ]
  },
  {
   "cell_type": "code",
   "execution_count": 8,
   "metadata": {},
   "outputs": [],
   "source": [
    "transformer = make_column_transformer((OneHotEncoder(drop = 'if_binary'), ['student']),\n",
    "                                     remainder = StandardScaler())"
   ]
  },
  {
   "cell_type": "markdown",
   "metadata": {
    "nbgrader": {
     "grade": false,
     "grade_id": "cell-f566d9c26133a887",
     "locked": true,
     "schema_version": 3,
     "solution": false
    }
   },
   "source": [
    "[Back to top](#-Index)\n",
    "\n",
    "### Problem 1\n",
    "\n",
    "#### Basic Pipeline\n",
    "\n",
    "**10 Points**\n",
    "\n",
    "Build a pipeline `base_pipe` with named steps `transformer` and `knn` the implements a `KNeighborsClassifier` with `n_neighbors = 10`. "
   ]
  },
  {
   "cell_type": "code",
   "execution_count": 9,
   "metadata": {
    "nbgrader": {
     "grade": false,
     "grade_id": "cell-830cd0eb38495628",
     "locked": false,
     "schema_version": 3,
     "solution": true
    }
   },
   "outputs": [
    {
     "data": {
      "text/html": [
       "<style>#sk-1f33f751-3b70-4867-8a23-053f5adbc2f8 {color: black;background-color: white;}#sk-1f33f751-3b70-4867-8a23-053f5adbc2f8 pre{padding: 0;}#sk-1f33f751-3b70-4867-8a23-053f5adbc2f8 div.sk-toggleable {background-color: white;}#sk-1f33f751-3b70-4867-8a23-053f5adbc2f8 label.sk-toggleable__label {cursor: pointer;display: block;width: 100%;margin-bottom: 0;padding: 0.2em 0.3em;box-sizing: border-box;text-align: center;}#sk-1f33f751-3b70-4867-8a23-053f5adbc2f8 div.sk-toggleable__content {max-height: 0;max-width: 0;overflow: hidden;text-align: left;background-color: #f0f8ff;}#sk-1f33f751-3b70-4867-8a23-053f5adbc2f8 div.sk-toggleable__content pre {margin: 0.2em;color: black;border-radius: 0.25em;background-color: #f0f8ff;}#sk-1f33f751-3b70-4867-8a23-053f5adbc2f8 input.sk-toggleable__control:checked~div.sk-toggleable__content {max-height: 200px;max-width: 100%;overflow: auto;}#sk-1f33f751-3b70-4867-8a23-053f5adbc2f8 div.sk-estimator input.sk-toggleable__control:checked~label.sk-toggleable__label {background-color: #d4ebff;}#sk-1f33f751-3b70-4867-8a23-053f5adbc2f8 div.sk-label input.sk-toggleable__control:checked~label.sk-toggleable__label {background-color: #d4ebff;}#sk-1f33f751-3b70-4867-8a23-053f5adbc2f8 input.sk-hidden--visually {border: 0;clip: rect(1px 1px 1px 1px);clip: rect(1px, 1px, 1px, 1px);height: 1px;margin: -1px;overflow: hidden;padding: 0;position: absolute;width: 1px;}#sk-1f33f751-3b70-4867-8a23-053f5adbc2f8 div.sk-estimator {font-family: monospace;background-color: #f0f8ff;margin: 0.25em 0.25em;border: 1px dotted black;border-radius: 0.25em;box-sizing: border-box;}#sk-1f33f751-3b70-4867-8a23-053f5adbc2f8 div.sk-estimator:hover {background-color: #d4ebff;}#sk-1f33f751-3b70-4867-8a23-053f5adbc2f8 div.sk-parallel-item::after {content: \"\";width: 100%;border-bottom: 1px solid gray;flex-grow: 1;}#sk-1f33f751-3b70-4867-8a23-053f5adbc2f8 div.sk-label:hover label.sk-toggleable__label {background-color: #d4ebff;}#sk-1f33f751-3b70-4867-8a23-053f5adbc2f8 div.sk-serial::before {content: \"\";position: absolute;border-left: 1px solid gray;box-sizing: border-box;top: 2em;bottom: 0;left: 50%;}#sk-1f33f751-3b70-4867-8a23-053f5adbc2f8 div.sk-serial {display: flex;flex-direction: column;align-items: center;background-color: white;}#sk-1f33f751-3b70-4867-8a23-053f5adbc2f8 div.sk-item {z-index: 1;}#sk-1f33f751-3b70-4867-8a23-053f5adbc2f8 div.sk-parallel {display: flex;align-items: stretch;justify-content: center;background-color: white;}#sk-1f33f751-3b70-4867-8a23-053f5adbc2f8 div.sk-parallel-item {display: flex;flex-direction: column;position: relative;background-color: white;}#sk-1f33f751-3b70-4867-8a23-053f5adbc2f8 div.sk-parallel-item:first-child::after {align-self: flex-end;width: 50%;}#sk-1f33f751-3b70-4867-8a23-053f5adbc2f8 div.sk-parallel-item:last-child::after {align-self: flex-start;width: 50%;}#sk-1f33f751-3b70-4867-8a23-053f5adbc2f8 div.sk-parallel-item:only-child::after {width: 0;}#sk-1f33f751-3b70-4867-8a23-053f5adbc2f8 div.sk-dashed-wrapped {border: 1px dashed gray;margin: 0.2em;box-sizing: border-box;padding-bottom: 0.1em;background-color: white;position: relative;}#sk-1f33f751-3b70-4867-8a23-053f5adbc2f8 div.sk-label label {font-family: monospace;font-weight: bold;background-color: white;display: inline-block;line-height: 1.2em;}#sk-1f33f751-3b70-4867-8a23-053f5adbc2f8 div.sk-label-container {position: relative;z-index: 2;text-align: center;}#sk-1f33f751-3b70-4867-8a23-053f5adbc2f8 div.sk-container {display: inline-block;position: relative;}</style><div id=\"sk-1f33f751-3b70-4867-8a23-053f5adbc2f8\" class\"sk-top-container\"><div class=\"sk-container\"><div class=\"sk-item sk-dashed-wrapped\"><div class=\"sk-label-container\"><div class=\"sk-label sk-toggleable\"><input class=\"sk-toggleable__control sk-hidden--visually\" id=\"1621a5e0-b735-44cc-8dcb-fa1831acd4c0\" type=\"checkbox\" ><label class=\"sk-toggleable__label\" for=\"1621a5e0-b735-44cc-8dcb-fa1831acd4c0\">Pipeline</label><div class=\"sk-toggleable__content\"><pre>Pipeline(steps=[('transformer',\n",
       "                 ColumnTransformer(remainder=StandardScaler(),\n",
       "                                   transformers=[('onehotencoder',\n",
       "                                                  OneHotEncoder(drop='if_binary'),\n",
       "                                                  ['student'])])),\n",
       "                ('knn', KNeighborsClassifier(n_neighbors=10))])</pre></div></div></div><div class=\"sk-serial\"><div class=\"sk-item sk-dashed-wrapped\"><div class=\"sk-label-container\"><div class=\"sk-label sk-toggleable\"><input class=\"sk-toggleable__control sk-hidden--visually\" id=\"9672e41d-76c7-4361-a073-eb246023dbc1\" type=\"checkbox\" ><label class=\"sk-toggleable__label\" for=\"9672e41d-76c7-4361-a073-eb246023dbc1\">transformer: ColumnTransformer</label><div class=\"sk-toggleable__content\"><pre>ColumnTransformer(remainder=StandardScaler(),\n",
       "                  transformers=[('onehotencoder',\n",
       "                                 OneHotEncoder(drop='if_binary'),\n",
       "                                 ['student'])])</pre></div></div></div><div class=\"sk-parallel\"><div class=\"sk-parallel-item\"><div class=\"sk-item\"><div class=\"sk-label-container\"><div class=\"sk-label sk-toggleable\"><input class=\"sk-toggleable__control sk-hidden--visually\" id=\"3c694146-6e44-430d-9284-959fa325e237\" type=\"checkbox\" ><label class=\"sk-toggleable__label\" for=\"3c694146-6e44-430d-9284-959fa325e237\">onehotencoder</label><div class=\"sk-toggleable__content\"><pre>['student']</pre></div></div></div><div class=\"sk-serial\"><div class=\"sk-item\"><div class=\"sk-estimator sk-toggleable\"><input class=\"sk-toggleable__control sk-hidden--visually\" id=\"a93068a8-8969-46ff-ac91-260323266362\" type=\"checkbox\" ><label class=\"sk-toggleable__label\" for=\"a93068a8-8969-46ff-ac91-260323266362\">OneHotEncoder</label><div class=\"sk-toggleable__content\"><pre>OneHotEncoder(drop='if_binary')</pre></div></div></div></div></div></div><div class=\"sk-parallel-item\"><div class=\"sk-item\"><div class=\"sk-label-container\"><div class=\"sk-label sk-toggleable\"><input class=\"sk-toggleable__control sk-hidden--visually\" id=\"7fa3ede6-7124-469c-90e2-e28dcc37ba76\" type=\"checkbox\" ><label class=\"sk-toggleable__label\" for=\"7fa3ede6-7124-469c-90e2-e28dcc37ba76\">remainder</label><div class=\"sk-toggleable__content\"><pre></pre></div></div></div><div class=\"sk-serial\"><div class=\"sk-item\"><div class=\"sk-estimator sk-toggleable\"><input class=\"sk-toggleable__control sk-hidden--visually\" id=\"60ede36a-68ab-4ed5-8579-30b37ec12576\" type=\"checkbox\" ><label class=\"sk-toggleable__label\" for=\"60ede36a-68ab-4ed5-8579-30b37ec12576\">StandardScaler</label><div class=\"sk-toggleable__content\"><pre>StandardScaler()</pre></div></div></div></div></div></div></div></div><div class=\"sk-item\"><div class=\"sk-estimator sk-toggleable\"><input class=\"sk-toggleable__control sk-hidden--visually\" id=\"dc61a937-bb2e-480e-9de4-1d0fefe9ea0e\" type=\"checkbox\" ><label class=\"sk-toggleable__label\" for=\"dc61a937-bb2e-480e-9de4-1d0fefe9ea0e\">KNeighborsClassifier</label><div class=\"sk-toggleable__content\"><pre>KNeighborsClassifier(n_neighbors=10)</pre></div></div></div></div></div></div></div>"
      ],
      "text/plain": [
       "Pipeline(steps=[('transformer',\n",
       "                 ColumnTransformer(remainder=StandardScaler(),\n",
       "                                   transformers=[('onehotencoder',\n",
       "                                                  OneHotEncoder(drop='if_binary'),\n",
       "                                                  ['student'])])),\n",
       "                ('knn', KNeighborsClassifier(n_neighbors=10))])"
      ]
     },
     "execution_count": 9,
     "metadata": {},
     "output_type": "execute_result"
    }
   ],
   "source": [
    "### GRADED\n",
    "\n",
    "base_pipe = ''\n",
    "\n",
    "### BEGIN SOLUTION\n",
    "base_pipe = Pipeline([('transformer', transformer), ('knn', KNeighborsClassifier(n_neighbors=10))])\n",
    "### END SOLUTION\n",
    "\n",
    "# Answer check\n",
    "base_pipe"
   ]
  },
  {
   "cell_type": "code",
   "execution_count": 10,
   "metadata": {
    "nbgrader": {
     "grade": true,
     "grade_id": "cell-66eb1d9a491832ce",
     "locked": true,
     "points": 10,
     "schema_version": 3,
     "solution": false
    }
   },
   "outputs": [],
   "source": [
    "### BEGIN HIDDEN TESTS\n",
    "base_pipe_ = Pipeline([('transformer', transformer), ('knn', KNeighborsClassifier(n_neighbors=10))])\n",
    "names = list(base_pipe.named_steps.keys())\n",
    "names_ = list(base_pipe_.named_steps.keys())\n",
    "#\n",
    "#\n",
    "#\n",
    "assert names == names_\n",
    "### END HIDDEN TESTS"
   ]
  },
  {
   "cell_type": "markdown",
   "metadata": {
    "nbgrader": {
     "grade": false,
     "grade_id": "cell-3e82c6e400298551",
     "locked": true,
     "schema_version": 3,
     "solution": false
    }
   },
   "source": [
    "[Back to top](#-Index)\n",
    "\n",
    "### Problem 2\n",
    "\n",
    "#### Accuracy of KNN with 50% probability boundary\n",
    "\n",
    "**10 Points**\n",
    "\n",
    "The default decision boundary for classification will be 50%.  Determine the accuracy for this default setting and assign it to `base_acc`.  Also, consider the proportion of false negatives here.  Assign these as `base_fn`.  "
   ]
  },
  {
   "cell_type": "code",
   "execution_count": 11,
   "metadata": {
    "nbgrader": {
     "grade": false,
     "grade_id": "cell-2523cafd377338ae",
     "locked": false,
     "schema_version": 3,
     "solution": true
    }
   },
   "outputs": [
    {
     "data": {
      "text/html": [
       "<style>#sk-a4c1678d-7d8b-42b1-a216-ae5e44d5a175 {color: black;background-color: white;}#sk-a4c1678d-7d8b-42b1-a216-ae5e44d5a175 pre{padding: 0;}#sk-a4c1678d-7d8b-42b1-a216-ae5e44d5a175 div.sk-toggleable {background-color: white;}#sk-a4c1678d-7d8b-42b1-a216-ae5e44d5a175 label.sk-toggleable__label {cursor: pointer;display: block;width: 100%;margin-bottom: 0;padding: 0.2em 0.3em;box-sizing: border-box;text-align: center;}#sk-a4c1678d-7d8b-42b1-a216-ae5e44d5a175 div.sk-toggleable__content {max-height: 0;max-width: 0;overflow: hidden;text-align: left;background-color: #f0f8ff;}#sk-a4c1678d-7d8b-42b1-a216-ae5e44d5a175 div.sk-toggleable__content pre {margin: 0.2em;color: black;border-radius: 0.25em;background-color: #f0f8ff;}#sk-a4c1678d-7d8b-42b1-a216-ae5e44d5a175 input.sk-toggleable__control:checked~div.sk-toggleable__content {max-height: 200px;max-width: 100%;overflow: auto;}#sk-a4c1678d-7d8b-42b1-a216-ae5e44d5a175 div.sk-estimator input.sk-toggleable__control:checked~label.sk-toggleable__label {background-color: #d4ebff;}#sk-a4c1678d-7d8b-42b1-a216-ae5e44d5a175 div.sk-label input.sk-toggleable__control:checked~label.sk-toggleable__label {background-color: #d4ebff;}#sk-a4c1678d-7d8b-42b1-a216-ae5e44d5a175 input.sk-hidden--visually {border: 0;clip: rect(1px 1px 1px 1px);clip: rect(1px, 1px, 1px, 1px);height: 1px;margin: -1px;overflow: hidden;padding: 0;position: absolute;width: 1px;}#sk-a4c1678d-7d8b-42b1-a216-ae5e44d5a175 div.sk-estimator {font-family: monospace;background-color: #f0f8ff;margin: 0.25em 0.25em;border: 1px dotted black;border-radius: 0.25em;box-sizing: border-box;}#sk-a4c1678d-7d8b-42b1-a216-ae5e44d5a175 div.sk-estimator:hover {background-color: #d4ebff;}#sk-a4c1678d-7d8b-42b1-a216-ae5e44d5a175 div.sk-parallel-item::after {content: \"\";width: 100%;border-bottom: 1px solid gray;flex-grow: 1;}#sk-a4c1678d-7d8b-42b1-a216-ae5e44d5a175 div.sk-label:hover label.sk-toggleable__label {background-color: #d4ebff;}#sk-a4c1678d-7d8b-42b1-a216-ae5e44d5a175 div.sk-serial::before {content: \"\";position: absolute;border-left: 1px solid gray;box-sizing: border-box;top: 2em;bottom: 0;left: 50%;}#sk-a4c1678d-7d8b-42b1-a216-ae5e44d5a175 div.sk-serial {display: flex;flex-direction: column;align-items: center;background-color: white;}#sk-a4c1678d-7d8b-42b1-a216-ae5e44d5a175 div.sk-item {z-index: 1;}#sk-a4c1678d-7d8b-42b1-a216-ae5e44d5a175 div.sk-parallel {display: flex;align-items: stretch;justify-content: center;background-color: white;}#sk-a4c1678d-7d8b-42b1-a216-ae5e44d5a175 div.sk-parallel-item {display: flex;flex-direction: column;position: relative;background-color: white;}#sk-a4c1678d-7d8b-42b1-a216-ae5e44d5a175 div.sk-parallel-item:first-child::after {align-self: flex-end;width: 50%;}#sk-a4c1678d-7d8b-42b1-a216-ae5e44d5a175 div.sk-parallel-item:last-child::after {align-self: flex-start;width: 50%;}#sk-a4c1678d-7d8b-42b1-a216-ae5e44d5a175 div.sk-parallel-item:only-child::after {width: 0;}#sk-a4c1678d-7d8b-42b1-a216-ae5e44d5a175 div.sk-dashed-wrapped {border: 1px dashed gray;margin: 0.2em;box-sizing: border-box;padding-bottom: 0.1em;background-color: white;position: relative;}#sk-a4c1678d-7d8b-42b1-a216-ae5e44d5a175 div.sk-label label {font-family: monospace;font-weight: bold;background-color: white;display: inline-block;line-height: 1.2em;}#sk-a4c1678d-7d8b-42b1-a216-ae5e44d5a175 div.sk-label-container {position: relative;z-index: 2;text-align: center;}#sk-a4c1678d-7d8b-42b1-a216-ae5e44d5a175 div.sk-container {display: inline-block;position: relative;}</style><div id=\"sk-a4c1678d-7d8b-42b1-a216-ae5e44d5a175\" class\"sk-top-container\"><div class=\"sk-container\"><div class=\"sk-item sk-dashed-wrapped\"><div class=\"sk-label-container\"><div class=\"sk-label sk-toggleable\"><input class=\"sk-toggleable__control sk-hidden--visually\" id=\"7d34e99a-4d5a-47b3-8721-e6a673bc2c82\" type=\"checkbox\" ><label class=\"sk-toggleable__label\" for=\"7d34e99a-4d5a-47b3-8721-e6a673bc2c82\">Pipeline</label><div class=\"sk-toggleable__content\"><pre>Pipeline(steps=[('transformer',\n",
       "                 ColumnTransformer(remainder=StandardScaler(),\n",
       "                                   transformers=[('onehotencoder',\n",
       "                                                  OneHotEncoder(drop='if_binary'),\n",
       "                                                  ['student'])])),\n",
       "                ('knn', KNeighborsClassifier(n_neighbors=10))])</pre></div></div></div><div class=\"sk-serial\"><div class=\"sk-item sk-dashed-wrapped\"><div class=\"sk-label-container\"><div class=\"sk-label sk-toggleable\"><input class=\"sk-toggleable__control sk-hidden--visually\" id=\"2d31b2a0-449f-41b3-9692-38e86e43020d\" type=\"checkbox\" ><label class=\"sk-toggleable__label\" for=\"2d31b2a0-449f-41b3-9692-38e86e43020d\">transformer: ColumnTransformer</label><div class=\"sk-toggleable__content\"><pre>ColumnTransformer(remainder=StandardScaler(),\n",
       "                  transformers=[('onehotencoder',\n",
       "                                 OneHotEncoder(drop='if_binary'),\n",
       "                                 ['student'])])</pre></div></div></div><div class=\"sk-parallel\"><div class=\"sk-parallel-item\"><div class=\"sk-item\"><div class=\"sk-label-container\"><div class=\"sk-label sk-toggleable\"><input class=\"sk-toggleable__control sk-hidden--visually\" id=\"5fe3f52c-cd3a-4b53-b290-1936d64fefe0\" type=\"checkbox\" ><label class=\"sk-toggleable__label\" for=\"5fe3f52c-cd3a-4b53-b290-1936d64fefe0\">onehotencoder</label><div class=\"sk-toggleable__content\"><pre>['student']</pre></div></div></div><div class=\"sk-serial\"><div class=\"sk-item\"><div class=\"sk-estimator sk-toggleable\"><input class=\"sk-toggleable__control sk-hidden--visually\" id=\"a57508c6-9c79-4b02-a469-899b016b5794\" type=\"checkbox\" ><label class=\"sk-toggleable__label\" for=\"a57508c6-9c79-4b02-a469-899b016b5794\">OneHotEncoder</label><div class=\"sk-toggleable__content\"><pre>OneHotEncoder(drop='if_binary')</pre></div></div></div></div></div></div><div class=\"sk-parallel-item\"><div class=\"sk-item\"><div class=\"sk-label-container\"><div class=\"sk-label sk-toggleable\"><input class=\"sk-toggleable__control sk-hidden--visually\" id=\"4d843aa2-4a3d-446d-b6a0-7399033d9bc7\" type=\"checkbox\" ><label class=\"sk-toggleable__label\" for=\"4d843aa2-4a3d-446d-b6a0-7399033d9bc7\">remainder</label><div class=\"sk-toggleable__content\"><pre>['Unnamed: 0', 'balance', 'income']</pre></div></div></div><div class=\"sk-serial\"><div class=\"sk-item\"><div class=\"sk-estimator sk-toggleable\"><input class=\"sk-toggleable__control sk-hidden--visually\" id=\"2b3f439c-56de-4e15-b9f7-a6e9a4ebadd0\" type=\"checkbox\" ><label class=\"sk-toggleable__label\" for=\"2b3f439c-56de-4e15-b9f7-a6e9a4ebadd0\">StandardScaler</label><div class=\"sk-toggleable__content\"><pre>StandardScaler()</pre></div></div></div></div></div></div></div></div><div class=\"sk-item\"><div class=\"sk-estimator sk-toggleable\"><input class=\"sk-toggleable__control sk-hidden--visually\" id=\"f0a7d6fe-ce99-466b-9000-3fb9a239acb1\" type=\"checkbox\" ><label class=\"sk-toggleable__label\" for=\"f0a7d6fe-ce99-466b-9000-3fb9a239acb1\">KNeighborsClassifier</label><div class=\"sk-toggleable__content\"><pre>KNeighborsClassifier(n_neighbors=10)</pre></div></div></div></div></div></div></div>"
      ],
      "text/plain": [
       "Pipeline(steps=[('transformer',\n",
       "                 ColumnTransformer(remainder=StandardScaler(),\n",
       "                                   transformers=[('onehotencoder',\n",
       "                                                  OneHotEncoder(drop='if_binary'),\n",
       "                                                  ['student'])])),\n",
       "                ('knn', KNeighborsClassifier(n_neighbors=10))])"
      ]
     },
     "execution_count": 11,
     "metadata": {},
     "output_type": "execute_result"
    }
   ],
   "source": [
    "### GRADED\n",
    "\n",
    "base_acc = ''\n",
    "base_fp = ''\n",
    "\n",
    "### BEGIN SOLUTION\n",
    "base_pipe = Pipeline([('transformer', transformer), ('knn', KNeighborsClassifier(n_neighbors=10))])\n",
    "base_pipe.fit(X_train, y_train)\n",
    "base_acc = base_pipe.score(X_test, y_test)\n",
    "preds = base_pipe.predict(X_test)\n",
    "base_fp = 0\n",
    "for i, j in zip(preds, y_test):\n",
    "    if i == 'No':\n",
    "        if j == 'Yes':\n",
    "            base_fp += 1\n",
    "### END SOLUTION\n",
    "\n",
    "# Answer check\n",
    "base_pipe"
   ]
  },
  {
   "cell_type": "code",
   "execution_count": 12,
   "metadata": {
    "nbgrader": {
     "grade": true,
     "grade_id": "cell-dad7116fd83c5334",
     "locked": true,
     "points": 10,
     "schema_version": 3,
     "solution": false
    }
   },
   "outputs": [],
   "source": [
    "### BEGIN HIDDEN TESTS\n",
    "base_pipe_ = Pipeline([('transformer', transformer), ('knn', KNeighborsClassifier(n_neighbors=10))])\n",
    "base_pipe_.fit(X_train, y_train)\n",
    "base_acc_ = base_pipe_.score(X_test, y_test)\n",
    "preds_ = base_pipe_.predict(X_test)\n",
    "base_fp_ = 0\n",
    "for i, j in zip(preds, y_test):\n",
    "    if i == 'No':\n",
    "        if j == 'Yes':\n",
    "            base_fp_ += 1\n",
    "#\n",
    "#\n",
    "#\n",
    "#\n",
    "assert base_acc == base_acc_\n",
    "assert base_fp == base_fp_\n",
    "### END HIDDEN TESTS"
   ]
  },
  {
   "cell_type": "markdown",
   "metadata": {
    "nbgrader": {
     "grade": false,
     "grade_id": "cell-a21760fb4744ddb2",
     "locked": true,
     "schema_version": 3,
     "solution": false
    }
   },
   "source": [
    "[Back to top](#-Index)\n",
    "\n",
    "### Problem 3\n",
    "\n",
    "#### Prediction probabilities\n",
    "\n",
    "**10 Points**\n",
    "\n",
    "As demonstrated in Video 12.5, your fit estimator has a `predict_proba` method that will output a probability for each observation.  Assign the predicted probabilities as an array using the test data to `base_probs` below. Note that the first column represents the probability for `No`.  "
   ]
  },
  {
   "cell_type": "code",
   "execution_count": 13,
   "metadata": {
    "nbgrader": {
     "grade": false,
     "grade_id": "cell-65049225ccb60cc8",
     "locked": false,
     "schema_version": 3,
     "solution": true
    }
   },
   "outputs": [
    {
     "data": {
      "text/html": [
       "<div>\n",
       "<style scoped>\n",
       "    .dataframe tbody tr th:only-of-type {\n",
       "        vertical-align: middle;\n",
       "    }\n",
       "\n",
       "    .dataframe tbody tr th {\n",
       "        vertical-align: top;\n",
       "    }\n",
       "\n",
       "    .dataframe thead th {\n",
       "        text-align: right;\n",
       "    }\n",
       "</style>\n",
       "<table border=\"1\" class=\"dataframe\">\n",
       "  <thead>\n",
       "    <tr style=\"text-align: right;\">\n",
       "      <th></th>\n",
       "      <th>p_no</th>\n",
       "      <th>p_yes</th>\n",
       "    </tr>\n",
       "  </thead>\n",
       "  <tbody>\n",
       "    <tr>\n",
       "      <th>0</th>\n",
       "      <td>1.0</td>\n",
       "      <td>0.0</td>\n",
       "    </tr>\n",
       "    <tr>\n",
       "      <th>1</th>\n",
       "      <td>1.0</td>\n",
       "      <td>0.0</td>\n",
       "    </tr>\n",
       "    <tr>\n",
       "      <th>2</th>\n",
       "      <td>1.0</td>\n",
       "      <td>0.0</td>\n",
       "    </tr>\n",
       "    <tr>\n",
       "      <th>3</th>\n",
       "      <td>1.0</td>\n",
       "      <td>0.0</td>\n",
       "    </tr>\n",
       "    <tr>\n",
       "      <th>4</th>\n",
       "      <td>1.0</td>\n",
       "      <td>0.0</td>\n",
       "    </tr>\n",
       "  </tbody>\n",
       "</table>\n",
       "</div>"
      ],
      "text/plain": [
       "   p_no  p_yes\n",
       "0   1.0    0.0\n",
       "1   1.0    0.0\n",
       "2   1.0    0.0\n",
       "3   1.0    0.0\n",
       "4   1.0    0.0"
      ]
     },
     "execution_count": 13,
     "metadata": {},
     "output_type": "execute_result"
    }
   ],
   "source": [
    "### GRADED\n",
    "\n",
    "base_probs = ''\n",
    "\n",
    "### BEGIN SOLUTION\n",
    "base_pipe = Pipeline([('transformer', transformer), ('knn', KNeighborsClassifier(n_neighbors=10))])\n",
    "base_pipe.fit(X_train, y_train)\n",
    "base_probs = base_pipe.predict_proba(X_test)\n",
    "### END SOLUTION\n",
    "\n",
    "# Answer check\n",
    "pd.DataFrame(base_probs[:5], columns = ['p_no', 'p_yes'])"
   ]
  },
  {
   "cell_type": "code",
   "execution_count": 14,
   "metadata": {
    "nbgrader": {
     "grade": true,
     "grade_id": "cell-8a9118672f3e2939",
     "locked": true,
     "points": 10,
     "schema_version": 3,
     "solution": false
    }
   },
   "outputs": [],
   "source": [
    "### BEGIN HIDDEN TESTS\n",
    "base_pipe_ = Pipeline([('transformer', transformer), ('knn', KNeighborsClassifier(n_neighbors=10))])\n",
    "base_pipe_.fit(X_train, y_train)\n",
    "base_probs_ = base_pipe_.predict_proba(X_test)\n",
    "#\n",
    "#\n",
    "#\n",
    "#\n",
    "np.testing.assert_array_equal(base_probs, base_probs_)\n",
    "### END HIDDEN TESTS"
   ]
  },
  {
   "cell_type": "markdown",
   "metadata": {
    "nbgrader": {
     "grade": false,
     "grade_id": "cell-6b4d3fe32727b313",
     "locked": true,
     "schema_version": 3,
     "solution": false
    }
   },
   "source": [
    "[Back to top](#-Index)\n",
    "\n",
    "### Problem 4\n",
    "\n",
    "#### A Stricter `default` estimation\n",
    "\n",
    "**10 Points**\n",
    "\n",
    "As discussed in the previous assignment, if you aim to minimize the number of predictions that miss default observations you may consider increasing the probability threshold to make such a classification.  Accordingly, use your probabilities from the last problem to only predict 'No' if you have a higher than 70% probability that this is the label.  Assign your new predictions as an array to `strict_preds`.  Determine the number of false positive predictions here and assign them to `strict_fp` below.  "
   ]
  },
  {
   "cell_type": "code",
   "execution_count": 15,
   "metadata": {
    "nbgrader": {
     "grade": false,
     "grade_id": "cell-1bf2974cd9f8e0ea",
     "locked": false,
     "schema_version": 3,
     "solution": true
    }
   },
   "outputs": [
    {
     "name": "stdout",
     "output_type": "stream",
     "text": [
      "44\n"
     ]
    }
   ],
   "source": [
    "### GRADED\n",
    "\n",
    "strict_fp = ''\n",
    "\n",
    "### BEGIN SOLUTION\n",
    "base_pipe = Pipeline([('transformer', transformer), ('knn', KNeighborsClassifier(n_neighbors=10))])\n",
    "base_pipe.fit(X_train, y_train)\n",
    "base_probs = base_pipe.predict_proba(X_test)\n",
    "strict_preds = np.where(base_probs[:, 0] > .7, 'No', 'Yes')\n",
    "strict_fp = 0\n",
    "for i, j in zip(strict_preds, y_test):\n",
    "    if i == 'No':\n",
    "        if j == 'Yes':\n",
    "            strict_fp += 1\n",
    "### END SOLUTION\n",
    "\n",
    "# Answer check\n",
    "print(strict_fp)"
   ]
  },
  {
   "cell_type": "code",
   "execution_count": 16,
   "metadata": {
    "nbgrader": {
     "grade": true,
     "grade_id": "cell-9a929183737c8f0e",
     "locked": true,
     "points": 10,
     "schema_version": 3,
     "solution": false
    }
   },
   "outputs": [],
   "source": [
    "### BEGIN HIDDEN TESTS\n",
    "base_pipe_ = Pipeline([('transformer', transformer), ('knn', KNeighborsClassifier(n_neighbors=10))])\n",
    "base_pipe_.fit(X_train, y_train)\n",
    "base_probs_ = base_pipe_.predict_proba(X_test)\n",
    "strict_preds_ = np.where(base_probs_[:, 0] > .7, 'No', 'Yes')\n",
    "strict_fp_ = 0\n",
    "for i, j in zip(strict_preds_, y_test):\n",
    "    if i == 'No':\n",
    "        if j == 'Yes':\n",
    "            strict_fp_ += 1\n",
    "#\n",
    "#\n",
    "#\n",
    "#\n",
    "np.testing.assert_array_equal(strict_preds,strict_preds_)\n",
    "assert strict_fp == strict_fp_\n",
    "### END HIDDEN TESTS"
   ]
  },
  {
   "cell_type": "markdown",
   "metadata": {
    "nbgrader": {
     "grade": false,
     "grade_id": "cell-1e9c49a18f9efef4",
     "locked": true,
     "schema_version": 3,
     "solution": false
    }
   },
   "source": [
    "[Back to top](#-Index)\n",
    "\n",
    "### Problem 5\n",
    "\n",
    "#### Minimizing False Negatives\n",
    "\n",
    "**10 Points**\n",
    "\n",
    "Consider a 50%, 70%, and 90% decision boundary for predicting \"No\".  Which of these minimize the number of false negatives?  Assign your solution as an integer -- 50, 70, or 90 -- to `ans5` below.\n",
    "\n"
   ]
  },
  {
   "cell_type": "code",
   "execution_count": 17,
   "metadata": {
    "nbgrader": {
     "grade": false,
     "grade_id": "cell-f58d8a47597f42ef",
     "locked": false,
     "schema_version": 3,
     "solution": true
    }
   },
   "outputs": [
    {
     "name": "stdout",
     "output_type": "stream",
     "text": [
      "90\n"
     ]
    }
   ],
   "source": [
    "### GRADED\n",
    "\n",
    "ans5 = ''\n",
    "\n",
    "### BEGIN SOLUTION\n",
    "base_pipe = Pipeline([('transformer', transformer), ('knn', KNeighborsClassifier(n_neighbors=10))])\n",
    "base_pipe.fit(X_train, y_train)\n",
    "base_probs = base_pipe.predict_proba(X_test)\n",
    "stricter_preds = np.where(base_probs[:, 0] > .9, 'No', 'Yes')\n",
    "stricter_fp = 0\n",
    "for i, j in zip(stricter_preds, y_test):\n",
    "    if i == 'No':\n",
    "        if j == 'Yes':\n",
    "            stricter_fp += 1\n",
    "ans5 = 90\n",
    "### END SOLUTION\n",
    "\n",
    "# Answer check\n",
    "print(ans5)"
   ]
  },
  {
   "cell_type": "code",
   "execution_count": 18,
   "metadata": {
    "nbgrader": {
     "grade": true,
     "grade_id": "cell-1d21920c410a856f",
     "locked": true,
     "points": 10,
     "schema_version": 3,
     "solution": false
    }
   },
   "outputs": [],
   "source": [
    "### BEGIN HIDDEN TESTS\n",
    "ans5_ = 90\n",
    "#\n",
    "#\n",
    "#\n",
    "#\n",
    "assert ans5 == ans5_\n",
    "### END HIDDEN TESTS"
   ]
  },
  {
   "cell_type": "markdown",
   "metadata": {
    "nbgrader": {
     "grade": false,
     "grade_id": "cell-d4f521019aea115d",
     "locked": true,
     "schema_version": 3,
     "solution": false
    }
   },
   "source": [
    "[Back to top](#-Index)\n",
    "\n",
    "### Problem 6\n",
    "\n",
    "#### Visualizing decision boundaries\n",
    "\n",
    "**5 Points**\n",
    "\n",
    "For this exercise, a visualization of the decision boundary using a synthetic dataset is created and plotted below.  Which of these would you choose for minimizing the number of false positives?  Enter your choice as an integer -- 1, 20, or 50 -- to `ans6` below.\n",
    "\n",
    "<center>\n",
    "    <img src = images/dbounds.png />\n",
    "</center>"
   ]
  },
  {
   "cell_type": "code",
   "execution_count": 19,
   "metadata": {
    "nbgrader": {
     "grade": false,
     "grade_id": "cell-41eedd1ed33d65cf",
     "locked": false,
     "schema_version": 3,
     "solution": true
    }
   },
   "outputs": [
    {
     "name": "stdout",
     "output_type": "stream",
     "text": [
      "1\n"
     ]
    }
   ],
   "source": [
    "### GRADED\n",
    "\n",
    "ans6 = ''\n",
    "\n",
    "### BEGIN SOLUTION\n",
    "ans6 = 1\n",
    "### END SOLUTION\n",
    "\n",
    "# Answer check\n",
    "print(ans6)"
   ]
  },
  {
   "cell_type": "code",
   "execution_count": 20,
   "metadata": {
    "nbgrader": {
     "grade": true,
     "grade_id": "cell-f6903a98b6ebbcc7",
     "locked": true,
     "points": 5,
     "schema_version": 3,
     "solution": false
    }
   },
   "outputs": [],
   "source": [
    "### BEGIN HIDDEN TESTS\n",
    "ans6_ = 1\n",
    "#\n",
    "#\n",
    "#\n",
    "#\n",
    "assert ans6 == ans6_\n",
    "### END HIDDEN TESTS"
   ]
  }
 ],
 "metadata": {
  "celltoolbar": "Create Assignment",
  "kernelspec": {
   "display_name": "Python 3 (ipykernel)",
   "language": "python",
   "name": "python3"
  },
  "language_info": {
   "codemirror_mode": {
    "name": "ipython",
    "version": 3
   },
   "file_extension": ".py",
   "mimetype": "text/x-python",
   "name": "python",
   "nbconvert_exporter": "python",
   "pygments_lexer": "ipython3",
   "version": "3.9.7"
  },
  "widgets": {
   "application/vnd.jupyter.widget-state+json": {
    "state": {},
    "version_major": 2,
    "version_minor": 0
   }
  }
 },
 "nbformat": 4,
 "nbformat_minor": 4
}
