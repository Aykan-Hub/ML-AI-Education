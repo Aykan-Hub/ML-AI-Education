{
 "cells": [
  {
   "cell_type": "markdown",
   "metadata": {
    "id": "UKFFdWx8QSvi",
    "nbgrader": {
     "grade": false,
     "grade_id": "cell-df07fdb9d162d209",
     "locked": true,
     "schema_version": 1,
     "solution": false
    }
   },
   "source": [
    "## Codio Activity 2.5: Plotting Multivariate Datasets\n",
    "\n",
    "**Expected Time: 60 Minutes**\n",
    "\n",
    "**Total Points: 20**\n",
    "\n",
    "\n",
    "In this activity you will focus on creating histograms and scatterplots using `matplotlib`.  You are to generate these plots both using standard plotting commands and the utilities with pandas DataFrame's to plot as a DataFrame method.  Finally, you will customize elements of the plots using additional `matplotlib` functions.\n",
    "\n",
    "\n",
    "## Index:\n",
    "\n",
    "- [Problem 1](#Problem-1:-Load-the-Data)\n",
    "- [Problem 2](#Problem-2:-Features-for-Histograms)\n",
    "- [Problem 3](#Problem-3:-Histogram-of-Life-Expectancy)\n",
    "- [Problem 4](#Problem-4:-Adding-a-title-and-human-readable-label)\n",
    "- [Problem 5](#Problem-5:-Histogram-of-GDP)\n",
    "- [Problem 6](#Problem-6:-Customizing-the-Histogram)\n",
    "- [Problem 7](#Problem-7:-Scatterplot-of-GDP-vs.-Life-Expectancy)\n",
    "- [Problem 8](#Problem-8:-Logarithmic-Transformation)\n",
    "- [Problem 9](#Problem-9:-`pandas`-histogram)\n",
    "- [Problem 10](#Problem-10:-`pandas`-scatterplot)"
   ]
  },
  {
   "cell_type": "code",
   "execution_count": 2,
   "metadata": {
    "id": "gzfxmKakQSvn",
    "nbgrader": {
     "grade": false,
     "grade_id": "cell-28591bdc0123355b",
     "locked": true,
     "schema_version": 1,
     "solution": false
    }
   },
   "outputs": [],
   "source": [
    "import matplotlib.pyplot as plt\n",
    "import pandas as pd\n",
    "import numpy as np"
   ]
  },
  {
   "cell_type": "markdown",
   "metadata": {
    "id": "Yn9abw6eQSvm",
    "nbgrader": {
     "grade": false,
     "grade_id": "cell-04ae2f5ead2c5136",
     "locked": true,
     "schema_version": 1,
     "solution": false
    }
   },
   "source": [
    "### Dataset: Gapminder\n",
    "\n",
    "![](images/gapminder-logo.svg)\n",
    "The data below has been extracted from the [*gapminder*](https://www.gapminder.org/) organization.  Documentation for the larger data sources can be found [here](https://www.gapminder.org/data/documentation/) and the implementation of the data as a python library [here](https://pypi.org/project/gapminder/).  The data contains information on the Gross Domestic Product, Life Expectancy, and Population in five year intervals for countries around the world."
   ]
  },
  {
   "cell_type": "markdown",
   "metadata": {
    "id": "MT9xzSsDQSvo",
    "nbgrader": {
     "grade": false,
     "grade_id": "cell-cbb2eecd0a8ffc17",
     "locked": true,
     "schema_version": 1,
     "solution": false
    }
   },
   "source": [
    "[Back to top](#Index:) \n",
    "\n",
    "### Problem 1: Load the Data\n",
    "\n",
    "**2 Points**\n",
    "\n",
    "\n",
    "The dataset is available in the `data` folder and is named `gapminder.csv`. Load this in as `gap_df` below.  "
   ]
  },
  {
   "cell_type": "code",
   "execution_count": 4,
   "metadata": {},
   "outputs": [],
   "source": [
    "import ssl\n",
    "ssl._create_default_https_context = ssl._create_unverified_context"
   ]
  },
  {
   "cell_type": "code",
   "execution_count": 5,
   "metadata": {
    "id": "LS8P3VgmQSvo",
    "nbgrader": {
     "grade": false,
     "grade_id": "cell-0010e5bd020e9876",
     "locked": false,
     "schema_version": 1,
     "solution": true
    }
   },
   "outputs": [],
   "source": [
    "### GRADED\n",
    "\n",
    "gap_df = ''\n",
    "\n",
    "### BEGIN SOLUTION\n",
    "gap_df = pd.read_csv('https://raw.githubusercontent.com/SavioSal/datasets/master/gapminder.csv')\n",
    "### END SOLUTION"
   ]
  },
  {
   "cell_type": "code",
   "execution_count": 6,
   "metadata": {
    "id": "jonDK-5fQSvp",
    "nbgrader": {
     "grade": true,
     "grade_id": "cell-3779def4c55cadc6",
     "locked": true,
     "points": 2,
     "schema_version": 1,
     "solution": false
    }
   },
   "outputs": [],
   "source": [
    "### BEGIN HIDDEN TESTS\n",
    "gap_df_ = pd.read_csv('https://raw.githubusercontent.com/SavioSal/datasets/master/gapminder.csv')\n",
    "pd.testing.assert_frame_equal(gap_df_, gap_df)\n",
    "### END HIDDEN TESTS"
   ]
  },
  {
   "cell_type": "code",
   "execution_count": 59,
   "metadata": {},
   "outputs": [
    {
     "data": {
      "text/html": [
       "<div>\n",
       "<style scoped>\n",
       "    .dataframe tbody tr th:only-of-type {\n",
       "        vertical-align: middle;\n",
       "    }\n",
       "\n",
       "    .dataframe tbody tr th {\n",
       "        vertical-align: top;\n",
       "    }\n",
       "\n",
       "    .dataframe thead th {\n",
       "        text-align: right;\n",
       "    }\n",
       "</style>\n",
       "<table border=\"1\" class=\"dataframe\">\n",
       "  <thead>\n",
       "    <tr style=\"text-align: right;\">\n",
       "      <th></th>\n",
       "      <th>Unnamed: 0</th>\n",
       "      <th>country</th>\n",
       "      <th>continent</th>\n",
       "      <th>year</th>\n",
       "      <th>lifeExp</th>\n",
       "      <th>pop</th>\n",
       "      <th>gdpPercap</th>\n",
       "    </tr>\n",
       "  </thead>\n",
       "  <tbody>\n",
       "    <tr>\n",
       "      <th>0</th>\n",
       "      <td>1</td>\n",
       "      <td>Afghanistan</td>\n",
       "      <td>Asia</td>\n",
       "      <td>1952</td>\n",
       "      <td>28.801</td>\n",
       "      <td>8425333</td>\n",
       "      <td>779.445314</td>\n",
       "    </tr>\n",
       "    <tr>\n",
       "      <th>1</th>\n",
       "      <td>2</td>\n",
       "      <td>Afghanistan</td>\n",
       "      <td>Asia</td>\n",
       "      <td>1957</td>\n",
       "      <td>30.332</td>\n",
       "      <td>9240934</td>\n",
       "      <td>820.853030</td>\n",
       "    </tr>\n",
       "    <tr>\n",
       "      <th>2</th>\n",
       "      <td>3</td>\n",
       "      <td>Afghanistan</td>\n",
       "      <td>Asia</td>\n",
       "      <td>1962</td>\n",
       "      <td>31.997</td>\n",
       "      <td>10267083</td>\n",
       "      <td>853.100710</td>\n",
       "    </tr>\n",
       "    <tr>\n",
       "      <th>3</th>\n",
       "      <td>4</td>\n",
       "      <td>Afghanistan</td>\n",
       "      <td>Asia</td>\n",
       "      <td>1967</td>\n",
       "      <td>34.020</td>\n",
       "      <td>11537966</td>\n",
       "      <td>836.197138</td>\n",
       "    </tr>\n",
       "    <tr>\n",
       "      <th>4</th>\n",
       "      <td>5</td>\n",
       "      <td>Afghanistan</td>\n",
       "      <td>Asia</td>\n",
       "      <td>1972</td>\n",
       "      <td>36.088</td>\n",
       "      <td>13079460</td>\n",
       "      <td>739.981106</td>\n",
       "    </tr>\n",
       "    <tr>\n",
       "      <th>...</th>\n",
       "      <td>...</td>\n",
       "      <td>...</td>\n",
       "      <td>...</td>\n",
       "      <td>...</td>\n",
       "      <td>...</td>\n",
       "      <td>...</td>\n",
       "      <td>...</td>\n",
       "    </tr>\n",
       "    <tr>\n",
       "      <th>1699</th>\n",
       "      <td>1700</td>\n",
       "      <td>Zimbabwe</td>\n",
       "      <td>Africa</td>\n",
       "      <td>1987</td>\n",
       "      <td>62.351</td>\n",
       "      <td>9216418</td>\n",
       "      <td>706.157306</td>\n",
       "    </tr>\n",
       "    <tr>\n",
       "      <th>1700</th>\n",
       "      <td>1701</td>\n",
       "      <td>Zimbabwe</td>\n",
       "      <td>Africa</td>\n",
       "      <td>1992</td>\n",
       "      <td>60.377</td>\n",
       "      <td>10704340</td>\n",
       "      <td>693.420786</td>\n",
       "    </tr>\n",
       "    <tr>\n",
       "      <th>1701</th>\n",
       "      <td>1702</td>\n",
       "      <td>Zimbabwe</td>\n",
       "      <td>Africa</td>\n",
       "      <td>1997</td>\n",
       "      <td>46.809</td>\n",
       "      <td>11404948</td>\n",
       "      <td>792.449960</td>\n",
       "    </tr>\n",
       "    <tr>\n",
       "      <th>1702</th>\n",
       "      <td>1703</td>\n",
       "      <td>Zimbabwe</td>\n",
       "      <td>Africa</td>\n",
       "      <td>2002</td>\n",
       "      <td>39.989</td>\n",
       "      <td>11926563</td>\n",
       "      <td>672.038623</td>\n",
       "    </tr>\n",
       "    <tr>\n",
       "      <th>1703</th>\n",
       "      <td>1704</td>\n",
       "      <td>Zimbabwe</td>\n",
       "      <td>Africa</td>\n",
       "      <td>2007</td>\n",
       "      <td>43.487</td>\n",
       "      <td>12311143</td>\n",
       "      <td>469.709298</td>\n",
       "    </tr>\n",
       "  </tbody>\n",
       "</table>\n",
       "<p>1704 rows × 7 columns</p>\n",
       "</div>"
      ],
      "text/plain": [
       "      Unnamed: 0      country continent  year  lifeExp       pop   gdpPercap\n",
       "0              1  Afghanistan      Asia  1952   28.801   8425333  779.445314\n",
       "1              2  Afghanistan      Asia  1957   30.332   9240934  820.853030\n",
       "2              3  Afghanistan      Asia  1962   31.997  10267083  853.100710\n",
       "3              4  Afghanistan      Asia  1967   34.020  11537966  836.197138\n",
       "4              5  Afghanistan      Asia  1972   36.088  13079460  739.981106\n",
       "...          ...          ...       ...   ...      ...       ...         ...\n",
       "1699        1700     Zimbabwe    Africa  1987   62.351   9216418  706.157306\n",
       "1700        1701     Zimbabwe    Africa  1992   60.377  10704340  693.420786\n",
       "1701        1702     Zimbabwe    Africa  1997   46.809  11404948  792.449960\n",
       "1702        1703     Zimbabwe    Africa  2002   39.989  11926563  672.038623\n",
       "1703        1704     Zimbabwe    Africa  2007   43.487  12311143  469.709298\n",
       "\n",
       "[1704 rows x 7 columns]"
      ]
     },
     "execution_count": 59,
     "metadata": {},
     "output_type": "execute_result"
    }
   ],
   "source": [
    "gap_df"
   ]
  },
  {
   "cell_type": "code",
   "execution_count": 24,
   "metadata": {},
   "outputs": [
    {
     "data": {
      "text/html": [
       "<div>\n",
       "<style scoped>\n",
       "    .dataframe tbody tr th:only-of-type {\n",
       "        vertical-align: middle;\n",
       "    }\n",
       "\n",
       "    .dataframe tbody tr th {\n",
       "        vertical-align: top;\n",
       "    }\n",
       "\n",
       "    .dataframe thead th {\n",
       "        text-align: right;\n",
       "    }\n",
       "</style>\n",
       "<table border=\"1\" class=\"dataframe\">\n",
       "  <thead>\n",
       "    <tr style=\"text-align: right;\">\n",
       "      <th></th>\n",
       "      <th>country</th>\n",
       "      <th>continent</th>\n",
       "      <th>year</th>\n",
       "      <th>lifeExp</th>\n",
       "      <th>pop</th>\n",
       "      <th>gdpPercap</th>\n",
       "    </tr>\n",
       "  </thead>\n",
       "  <tbody>\n",
       "    <tr>\n",
       "      <th>0</th>\n",
       "      <td>Afghanistan</td>\n",
       "      <td>Asia</td>\n",
       "      <td>1952</td>\n",
       "      <td>28.801</td>\n",
       "      <td>8425333</td>\n",
       "      <td>779.445314</td>\n",
       "    </tr>\n",
       "    <tr>\n",
       "      <th>1</th>\n",
       "      <td>Afghanistan</td>\n",
       "      <td>Asia</td>\n",
       "      <td>1957</td>\n",
       "      <td>30.332</td>\n",
       "      <td>9240934</td>\n",
       "      <td>820.853030</td>\n",
       "    </tr>\n",
       "    <tr>\n",
       "      <th>2</th>\n",
       "      <td>Afghanistan</td>\n",
       "      <td>Asia</td>\n",
       "      <td>1962</td>\n",
       "      <td>31.997</td>\n",
       "      <td>10267083</td>\n",
       "      <td>853.100710</td>\n",
       "    </tr>\n",
       "    <tr>\n",
       "      <th>3</th>\n",
       "      <td>Afghanistan</td>\n",
       "      <td>Asia</td>\n",
       "      <td>1967</td>\n",
       "      <td>34.020</td>\n",
       "      <td>11537966</td>\n",
       "      <td>836.197138</td>\n",
       "    </tr>\n",
       "    <tr>\n",
       "      <th>4</th>\n",
       "      <td>Afghanistan</td>\n",
       "      <td>Asia</td>\n",
       "      <td>1972</td>\n",
       "      <td>36.088</td>\n",
       "      <td>13079460</td>\n",
       "      <td>739.981106</td>\n",
       "    </tr>\n",
       "    <tr>\n",
       "      <th>...</th>\n",
       "      <td>...</td>\n",
       "      <td>...</td>\n",
       "      <td>...</td>\n",
       "      <td>...</td>\n",
       "      <td>...</td>\n",
       "      <td>...</td>\n",
       "    </tr>\n",
       "    <tr>\n",
       "      <th>1699</th>\n",
       "      <td>Zimbabwe</td>\n",
       "      <td>Africa</td>\n",
       "      <td>1987</td>\n",
       "      <td>62.351</td>\n",
       "      <td>9216418</td>\n",
       "      <td>706.157306</td>\n",
       "    </tr>\n",
       "    <tr>\n",
       "      <th>1700</th>\n",
       "      <td>Zimbabwe</td>\n",
       "      <td>Africa</td>\n",
       "      <td>1992</td>\n",
       "      <td>60.377</td>\n",
       "      <td>10704340</td>\n",
       "      <td>693.420786</td>\n",
       "    </tr>\n",
       "    <tr>\n",
       "      <th>1701</th>\n",
       "      <td>Zimbabwe</td>\n",
       "      <td>Africa</td>\n",
       "      <td>1997</td>\n",
       "      <td>46.809</td>\n",
       "      <td>11404948</td>\n",
       "      <td>792.449960</td>\n",
       "    </tr>\n",
       "    <tr>\n",
       "      <th>1702</th>\n",
       "      <td>Zimbabwe</td>\n",
       "      <td>Africa</td>\n",
       "      <td>2002</td>\n",
       "      <td>39.989</td>\n",
       "      <td>11926563</td>\n",
       "      <td>672.038623</td>\n",
       "    </tr>\n",
       "    <tr>\n",
       "      <th>1703</th>\n",
       "      <td>Zimbabwe</td>\n",
       "      <td>Africa</td>\n",
       "      <td>2007</td>\n",
       "      <td>43.487</td>\n",
       "      <td>12311143</td>\n",
       "      <td>469.709298</td>\n",
       "    </tr>\n",
       "  </tbody>\n",
       "</table>\n",
       "<p>1704 rows × 6 columns</p>\n",
       "</div>"
      ],
      "text/plain": [
       "          country continent  year  lifeExp       pop   gdpPercap\n",
       "0     Afghanistan      Asia  1952   28.801   8425333  779.445314\n",
       "1     Afghanistan      Asia  1957   30.332   9240934  820.853030\n",
       "2     Afghanistan      Asia  1962   31.997  10267083  853.100710\n",
       "3     Afghanistan      Asia  1967   34.020  11537966  836.197138\n",
       "4     Afghanistan      Asia  1972   36.088  13079460  739.981106\n",
       "...           ...       ...   ...      ...       ...         ...\n",
       "1699     Zimbabwe    Africa  1987   62.351   9216418  706.157306\n",
       "1700     Zimbabwe    Africa  1992   60.377  10704340  693.420786\n",
       "1701     Zimbabwe    Africa  1997   46.809  11404948  792.449960\n",
       "1702     Zimbabwe    Africa  2002   39.989  11926563  672.038623\n",
       "1703     Zimbabwe    Africa  2007   43.487  12311143  469.709298\n",
       "\n",
       "[1704 rows x 6 columns]"
      ]
     },
     "execution_count": 24,
     "metadata": {},
     "output_type": "execute_result"
    }
   ],
   "source": [
    "gap_df.iloc[0:,1:]"
   ]
  },
  {
   "cell_type": "markdown",
   "metadata": {
    "id": "10_-bb88QSvp",
    "nbgrader": {
     "grade": false,
     "grade_id": "cell-ca1228978d2c67a3",
     "locked": true,
     "schema_version": 1,
     "solution": false
    }
   },
   "source": [
    "[Back to top](#Index:) \n",
    "\n",
    "### Problem 2: Features for Histograms\n",
    "\n",
    "**2 Points**\n",
    "\n",
    "A histogram is a plot that is appropriate for continuous numeric features.  Examine the data and determine a list of columns that are eligible for drawing histograms.  Save your answer as a list of strings that match the column names exactly to `hist_columns` below.\n",
    "\n",
    "```python\n",
    "hist_columns = ['col_name_1', 'col_name_2', ...]\n",
    "```"
   ]
  },
  {
   "cell_type": "code",
   "execution_count": 16,
   "metadata": {},
   "outputs": [
    {
     "data": {
      "text/plain": [
       "array([[<AxesSubplot:title={'center':'Unnamed: 0'}>,\n",
       "        <AxesSubplot:title={'center':'year'}>],\n",
       "       [<AxesSubplot:title={'center':'lifeExp'}>,\n",
       "        <AxesSubplot:title={'center':'pop'}>],\n",
       "       [<AxesSubplot:title={'center':'gdpPercap'}>, <AxesSubplot:>]],\n",
       "      dtype=object)"
      ]
     },
     "execution_count": 16,
     "metadata": {},
     "output_type": "execute_result"
    },
    {
     "data": {
      "image/png": "[encoded data removed]",
      "text/plain": [
       "<Figure size 576x360 with 6 Axes>"
      ]
     },
     "metadata": {
      "needs_background": "light"
     },
     "output_type": "display_data"
    }
   ],
   "source": [
    "gap_df.hist(figsize=(8,5))"
   ]
  },
  {
   "cell_type": "code",
   "execution_count": 13,
   "metadata": {
    "id": "ih3E358VQSvq",
    "nbgrader": {
     "grade": false,
     "grade_id": "cell-e416070d10bd378e",
     "locked": false,
     "schema_version": 1,
     "solution": true
    },
    "outputId": "12e6edc1-9df0-47dd-b153-cc86c1098512"
   },
   "outputs": [
    {
     "name": "stdout",
     "output_type": "stream",
     "text": [
      "<class 'list'>\n"
     ]
    }
   ],
   "source": [
    "### GRADED\n",
    "\n",
    "hist_columns = ''\n",
    "\n",
    "### BEGIN SOLUTION\n",
    "hist_columns = ['lifeExp', 'pop', 'gdpPercap']\n",
    "### END SOLUTION\n",
    "\n",
    "# Answer check\n",
    "print(type(hist_columns)) ##should be list"
   ]
  },
  {
   "cell_type": "code",
   "execution_count": 14,
   "metadata": {
    "id": "FZaUolvpQSvr",
    "nbgrader": {
     "grade": true,
     "grade_id": "cell-8c0994184882e304",
     "locked": true,
     "points": 2,
     "schema_version": 1,
     "solution": false
    }
   },
   "outputs": [],
   "source": [
    "### BEGIN HIDDEN TESTS\n",
    "hist_columns_ = ['lifeExp', 'pop', 'gdpPercap']\n",
    "assert set(hist_columns) == set(hist_columns_)\n",
    "### END HIDDEN TESTS"
   ]
  },
  {
   "cell_type": "markdown",
   "metadata": {
    "id": "LFzWPFUuQSvs",
    "nbgrader": {
     "grade": false,
     "grade_id": "cell-44c52fe09bced700",
     "locked": true,
     "schema_version": 1,
     "solution": false
    }
   },
   "source": [
    "[Back to top](#Index:) \n",
    "\n",
    "### Problem 3: Histogram of Life Expectancy\n",
    "\n",
    "**2 Points**\n",
    "\n",
    "Use the `matplotlib` histogram with `plt.hist()` to create a histogram of the Life Expectancy column.  Use the `plt.savefig()` method to save the image as `life_exp_hist.png` in the `images` folder."
   ]
  },
  {
   "cell_type": "code",
   "execution_count": 32,
   "metadata": {
    "id": "MsB64Bx-QSvs",
    "nbgrader": {
     "grade": false,
     "grade_id": "cell-e7f239fd263be32b",
     "locked": false,
     "schema_version": 1,
     "solution": true
    }
   },
   "outputs": [
    {
     "data": {
      "image/png": "[encoded data removed]",
      "text/plain": [
       "<Figure size 432x288 with 1 Axes>"
      ]
     },
     "metadata": {
      "needs_background": "light"
     },
     "output_type": "display_data"
    }
   ],
   "source": [
    "### GRADED\n",
    "\n",
    "### BEGIN SOLUTION\n",
    "\n",
    "plt.hist(gap_df['lifeExp'])\n",
    "plt.savefig('images/life_exp_hist.png')\n",
    "### END SOLUTION\n"
   ]
  },
  {
   "cell_type": "code",
   "execution_count": 7,
   "metadata": {
    "nbgrader": {
     "grade": true,
     "grade_id": "cell-0c5a7796c9fc1a1f",
     "locked": true,
     "points": 2,
     "schema_version": 1,
     "solution": false
    }
   },
   "outputs": [],
   "source": [
    "### BEGIN HIDDEN TESTS\n",
    "pass\n",
    "### END HIDDEN TESTS"
   ]
  },
  {
   "cell_type": "markdown",
   "metadata": {
    "id": "1dYF6EQnQSvs",
    "nbgrader": {
     "grade": false,
     "grade_id": "cell-84ceb7a00f5d8caf",
     "locked": true,
     "schema_version": 1,
     "solution": false
    }
   },
   "source": [
    "[Back to top](#Index:) \n",
    "\n",
    "### Problem 4: Adding a title and human readable label\n",
    "\n",
    "**2 Points**\n",
    "\n",
    "Use the `plt.title()` method to add the title \"Histogram of Life Expectancy\".  Also, use the `plt.xlabel()` method to add a label to the x-axis \"Life Expectancy\".  Save your image as `hist2.png` to the `image` folder."
   ]
  },
  {
   "cell_type": "code",
   "execution_count": 34,
   "metadata": {
    "id": "9klJdfi7QSvt",
    "nbgrader": {
     "grade": false,
     "grade_id": "cell-9bb552338410dd34",
     "locked": false,
     "schema_version": 1,
     "solution": true
    }
   },
   "outputs": [
    {
     "data": {
      "image/png": "[encoded data removed]",
      "text/plain": [
       "<Figure size 432x288 with 1 Axes>"
      ]
     },
     "metadata": {
      "needs_background": "light"
     },
     "output_type": "display_data"
    }
   ],
   "source": [
    "### GRADED\n",
    "\n",
    "### BEGIN SOLUTION\n",
    "plt.hist(gap_df['lifeExp'])\n",
    "plt.title(\"Histogram of Life Expectancy\")\n",
    "plt.xlabel(\"Life Expectancy\")\n",
    "plt.savefig('images/hist2.png')\n",
    "\n",
    "### END SOLUTION\n",
    "\n"
   ]
  },
  {
   "cell_type": "code",
   "execution_count": 35,
   "metadata": {
    "nbgrader": {
     "grade": true,
     "grade_id": "cell-52944515702c763d",
     "locked": true,
     "points": 2,
     "schema_version": 1,
     "solution": false
    }
   },
   "outputs": [],
   "source": [
    "### BEGIN HIDDEN TESTS\n",
    "pass\n",
    "### END HIDDEN TESTS"
   ]
  },
  {
   "cell_type": "markdown",
   "metadata": {
    "id": "ZIVUhAH4QSvt",
    "nbgrader": {
     "grade": false,
     "grade_id": "cell-166b53890d99e892",
     "locked": true,
     "schema_version": 1,
     "solution": false
    }
   },
   "source": [
    "[Back to top](#Index:) \n",
    "\n",
    "### Problem 5: Histogram of GDP\n",
    "\n",
    "**2 Points**\n",
    "\n",
    "Use matplotlib to create a histogram of the GDP data.  Add the title \"Histogram of GDP per capita\" and an x-label \"GDP Per Capita\".  Save your histogram as `gdp_hist.png` to the images folder."
   ]
  },
  {
   "cell_type": "code",
   "execution_count": 36,
   "metadata": {
    "id": "oOPIA2PnQSvt",
    "nbgrader": {
     "grade": false,
     "grade_id": "cell-46cd90759f92036a",
     "locked": false,
     "schema_version": 1,
     "solution": true
    }
   },
   "outputs": [
    {
     "data": {
      "image/png": "[encoded data removed]",
      "text/plain": [
       "<Figure size 432x288 with 1 Axes>"
      ]
     },
     "metadata": {
      "needs_background": "light"
     },
     "output_type": "display_data"
    }
   ],
   "source": [
    "### GRADED\n",
    "\n",
    "### BEGIN SOLUTION\n",
    "plt.hist(gap_df['gdpPercap'])\n",
    "plt.title(\"Histogram of GDP per capita\")\n",
    "plt.xlabel(\"GDP Per Capita\")\n",
    "plt.savefig('images/gdp_hist.png')\n",
    "\n",
    "### END SOLUTION\n",
    "\n"
   ]
  },
  {
   "cell_type": "code",
   "execution_count": 37,
   "metadata": {
    "nbgrader": {
     "grade": true,
     "grade_id": "cell-a0528072f23dc7e4",
     "locked": true,
     "points": 2,
     "schema_version": 1,
     "solution": false
    }
   },
   "outputs": [],
   "source": [
    "### BEGIN HIDDEN TESTS\n",
    "pass\n",
    "### END HIDDEN TESTS"
   ]
  },
  {
   "cell_type": "markdown",
   "metadata": {
    "id": "kld21GY8QSvu",
    "nbgrader": {
     "grade": false,
     "grade_id": "cell-ae0e017007bf50f3",
     "locked": true,
     "schema_version": 1,
     "solution": false
    }
   },
   "source": [
    "[Back to top](#Index:) \n",
    "\n",
    "### Problem 6: Customizing the Histogram\n",
    "\n",
    "**6 Points**\n",
    "\n",
    "\n",
    "Set the `bins` argument to 50, the `edgecolor` to black, `alpha` to 0.5, `color` to lightblue, and follow your histogram function with the `plt.grid()` function to add a grid to the plot.  Add the same title and x-label as problem 5."
   ]
  },
  {
   "cell_type": "code",
   "execution_count": 38,
   "metadata": {
    "id": "wmZrVyR3QSvu",
    "nbgrader": {
     "grade": false,
     "grade_id": "cell-f26999f4029db46e",
     "locked": false,
     "schema_version": 1,
     "solution": true
    }
   },
   "outputs": [
    {
     "data": {
      "image/png": "[encoded data removed]",
      "text/plain": [
       "<Figure size 432x288 with 1 Axes>"
      ]
     },
     "metadata": {
      "needs_background": "light"
     },
     "output_type": "display_data"
    }
   ],
   "source": [
    "### GRADED\n",
    "\n",
    "### BEGIN SOLUTION\n",
    "\n",
    "plt.hist(gap_df['gdpPercap'], bins=50, edgecolor='black',alpha=0.5,color='lightblue')\n",
    "plt.title(\"Histogram of GDP per capita\")\n",
    "plt.xlabel(\"GDP Per Capita\")\n",
    "plt.grid()\n",
    "plt.savefig('images/gdp_hist2.png')\n",
    "\n",
    "### END SOLUTION\n",
    "\n"
   ]
  },
  {
   "cell_type": "code",
   "execution_count": 39,
   "metadata": {
    "nbgrader": {
     "grade": true,
     "grade_id": "cell-95c0d0bdf9295412",
     "locked": true,
     "points": 2,
     "schema_version": 1,
     "solution": false
    }
   },
   "outputs": [],
   "source": [
    "### BEGIN HIDDEN TESTS\n",
    "pass\n",
    "### END HIDDEN TESTS"
   ]
  },
  {
   "cell_type": "markdown",
   "metadata": {
    "id": "W3XSEik1QSvu",
    "nbgrader": {
     "grade": false,
     "grade_id": "cell-624d2eac37f8f761",
     "locked": true,
     "schema_version": 1,
     "solution": false
    }
   },
   "source": [
    "[Back to top](#Index:) \n",
    "\n",
    "### Problem 7: Scatterplot of GDP vs. Life Expectancy\n",
    "\n",
    "**2 Points**\n",
    "\n",
    "`matplotlib` also has a scatterplot method that you can use with `plt.scatter()`.  Use this to create a scatterplot with the GDP column on the x-axis and Life Expectancy on the y-axis.  Add human readable labels \"GDP Per Capita\" and \"Life Expectancy (years)\" respectively and a title \"GDP vs. Life Expectancy\". "
   ]
  },
  {
   "cell_type": "code",
   "execution_count": 43,
   "metadata": {
    "id": "CMNBYyzBQSvu",
    "nbgrader": {
     "grade": false,
     "grade_id": "cell-c72fe8877caf7be8",
     "locked": false,
     "schema_version": 1,
     "solution": true
    }
   },
   "outputs": [
    {
     "data": {
      "image/png": "[encoded data removed]",
      "text/plain": [
       "<Figure size 432x288 with 1 Axes>"
      ]
     },
     "metadata": {
      "needs_background": "light"
     },
     "output_type": "display_data"
    }
   ],
   "source": [
    "### GRADED\n",
    "\n",
    "### BEGIN SOLUTION\n",
    "gap_df.plot.scatter(x='gdpPercap', y='lifeExp')\n",
    "plt.title(\"GDP vs. Life Expectancy\")\n",
    "plt.xlabel(\"GDP Per Capita\")\n",
    "plt.ylabel(\"Life Expectancy (years)\")\n",
    "plt.savefig('images/gdp_hist3.png')\n",
    "### END SOLUTION\n",
    "\n"
   ]
  },
  {
   "cell_type": "code",
   "execution_count": 44,
   "metadata": {
    "nbgrader": {
     "grade": true,
     "grade_id": "cell-ff3c1705f9f7ecba",
     "locked": true,
     "points": 2,
     "schema_version": 1,
     "solution": false
    }
   },
   "outputs": [],
   "source": [
    "### BEGIN HIDDEN TESTS\n",
    "pass\n",
    "### END HIDDEN TESTS"
   ]
  },
  {
   "cell_type": "markdown",
   "metadata": {
    "id": "5OlGtZ9GQSvv",
    "nbgrader": {
     "grade": false,
     "grade_id": "cell-5e8292b1eecf714f",
     "locked": true,
     "schema_version": 1,
     "solution": false
    }
   },
   "source": [
    "[Back to top](#Index:) \n",
    "\n",
    "### Problem 8: Logarithmic Transformation\n",
    "\n",
    "**2 Points**\n",
    "\n",
    "Notice the non-linear relationship between GDP and Life Expectancy.  One common transformation is to take something that looks exponential, and to take a logarithm in order to transform the relationship to a linear one.  Draw a scatterplot like above but use `np.log()` to plot the logarithm of GDP vs. Life Expectancy.  Add appropriate x and y labels, and the title \"Logarithm of GDP vs. Life Expectancy\". "
   ]
  },
  {
   "cell_type": "code",
   "execution_count": 50,
   "metadata": {
    "id": "nxrqUn0WQSvv",
    "nbgrader": {
     "grade": false,
     "grade_id": "cell-0ff0d895c6f3ae8d",
     "locked": false,
     "schema_version": 1,
     "solution": true
    }
   },
   "outputs": [
    {
     "data": {
      "image/png": "[encoded data removed]",
      "text/plain": [
       "<Figure size 432x288 with 1 Axes>"
      ]
     },
     "metadata": {
      "needs_background": "light"
     },
     "output_type": "display_data"
    }
   ],
   "source": [
    "### GRADED\n",
    "\n",
    "### BEGIN SOLUTION\n",
    "\n",
    "np.log(gap_df[['gdpPercap','lifeExp']]).plot.scatter(x='gdpPercap', y='lifeExp')\n",
    "plt.title(\"Logarithm of GDP vs. Life Expectancy\")\n",
    "plt.xlabel(\"GDP Per Capita\")\n",
    "plt.ylabel(\"Life Expectancy (years)\")\n",
    "plt.savefig('images/gdp_hist4.png')\n",
    "\n",
    "### END SOLUTION\n",
    "\n"
   ]
  },
  {
   "cell_type": "code",
   "execution_count": 17,
   "metadata": {
    "nbgrader": {
     "grade": true,
     "grade_id": "cell-8dcf18ff982a3282",
     "locked": true,
     "points": 2,
     "schema_version": 1,
     "solution": false
    }
   },
   "outputs": [],
   "source": [
    "### BEGIN HIDDEN TESTS\n",
    "pass\n",
    "### END HIDDEN TESTS"
   ]
  },
  {
   "cell_type": "markdown",
   "metadata": {
    "id": "PotEGh5HQSvv",
    "nbgrader": {
     "grade": false,
     "grade_id": "cell-e177b496fec2d839",
     "locked": true,
     "schema_version": 1,
     "solution": false
    }
   },
   "source": [
    "[Back to top](#Index:) \n",
    "\n",
    "### Problem 9: `pandas` histogram\n",
    "\n",
    "**2 Points**\n",
    "\n",
    "\n",
    "An alternative way to draw a histogram of a column in a DataFrame is to use the `.hist()` method.  This wraps the matplotlib histogram function and adds a few additional presets like a grid.  Below, select the GDP column and use the `.hist()` method to create a histogram using the built in pandas method. Save your image as `gdp_hist_pandas.png` to the `images` folder."
   ]
  },
  {
   "cell_type": "code",
   "execution_count": 52,
   "metadata": {
    "id": "v3mB1950QSvw",
    "nbgrader": {
     "grade": false,
     "grade_id": "cell-484c7754d76ffe77",
     "locked": false,
     "schema_version": 1,
     "solution": true
    }
   },
   "outputs": [
    {
     "data": {
      "image/png": "[encoded data removed]",
      "text/plain": [
       "<Figure size 432x288 with 1 Axes>"
      ]
     },
     "metadata": {
      "needs_background": "light"
     },
     "output_type": "display_data"
    }
   ],
   "source": [
    "### GRADED\n",
    "\n",
    "### BEGIN SOLUTION\n",
    "gap_df['gdpPercap'].hist()\n",
    "plt.savefig('images/gdp_hist_pandas.png')\n",
    "### END SOLUTION\n",
    "\n"
   ]
  },
  {
   "cell_type": "code",
   "execution_count": 53,
   "metadata": {
    "nbgrader": {
     "grade": true,
     "grade_id": "cell-76b3fc01c77b57f0",
     "locked": true,
     "points": 2,
     "schema_version": 1,
     "solution": false
    }
   },
   "outputs": [],
   "source": [
    "### BEGIN HIDDEN TESTS\n",
    "pass\n",
    "### END HIDDEN TESTS"
   ]
  },
  {
   "cell_type": "markdown",
   "metadata": {
    "id": "2Y5NxYLRQSvx",
    "nbgrader": {
     "grade": false,
     "grade_id": "cell-c619c63e62d33226",
     "locked": true,
     "schema_version": 1,
     "solution": false
    }
   },
   "source": [
    "[Back to top](#Index:) \n",
    "\n",
    "### Problem 10: `pandas` scatterplot\n",
    "\n",
    "**2 Points**\n",
    "\n",
    "Similar to the `.hist()` method, pandas has a general `.plot()` method where you can specify the kind of plot.  Use this to create a scatterplot of GDP on the x-axis and Life Expectancy on the y-axis.  You will have to call `.plot()` on the entire DataFrame and specify the `x` and `y` arguments to the `.plot()` function with the `kind = scatter` argument.  Save your plot as `gdp_lifexp_scatter_pandas.png` to the `images` folder."
   ]
  },
  {
   "cell_type": "code",
   "execution_count": 57,
   "metadata": {
    "id": "Xbzx4uBRQSvx",
    "nbgrader": {
     "grade": false,
     "grade_id": "cell-e4438802431bf0f9",
     "locked": false,
     "schema_version": 1,
     "solution": true
    }
   },
   "outputs": [
    {
     "data": {
      "image/png": "[encoded data removed]",
      "text/plain": [
       "<Figure size 432x288 with 1 Axes>"
      ]
     },
     "metadata": {
      "needs_background": "light"
     },
     "output_type": "display_data"
    }
   ],
   "source": [
    "### GRADED\n",
    "\n",
    "### BEGIN SOLUTION\n",
    "gap_df.plot(kind='scatter', x='gdpPercap', y='lifeExp', xlabel=\"GDP Per Capita\", ylabel=\"Life Expectancy (years)\", title=\"GDP vs. Life Expectancy\")\n",
    "plt.savefig('images/gdp_lifexp_scatter_pandas.png')\n",
    "### END SOLUTION\n",
    "\n"
   ]
  },
  {
   "cell_type": "code",
   "execution_count": 58,
   "metadata": {
    "nbgrader": {
     "grade": true,
     "grade_id": "cell-f8ee3562d8943e6c",
     "locked": true,
     "points": 2,
     "schema_version": 1,
     "solution": false
    }
   },
   "outputs": [],
   "source": [
    "### BEGIN HIDDEN TESTS\n",
    "pass\n",
    "### END HIDDEN TESTS"
   ]
  },
  {
   "cell_type": "code",
   "execution_count": null,
   "metadata": {},
   "outputs": [],
   "source": []
  }
 ],
 "metadata": {
  "celltoolbar": "Create Assignment",
  "colab": {
   "name": "coding_activity_2-5.ipynb",
   "provenance": []
  },
  "kernelspec": {
   "display_name": "Python 3 (ipykernel)",
   "language": "python",
   "name": "python3"
  },
  "language_info": {
   "codemirror_mode": {
    "name": "ipython",
    "version": 3
   },
   "file_extension": ".py",
   "mimetype": "text/x-python",
   "name": "python",
   "nbconvert_exporter": "python",
   "pygments_lexer": "ipython3",
   "version": "3.9.7"
  }
 },
 "nbformat": 4,
 "nbformat_minor": 1
}
