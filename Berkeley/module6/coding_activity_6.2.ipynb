{
 "cells": [
  {
   "cell_type": "markdown",
   "metadata": {
    "nbgrader": {
     "grade": false,
     "grade_id": "cell-e0b3c17a857f93d4",
     "locked": true,
     "schema_version": 1,
     "solution": false
    }
   },
   "source": [
    "### Codio Activity 6.2: Analyzing the Results of PCA\n",
    "\n",
    "**Expected Time: 60 Minutes**\n",
    "\n",
    "**Total Points: 20**\n",
    "\n",
    "This activity explores principal component analysis through two examples -- image data and tabular data. These examples are meant to demonstrate how PCA extracts important information from the data while reducing its dimensionality.\n",
    "\n",
    "### Index:\n",
    "\n",
    "- [Problem 1](#Problem-1)\n",
    "- [Problem 2](#Problem-2)\n",
    "- [Problem 3](#Problem-3)\n",
    "- [Problem 4](#Problem-4)\n",
    "- [Problem 5](#Problem-5)\n"
   ]
  },
  {
   "cell_type": "code",
   "execution_count": 105,
   "metadata": {},
   "outputs": [],
   "source": [
    "from scipy.linalg import svd\n",
    "import numpy as np\n",
    "import pandas as pd\n",
    "import matplotlib.pyplot as plt\n",
    "import seaborn as sns\n",
    "from sklearn.datasets import fetch_olivetti_faces, fetch_california_housing"
   ]
  },
  {
   "cell_type": "markdown",
   "metadata": {
    "nbgrader": {
     "grade": false,
     "grade_id": "cell-f6552400b55a1bca",
     "locked": true,
     "schema_version": 1,
     "solution": false
    }
   },
   "source": [
    "#### The Datasets\n",
    "\n",
    "Both datasets are built in to the `sklearn` library.  The first is a familiar set of faces as 1-Dimensional Arrays, and the second is a dataset on housing prices in california neighborhoods.  The image data is limited to a single image and assigned to the variable `image` below.  The housing data is displayed as a DataFrame with the `.frame` attribute after setting `as_frame = True`.  "
   ]
  },
  {
   "cell_type": "code",
   "execution_count": 106,
   "metadata": {},
   "outputs": [],
   "source": [
    "faces_data = fetch_olivetti_faces()\n",
    "cali_housing = fetch_california_housing(return_X_y=False, as_frame=True)"
   ]
  },
  {
   "cell_type": "code",
   "execution_count": 107,
   "metadata": {},
   "outputs": [
    {
     "data": {
      "text/plain": [
       "<matplotlib.image.AxesImage at 0x7fa86b2159a0>"
      ]
     },
     "execution_count": 107,
     "metadata": {},
     "output_type": "execute_result"
    },
    {
     "data": {
      "image/png": "[encoded data removed]",
      "text/plain": [
       "<Figure size 432x288 with 1 Axes>"
      ]
     },
     "metadata": {
      "needs_background": "light"
     },
     "output_type": "display_data"
    }
   ],
   "source": [
    "image = faces_data.data[42].reshape(64, 64)\n",
    "plt.imshow(image)"
   ]
  },
  {
   "cell_type": "code",
   "execution_count": 126,
   "metadata": {},
   "outputs": [
    {
     "data": {
      "text/html": [
       "<div>\n",
       "<style scoped>\n",
       "    .dataframe tbody tr th:only-of-type {\n",
       "        vertical-align: middle;\n",
       "    }\n",
       "\n",
       "    .dataframe tbody tr th {\n",
       "        vertical-align: top;\n",
       "    }\n",
       "\n",
       "    .dataframe thead th {\n",
       "        text-align: right;\n",
       "    }\n",
       "</style>\n",
       "<table border=\"1\" class=\"dataframe\">\n",
       "  <thead>\n",
       "    <tr style=\"text-align: right;\">\n",
       "      <th></th>\n",
       "      <th>MedInc</th>\n",
       "      <th>HouseAge</th>\n",
       "      <th>AveRooms</th>\n",
       "      <th>AveBedrms</th>\n",
       "      <th>Population</th>\n",
       "      <th>AveOccup</th>\n",
       "      <th>Latitude</th>\n",
       "      <th>Longitude</th>\n",
       "      <th>MedHouseVal</th>\n",
       "    </tr>\n",
       "  </thead>\n",
       "  <tbody>\n",
       "    <tr>\n",
       "      <th>0</th>\n",
       "      <td>8.3252</td>\n",
       "      <td>41.0</td>\n",
       "      <td>6.984127</td>\n",
       "      <td>1.023810</td>\n",
       "      <td>322.0</td>\n",
       "      <td>2.555556</td>\n",
       "      <td>37.88</td>\n",
       "      <td>-122.23</td>\n",
       "      <td>4.526</td>\n",
       "    </tr>\n",
       "    <tr>\n",
       "      <th>1</th>\n",
       "      <td>8.3014</td>\n",
       "      <td>21.0</td>\n",
       "      <td>6.238137</td>\n",
       "      <td>0.971880</td>\n",
       "      <td>2401.0</td>\n",
       "      <td>2.109842</td>\n",
       "      <td>37.86</td>\n",
       "      <td>-122.22</td>\n",
       "      <td>3.585</td>\n",
       "    </tr>\n",
       "    <tr>\n",
       "      <th>2</th>\n",
       "      <td>7.2574</td>\n",
       "      <td>52.0</td>\n",
       "      <td>8.288136</td>\n",
       "      <td>1.073446</td>\n",
       "      <td>496.0</td>\n",
       "      <td>2.802260</td>\n",
       "      <td>37.85</td>\n",
       "      <td>-122.24</td>\n",
       "      <td>3.521</td>\n",
       "    </tr>\n",
       "    <tr>\n",
       "      <th>3</th>\n",
       "      <td>5.6431</td>\n",
       "      <td>52.0</td>\n",
       "      <td>5.817352</td>\n",
       "      <td>1.073059</td>\n",
       "      <td>558.0</td>\n",
       "      <td>2.547945</td>\n",
       "      <td>37.85</td>\n",
       "      <td>-122.25</td>\n",
       "      <td>3.413</td>\n",
       "    </tr>\n",
       "    <tr>\n",
       "      <th>4</th>\n",
       "      <td>3.8462</td>\n",
       "      <td>52.0</td>\n",
       "      <td>6.281853</td>\n",
       "      <td>1.081081</td>\n",
       "      <td>565.0</td>\n",
       "      <td>2.181467</td>\n",
       "      <td>37.85</td>\n",
       "      <td>-122.25</td>\n",
       "      <td>3.422</td>\n",
       "    </tr>\n",
       "  </tbody>\n",
       "</table>\n",
       "</div>"
      ],
      "text/plain": [
       "   MedInc  HouseAge  AveRooms  AveBedrms  Population  AveOccup  Latitude  \\\n",
       "0  8.3252      41.0  6.984127   1.023810       322.0  2.555556     37.88   \n",
       "1  8.3014      21.0  6.238137   0.971880      2401.0  2.109842     37.86   \n",
       "2  7.2574      52.0  8.288136   1.073446       496.0  2.802260     37.85   \n",
       "3  5.6431      52.0  5.817352   1.073059       558.0  2.547945     37.85   \n",
       "4  3.8462      52.0  6.281853   1.081081       565.0  2.181467     37.85   \n",
       "\n",
       "   Longitude  MedHouseVal  \n",
       "0    -122.23        4.526  \n",
       "1    -122.22        3.585  \n",
       "2    -122.24        3.521  \n",
       "3    -122.25        3.413  \n",
       "4    -122.25        3.422  "
      ]
     },
     "execution_count": 126,
     "metadata": {},
     "output_type": "execute_result"
    }
   ],
   "source": [
    "df = cali_housing.frame\n",
    "df.head()"
   ]
  },
  {
   "cell_type": "markdown",
   "metadata": {
    "nbgrader": {
     "grade": false,
     "grade_id": "cell-906e49a78f6736a2",
     "locked": true,
     "schema_version": 1,
     "solution": false
    }
   },
   "source": [
    "### Principal Component Analysis \n",
    "\n",
    "Recall the steps to perform Principal Component Analysis on an array.  \n",
    "\n",
    "```\n",
    "- standardize the data\n",
    "- perform SVD\n",
    "- select how many components to keep\n",
    "```\n",
    "\n",
    "From here, depending on the goal you will either eliminate all but the top `r` values in $\\Sigma$ or evaluate the product of $U_r \\dot \\Sigma_r$."
   ]
  },
  {
   "cell_type": "markdown",
   "metadata": {
    "nbgrader": {
     "grade": false,
     "grade_id": "cell-205315a2dcec7500",
     "locked": true,
     "schema_version": 1,
     "solution": false
    }
   },
   "source": [
    "[Back to top](#Index:) \n",
    "\n",
    "## Problem 1\n",
    "\n",
    "### Function to Standardize and Factor\n",
    "\n",
    "**4 Points**\n",
    "\n",
    "Complete the function svd_norm below.  This function takes in an array, scales the values, and returns three arrays as a result of the singular value decomposition on the scaled array, $U, \\Sigma, VT$.  \n"
   ]
  },
  {
   "cell_type": "code",
   "execution_count": 109,
   "metadata": {
    "nbgrader": {
     "grade": false,
     "grade_id": "cell-77894dc5610f83dc",
     "locked": false,
     "schema_version": 1,
     "solution": true
    }
   },
   "outputs": [
    {
     "name": "stdout",
     "output_type": "stream",
     "text": [
      "(64, 64) (64, 64) (64, 64)\n"
     ]
    }
   ],
   "source": [
    "### GRADED\n",
    "\n",
    "def svd_norm(X):\n",
    "    \"\"\"This function takes in an array X, scales it according \n",
    "    to the transformation X - mu / sigma where mu is the mean\n",
    "    and sigma the standard deviation of the dataset.\n",
    "\n",
    "    Parameters\n",
    "    ----------\n",
    "    X: type `np.array`, shape (N, M)\n",
    "        \n",
    "    Returns\n",
    "    -------\n",
    "    A tuple (U, Sigma, VT) where\n",
    "        U: type `np.ndarray`, shape (N, M)\n",
    "            Numpy arrays with N rows, M columns \n",
    "        Sigma: type `np.ndarray`, shape (M, M)\n",
    "            Numpy arrays with M rows and M columns\n",
    "            A Diagonal matrix with the singular values on main diagonal\n",
    "        VT: type `np.ndarray`, shape (M, M)\n",
    "            Numpy array with M rows and M columns representing V Transpose\n",
    "    \"\"\"\n",
    "    return None\n",
    "\n",
    "\n",
    "### BEGIN SOLUTION\n",
    "def svd_norm(X):\n",
    "    x_norm =( X - X.mean())/X.std()\n",
    "    U, sigma, VT = svd(x_norm, full_matrices=False)\n",
    "    Sigma = np.diag(sigma)\n",
    "    return U, Sigma, VT\n",
    "### END SOLUTION\n",
    "\n",
    "# Answer check\n",
    "U, Sigma, VT = svd_norm(image)\n",
    "print(U.shape, Sigma.shape, VT.shape)"
   ]
  },
  {
   "cell_type": "code",
   "execution_count": 110,
   "metadata": {
    "nbgrader": {
     "grade": true,
     "grade_id": "cell-d7dda51e78f7e1b8",
     "locked": true,
     "points": 4,
     "schema_version": 1,
     "solution": false
    }
   },
   "outputs": [],
   "source": [
    "### BEGIN HIDDEN TESTS\n",
    "def svd_norm_(X):\n",
    "    x_norm =( X - X.mean())/X.std()\n",
    "    U, sigma, VT = svd(x_norm, full_matrices=False)\n",
    "    Sigma = np.diag(sigma)\n",
    "    return U, Sigma, VT\n",
    "#\n",
    "#\n",
    "#\n",
    "for i in range(10): #test for 10 random images\n",
    "    X = faces_data.data[np.random.randint(0, 400)].reshape(64, 64)\n",
    "    U_, Sigma_, VT_ = svd_norm_(X)\n",
    "    U, Sigma, VT = svd_norm(X)\n",
    "    assert np.allclose(U, U_)\n",
    "    assert np.allclose(Sigma, Sigma_)\n",
    "    assert np.allclose(VT, VT_)\n",
    "### END HIDDEN TESTS"
   ]
  },
  {
   "cell_type": "markdown",
   "metadata": {
    "nbgrader": {
     "grade": false,
     "grade_id": "cell-bd006023ea1b758f",
     "locked": true,
     "schema_version": 1,
     "solution": false
    }
   },
   "source": [
    "[Back to top](#Index:) \n",
    "\n",
    "## Problem 2\n",
    "\n",
    "### Reconstructing the Image\n",
    "\n",
    "**4 Points**\n",
    "\n",
    "Below, create a copy of the $\\Sigma$ matrix with `np.copy` and assign it to `Sigma_copy` below.  Set all but the first 25 singular values to zero.  Reconstruct the original image by multiplying $U \\Sigma_{copy} VT$ and assign to `simpler_image`.  Note how much information from the image is captured in the first five singular values!"
   ]
  },
  {
   "cell_type": "code",
   "execution_count": 111,
   "metadata": {
    "nbgrader": {
     "grade": false,
     "grade_id": "cell-6a3a77ccaf4e8a5f",
     "locked": false,
     "schema_version": 1,
     "solution": true
    }
   },
   "outputs": [
    {
     "name": "stdout",
     "output_type": "stream",
     "text": [
      "(64, 64)\n"
     ]
    },
    {
     "data": {
      "image/png": "[encoded data removed]",
      "text/plain": [
       "<Figure size 432x288 with 1 Axes>"
      ]
     },
     "metadata": {
      "needs_background": "light"
     },
     "output_type": "display_data"
    }
   ],
   "source": [
    "### GRADED\n",
    "\n",
    "Sigma_copy = None\n",
    "simpler_image = None\n",
    "\n",
    "### BEGIN SOLUTION\n",
    "U, Sigma, VT = svd_norm(image)\n",
    "Sigma_copy = np.copy(Sigma)\n",
    "Sigma_copy[5:, 5:] = 0\n",
    "simpler_image = U@Sigma_copy@VT\n",
    "### END SOLUTION\n",
    "\n",
    "# Answer check\n",
    "print(simpler_image.shape)\n",
    "plt.imshow(simpler_image)\n",
    "plt.title('Image Reconstructed from first 5 Singular Values');"
   ]
  },
  {
   "cell_type": "code",
   "execution_count": 112,
   "metadata": {
    "nbgrader": {
     "grade": true,
     "grade_id": "cell-67ba50a3b8f68ff3",
     "locked": true,
     "points": 4,
     "schema_version": 1,
     "solution": false
    }
   },
   "outputs": [],
   "source": [
    "### BEGIN HIDDEN TESTS\n",
    "def svd_norm_(X):\n",
    "    x_norm =( X - X.mean())/X.std()\n",
    "    U, sigma, VT = svd(x_norm, full_matrices=False)\n",
    "    Sigma = np.diag(sigma)\n",
    "    return U, Sigma, VT\n",
    "U_, Sigma_, VT_ = svd_norm_(image)\n",
    "Sigma_copy_ = np.copy(Sigma_)\n",
    "Sigma_copy_[5:, 5:] = 0\n",
    "simpler_image_ = U_@Sigma_copy_@VT_\n",
    "#\n",
    "#\n",
    "#\n",
    "assert np.allclose(simpler_image, simpler_image_)\n",
    "assert np.allclose(Sigma_copy, Sigma_copy_)\n",
    "### END HIDDEN TESTS"
   ]
  },
  {
   "cell_type": "markdown",
   "metadata": {
    "nbgrader": {
     "grade": false,
     "grade_id": "cell-a1b010d028824a83",
     "locked": true,
     "schema_version": 1,
     "solution": false
    }
   },
   "source": [
    "[Back to top](#Index:) \n",
    "\n",
    "## Problem 3\n",
    "\n",
    "### Repeat for Tabular Data\n",
    "\n",
    "**4 Points**\n",
    "\n",
    "As the example above demonstrates, using Principal Component Analysis is a way of extracting important information from the data through the SVD.  Now, you are to extract the matrix factorization from the SVD using the housing data `df`.  The earlier `svd_norm` function should work to factor a DataFrame.  Use your function to extract $U, \\Sigma, VT$ from the DataFrame.  Assign your results to `U, Sigma, VT` below."
   ]
  },
  {
   "cell_type": "code",
   "execution_count": 113,
   "metadata": {
    "nbgrader": {
     "grade": false,
     "grade_id": "cell-7ba0ca851edf60e7",
     "locked": false,
     "schema_version": 1,
     "solution": true
    }
   },
   "outputs": [
    {
     "name": "stdout",
     "output_type": "stream",
     "text": [
      "<class 'numpy.ndarray'>\n",
      "(20640, 9) (9, 9)\n"
     ]
    }
   ],
   "source": [
    "### GRADED\n",
    "\n",
    "U, Sigma, VT = None, None, None\n",
    "\n",
    "### BEGIN SOLUTION\n",
    "U, Sigma, VT = svd_norm(df)\n",
    "### END SOLUTION\n",
    "\n",
    "# Answer check\n",
    "print(type(U))\n",
    "print(df.shape, Sigma.shape)"
   ]
  },
  {
   "cell_type": "code",
   "execution_count": 114,
   "metadata": {
    "nbgrader": {
     "grade": true,
     "grade_id": "cell-5288af8314b484bd",
     "locked": true,
     "points": 4,
     "schema_version": 1,
     "solution": false
    }
   },
   "outputs": [],
   "source": [
    "### BEGIN HIDDEN TESTS\n",
    "def svd_norm_(X):\n",
    "    x_norm =( X - X.mean())/X.std()\n",
    "    U, sigma, VT = svd(x_norm, full_matrices=False)\n",
    "    Sigma = np.diag(sigma)\n",
    "    return U, Sigma, VT\n",
    "U_, Sigma_, VT_ = svd_norm_(df)\n",
    "\n",
    "#\n",
    "#\n",
    "#\n",
    "assert type(Sigma_) == type(Sigma)\n",
    "assert np.allclose(Sigma, Sigma_)\n",
    "### END HIDDEN TESTS"
   ]
  },
  {
   "cell_type": "markdown",
   "metadata": {
    "nbgrader": {
     "grade": false,
     "grade_id": "cell-af6be89a05cb3f33",
     "locked": true,
     "schema_version": 1,
     "solution": false
    }
   },
   "source": [
    "[Back to top](#Index:) \n",
    "\n",
    "## Problem 4\n",
    "\n",
    "## Function to project into lower dimension `r`\n",
    "\n",
    "**4 Points**\n",
    "\n",
    "Complete the function `pca` below.  This function takes two arguments, `X` and `r` where `X` is an array or DataFrame and `r` is dimension to project the data down into.  The function should return a `DataFrame` with columns labeled `['pca_1', 'pca_2', ..., 'pca_r']`.  "
   ]
  },
  {
   "cell_type": "code",
   "execution_count": 115,
   "metadata": {
    "nbgrader": {
     "grade": false,
     "grade_id": "cell-fa59725d77f1610c",
     "locked": false,
     "schema_version": 1,
     "solution": true
    }
   },
   "outputs": [
    {
     "name": "stdout",
     "output_type": "stream",
     "text": [
      "(20640, 2)\n"
     ]
    },
    {
     "data": {
      "text/html": [
       "<div>\n",
       "<style scoped>\n",
       "    .dataframe tbody tr th:only-of-type {\n",
       "        vertical-align: middle;\n",
       "    }\n",
       "\n",
       "    .dataframe tbody tr th {\n",
       "        vertical-align: top;\n",
       "    }\n",
       "\n",
       "    .dataframe thead th {\n",
       "        text-align: right;\n",
       "    }\n",
       "</style>\n",
       "<table border=\"1\" class=\"dataframe\">\n",
       "  <thead>\n",
       "    <tr style=\"text-align: right;\">\n",
       "      <th></th>\n",
       "      <th>pca_1</th>\n",
       "      <th>pca_2</th>\n",
       "    </tr>\n",
       "  </thead>\n",
       "  <tbody>\n",
       "    <tr>\n",
       "      <th>0</th>\n",
       "      <td>-328.864961</td>\n",
       "      <td>116.866296</td>\n",
       "    </tr>\n",
       "    <tr>\n",
       "      <th>1</th>\n",
       "      <td>-2404.512621</td>\n",
       "      <td>-2.203910</td>\n",
       "    </tr>\n",
       "    <tr>\n",
       "      <th>2</th>\n",
       "      <td>-502.725610</td>\n",
       "      <td>110.244305</td>\n",
       "    </tr>\n",
       "    <tr>\n",
       "      <th>3</th>\n",
       "      <td>-564.624057</td>\n",
       "      <td>106.700353</td>\n",
       "    </tr>\n",
       "    <tr>\n",
       "      <th>4</th>\n",
       "      <td>-571.611024</td>\n",
       "      <td>106.278334</td>\n",
       "    </tr>\n",
       "  </tbody>\n",
       "</table>\n",
       "</div>"
      ],
      "text/plain": [
       "         pca_1       pca_2\n",
       "0  -328.864961  116.866296\n",
       "1 -2404.512621   -2.203910\n",
       "2  -502.725610  110.244305\n",
       "3  -564.624057  106.700353\n",
       "4  -571.611024  106.278334"
      ]
     },
     "execution_count": 115,
     "metadata": {},
     "output_type": "execute_result"
    }
   ],
   "source": [
    "### GRADED\n",
    "\n",
    "def pca(X, r = 5):\n",
    "    \"\"\"This function takes in an array X, and extracts\n",
    "    r principal components.  These are returned in a DataFrame.\n",
    "\n",
    "    Parameters\n",
    "    ----------\n",
    "    X: type `np.array`, shape (N, M)\n",
    "    r: type `int`\n",
    "        \n",
    "    Returns\n",
    "    -------\n",
    "    A DataFrame of shape (N, r) with columns labeled\n",
    "    pca_1. | pca_2 | .... | pca_r |\n",
    "    \n",
    "    \"\"\"\n",
    "    return None\n",
    "\n",
    "### BEGIN SOLUTION\n",
    "def pca(X, r = 5):\n",
    "    U, sigma, VT = svd(X)\n",
    "    Sigma = np.diag(sigma)\n",
    "    Ur = U[:, :r]\n",
    "    Sigma_r = Sigma[:r, :r]\n",
    "    return pd.DataFrame(Ur @ Sigma_r, columns = [f'pca_{i}' for i in range(1, r + 1)])\n",
    "\n",
    "### END SOLUTION\n",
    "XT = pca(df, r = 2)\n",
    "print(XT.shape)\n",
    "XT.head()"
   ]
  },
  {
   "cell_type": "code",
   "execution_count": 127,
   "metadata": {
    "nbgrader": {
     "grade": true,
     "grade_id": "cell-d805d76576ab447b",
     "locked": true,
     "points": 4,
     "schema_version": 1,
     "solution": false
    }
   },
   "outputs": [],
   "source": [
    "### BEGIN HIDDEN TESTS\n",
    "cali_housing_ = fetch_california_housing(return_X_y=False, as_frame=True)\n",
    "df_ = cali_housing_.frame\n",
    "def pca_(X, r = 5):\n",
    "    U, sigma, VT = svd(X)\n",
    "    Sigma = np.diag(sigma)\n",
    "    Ur = U[:, :r]\n",
    "    Sigma_r = Sigma[:r, :r]\n",
    "    return pd.DataFrame(Ur @ Sigma_r, columns = [f'pca_{i}' for i in range(1, r + 1)])\n",
    "\n",
    "\n",
    "#\n",
    "#\n",
    "#\n",
    "for i in range(2, 4):\n",
    "    ans = pca(df_, r = i)\n",
    "    ans_ = pca_(df_, r = i)\n",
    "    pd.testing.assert_frame_equal(ans, ans_)\n",
    "### END HIDDEN TESTS"
   ]
  },
  {
   "cell_type": "markdown",
   "metadata": {
    "nbgrader": {
     "grade": false,
     "grade_id": "cell-0791c50d7740eb5d",
     "locked": true,
     "schema_version": 1,
     "solution": false
    }
   },
   "source": [
    "[Back to top](#Index:) \n",
    "\n",
    "## Problem 5\n",
    "\n",
    "### Converting a New Datapoint\n",
    "\n",
    "**4 Points**\n",
    "\n",
    "Suppose we have a new house given by the DataFrame below:\n",
    "\n",
    "<table border=\"1\" class=\"dataframe\">  <thead>    <tr style=\"text-align: right;\">      <th></th>      <th>MedInc</th>      <th>HouseAge</th>      <th>AveRooms</th>      <th>AveBedrms</th>      <th>Population</th>      <th>AveOccup</th>      <th>Latitude</th>      <th>Longitude</th>      <th>MedHouseVal</th>    </tr>  </thead>  <tbody>    <tr>      <th>0</th>      <td>3.87</td>      <td>28.64</td>      <td>5.43</td>      <td>1.1</td>      <td>1425.48</td>      <td>3.07</td>      <td>35.63</td>      <td>-119.57</td>      <td>2.07</td>    </tr>  </tbody></table>\n",
    "\n",
    "Use your `pca` function to project this new house into 2 dimensions.  First, scale your data according to the mean and standard deviation of `df`.  Assign the normalized data to `normed_newhome` below.  Assign the results of the pca transformation on the scaled house data as a DataFrame with columns `pca_1` and `pca_2` to `ans5` below."
   ]
  },
  {
   "cell_type": "code",
   "execution_count": 128,
   "metadata": {
    "nbgrader": {
     "grade": false,
     "grade_id": "cell-445d30d692e8a4f5",
     "locked": false,
     "schema_version": 1,
     "solution": true
    }
   },
   "outputs": [
    {
     "name": "stdout",
     "output_type": "stream",
     "text": [
      "(1, 2)\n",
      "<class 'pandas.core.frame.DataFrame'>\n"
     ]
    },
    {
     "data": {
      "text/html": [
       "<div>\n",
       "<style scoped>\n",
       "    .dataframe tbody tr th:only-of-type {\n",
       "        vertical-align: middle;\n",
       "    }\n",
       "\n",
       "    .dataframe tbody tr th {\n",
       "        vertical-align: top;\n",
       "    }\n",
       "\n",
       "    .dataframe thead th {\n",
       "        text-align: right;\n",
       "    }\n",
       "</style>\n",
       "<table border=\"1\" class=\"dataframe\">\n",
       "  <thead>\n",
       "    <tr style=\"text-align: right;\">\n",
       "      <th></th>\n",
       "      <th>pca_1</th>\n",
       "      <th>pca_2</th>\n",
       "    </tr>\n",
       "  </thead>\n",
       "  <tbody>\n",
       "    <tr>\n",
       "      <th>0</th>\n",
       "      <td>-0.00336</td>\n",
       "      <td>0.002261</td>\n",
       "    </tr>\n",
       "  </tbody>\n",
       "</table>\n",
       "</div>"
      ],
      "text/plain": [
       "     pca_1     pca_2\n",
       "0 -0.00336  0.002261"
      ]
     },
     "execution_count": 128,
     "metadata": {},
     "output_type": "execute_result"
    }
   ],
   "source": [
    "### GRADED\n",
    "newhome = pd.DataFrame([[3.87, 28.64, 5.43, 1.1, 1425.48, 3.07, 35.63, -119.57, 2.07]], columns = df.columns)\n",
    "newhome\n",
    "\n",
    "\n",
    "normed_newhome = None\n",
    "ans_5 = None\n",
    "\n",
    "### BEGIN SOLUTION\n",
    "normed_newhome = (newhome - df.mean())/df.std()\n",
    "ans5 = normed_newhome@VT.T[:, :2]\n",
    "ans5.columns = ['pca_1', 'pca_2']\n",
    "### END SOLUTION\n",
    "print(ans5.shape)\n",
    "print(type(ans5))\n",
    "ans5"
   ]
  },
  {
   "cell_type": "code",
   "execution_count": 129,
   "metadata": {
    "nbgrader": {
     "grade": true,
     "grade_id": "cell-043fab3e24fdeaaf",
     "locked": true,
     "points": 4,
     "schema_version": 1,
     "solution": false
    }
   },
   "outputs": [],
   "source": [
    "### BEGIN HIDDEN TESTS\n",
    "newhome_ = pd.DataFrame([[3.87, 28.64, 5.43, 1.1, 1425.48, 3.07, 35.63, -119.57, 2.07]], columns = df.columns)\n",
    "normed_newhome_ = (newhome_ - df_.mean())/df_.std()\n",
    "def svd_norm_(X):\n",
    "    x_norm =( X - X.mean())/X.std()\n",
    "    U, sigma, VT = svd(x_norm, full_matrices=False)\n",
    "    Sigma = np.diag(sigma)\n",
    "    return U, Sigma, VT\n",
    "U_, Sigma_, VT_ = svd_norm_(df_)\n",
    "ans5_ = normed_newhome_@VT_.T[:, :2]#pd.DataFrame(normed_newhome@VT.T[:, :2], columns = ['pca_1', 'pca_2'])\n",
    "ans5_.columns = ['pca_1', 'pca_2']\n",
    "\n",
    "\n",
    "#\n",
    "#\n",
    "#\n",
    "pd.testing.assert_frame_equal(ans5, ans5)\n",
    "### END HIDDEN TESTS"
   ]
  },
  {
   "cell_type": "markdown",
   "metadata": {
    "nbgrader": {
     "grade": false,
     "grade_id": "cell-f45c0dac211998fc",
     "locked": true,
     "schema_version": 1,
     "solution": false
    }
   },
   "source": [
    "Both of these examples offer insight to how PCA can reduce the dimensionality of your data while keeping important information about underlying relationships in tact.  "
   ]
  }
 ],
 "metadata": {
  "celltoolbar": "Create Assignment",
  "kernelspec": {
   "display_name": "Python 3 (ipykernel)",
   "language": "python",
   "name": "python3"
  },
  "language_info": {
   "codemirror_mode": {
    "name": "ipython",
    "version": 3
   },
   "file_extension": ".py",
   "mimetype": "text/x-python",
   "name": "python",
   "nbconvert_exporter": "python",
   "pygments_lexer": "ipython3",
   "version": "3.9.7"
  }
 },
 "nbformat": 4,
 "nbformat_minor": 4
}
