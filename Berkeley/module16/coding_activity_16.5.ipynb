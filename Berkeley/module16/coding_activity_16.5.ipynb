{
 "cells": [
  {
   "cell_type": "markdown",
   "metadata": {
    "nbgrader": {
     "grade": false,
     "grade_id": "cell-610b0c7676cb0aca",
     "locked": true,
     "schema_version": 3,
     "solution": false
    }
   },
   "source": [
    "### Codio Activity 16.5: Comparing Margins in Classifiers\n",
    "\n",
    "**Expected Time = 60 minutes** \n",
    "\n",
    "**Total Points = 45** \n",
    "\n",
    "This activity focuses on comparing different linear classification models and their margins.  You will draw linear boundaries on a sample dataset using algebra and compare their margins.  This is an intuitive introduction to choosing a maximum margin classifier."
   ]
  },
  {
   "cell_type": "markdown",
   "metadata": {
    "nbgrader": {
     "grade": false,
     "grade_id": "cell-be9f8dd7064eba79",
     "locked": true,
     "schema_version": 3,
     "solution": false
    }
   },
   "source": [
    "#### Index\n",
    "\n",
    "- [Problem 1](#-Problem-1)\n",
    "- [Problem 2](#-Problem-2)\n",
    "- [Problem 3](#-Problem-3)\n",
    "- [Problem 4](#-Problem-4)\n",
    "- [Problem 5](#-Problem-5)"
   ]
  },
  {
   "cell_type": "code",
   "execution_count": 7,
   "metadata": {},
   "outputs": [],
   "source": [
    "import numpy as np\n",
    "import pandas as pd\n",
    "import matplotlib.pyplot as plt\n",
    "\n",
    "from sklearn.linear_model import LogisticRegression\n",
    "from sklearn.datasets import make_blobs"
   ]
  },
  {
   "cell_type": "code",
   "execution_count": 8,
   "metadata": {},
   "outputs": [],
   "source": [
    "X, y = make_blobs(cluster_std=2.0, centers = 2, random_state=42)"
   ]
  },
  {
   "cell_type": "code",
   "execution_count": 9,
   "metadata": {},
   "outputs": [
    {
     "data": {
      "image/png": "[encoded data removed]",
      "text/plain": [
       "<Figure size 432x288 with 1 Axes>"
      ]
     },
     "metadata": {
      "needs_background": "light"
     },
     "output_type": "display_data"
    }
   ],
   "source": [
    "fig, ax = plt.subplots()\n",
    "for label, color in enumerate(['blue', 'orange']):\n",
    "    ax.scatter(X[y == label][:, 0], X[y == label][:, 1], c=color, label=label,\n",
    "               alpha=0.8, edgecolors='none')\n",
    "ax.legend(title = 'Class')\n",
    "ax.set_title('Synthetic Binary Classification Dataset')\n",
    "ax.set_xlabel('x')\n",
    "ax.set_ylabel('y')\n",
    "ax.grid(True)"
   ]
  },
  {
   "cell_type": "code",
   "execution_count": 10,
   "metadata": {},
   "outputs": [
    {
     "data": {
      "text/html": [
       "<div>\n",
       "<style scoped>\n",
       "    .dataframe tbody tr th:only-of-type {\n",
       "        vertical-align: middle;\n",
       "    }\n",
       "\n",
       "    .dataframe tbody tr th {\n",
       "        vertical-align: top;\n",
       "    }\n",
       "\n",
       "    .dataframe thead th {\n",
       "        text-align: right;\n",
       "    }\n",
       "</style>\n",
       "<table border=\"1\" class=\"dataframe\">\n",
       "  <thead>\n",
       "    <tr style=\"text-align: right;\">\n",
       "      <th></th>\n",
       "      <th>x</th>\n",
       "      <th>y</th>\n",
       "      <th>class</th>\n",
       "    </tr>\n",
       "  </thead>\n",
       "  <tbody>\n",
       "    <tr>\n",
       "      <th>0</th>\n",
       "      <td>-3.467546</td>\n",
       "      <td>8.642968</td>\n",
       "      <td>0</td>\n",
       "    </tr>\n",
       "    <tr>\n",
       "      <th>1</th>\n",
       "      <td>6.805981</td>\n",
       "      <td>4.080774</td>\n",
       "      <td>1</td>\n",
       "    </tr>\n",
       "    <tr>\n",
       "      <th>2</th>\n",
       "      <td>-3.597963</td>\n",
       "      <td>9.236131</td>\n",
       "      <td>0</td>\n",
       "    </tr>\n",
       "    <tr>\n",
       "      <th>3</th>\n",
       "      <td>6.283999</td>\n",
       "      <td>5.766756</td>\n",
       "      <td>1</td>\n",
       "    </tr>\n",
       "    <tr>\n",
       "      <th>4</th>\n",
       "      <td>5.094799</td>\n",
       "      <td>4.587455</td>\n",
       "      <td>1</td>\n",
       "    </tr>\n",
       "  </tbody>\n",
       "</table>\n",
       "</div>"
      ],
      "text/plain": [
       "          x         y  class\n",
       "0 -3.467546  8.642968      0\n",
       "1  6.805981  4.080774      1\n",
       "2 -3.597963  9.236131      0\n",
       "3  6.283999  5.766756      1\n",
       "4  5.094799  4.587455      1"
      ]
     },
     "execution_count": 10,
     "metadata": {},
     "output_type": "execute_result"
    }
   ],
   "source": [
    "df = pd.DataFrame(X, columns = ['x', 'y'])\n",
    "df['class'] = y\n",
    "df.head()"
   ]
  },
  {
   "cell_type": "markdown",
   "metadata": {
    "nbgrader": {
     "grade": false,
     "grade_id": "cell-10e81f2d17296bdb",
     "locked": true,
     "schema_version": 3,
     "solution": false
    }
   },
   "source": [
    "[Back to top](#-Index)\n",
    "\n",
    "### Problem 1\n",
    "\n",
    "#### Linear Boundary through Given Points\n",
    "\n",
    "**10 Points**\n",
    "\n",
    "Create a linear function that goes through the two points where:\n",
    "\n",
    "- $(x_0, y_0)$ corresponds to the point in class 1 with the lowest $x$ value. \n",
    "- $(x_1, y_1)$ corresponds to the point in class 0 with the highest $x$ value.\n",
    "\n",
    "Define your points as `x0, y0` and `x1, y1`, determine the slope and write the equation by completing the function `boundary_1` below.\n",
    "\n",
    "**RECALL**: A linear function can be determined as:\n",
    "\n",
    "$$y = m(x_0 - x) + y_0$$\n",
    "\n",
    "where $m$ is the slope (`slope0`) and $(x_0, y_0)$ is a point on the line.\n",
    "\n",
    "Assign each of these as floats to their respective variables below.  Uncomment the code to visualize your completed boundary.\n",
    "\n",
    "HINT:  use \" df.loc[df['x'] == x1_]  \", or use \"  ['y'].values[0]  \""
   ]
  },
  {
   "cell_type": "code",
   "execution_count": 11,
   "metadata": {
    "nbgrader": {
     "grade": false,
     "grade_id": "cell-f66793265a44da17",
     "locked": false,
     "schema_version": 3,
     "solution": true
    }
   },
   "outputs": [
    {
     "name": "stdout",
     "output_type": "stream",
     "text": [
      "0.8023364056300184 1.9201419330422982\n",
      "0.6492280079620327 10.549155586504138\n"
     ]
    }
   ],
   "source": [
    "### GRADED\n",
    "x0 = ''\n",
    "x1 = ''\n",
    "y0 = ''\n",
    "y1 = ''\n",
    "slope0 = ''\n",
    "def boundary_1(x):\n",
    "    '''\n",
    "    This function takes in an array of x and \n",
    "    returns a linear boundary between class 0 and class 1\n",
    "    using slope0.\n",
    "    '''\n",
    "    pass\n",
    "\n",
    "###BEGIN SOLUTION\n",
    "x0 = df[df['class'] == 1]['x'].min()\n",
    "x1 = df[df['class'] == 0]['x'].max()\n",
    "\n",
    "y0 = df.loc[df['x'] == x0]['y'].values[0]\n",
    "y1 = df.loc[df['x'] == x1]['y'].values[0]\n",
    "slope0 = (y1 - y0)/(x1 - x0)\n",
    "def boundary_1(x):\n",
    "    return slope0*(x0 - x) + y0\n",
    "### END SOLUTION\n",
    "\n",
    "### ANSWER CHECK\n",
    "print(x0, y0)\n",
    "print(x1, y1)"
   ]
  },
  {
   "cell_type": "code",
   "execution_count": 12,
   "metadata": {},
   "outputs": [
    {
     "data": {
      "text/plain": [
       "(-2.0, 15.0)"
      ]
     },
     "execution_count": 12,
     "metadata": {},
     "output_type": "execute_result"
    },
    {
     "data": {
      "image/png": "[encoded data removed]",
      "text/plain": [
       "<Figure size 432x288 with 1 Axes>"
      ]
     },
     "metadata": {
      "needs_background": "light"
     },
     "output_type": "display_data"
    }
   ],
   "source": [
    "## Uncomment to visualize the decision boundary\n",
    "## what is good about this boundary and what is not so good?\n",
    "\n",
    "x = np.linspace(-8, 8, 10000)\n",
    "fig, ax = plt.subplots()\n",
    "for label, color in enumerate(['blue', 'orange']):\n",
    "    ax.scatter(X[y == label][:, 0], X[y == label][:, 1], c=color, label=label,\n",
    "               alpha=0.8, edgecolors='none')\n",
    "ax.set_title('Synthetic Binary Classification Dataset')\n",
    "ax.set_xlabel('X1')\n",
    "ax.set_ylabel('X2')\n",
    "ax.grid(True)\n",
    "ax.plot(x, boundary_1(x), '--r', label = 'Boundary 1')\n",
    "ax.legend()\n",
    "ax.set_ylim(-2, 15)"
   ]
  },
  {
   "cell_type": "code",
   "execution_count": 13,
   "metadata": {
    "nbgrader": {
     "grade": true,
     "grade_id": "cell-057d7aec85aad74a",
     "locked": true,
     "points": 10,
     "schema_version": 3,
     "solution": false
    }
   },
   "outputs": [],
   "source": [
    "### BEGIN HIDDEN TESTS\n",
    "x0_ = df[df['class'] == 1]['x'].min()\n",
    "x1_ = df[df['class'] == 0]['x'].max()\n",
    "\n",
    "y0_ = df.loc[df['x'] == x0_]['y'].values[0]\n",
    "y1_ = df.loc[df['x'] == x1_]['y'].values[0]\n",
    "slope0_ = (y1_ - y0_)/(x1_ - x0_)\n",
    "def boundary_1_(x):\n",
    "    return slope0_*(x0_ - x) + y0_\n",
    "#\n",
    "#\n",
    "#\n",
    "np.testing.assert_array_equal(boundary_1(x), boundary_1_(x))\n",
    "### END HIDDEN TESTS"
   ]
  },
  {
   "cell_type": "markdown",
   "metadata": {
    "nbgrader": {
     "grade": false,
     "grade_id": "cell-c13c8932630645a1",
     "locked": true,
     "schema_version": 3,
     "solution": false
    }
   },
   "source": [
    "[Back to top](#-Index)\n",
    "\n",
    "### Problem 2\n",
    "\n",
    "#### Linear Boundary through Given Points\n",
    "\n",
    "**10 Points**\n",
    "\n",
    "\n",
    "Create a linear function that goes through the two points where:\n",
    "\n",
    "- $(x_2, y_2)$ corresponds to the point in class 0 with the lowest $y$ value. \n",
    "- $(x_3, y_3)$ corresponds to the point in class 1 with the highest $y$ value.\n",
    "\n",
    "Define your points as `x2, y2` and `x3, y3`, determine the slope and write the equation by completing the function `boundary_2` below.\n"
   ]
  },
  {
   "cell_type": "code",
   "execution_count": 14,
   "metadata": {
    "nbgrader": {
     "grade": false,
     "grade_id": "cell-156a13425eec2c19",
     "locked": false,
     "schema_version": 3,
     "solution": true
    }
   },
   "outputs": [
    {
     "name": "stdout",
     "output_type": "stream",
     "text": [
      "(-2.3256760699817454, 5.039148298996536)\n",
      "(4.110565169752189, 7.41350801711997)\n",
      "0.3689047115675836\n"
     ]
    }
   ],
   "source": [
    "### GRADED\n",
    "x2 = ''\n",
    "x3 = ''\n",
    "y2 = ''\n",
    "y3 = ''\n",
    "slope1 = ''\n",
    "def boundary_2(x):\n",
    "    '''\n",
    "    This function takes in an array of x and \n",
    "    returns a linear boundary between class 0 and class 1\n",
    "    using slope1.\n",
    "    '''\n",
    "    pass\n",
    "\n",
    "###BEGIN SOLUTION\n",
    "y2 = df[df['class'] == 0]['y'].min()\n",
    "y3 = df[df['class'] == 1]['y'].max()\n",
    "\n",
    "x2 = df.loc[df['y'] == y2]['x'].values[0]\n",
    "x3 = df.loc[df['y'] == y3]['x'].values[0]\n",
    "slope1 = (y2 - y3)/(x2 - x3)\n",
    "def boundary_2(x):\n",
    "    return -slope1*(x2 - x) + y2\n",
    "### END SOLUTION\n",
    "\n",
    "### ANSWER CHECK\n",
    "print((x2, y2))\n",
    "print((x3, y3))\n",
    "print(slope1)"
   ]
  },
  {
   "cell_type": "code",
   "execution_count": 15,
   "metadata": {},
   "outputs": [
    {
     "data": {
      "text/plain": [
       "(-8.0, 8.0)"
      ]
     },
     "execution_count": 15,
     "metadata": {},
     "output_type": "execute_result"
    },
    {
     "data": {
      "image/png": "[encoded data removed]",
      "text/plain": [
       "<Figure size 432x288 with 1 Axes>"
      ]
     },
     "metadata": {
      "needs_background": "light"
     },
     "output_type": "display_data"
    }
   ],
   "source": [
    "## Uncomment to visualize the decision boundary\n",
    "## what is good about this boundary and what is not so good?\n",
    "\n",
    "x = np.linspace(-8, 8, 10000)\n",
    "fig, ax = plt.subplots()\n",
    "for label, color in enumerate(['blue', 'orange']):\n",
    "    ax.scatter(X[y == label][:, 0], X[y == label][:, 1], c=color, label=label,\n",
    "               alpha=0.8, edgecolors='none')\n",
    "ax.set_title('Synthetic Binary Classification Dataset')\n",
    "ax.set_xlabel('x')\n",
    "ax.set_ylabel('y')\n",
    "ax.grid(True)\n",
    "ax.plot(x, boundary_1(x), '--g', label = 'Boundary 1')\n",
    "ax.plot(x, boundary_2(x), '--r', label = 'Boundary 2')\n",
    "ax.legend()\n",
    "ax.set_ylim(-2, 15)\n",
    "ax.set_xlim(-8, 8)"
   ]
  },
  {
   "cell_type": "code",
   "execution_count": 16,
   "metadata": {
    "nbgrader": {
     "grade": true,
     "grade_id": "cell-99be80c8e9e5f5ae",
     "locked": true,
     "points": 10,
     "schema_version": 3,
     "solution": false
    }
   },
   "outputs": [],
   "source": [
    "### BEGIN HIDDEN TESTS\n",
    "y2_ = df[df['class'] == 0]['y'].min()\n",
    "y3_ = df[df['class'] == 1]['y'].max()\n",
    "\n",
    "x2_ = df.loc[df['y'] == y2]['x'].values[0]\n",
    "x3_ = df.loc[df['y'] == y3]['x'].values[0]\n",
    "slope1_ = (y2 - y3)/(x2 - x3)\n",
    "def boundary_2_(x):\n",
    "    return -slope1_*(x2_ - x) + y2_\n",
    "#\n",
    "#\n",
    "#\n",
    "np.testing.assert_array_equal(boundary_2(x), boundary_2_(x))\n",
    "### END HIDDEN TESTS"
   ]
  },
  {
   "cell_type": "markdown",
   "metadata": {
    "nbgrader": {
     "grade": false,
     "grade_id": "cell-5f6c86cdf2428b1d",
     "locked": true,
     "schema_version": 3,
     "solution": false
    }
   },
   "source": [
    "[Back to top](#-Index)\n",
    "\n",
    "### Problem 3\n",
    "\n",
    "#### Intersection of Boundaries\n",
    "\n",
    "**5 Points**\n",
    "\n",
    "Below, the `scipy.optimize` module is used to determine the intersection of the boundaries.  The $x$ coordinate is assigned as `xint` below. Use this point to determine the $y$-coordinate of the point of intersection and assign this to `yint` below. "
   ]
  },
  {
   "cell_type": "code",
   "execution_count": 17,
   "metadata": {},
   "outputs": [],
   "source": [
    "from scipy.optimize import root"
   ]
  },
  {
   "cell_type": "code",
   "execution_count": 18,
   "metadata": {},
   "outputs": [],
   "source": [
    "def intersection(x):\n",
    "    '''\n",
    "    This function can be used to determine\n",
    "    the intersection of boundary_1 and boundary_2\n",
    "    '''\n",
    "    return boundary_1(x) - boundary_2(x)\n",
    "\n",
    "xint = root(intersection, 2)['x'] #x value of intersection point"
   ]
  },
  {
   "cell_type": "code",
   "execution_count": 19,
   "metadata": {
    "nbgrader": {
     "grade": false,
     "grade_id": "cell-69e99fbb743606d9",
     "locked": false,
     "schema_version": 3,
     "solution": true
    }
   },
   "outputs": [
    {
     "name": "stdout",
     "output_type": "stream",
     "text": [
      "(array([0.87865269]), array([-1.77635684e-15]))\n"
     ]
    }
   ],
   "source": [
    "### GRADED\n",
    "yint = ''\n",
    "\n",
    "### BEGIN SOLUTION\n",
    "yint = intersection(xint)\n",
    "### END SOLUTION\n",
    "\n",
    "### ANSWER CHECK\n",
    "print((xint, yint))"
   ]
  },
  {
   "cell_type": "code",
   "execution_count": 20,
   "metadata": {},
   "outputs": [
    {
     "data": {
      "image/png": "[encoded data removed]",
      "text/plain": [
       "<Figure size 432x288 with 1 Axes>"
      ]
     },
     "metadata": {
      "needs_background": "light"
     },
     "output_type": "display_data"
    }
   ],
   "source": [
    "# Uncomment to visualize intersection point\n",
    "plt.scatter(df['x'], df['y'], c = df['class'])\n",
    "plt.plot(x, boundary_2(x), '--r')\n",
    "plt.plot(x, boundary_1(x), '--r')\n",
    "plt.plot(xint, yint, 'ro')\n",
    "plt.ylim(-2, 15)\n",
    "plt.grid()"
   ]
  },
  {
   "cell_type": "code",
   "execution_count": 21,
   "metadata": {
    "nbgrader": {
     "grade": true,
     "grade_id": "cell-710ce33f0730743a",
     "locked": true,
     "points": 5,
     "schema_version": 3,
     "solution": false
    }
   },
   "outputs": [],
   "source": [
    "### BEGIN HIDDEN TESTS\n",
    "yint_ = intersection(xint)\n",
    "#\n",
    "#\n",
    "#\n",
    "assert yint == yint_\n",
    "### END HIDDEN TESTS"
   ]
  },
  {
   "cell_type": "markdown",
   "metadata": {
    "nbgrader": {
     "grade": false,
     "grade_id": "cell-0dca2a6dfe907702",
     "locked": true,
     "schema_version": 3,
     "solution": false
    }
   },
   "source": [
    "[Back to top](#-Index)\n",
    "\n",
    "### Problem 4\n",
    "\n",
    "#### Linear Boundary Compromise\n",
    "\n",
    "**10 Points**\n",
    "\n",
    "Now, build a linear function that uses a slope that is the determined by the points:\n",
    "\n",
    "$$(x_4, y_4) = (x0 + x2)/2, (y0 + y2)/2$$\n",
    "$$(x_5, y_5) = (x1 + x3)/2, (y1 + y3)/2$$\n",
    "\n",
    "and goes through the intersection point of the lines `boundary_1` and `boundary_2`. \n"
   ]
  },
  {
   "cell_type": "code",
   "execution_count": 18,
   "metadata": {
    "nbgrader": {
     "grade": false,
     "grade_id": "cell-23cf31f2bb30187d",
     "locked": false,
     "schema_version": 3,
     "solution": true
    }
   },
   "outputs": [
    {
     "name": "stdout",
     "output_type": "stream",
     "text": [
      "(4.110565169752189, 7.41350801711997)\n",
      "(-0.7616698321758635, 3.479645116019417)\n"
     ]
    }
   ],
   "source": [
    "### GRADED\n",
    "x4 = ''\n",
    "x5 = ''\n",
    "y4 = ''\n",
    "y5 = ''\n",
    "slope3 = ''\n",
    "def boundary_3(x):\n",
    "    pass\n",
    "\n",
    "\n",
    "### BEGIN SOLUTION\n",
    "x4 = (x0 + x2)/2\n",
    "x5 = (x1 + x3)/2\n",
    "y4 = (y0 + y2)/2\n",
    "y5 = (y1 + y3)/2\n",
    "slope3 = (y5 - y4)/(x5 - x4)\n",
    "def boundary_3(x):\n",
    "    return -slope3*(xint - x) + boundary_1(xint)\n",
    "### END SOLUTION\n",
    "\n",
    "### ANSWER CHECK\n",
    "print((x3, y3))\n",
    "print((x4, y4))"
   ]
  },
  {
   "cell_type": "code",
   "execution_count": 19,
   "metadata": {},
   "outputs": [],
   "source": [
    "## Uncomment to visualize boundaries\n",
    "# x = np.linspace(-10, 10, 100)\n",
    "# fig, ax = plt.subplots()\n",
    "# for label, color in enumerate(['blue', 'orange']):\n",
    "#     ax.scatter(X[y == label][:, 0], X[y == label][:, 1], c=color, label=label,\n",
    "#                alpha=0.8, edgecolors='none')\n",
    "# ax.set_title('Synthetic Binary Classification Dataset')\n",
    "# ax.set_xlabel('x')\n",
    "# ax.set_ylabel('y')\n",
    "# ax.grid(True)\n",
    "# ax.plot(x, boundary_1(x), '--g', label = 'Boundary 1')\n",
    "# ax.plot(x, boundary_2(x), '--r', label = 'Boundary 2')\n",
    "# ax.plot(x, boundary_3(x), '--', color = 'purple', label = 'Boundary 3')\n",
    "# ax.legend()\n",
    "# ax.set_ylim(-2, 15)\n",
    "# ax.set_xlim(-7.5, 10)"
   ]
  },
  {
   "cell_type": "code",
   "execution_count": 20,
   "metadata": {
    "nbgrader": {
     "grade": true,
     "grade_id": "cell-d3740166c73a81c9",
     "locked": true,
     "points": 10,
     "schema_version": 3,
     "solution": false
    }
   },
   "outputs": [],
   "source": [
    "### BEGIN HIDDEN TESTS\n",
    "x4_ = (x0_ + x2_)/2\n",
    "x5_ = (x1_ + x3_)/2\n",
    "y4_ = (y0_ + y2_)/2\n",
    "y5_ = (y1_ + y3_)/2\n",
    "slope3_ = (y5_ - y4_)/(x5_ - x4_)\n",
    "def boundary_3_(x):\n",
    "    return -slope3_*(xint - x) + boundary_1_(xint)\n",
    "#\n",
    "#\n",
    "#\n",
    "np.testing.assert_array_equal(boundary_3(x), boundary_3_(x))\n",
    "### END HIDDEN TESTS"
   ]
  },
  {
   "cell_type": "markdown",
   "metadata": {
    "nbgrader": {
     "grade": false,
     "grade_id": "cell-157733931d5aa0cb",
     "locked": true,
     "schema_version": 3,
     "solution": false
    }
   },
   "source": [
    "[Back to top](#-Index)\n",
    "\n",
    "### Problem 5\n",
    "\n",
    "#### Selecting the Optimal Decision Boundary\n",
    "\n",
    "**10 Points**\n",
    "\n",
    "Despite all three examples being near perfect linear boundaries for the two classes, which boundary do you think would be the best for predicting new data points?  Assign your answer as a string to `ans5` below.\n",
    "\n",
    "```\n",
    "a. boundary_1\n",
    "b. boundary_2\n",
    "c. boundary_3\n",
    "d. all are same\n",
    "```\n"
   ]
  },
  {
   "cell_type": "code",
   "execution_count": 21,
   "metadata": {
    "nbgrader": {
     "grade": false,
     "grade_id": "cell-282c786c34a0508c",
     "locked": false,
     "schema_version": 3,
     "solution": true
    }
   },
   "outputs": [
    {
     "name": "stdout",
     "output_type": "stream",
     "text": [
      "c\n"
     ]
    }
   ],
   "source": [
    "### GRADED\n",
    "ans5 = ''\n",
    "    \n",
    "### BEGIN SOLUTION\n",
    "ans5 = 'c'\n",
    "### END SOLUTION\n",
    "\n",
    "### ANSWER CHECK\n",
    "print(ans5)"
   ]
  },
  {
   "cell_type": "code",
   "execution_count": 22,
   "metadata": {
    "nbgrader": {
     "grade": true,
     "grade_id": "cell-2b5717bd3061a3ed",
     "locked": true,
     "points": 10,
     "schema_version": 3,
     "solution": false
    }
   },
   "outputs": [],
   "source": [
    "### BEGIN HIDDEN TESTS\n",
    "ans5_ = 'c'\n",
    "\n",
    "#\n",
    "#\n",
    "#\n",
    "assert ans5 == ans5_\n",
    "### END HIDDEN TESTS"
   ]
  }
 ],
 "metadata": {
  "celltoolbar": "Create Assignment",
  "kernelspec": {
   "display_name": "Python 3 (ipykernel)",
   "language": "python",
   "name": "python3"
  },
  "language_info": {
   "codemirror_mode": {
    "name": "ipython",
    "version": 3
   },
   "file_extension": ".py",
   "mimetype": "text/x-python",
   "name": "python",
   "nbconvert_exporter": "python",
   "pygments_lexer": "ipython3",
   "version": "3.9.7"
  }
 },
 "nbformat": 4,
 "nbformat_minor": 4
}
