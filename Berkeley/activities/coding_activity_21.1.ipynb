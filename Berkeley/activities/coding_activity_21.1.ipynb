{
 "cells": [
  {
   "cell_type": "markdown",
   "metadata": {
    "deletable": false,
    "editable": false,
    "nbgrader": {
     "cell_type": "markdown",
     "checksum": "3ed10c1610b9b54138514f53c0c46f0d",
     "grade": false,
     "grade_id": "cell-650f75176a33295c",
     "locked": true,
     "schema_version": 3,
     "solution": false,
     "task": false
    }
   },
   "source": [
    "### Codio Activity 21.1: Wisdom of the Crowd\n",
    "\n",
    "**Expected Time = 30 minutes**\n",
    "\n",
    "**Total Points = 30**\n",
    "\n",
    "This activity focuses on tracking the results of sampling from a known distribution and examining the mean and variance of the sample as the sample size increases.  You will generate a normal distribution using `scipy.stats`.  Using this distribution you will generate samples and determine the mean and variance of these, resulting in plots similar to those from the lectures."
   ]
  },
  {
   "cell_type": "markdown",
   "metadata": {
    "deletable": false,
    "editable": false,
    "nbgrader": {
     "cell_type": "markdown",
     "checksum": "1896be946017ce15e2ebc12d4f02d27d",
     "grade": false,
     "grade_id": "cell-37b4fab07b4606a8",
     "locked": true,
     "schema_version": 3,
     "solution": false,
     "task": false
    }
   },
   "source": [
    "#### Index\n",
    "\n",
    "- [Problem 1](#-Problem-1)\n",
    "- [Problem 2](#-Problem-2)\n",
    "- [Problem 3](#-Problem-3)\n",
    "\n"
   ]
  },
  {
   "cell_type": "code",
   "execution_count": 1,
   "metadata": {},
   "outputs": [],
   "source": [
    "import matplotlib.pyplot as plt\n",
    "import numpy as np\n",
    "import pandas as pd\n",
    "import scipy.stats as stats"
   ]
  },
  {
   "cell_type": "markdown",
   "metadata": {
    "deletable": false,
    "editable": false,
    "nbgrader": {
     "cell_type": "markdown",
     "checksum": "f6015af1942be44fcdeaf636e0bebb45",
     "grade": false,
     "grade_id": "cell-47568cde098acb8f",
     "locked": true,
     "schema_version": 3,
     "solution": false,
     "task": false
    }
   },
   "source": [
    "[Back to top](#-Index)\n",
    "\n",
    "### Problem 1\n",
    "\n",
    "#### $N(10, 4)$\n",
    "\n",
    "**10 Points**\n",
    "\n",
    "Below, use `scipy.stats.norm` to create a normal distribution with mean = 10 and scale = 4.  Assign this as the variable `dist`.  Then, perform 1000 iterations where you sample the loop index as the sample size with the `.rvs()` method on dist. MAke sure to also use the iteration as the `random_state` parameter in `.rvs()`.  Keep track of the sample means with the list `means`.  Uncomment the code to visualize the results.  "
   ]
  },
  {
   "cell_type": "code",
   "execution_count": 2,
   "metadata": {},
   "outputs": [
    {
     "data": {
      "text/plain": [
       "11.986856612044932"
      ]
     },
     "execution_count": 2,
     "metadata": {},
     "output_type": "execute_result"
    }
   ],
   "source": [
    "stats.norm(10, 4).rvs(random_state=42)"
   ]
  },
  {
   "cell_type": "code",
   "execution_count": 3,
   "metadata": {
    "deletable": false,
    "nbgrader": {
     "cell_type": "code",
     "checksum": "408a28a487646844efea6cc771701d18",
     "grade": false,
     "grade_id": "cell-3a74a93e6a29a82c",
     "locked": false,
     "schema_version": 3,
     "solution": true,
     "task": false
    }
   },
   "outputs": [
    {
     "name": "stdout",
     "output_type": "stream",
     "text": [
      "[16.497381454652967, 9.0539506507364, 13.095514389352422, 10.248202617565216, 11.91891698717907]\n"
     ]
    },
    {
     "data": {
      "text/plain": [
       "<matplotlib.legend.Legend at 0x7fdd19535ee0>"
      ]
     },
     "execution_count": 3,
     "metadata": {},
     "output_type": "execute_result"
    },
    {
     "data": {
      "image/png": "[encoded data removed]",
      "text/plain": [
       "<Figure size 432x288 with 1 Axes>"
      ]
     },
     "metadata": {
      "needs_background": "light"
     },
     "output_type": "display_data"
    }
   ],
   "source": [
    "### GRADED\n",
    "dist = ''\n",
    "means = []\n",
    "for i in range(1, 1000):\n",
    "    pass\n",
    "    \n",
    "# YOUR CODE HERE\n",
    "#raise NotImplementedError()\n",
    "dist = stats.norm(10, 4)\n",
    "means = []\n",
    "for i in range(1, 1000):\n",
    "    means.append(np.mean( dist.rvs(i, random_state = i) ))\n",
    "\n",
    "### ANSWER CHECK\n",
    "print(means[:5])\n",
    "\n",
    "plt.plot(range(1, 1000), means)\n",
    "plt.axhline(10, label = 'True Mean', color = 'red')\n",
    "plt.xlabel('N Participants')\n",
    "plt.ylabel('Sample Mean')\n",
    "plt.legend()"
   ]
  },
  {
   "cell_type": "code",
   "execution_count": null,
   "metadata": {
    "deletable": false,
    "editable": false,
    "nbgrader": {
     "cell_type": "code",
     "checksum": "4a6fb3e889786f9155379d01d55b6cb4",
     "grade": true,
     "grade_id": "cell-ce1479a09ec6dd66",
     "locked": true,
     "points": 10,
     "schema_version": 3,
     "solution": false,
     "task": false
    }
   },
   "outputs": [],
   "source": []
  },
  {
   "cell_type": "markdown",
   "metadata": {
    "deletable": false,
    "editable": false,
    "nbgrader": {
     "cell_type": "markdown",
     "checksum": "56f990b5f470e3691a1d27bdc8429a13",
     "grade": false,
     "grade_id": "cell-fd5a33b5355c1e0c",
     "locked": true,
     "schema_version": 3,
     "solution": false,
     "task": false
    }
   },
   "source": [
    "[Back to top](#-Index)\n",
    "\n",
    "### Problem 2\n",
    "\n",
    "#### Variance of samples\n",
    "\n",
    "**10 Points**"
   ]
  },
  {
   "cell_type": "code",
   "execution_count": null,
   "metadata": {},
   "outputs": [],
   "source": []
  },
  {
   "cell_type": "code",
   "execution_count": 4,
   "metadata": {
    "deletable": false,
    "nbgrader": {
     "cell_type": "code",
     "checksum": "c1faa0718b9993e40ee9383dbd8843d6",
     "grade": false,
     "grade_id": "cell-726912946ffcda2e",
     "locked": false,
     "schema_version": 3,
     "solution": true,
     "task": false
    }
   },
   "outputs": [
    {
     "name": "stdout",
     "output_type": "stream",
     "text": [
      "[0.0, 0.25990755125959586, 2.848675869599996, 1.7100201767562866, 3.28810836749552]\n"
     ]
    }
   ],
   "source": [
    "### GRADED\n",
    "variances = []\n",
    "    \n",
    "# YOUR CODE HERE\n",
    "#raise NotImplementedError()\n",
    "for i in range(1, 1000):\n",
    "    variances.append(np.var(dist.rvs(i, random_state = i))/i)\n",
    "\n",
    "### ANSWER CHECK\n",
    "print(variances[:5])"
   ]
  },
  {
   "cell_type": "code",
   "execution_count": 5,
   "metadata": {},
   "outputs": [
    {
     "data": {
      "image/png": "[encoded data removed]",
      "text/plain": [
       "<Figure size 1440x360 with 2 Axes>"
      ]
     },
     "metadata": {
      "needs_background": "light"
     },
     "output_type": "display_data"
    }
   ],
   "source": [
    "fig, ax = plt.subplots(1, 2, figsize = (20, 5))\n",
    "ax[0].plot(range(1, 1000), means)\n",
    "ax[0].axhline(10, label = 'True Mean', color = 'red')\n",
    "ax[0].set_xlabel('N Participants')\n",
    "ax[0].set_ylabel('Sample Mean')\n",
    "ax[0].legend()\n",
    "\n",
    "ax[1].plot(range(1, 1000), variances)\n",
    "ax[1].set_xlabel('N Participants (log)')\n",
    "ax[1].set_ylabel('Sample Variance (log)')\n",
    "ax[1].set_xscale('log')\n",
    "ax[1].set_yscale('log')"
   ]
  },
  {
   "cell_type": "code",
   "execution_count": null,
   "metadata": {
    "deletable": false,
    "editable": false,
    "nbgrader": {
     "cell_type": "code",
     "checksum": "68db394ce62977a543b53bf705ce36f0",
     "grade": true,
     "grade_id": "cell-51a780c68006c75b",
     "locked": true,
     "points": 10,
     "schema_version": 3,
     "solution": false,
     "task": false
    }
   },
   "outputs": [],
   "source": []
  },
  {
   "cell_type": "markdown",
   "metadata": {
    "deletable": false,
    "editable": false,
    "nbgrader": {
     "cell_type": "markdown",
     "checksum": "d3d6de89c833bb19469f32b60c079c51",
     "grade": false,
     "grade_id": "cell-a6fdfabb9a1e4ef2",
     "locked": true,
     "schema_version": 3,
     "solution": false,
     "task": false
    }
   },
   "source": [
    "[Back to top](#-Index)\n",
    "\n",
    "### Problem 3\n",
    "\n",
    "#### Interpreting the Results\n",
    "\n",
    "**10 Points**\n",
    "\n",
    "Here, we can interpret the mean as the estimator or model to describe our data with.  As we increase the number of participants in the samples, does our estimator get closer to the truth?  Answer \"yes\" or \"no\" as a string below for `ans3`. "
   ]
  },
  {
   "cell_type": "code",
   "execution_count": 6,
   "metadata": {
    "deletable": false,
    "nbgrader": {
     "cell_type": "code",
     "checksum": "789ba33ae58a5b01d193e919c4fe313e",
     "grade": false,
     "grade_id": "cell-d5f8809fd58e681c",
     "locked": false,
     "schema_version": 3,
     "solution": true,
     "task": false
    }
   },
   "outputs": [
    {
     "name": "stdout",
     "output_type": "stream",
     "text": [
      "<class 'str'>\n"
     ]
    }
   ],
   "source": [
    "### GRADED\n",
    "ans3 = ''\n",
    "    \n",
    "# YOUR CODE HERE\n",
    "#raise NotImplementedError()\n",
    "ans3 = 'yes'\n",
    "\n",
    "### ANSWER CHECK\n",
    "print(type(ans3))"
   ]
  },
  {
   "cell_type": "code",
   "execution_count": null,
   "metadata": {
    "deletable": false,
    "editable": false,
    "nbgrader": {
     "cell_type": "code",
     "checksum": "c7db31bbc32e5a5f77e86343918761d1",
     "grade": true,
     "grade_id": "cell-eb2be4e2e266f3eb",
     "locked": true,
     "points": 10,
     "schema_version": 3,
     "solution": false,
     "task": false
    }
   },
   "outputs": [],
   "source": []
  }
 ],
 "metadata": {
  "kernelspec": {
   "display_name": "Python 3 (ipykernel)",
   "language": "python",
   "name": "python3"
  },
  "language_info": {
   "codemirror_mode": {
    "name": "ipython",
    "version": 3
   },
   "file_extension": ".py",
   "mimetype": "text/x-python",
   "name": "python",
   "nbconvert_exporter": "python",
   "pygments_lexer": "ipython3",
   "version": "3.9.7"
  }
 },
 "nbformat": 4,
 "nbformat_minor": 4
}
