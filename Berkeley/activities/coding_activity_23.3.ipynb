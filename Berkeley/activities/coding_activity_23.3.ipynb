{
 "cells": [
  {
   "cell_type": "markdown",
   "metadata": {
    "deletable": false,
    "editable": false,
    "nbgrader": {
     "cell_type": "markdown",
     "checksum": "a74b5a69ac4326e4b820e2fe16f409d5",
     "grade": false,
     "grade_id": "cell-7494538f5c5217cf",
     "locked": true,
     "schema_version": 3,
     "solution": false,
     "task": false
    }
   },
   "source": [
    "### Codio Activity 23.3: Using a Pre-trained Network\n",
    "\n",
    "**Expected Time = 90 minutes**\n",
    "\n",
    "**Total Points = 50**\n",
    "\n",
    "This activity introduces the use of a pretrained network with `keras`.  There are many available models, but you will use one that can be fit with smaller image examples.  To do so, you will use the `EfficientNetV2B0` model with the `cifar10` dataset from `keras`.  \n",
    "\n",
    "#### Index\n",
    "\n",
    "- [Problem 1](#-Problem-1)\n",
    "- [Problem 2](#-Problem-2)\n",
    "- [Problem 3](#-Problem-3)\n",
    "- [Problem 4](#-Problem-4)\n",
    "- [Problem 5](#-Problem-5)"
   ]
  },
  {
   "cell_type": "code",
   "execution_count": 1,
   "metadata": {},
   "outputs": [
    {
     "name": "stderr",
     "output_type": "stream",
     "text": [
      "2022-09-17 13:59:10.258315: W tensorflow/stream_executor/platform/default/dso_loader.cc:64] Could not load dynamic library 'libcudart.so.11.0'; dlerror: libcudart.so.11.0: cannot open shared object file: No such file or directory\n",
      "2022-09-17 13:59:10.258371: I tensorflow/stream_executor/cuda/cudart_stub.cc:29] Ignore above cudart dlerror if you do not have a GPU set up on your machine.\n"
     ]
    }
   ],
   "source": [
    "import numpy as np\n",
    "import pandas as pd\n",
    "import matplotlib.pyplot as plt\n",
    "\n",
    "from tensorflow.keras.applications.efficientnet_v2 import EfficientNetV2B0\n",
    "from tensorflow.keras.layers import Dense, Flatten\n",
    "from tensorflow.keras.models import Sequential\n",
    "from tensorflow.keras.utils import to_categorical\n",
    "import tensorflow as tf\n",
    "\n",
    "import warnings\n",
    "warnings.filterwarnings('ignore')"
   ]
  },
  {
   "cell_type": "markdown",
   "metadata": {
    "deletable": false,
    "editable": false,
    "nbgrader": {
     "cell_type": "markdown",
     "checksum": "9830eeafaeb9603b6377c8cb9332df80",
     "grade": false,
     "grade_id": "cell-05a4386981a0d073",
     "locked": true,
     "schema_version": 3,
     "solution": false,
     "task": false
    }
   },
   "source": [
    "#### Information on the Model and Dataset\n",
    "\n",
    "For more information on the model you can consult the paper from its origin [here](https://arxiv.org/abs/1905.11946) and the keras documentation on the model [here](https://keras.io/api/applications/efficientnet/).  For your purposes, recognize that this model has been trained on 1000 image classes and you will use the resulting feature maps to transform the `cifar10` data.\n",
    "\n",
    "**The Data**\n",
    "\n",
    "This is a dataset of 50,000 32x32 color training images and 10,000 test images, labeled over 10 categories. \n",
    "\n",
    "The classes are:\n",
    "\n",
    "|Label\t|Description|\n",
    "| ------ | ------- |\n",
    "|0\t|airplane|\n",
    "|1\t|automobile|\n",
    "|2\t|bird|\n",
    "|3\t|cat|\n",
    "|4\t|deer|\n",
    "|5\t|dog|\n",
    "|6\t|frog|\n",
    "|7\t|horse|\n",
    "|8\t|ship|\n",
    "|9\t|truck|"
   ]
  },
  {
   "cell_type": "markdown",
   "metadata": {
    "deletable": false,
    "editable": false,
    "nbgrader": {
     "cell_type": "markdown",
     "checksum": "c4c99ee099fab27679f05646596540e6",
     "grade": false,
     "grade_id": "cell-dc7213c4ec382a15",
     "locked": true,
     "schema_version": 3,
     "solution": false,
     "task": false
    }
   },
   "source": [
    "[Back to top](#-Index)\n",
    "\n",
    "### Problem 1\n",
    "\n",
    "#### Dowloading the model\n",
    "\n",
    "**10 Points**\n",
    "\n",
    "Below, download the `EfficientNetV2B0` as `base_model` below with appropriate `input_shape` and `include_top = False`. "
   ]
  },
  {
   "cell_type": "code",
   "execution_count": 3,
   "metadata": {
    "deletable": false,
    "nbgrader": {
     "cell_type": "code",
     "checksum": "819bac0579e1fed20279e90d88d16b07",
     "grade": false,
     "grade_id": "cell-ba5744db3c86b792",
     "locked": false,
     "schema_version": 3,
     "solution": true,
     "task": false
    }
   },
   "outputs": [
    {
     "name": "stderr",
     "output_type": "stream",
     "text": [
      "2022-09-17 14:07:25.751799: W tensorflow/stream_executor/platform/default/dso_loader.cc:64] Could not load dynamic library 'libcuda.so.1'; dlerror: libcuda.so.1: cannot open shared object file: No such file or directory\n",
      "2022-09-17 14:07:25.751850: W tensorflow/stream_executor/cuda/cuda_driver.cc:269] failed call to cuInit: UNKNOWN ERROR (303)\n",
      "2022-09-17 14:07:25.751876: I tensorflow/stream_executor/cuda/cuda_diagnostics.cc:156] kernel driver does not appear to be running on this host (brigadeironic-beastdanube): /proc/driver/nvidia/version does not exist\n",
      "2022-09-17 14:07:25.752162: I tensorflow/core/platform/cpu_feature_guard.cc:193] This TensorFlow binary is optimized with oneAPI Deep Neural Network Library (oneDNN) to use the following CPU instructions in performance-critical operations:  AVX2 FMA\n",
      "To enable them in other operations, rebuild TensorFlow with the appropriate compiler flags.\n"
     ]
    },
    {
     "name": "stdout",
     "output_type": "stream",
     "text": [
      "Downloading data from https://storage.googleapis.com/tensorflow/keras-applications/efficientnet_v2/efficientnetv2-b0_notop.h5\n",
      "24274472/24274472 [==============================] - 0s 0us/step\n",
      "<keras.engine.functional.Functional object at 0x7f47404507f0>\n"
     ]
    }
   ],
   "source": [
    "### GRADED\n",
    "tf.random.set_seed(42)\n",
    "base_model = ''\n",
    "\n",
    "    \n",
    "# YOUR CODE HERE\n",
    "#raise NotImplementedError()\n",
    "tf.random.set_seed(42)\n",
    "base_model = EfficientNetV2B0(input_shape = (32, 32, 3), include_top = False)\n",
    "\n",
    "### ANSWER CHECK\n",
    "print(base_model)"
   ]
  },
  {
   "cell_type": "code",
   "execution_count": null,
   "metadata": {
    "deletable": false,
    "editable": false,
    "nbgrader": {
     "cell_type": "code",
     "checksum": "c532d4c7d78595803dddfd94e4b76d32",
     "grade": true,
     "grade_id": "cell-37e9ff19b9154a0b",
     "locked": true,
     "points": 10,
     "schema_version": 3,
     "solution": false,
     "task": false
    }
   },
   "outputs": [],
   "source": []
  },
  {
   "cell_type": "markdown",
   "metadata": {
    "deletable": false,
    "editable": false,
    "nbgrader": {
     "cell_type": "markdown",
     "checksum": "c74d981e3931593ae6938b063285341b",
     "grade": false,
     "grade_id": "cell-babd91ac5195d0cf",
     "locked": true,
     "schema_version": 3,
     "solution": false,
     "task": false
    }
   },
   "source": [
    "[Back to top](#-Index)\n",
    "\n",
    "### Problem 2\n",
    "\n",
    "#### Loading and Preparing the Data\n",
    "\n",
    "**10 Points**\n",
    "\n",
    "Below, load in the data from `cifar10` and prepare the target variable.  Assign these as `X_train`, `Y_train`, `X_test`, and `Y_test` respectively."
   ]
  },
  {
   "cell_type": "code",
   "execution_count": 5,
   "metadata": {},
   "outputs": [],
   "source": [
    "from tensorflow.keras.datasets import cifar10"
   ]
  },
  {
   "cell_type": "code",
   "execution_count": 6,
   "metadata": {
    "deletable": false,
    "nbgrader": {
     "cell_type": "code",
     "checksum": "8419f6d708a6b84806b986ef74d0a623",
     "grade": false,
     "grade_id": "cell-edd995a41f912de0",
     "locked": false,
     "schema_version": 3,
     "solution": true,
     "task": false
    }
   },
   "outputs": [
    {
     "name": "stdout",
     "output_type": "stream",
     "text": [
      "Downloading data from https://www.cs.toronto.edu/~kriz/cifar-10-python.tar.gz\n",
      "170498071/170498071 [==============================] - 3s 0us/step\n",
      "(50000, 32, 32, 3)\n",
      "(50000, 10)\n"
     ]
    }
   ],
   "source": [
    "### GRADED\n",
    "X_train = ''\n",
    "X_test = ''\n",
    "Y_train = ''\n",
    "Y_test = ''\n",
    "\n",
    "    \n",
    "# YOUR CODE HERE\n",
    "#raise NotImplementedError()\n",
    "(X_train, y_train), (X_test, y_test) = cifar10.load_data()\n",
    "Y_train = to_categorical(y_train)\n",
    "Y_test = to_categorical(y_test)\n",
    "\n",
    "### ANSWER CHECK\n",
    "print(X_train.shape)\n",
    "print(Y_train.shape)"
   ]
  },
  {
   "cell_type": "code",
   "execution_count": null,
   "metadata": {
    "deletable": false,
    "editable": false,
    "nbgrader": {
     "cell_type": "code",
     "checksum": "51aa7b4a82082600f7737e7501307f19",
     "grade": true,
     "grade_id": "cell-3d49cd327dbdaebb",
     "locked": true,
     "points": 10,
     "schema_version": 3,
     "solution": false,
     "task": false
    }
   },
   "outputs": [],
   "source": []
  },
  {
   "cell_type": "markdown",
   "metadata": {
    "deletable": false,
    "editable": false,
    "nbgrader": {
     "cell_type": "markdown",
     "checksum": "ac1f31b535f39d089bc85c7cac51d4db",
     "grade": false,
     "grade_id": "cell-1ec22b2306a3964f",
     "locked": true,
     "schema_version": 3,
     "solution": false,
     "task": false
    }
   },
   "source": [
    "[Back to top](#-Index)\n",
    "\n",
    "### Problem 3\n",
    "\n",
    "#### Generating Feature Maps\n",
    "\n",
    "**10 Points**\n",
    "\n",
    "To use the pretrained network, you will use the `.predict` method to pass `X_train` through and assign the results as `features`.  This can take a while to train because the network is fairly complex.  "
   ]
  },
  {
   "cell_type": "code",
   "execution_count": 7,
   "metadata": {},
   "outputs": [],
   "source": [
    "#for speeding up the process\n",
    "X_train_sample = X_train[:10]\n",
    "y_train_sample = Y_train[:10]"
   ]
  },
  {
   "cell_type": "code",
   "execution_count": 9,
   "metadata": {
    "deletable": false,
    "nbgrader": {
     "cell_type": "code",
     "checksum": "2a5675434fb1e06b45fdd901710994b5",
     "grade": false,
     "grade_id": "cell-87eeaf7fdc839229",
     "locked": false,
     "schema_version": 3,
     "solution": true,
     "task": false
    }
   },
   "outputs": [
    {
     "name": "stdout",
     "output_type": "stream",
     "text": [
      "1/1 [==============================] - 2s 2s/step\n",
      "(10, 1, 1, 1280)\n"
     ]
    }
   ],
   "source": [
    "### GRADED\n",
    "tf.random.set_seed(42)\n",
    "features = ''\n",
    "\n",
    "    \n",
    "# YOUR CODE HERE\n",
    "#raise NotImplementedError()\n",
    "features = base_model.predict(X_train_sample)\n",
    "### ANSWER CHECK\n",
    "print(features.shape)"
   ]
  },
  {
   "cell_type": "code",
   "execution_count": null,
   "metadata": {
    "deletable": false,
    "editable": false,
    "nbgrader": {
     "cell_type": "code",
     "checksum": "09d680f8e72cf0af30a534c7bddff9f1",
     "grade": true,
     "grade_id": "cell-6f3bbabdc1c6604f",
     "locked": true,
     "points": 10,
     "schema_version": 3,
     "solution": false,
     "task": false
    }
   },
   "outputs": [],
   "source": []
  },
  {
   "cell_type": "markdown",
   "metadata": {
    "deletable": false,
    "editable": false,
    "nbgrader": {
     "cell_type": "markdown",
     "checksum": "8f887136e3ed65c98e73d3d7dca5f88b",
     "grade": false,
     "grade_id": "cell-8de266ae16e5ba0b",
     "locked": true,
     "schema_version": 3,
     "solution": false,
     "task": false
    }
   },
   "source": [
    "[Back to top](#-Index)\n",
    "\n",
    "### Problem 4\n",
    "\n",
    "#### Making Predictions for Data\n",
    "\n",
    "**10 Points**\n",
    "\n",
    "Now, using the `features` you are to create a top for the network named `top` that will flatten these features and use a `Dense` hidden layer with 100 units and an output appropriate for the 10 categories in `cifar10`. Compile the model using accuracy as the metric, and fit the model using `features` with `Y_train` for 20 epochs.  Assign the fit history as `history` below."
   ]
  },
  {
   "cell_type": "code",
   "execution_count": 10,
   "metadata": {
    "deletable": false,
    "nbgrader": {
     "cell_type": "code",
     "checksum": "16ef8b3cb5823a642149eef40cb0db53",
     "grade": false,
     "grade_id": "cell-38a34b347a2ba110",
     "locked": false,
     "schema_version": 3,
     "solution": true,
     "task": false
    }
   },
   "outputs": [
    {
     "name": "stdout",
     "output_type": "stream",
     "text": [
      "[1.0, 1.0, 1.0, 1.0, 1.0]\n",
      "[0.0, 0.0, 0.0, 0.0, 0.0]\n"
     ]
    }
   ],
   "source": [
    "### GRADED\n",
    "tf.random.set_seed(42)\n",
    "top = ''\n",
    "history = ''\n",
    "    \n",
    "# YOUR CODE HERE\n",
    "#raise NotImplementedError()\n",
    "tf.random.set_seed(42)\n",
    "top = Sequential([Flatten(), Dense(100, activation = 'relu'),\n",
    "                    Dense(10, activation = 'softmax')])\n",
    "\n",
    "top.compile(loss = 'categorical_crossentropy', metrics = ['accuracy'])\n",
    "\n",
    "history = top.fit(features, y_train_sample, validation_split = 0.2, \n",
    "                  epochs = 20, verbose = 0)\n",
    "\n",
    "### ANSWER CHECK\n",
    "print(history.history['accuracy'][-5:])\n",
    "print(history.history['val_accuracy'][-5:])"
   ]
  },
  {
   "cell_type": "code",
   "execution_count": null,
   "metadata": {
    "deletable": false,
    "editable": false,
    "nbgrader": {
     "cell_type": "code",
     "checksum": "c460f7768f9c6b2e49784c928c500117",
     "grade": true,
     "grade_id": "cell-c9d614651286b187",
     "locked": true,
     "points": 10,
     "schema_version": 3,
     "solution": false,
     "task": false
    }
   },
   "outputs": [],
   "source": []
  },
  {
   "cell_type": "markdown",
   "metadata": {
    "deletable": false,
    "editable": false,
    "nbgrader": {
     "cell_type": "markdown",
     "checksum": "54edbe8c75d1aa87c592d59856894a1a",
     "grade": false,
     "grade_id": "cell-64ace0d651f2f620",
     "locked": true,
     "schema_version": 3,
     "solution": false,
     "task": false
    }
   },
   "source": [
    "[Back to top](#-Index)\n",
    "\n",
    "### Problem 5\n",
    "\n",
    "#### Predicting Test Data\n",
    "\n",
    "**10 Points**\n",
    "\n",
    "To make predictions, you will first need to transform the data using the `base_model` and then predict.  Do this with the first five images in the test dataset, given below as `test_exs` and save the predictions as `test_preds`."
   ]
  },
  {
   "cell_type": "code",
   "execution_count": 11,
   "metadata": {
    "deletable": false,
    "nbgrader": {
     "cell_type": "code",
     "checksum": "8540053a04ee187c0e8f2620a62999ce",
     "grade": false,
     "grade_id": "cell-976c8b558feb0f91",
     "locked": false,
     "schema_version": 3,
     "solution": true,
     "task": false
    }
   },
   "outputs": [
    {
     "name": "stdout",
     "output_type": "stream",
     "text": [
      "1/1 [==============================] - 1s 756ms/step\n",
      "1/1 [==============================] - 0s 54ms/step\n",
      "[1 1 9 9 7 1 7 1 7 9]\n",
      "[3 8 8 0 6 6 1 6 3 1]\n"
     ]
    },
    {
     "data": {
      "image/png": "[encoded data removed]",
      "text/plain": [
       "<Figure size 1440x360 with 10 Axes>"
      ]
     },
     "metadata": {
      "needs_background": "light"
     },
     "output_type": "display_data"
    }
   ],
   "source": [
    "### GRADED\n",
    "tf.random.set_seed(42)\n",
    "test_exs = X_test[:10]\n",
    "test_preds = ''\n",
    "  \n",
    "# YOUR CODE HERE\n",
    "#raise NotImplementedError()\n",
    "test_features = base_model.predict(test_exs)\n",
    "test_preds = np.argmax(top.predict(test_features), axis = 1)\n",
    "\n",
    "### ANSWER CHECK\n",
    "print(test_preds)\n",
    "print(y_test[:10].reshape(10,))\n",
    "fig, ax = plt.subplots(2, 5, figsize = (20, 5))\n",
    "c = 0\n",
    "for i in range(2):\n",
    "    for j in range(5):\n",
    "        ax[i, j].imshow(X_test[c])\n",
    "        ax[i, j].set_title(f'Predicted {test_preds[c]}\\nActual {y_test[c][0]}')\n",
    "        c += 1\n",
    "plt.tight_layout()"
   ]
  },
  {
   "cell_type": "code",
   "execution_count": null,
   "metadata": {
    "deletable": false,
    "editable": false,
    "nbgrader": {
     "cell_type": "code",
     "checksum": "f2de0626bf121031a0985d3815a3de0e",
     "grade": true,
     "grade_id": "cell-e35078fc456c3fed",
     "locked": true,
     "points": 10,
     "schema_version": 3,
     "solution": false,
     "task": false
    }
   },
   "outputs": [],
   "source": []
  }
 ],
 "metadata": {
  "kernelspec": {
   "display_name": "Python 3 (ipykernel)",
   "language": "python",
   "name": "python3"
  },
  "language_info": {
   "codemirror_mode": {
    "name": "ipython",
    "version": 3
   },
   "file_extension": ".py",
   "mimetype": "text/x-python",
   "name": "python",
   "nbconvert_exporter": "python",
   "pygments_lexer": "ipython3",
   "version": "3.9.11"
  },
  "widgets": {
   "application/vnd.jupyter.widget-state+json": {
    "state": {},
    "version_major": 2,
    "version_minor": 0
   }
  }
 },
 "nbformat": 4,
 "nbformat_minor": 4
}
