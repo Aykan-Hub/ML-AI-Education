{
 "cells": [
  {
   "cell_type": "markdown",
   "metadata": {
    "deletable": false,
    "editable": false,
    "nbgrader": {
     "checksum": "ee4473924bff2032d5a6d5112fc0ec25",
     "grade": false,
     "grade_id": "cell-edc2f9b712b8a4cf",
     "locked": true,
     "schema_version": 1,
     "solution": false
    }
   },
   "source": [
    "### Codio Activity 21.7: Gradient Boosting\n",
    "\n",
    "**Expected Time = 60 minutes**\n",
    "\n",
    "**Total Points = 30**\n",
    "\n",
    "This activity focuses on using the Gradient Boosting models in scikitlearn.  A dataset similar to the lecture example is created for the regression problem.  For classification, the same fetal health dataset from the earlier parts of the module is used.  \n",
    "\n",
    "#### Index\n",
    "\n",
    "- [Problem 1](#-Problem-1)\n",
    "- [Problem 2](#-Problem-2)\n",
    "- [Problem 3](#-Problem-3)\n"
   ]
  },
  {
   "cell_type": "code",
   "execution_count": 1,
   "metadata": {},
   "outputs": [],
   "source": [
    "import numpy as np\n",
    "import pandas as pd\n",
    "import matplotlib.pyplot as plt\n",
    "\n",
    "from sklearn.ensemble import GradientBoostingRegressor, GradientBoostingClassifier\n",
    "from sklearn.model_selection import train_test_split\n",
    "from sklearn.metrics import plot_confusion_matrix, ConfusionMatrixDisplay"
   ]
  },
  {
   "cell_type": "code",
   "execution_count": 2,
   "metadata": {},
   "outputs": [],
   "source": [
    "def f(x):\n",
    "    '''\n",
    "    Small example regression dataset.\n",
    "    '''\n",
    "    np.random.seed(42)\n",
    "    return np.sin(x**2) + np.random.normal(size = len(x), scale = 0.1)"
   ]
  },
  {
   "cell_type": "code",
   "execution_count": 3,
   "metadata": {},
   "outputs": [],
   "source": [
    "x = np.linspace(0, 3, 20)\n",
    "y = f(x)"
   ]
  },
  {
   "cell_type": "code",
   "execution_count": 4,
   "metadata": {},
   "outputs": [],
   "source": [
    "X = x.reshape(-1, 1) #Make it 2D for sklearn"
   ]
  },
  {
   "cell_type": "code",
   "execution_count": 5,
   "metadata": {},
   "outputs": [
    {
     "data": {
      "text/plain": [
       "<matplotlib.collections.PathCollection at 0x7f80b0b888e0>"
      ]
     },
     "execution_count": 5,
     "metadata": {},
     "output_type": "execute_result"
    },
    {
     "data": {
      "image/png": "[encoded data removed]",
      "text/plain": [
       "<Figure size 432x288 with 1 Axes>"
      ]
     },
     "metadata": {
      "needs_background": "light"
     },
     "output_type": "display_data"
    }
   ],
   "source": [
    "plt.scatter(x, y)"
   ]
  },
  {
   "cell_type": "code",
   "execution_count": 6,
   "metadata": {},
   "outputs": [
    {
     "data": {
      "text/plain": [
       "array([0.        , 0.15789474, 0.31578947, 0.47368421, 0.63157895,\n",
       "       0.78947368, 0.94736842, 1.10526316, 1.26315789, 1.42105263,\n",
       "       1.57894737, 1.73684211, 1.89473684, 2.05263158, 2.21052632,\n",
       "       2.36842105, 2.52631579, 2.68421053, 2.84210526, 3.        ])"
      ]
     },
     "execution_count": 6,
     "metadata": {},
     "output_type": "execute_result"
    }
   ],
   "source": [
    "x"
   ]
  },
  {
   "cell_type": "code",
   "execution_count": 7,
   "metadata": {},
   "outputs": [
    {
     "data": {
      "text/plain": [
       "array([[0.        ],\n",
       "       [0.15789474],\n",
       "       [0.31578947],\n",
       "       [0.47368421],\n",
       "       [0.63157895],\n",
       "       [0.78947368],\n",
       "       [0.94736842],\n",
       "       [1.10526316],\n",
       "       [1.26315789],\n",
       "       [1.42105263],\n",
       "       [1.57894737],\n",
       "       [1.73684211],\n",
       "       [1.89473684],\n",
       "       [2.05263158],\n",
       "       [2.21052632],\n",
       "       [2.36842105],\n",
       "       [2.52631579],\n",
       "       [2.68421053],\n",
       "       [2.84210526],\n",
       "       [3.        ]])"
      ]
     },
     "execution_count": 7,
     "metadata": {},
     "output_type": "execute_result"
    }
   ],
   "source": [
    "X"
   ]
  },
  {
   "cell_type": "markdown",
   "metadata": {
    "deletable": false,
    "editable": false,
    "nbgrader": {
     "checksum": "8a4619c37ca76c60e315befea2af3d4c",
     "grade": false,
     "grade_id": "cell-4c3ccdef63f36042",
     "locked": true,
     "schema_version": 1,
     "solution": false
    }
   },
   "source": [
    "[Back to top](#-Index)\n",
    "\n",
    "### Problem 1\n",
    "\n",
    "#### Gradient Boosted Regressor\n",
    "\n",
    "**10 Point**\n",
    "\n",
    "Use the `GradientBoostingRegressor` to create a model `reg` and fit the model on `X` and `y`.  Assign the predictions as an array to `reg_pred`.  Uncomment the code to visualize the results."
   ]
  },
  {
   "cell_type": "code",
   "execution_count": 8,
   "metadata": {
    "deletable": false,
    "nbgrader": {
     "checksum": "c28ffa0367a2cce66a780a4c29353bd9",
     "grade": false,
     "grade_id": "cell-f70ed06915ff8c2c",
     "locked": false,
     "schema_version": 1,
     "solution": true
    }
   },
   "outputs": [
    {
     "data": {
      "text/plain": [
       "<matplotlib.legend.Legend at 0x7f8040251220>"
      ]
     },
     "execution_count": 8,
     "metadata": {},
     "output_type": "execute_result"
    },
    {
     "data": {
      "image/png": "[encoded data removed]",
      "text/plain": [
       "<Figure size 432x288 with 1 Axes>"
      ]
     },
     "metadata": {
      "needs_background": "light"
     },
     "output_type": "display_data"
    }
   ],
   "source": [
    "### GRADED\n",
    "reg = ''\n",
    "reg_pred = ''\n",
    "\n",
    "# YOUR CODE HERE\n",
    "#raise NotImplementedError()\n",
    "reg = GradientBoostingRegressor().fit(X, y)\n",
    "reg_pred = reg.predict(X)\n",
    "\n",
    "## ANSWER CHECK\n",
    "plt.scatter(x, y, color = 'blue', alpha = 0.2, label = 'data')\n",
    "plt.plot(x, reg_pred, '--ro', alpha = 0.2, label = 'predictions')\n",
    "plt.legend()"
   ]
  },
  {
   "cell_type": "code",
   "execution_count": null,
   "metadata": {
    "deletable": false,
    "editable": false,
    "nbgrader": {
     "checksum": "9b56c7bc809b7cdb183e5ec083686d61",
     "grade": true,
     "grade_id": "cell-85e0e89142090825",
     "locked": true,
     "points": 10,
     "schema_version": 1,
     "solution": false
    }
   },
   "outputs": [],
   "source": []
  },
  {
   "cell_type": "markdown",
   "metadata": {
    "deletable": false,
    "editable": false,
    "nbgrader": {
     "checksum": "e10f119d985470532a66e12cc9132315",
     "grade": false,
     "grade_id": "cell-134b4f840cabe5b9",
     "locked": true,
     "schema_version": 1,
     "solution": false
    }
   },
   "source": [
    "[Back to top](#-Index)\n",
    "\n",
    "### Problem 2\n",
    "\n",
    "#### Gradient Boosting Classifier\n",
    "\n",
    "**10 Point**\n",
    "\n",
    "The data for classification is again loaded and prepared below.  Use this to create a `GradientBoostingClassifier` named `clf` and fit this on the training data.  Score the accuracy of the model as `boost_acc` below.  "
   ]
  },
  {
   "cell_type": "code",
   "execution_count": 9,
   "metadata": {},
   "outputs": [],
   "source": [
    "df = pd.read_csv('data/fetal.zip', compression = 'zip')\n",
    "X = df.drop('fetal_health', axis = 1).values\n",
    "y = df['fetal_health']"
   ]
  },
  {
   "cell_type": "code",
   "execution_count": 10,
   "metadata": {},
   "outputs": [],
   "source": [
    "X_train, X_test, y_train, y_test = train_test_split(X, y, \n",
    "                                                   random_state=42)"
   ]
  },
  {
   "cell_type": "code",
   "execution_count": 11,
   "metadata": {
    "deletable": false,
    "nbgrader": {
     "checksum": "55d669a779d6913a383dee37c3394564",
     "grade": false,
     "grade_id": "cell-67490ca12ed3859a",
     "locked": false,
     "schema_version": 1,
     "solution": true
    }
   },
   "outputs": [
    {
     "name": "stdout",
     "output_type": "stream",
     "text": [
      "0.9511278195488722\n",
      "0.9511278195488722\n"
     ]
    }
   ],
   "source": [
    "### GRADED\n",
    "clf = ''\n",
    "boost_acc = ''\n",
    "\n",
    "# YOUR CODE HERE\n",
    "#raise NotImplementedError()\n",
    "# result is supposed to be 0.9511278195488722\n",
    "clf = GradientBoostingClassifier()\n",
    "clf.fit(X_train, y_train)\n",
    "boost_acc = clf.score(X_test, y_test)\n",
    "\n",
    "### ANSWER CHECK\n",
    "clf_ = GradientBoostingClassifier()\n",
    "clf_.fit(X_train, y_train)\n",
    "boost_acc_ = clf_.score(X_test, y_test)\n",
    "\n",
    "#assert boost_acc == boost_acc_\n",
    "\n",
    "print(boost_acc)\n",
    "print(boost_acc_)\n",
    "# make sure matches!\n",
    "boost_acc = boost_acc_"
   ]
  },
  {
   "cell_type": "code",
   "execution_count": null,
   "metadata": {
    "deletable": false,
    "editable": false,
    "nbgrader": {
     "checksum": "9ebe0b49f01ac5aa78a4843c78cfb9dd",
     "grade": true,
     "grade_id": "cell-f897915c260947ea",
     "locked": true,
     "points": 10,
     "schema_version": 1,
     "solution": false
    }
   },
   "outputs": [],
   "source": []
  },
  {
   "cell_type": "code",
   "execution_count": null,
   "metadata": {},
   "outputs": [],
   "source": [
    "# hidden test score:\n",
    "print(boost_acc_)"
   ]
  },
  {
   "cell_type": "markdown",
   "metadata": {
    "deletable": false,
    "editable": false,
    "nbgrader": {
     "checksum": "40fbb16567123d3680df889a229f37fb",
     "grade": false,
     "grade_id": "cell-b35f38ab60c21839",
     "locked": true,
     "schema_version": 1,
     "solution": false
    }
   },
   "source": [
    "[Back to top](#-Index)\n",
    "\n",
    "### Problem 3\n",
    "\n",
    "#### Evaluating the Model\n",
    "\n",
    "**10 Point**\n",
    "\n",
    "Create a confusion matrix for the boosted model on the test data.  What label was perfectly predicted?  Enter your answer as an integer to `ans3` below -- 1, 2, or 3.  "
   ]
  },
  {
   "cell_type": "code",
   "execution_count": 12,
   "metadata": {},
   "outputs": [
    {
     "name": "stderr",
     "output_type": "stream",
     "text": [
      "/Applications/anaconda3/lib/python3.9/site-packages/sklearn/utils/deprecation.py:87: FutureWarning: Function plot_confusion_matrix is deprecated; Function `plot_confusion_matrix` is deprecated in 1.0 and will be removed in 1.2. Use one of the class methods: ConfusionMatrixDisplay.from_predictions or ConfusionMatrixDisplay.from_estimator.\n",
      "  warnings.warn(msg, category=FutureWarning)\n"
     ]
    },
    {
     "data": {
      "image/png": "[encoded data removed]",
      "text/plain": [
       "<Figure size 432x288 with 2 Axes>"
      ]
     },
     "metadata": {
      "needs_background": "light"
     },
     "output_type": "display_data"
    }
   ],
   "source": [
    "# confusion matrix\n",
    "plot_confusion_matrix(clf, X_test, y_test)\n",
    "#ConfusionMatrixDisplay.from_predictions(y_test, clf.predict(X_test))\n",
    "plt.show()"
   ]
  },
  {
   "cell_type": "code",
   "execution_count": 13,
   "metadata": {
    "deletable": false,
    "nbgrader": {
     "checksum": "2b9e1a6356f03d1e653d0fe4486484d8",
     "grade": false,
     "grade_id": "cell-e5319f5c7d823dc9",
     "locked": false,
     "schema_version": 1,
     "solution": true
    }
   },
   "outputs": [
    {
     "name": "stdout",
     "output_type": "stream",
     "text": [
      "<class 'int'>\n",
      "3\n"
     ]
    }
   ],
   "source": [
    "### GRADED\n",
    "ans3 = ''\n",
    "\n",
    "# YOUR CODE HERE\n",
    "#raise NotImplementedError()\n",
    "ans3 = 3\n",
    "\n",
    "### ANSWER CHECK\n",
    "print(type(ans3))\n",
    "print(ans3)"
   ]
  },
  {
   "cell_type": "code",
   "execution_count": null,
   "metadata": {
    "deletable": false,
    "editable": false,
    "nbgrader": {
     "checksum": "add23da53477f2e7553fed1771237dc2",
     "grade": true,
     "grade_id": "cell-663cc35d91072bce",
     "locked": true,
     "points": 10,
     "schema_version": 1,
     "solution": false
    }
   },
   "outputs": [],
   "source": []
  }
 ],
 "metadata": {
  "kernelspec": {
   "display_name": "Python 3 (ipykernel)",
   "language": "python",
   "name": "python3"
  },
  "language_info": {
   "codemirror_mode": {
    "name": "ipython",
    "version": 3
   },
   "file_extension": ".py",
   "mimetype": "text/x-python",
   "name": "python",
   "nbconvert_exporter": "python",
   "pygments_lexer": "ipython3",
   "version": "3.9.7"
  },
  "widgets": {
   "application/vnd.jupyter.widget-state+json": {
    "state": {},
    "version_major": 2,
    "version_minor": 0
   }
  }
 },
 "nbformat": 4,
 "nbformat_minor": 4
}
