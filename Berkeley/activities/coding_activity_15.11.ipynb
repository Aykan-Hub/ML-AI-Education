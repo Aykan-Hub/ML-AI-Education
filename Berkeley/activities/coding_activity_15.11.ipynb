{
 "cells": [
  {
   "cell_type": "markdown",
   "metadata": {
    "deletable": false,
    "editable": false,
    "nbgrader": {
     "cell_type": "markdown",
     "checksum": "db1210ad85d3df2a38bcc679a37bbea7",
     "grade": false,
     "grade_id": "cell-514035d799fd253b",
     "locked": true,
     "schema_version": 3,
     "solution": false
    }
   },
   "source": [
    "### Codio Activity 15.11: The Bias Variance Trade-Off\n",
    "\n",
    "**Expected Time = 30 minutes** \n",
    "\n",
    "**Total Points = 30** \n",
    "\n",
    "This activity focuses on using the `SGDRegressor` to train differing complexity models.  You will compare models on a synthetic dataset and determine if these are high or low bias and high or low variance based on the residuals of the model.  In this assignment it is important to visualize histograms of the residuals as a method to determine the nature of bias and variance as well as the scatterplot against the model prediction plots provided.\n",
    "\n",
    "\n",
    "#### Index\n",
    "\n",
    "- [Problem 1](#-Problem-1)\n",
    "- [Problem 2](#-Problem-2)\n",
    "- [Problem 3](#-Problem-3)"
   ]
  },
  {
   "cell_type": "code",
   "execution_count": 1,
   "metadata": {},
   "outputs": [],
   "source": [
    "import numpy as np\n",
    "import matplotlib.pyplot as plt\n",
    "import pandas as pd\n",
    "\n",
    "from sklearn.linear_model import SGDRegressor\n",
    "from sklearn.preprocessing import StandardScaler, PolynomialFeatures\n",
    "from sklearn.model_selection import train_test_split\n",
    "from sklearn.pipeline import Pipeline"
   ]
  },
  {
   "cell_type": "markdown",
   "metadata": {
    "deletable": false,
    "editable": false,
    "nbgrader": {
     "cell_type": "markdown",
     "checksum": "d21e973213af52b7fd72b882ea353ebe",
     "grade": false,
     "grade_id": "cell-e6b2871cbec75423",
     "locked": true,
     "schema_version": 3,
     "solution": false
    }
   },
   "source": [
    "### The Data\n",
    "\n",
    "Below a fifth degree polynomial function is created and noise added.  You are to compare the error of different model complexities and determine the nature of bias and variance in the model. \n",
    "\n",
    "**NOTE**: You are provided the feature data as polynomials for each problem -- there are no interaction terms necessary here and scikitlearn does not have an easy way of eliminating these terms using `PolynomialFeatures`. Also, when evaluating the model please use the test data for describing the variance of the estimator."
   ]
  },
  {
   "cell_type": "code",
   "execution_count": 2,
   "metadata": {},
   "outputs": [],
   "source": [
    "def f(x): \n",
    "    np.random.seed(42)\n",
    "    return 14.2*(x + 1)*x*(x - 1)**3 + np.random.normal(scale = 1, size = len(x))"
   ]
  },
  {
   "cell_type": "code",
   "execution_count": 3,
   "metadata": {},
   "outputs": [],
   "source": [
    "X = np.linspace(-1, 1, 100)"
   ]
  },
  {
   "cell_type": "code",
   "execution_count": 4,
   "metadata": {},
   "outputs": [],
   "source": [
    "X_train, X_test, y_train, y_test = train_test_split(X, f(X).reshape(-1, 1), random_state=42)\n",
    "scaler = StandardScaler()\n",
    "X_tr_scaled = scaler.fit_transform(X_train.reshape(-1, 1))\n",
    "X_ts_scaled = scaler.transform(X_test.reshape(-1, 1))"
   ]
  },
  {
   "cell_type": "code",
   "execution_count": 5,
   "metadata": {},
   "outputs": [
    {
     "data": {
      "text/plain": [
       "<matplotlib.legend.Legend at 0x7fdc8099b5b0>"
      ]
     },
     "execution_count": 5,
     "metadata": {},
     "output_type": "execute_result"
    },
    {
     "data": {
      "image/png": "[encoded data removed]",
      "text/plain": [
       "<Figure size 432x288 with 1 Axes>"
      ]
     },
     "metadata": {
      "needs_background": "light"
     },
     "output_type": "display_data"
    }
   ],
   "source": [
    "plt.scatter(X, f(X), label='predict')\n",
    "#plt.scatter(X, y, label='actual')\n",
    "plt.legend()"
   ]
  },
  {
   "cell_type": "code",
   "execution_count": 6,
   "metadata": {},
   "outputs": [],
   "source": [
    "X_train = X_train.reshape(-1, 1)\n",
    "X_test = X_test.reshape(-1, 1)\n",
    "y_train = y_train.reshape(len(y_train),)\n",
    "y_test = y_test.reshape(len(y_test),)"
   ]
  },
  {
   "cell_type": "markdown",
   "metadata": {
    "deletable": false,
    "editable": false,
    "nbgrader": {
     "cell_type": "markdown",
     "checksum": "58baae29c6f2d45ad512a699342e2039",
     "grade": false,
     "grade_id": "cell-0bc06661e8acea41",
     "locked": true,
     "schema_version": 3,
     "solution": false
    }
   },
   "source": [
    "[Back to top](#-Index)\n",
    "\n",
    "### Problem 1\n",
    "\n",
    "#### Linear Model and Error\n",
    "\n",
    "**10 Points**\n",
    "\n",
    "Below, build a first degree model using the scaled data and the `SGDRegressor`.  Plot the results and visualize the errors.  Is this model high bias?  Also, be sure to note the variance of the model.  Enter your solutions as a string corresponding to the correct answer choice for the resulting model.\n",
    "\n",
    "```\n",
    "a. High Bias\n",
    "b. Low Bias\n",
    "```"
   ]
  },
  {
   "cell_type": "code",
   "execution_count": 7,
   "metadata": {},
   "outputs": [],
   "source": [
    "scaler = StandardScaler()\n",
    "#train and test data\n",
    "X_tr_scaled = scaler.fit_transform(X_train)\n",
    "X_ts_scaled = scaler.transform(X_test)"
   ]
  },
  {
   "cell_type": "code",
   "execution_count": 8,
   "metadata": {},
   "outputs": [
    {
     "data": {
      "text/plain": [
       "array([ 1.11393279,  0.08884127,  0.66972646, -0.18451647, -0.21868619,\n",
       "       -0.38953478, -0.97041997,  1.01142364, -1.38045658, -1.72215376,\n",
       "       -1.10709884, -0.69706223,  0.77223561, -0.59455308,  1.35312081,\n",
       "       -1.58547489,  0.87474477,  0.90891448, -1.31211715, -0.66289252,\n",
       "        0.1571807 ,  1.28478137, -0.8337411 , -0.28702563,  0.63555674])"
      ]
     },
     "execution_count": 8,
     "metadata": {},
     "output_type": "execute_result"
    }
   ],
   "source": [
    "X_ts_scaled[:,0]"
   ]
  },
  {
   "cell_type": "code",
   "execution_count": 9,
   "metadata": {},
   "outputs": [
    {
     "data": {
      "text/plain": [
       "<matplotlib.legend.Legend at 0x7fdc99541f40>"
      ]
     },
     "execution_count": 9,
     "metadata": {},
     "output_type": "execute_result"
    },
    {
     "data": {
      "image/png": "[encoded data removed]",
      "text/plain": [
       "<Figure size 432x288 with 1 Axes>"
      ]
     },
     "metadata": {
      "needs_background": "light"
     },
     "output_type": "display_data"
    }
   ],
   "source": [
    "plt.scatter(X_ts_scaled[:,0], f(X_ts_scaled[:,0]), label='scaled')\n",
    "plt.scatter(X_ts_scaled[:,0], y_test, label='actual')\n",
    "plt.legend()"
   ]
  },
  {
   "cell_type": "code",
   "execution_count": 10,
   "metadata": {
    "deletable": false,
    "nbgrader": {
     "cell_type": "code",
     "checksum": "e16f511452db62ce0f0af3a82535d320",
     "grade": false,
     "grade_id": "cell-e0e497798aafd54b",
     "locked": false,
     "schema_version": 3,
     "solution": true
    }
   },
   "outputs": [
    {
     "name": "stdout",
     "output_type": "stream",
     "text": [
      "b\n"
     ]
    }
   ],
   "source": [
    "### GRADED\n",
    "ans1 = ''\n",
    "# YOUR CODE HERE\n",
    "#raise NotImplementedError()\n",
    "ans1 = 'b'\n",
    "\n",
    "### ANSWER CHECK\n",
    "print(ans1)"
   ]
  },
  {
   "cell_type": "code",
   "execution_count": null,
   "metadata": {
    "deletable": false,
    "editable": false,
    "nbgrader": {
     "cell_type": "code",
     "checksum": "2f6dc3b641487b3a16433ae2bf0beb76",
     "grade": true,
     "grade_id": "cell-c06928c6ea25ecb4",
     "locked": true,
     "points": 10,
     "schema_version": 3,
     "solution": false
    }
   },
   "outputs": [],
   "source": []
  },
  {
   "cell_type": "markdown",
   "metadata": {
    "deletable": false,
    "editable": false,
    "nbgrader": {
     "cell_type": "markdown",
     "checksum": "09248cb3fdc1cca9f53ce43a8cf58297",
     "grade": false,
     "grade_id": "cell-399104cb66cc7b50",
     "locked": true,
     "schema_version": 3,
     "solution": false
    }
   },
   "source": [
    "[Back to top](#-Index)\n",
    "\n",
    "### Problem 2\n",
    "\n",
    "#### Quadratic Model and Error\n",
    "\n",
    "**10 Points**\n",
    "\n",
    "Below, build a second degree model using the scaled data and the `SGDRegressor`.  Plot the results and visualize the errors.  Is this model high bias?  Is this model higher, lower, or similar variance to that of the linear model?  Enter your solutions as `ans2` as a string corresponding to the correct answer choice for the resulting model.\n",
    "\n",
    "```\n",
    "a. High Bias and Higher Variance\n",
    "b. High Bias and Lower Variance\n",
    "c. Low Bias and Higher Variance\n",
    "d. Low Bias and Lower Variance\n",
    "e. High Bias and Simlilar Variance\n",
    "f. Low Bias and Similar Variance\n",
    "```"
   ]
  },
  {
   "cell_type": "code",
   "execution_count": 11,
   "metadata": {},
   "outputs": [],
   "source": [
    "k = 2\n",
    "X_train_quad = np.hstack([X_tr_scaled**(i+1) for i in range(1, k)])\n",
    "X_test_quad = np.hstack([X_ts_scaled**(i+1) for i in range(1, k)])"
   ]
  },
  {
   "cell_type": "code",
   "execution_count": 12,
   "metadata": {},
   "outputs": [
    {
     "data": {
      "text/plain": [
       "array([[1.24084625],\n",
       "       [0.00789277],\n",
       "       [0.44853353],\n",
       "       [0.03404633],\n",
       "       [0.04782365],\n",
       "       [0.15173734],\n",
       "       [0.94171493],\n",
       "       [1.02297777],\n",
       "       [1.90566038],\n",
       "       [2.96581356],\n",
       "       [1.22566785],\n",
       "       [0.48589576],\n",
       "       [0.59634784],\n",
       "       [0.35349337],\n",
       "       [1.83093592],\n",
       "       [2.51373062],\n",
       "       [0.7651784 ],\n",
       "       [0.82612554],\n",
       "       [1.72165141],\n",
       "       [0.43942649],\n",
       "       [0.02470577],\n",
       "       [1.65066318],\n",
       "       [0.69512423],\n",
       "       [0.08238371],\n",
       "       [0.40393237]])"
      ]
     },
     "execution_count": 12,
     "metadata": {},
     "output_type": "execute_result"
    }
   ],
   "source": [
    "X_test_quad"
   ]
  },
  {
   "cell_type": "code",
   "execution_count": 13,
   "metadata": {},
   "outputs": [
    {
     "data": {
      "text/plain": [
       "<matplotlib.legend.Legend at 0x7fdca1019130>"
      ]
     },
     "execution_count": 13,
     "metadata": {},
     "output_type": "execute_result"
    },
    {
     "data": {
      "image/png": "[encoded data removed]",
      "text/plain": [
       "<Figure size 432x288 with 1 Axes>"
      ]
     },
     "metadata": {
      "needs_background": "light"
     },
     "output_type": "display_data"
    }
   ],
   "source": [
    "plt.scatter(X_test_quad[:,0], f(X_test_quad[:,0]), label='quad')\n",
    "plt.scatter(X_test_quad[:,0], y_test, label='actual')\n",
    "plt.legend()"
   ]
  },
  {
   "cell_type": "code",
   "execution_count": 14,
   "metadata": {},
   "outputs": [
    {
     "data": {
      "text/plain": [
       "<matplotlib.collections.PathCollection at 0x7fdc7058d430>"
      ]
     },
     "execution_count": 14,
     "metadata": {},
     "output_type": "execute_result"
    },
    {
     "data": {
      "image/png": "[encoded data removed]",
      "text/plain": [
       "<Figure size 432x288 with 1 Axes>"
      ]
     },
     "metadata": {
      "needs_background": "light"
     },
     "output_type": "display_data"
    }
   ],
   "source": [
    "plt.scatter(X_test, X_test_quad[:,0])"
   ]
  },
  {
   "cell_type": "code",
   "execution_count": 15,
   "metadata": {
    "deletable": false,
    "nbgrader": {
     "cell_type": "code",
     "checksum": "2e08f094a758df6ecf8a0450e46d6ca0",
     "grade": false,
     "grade_id": "cell-79cc5c4b5e7d56be",
     "locked": false,
     "schema_version": 3,
     "solution": true
    }
   },
   "outputs": [
    {
     "name": "stdout",
     "output_type": "stream",
     "text": [
      "c\n"
     ]
    }
   ],
   "source": [
    "### GRADED\n",
    "ans2 = ''\n",
    "# YOUR CODE HERE\n",
    "#raise NotImplementedError()\n",
    "ans2 = 'c'\n",
    "\n",
    "### ANSWER CHECK\n",
    "print(ans2)"
   ]
  },
  {
   "cell_type": "code",
   "execution_count": null,
   "metadata": {
    "deletable": false,
    "editable": false,
    "nbgrader": {
     "cell_type": "code",
     "checksum": "e12d223ad94b3afa3bd124d257fde35e",
     "grade": true,
     "grade_id": "cell-2f483825df1d8c86",
     "locked": true,
     "points": 10,
     "schema_version": 3,
     "solution": false
    }
   },
   "outputs": [],
   "source": []
  },
  {
   "cell_type": "markdown",
   "metadata": {
    "deletable": false,
    "editable": false,
    "nbgrader": {
     "cell_type": "markdown",
     "checksum": "eb35516ec610af6d6d1e1b493eba1e91",
     "grade": false,
     "grade_id": "cell-01a7d042b9443f7b",
     "locked": true,
     "schema_version": 3,
     "solution": false
    }
   },
   "source": [
    "[Back to top](#-Index)\n",
    "\n",
    "### Problem 3\n",
    "\n",
    "#### $5^{th}$ degree Model and Error\n",
    "\n",
    "**10 Points**\n",
    "\n",
    "Below, build a fifth degree model using the scaled data and the `SGDRegressor`.  Plot the results and visualize the errors.  Is this model high or low bias?  Is this model higher, lower, or similar variance to that of the **linear model**?  Enter your solutions as a string corresponding to the correct answer choice for the resulting model.\n",
    "\n",
    "```\n",
    "a. High Bias and Higher Variance\n",
    "b. High Bias and Lower Variance\n",
    "c. Low Bias and Higher Variance\n",
    "d. Low Bias and Lower Variance\n",
    "e. High Bias and Simlilar Variance\n",
    "f. Low Bias and Similar Variance\n",
    "```"
   ]
  },
  {
   "cell_type": "code",
   "execution_count": 16,
   "metadata": {},
   "outputs": [],
   "source": [
    "k = 5\n",
    "X_train_5 = np.hstack([X_tr_scaled**(i+1) for i in range(1, k)])\n",
    "X_test_5 = np.hstack([X_ts_scaled**(i+1) for i in range(1, k)])"
   ]
  },
  {
   "cell_type": "code",
   "execution_count": 17,
   "metadata": {},
   "outputs": [
    {
     "data": {
      "text/plain": [
       "array([[ 1.24084625e+00,  1.38221933e+00,  1.53969943e+00,\n",
       "         1.71512167e+00],\n",
       "       [ 7.89277041e-03,  7.01203709e-04,  6.22958247e-05,\n",
       "         5.53443989e-06],\n",
       "       [ 4.48533533e-01,  3.00394775e-01,  2.01182330e-01,\n",
       "         1.34737130e-01],\n",
       "       [ 3.40463292e-02, -6.28210861e-03,  1.15915253e-03,\n",
       "        -2.13882737e-04],\n",
       "       [ 4.78236503e-02, -1.04583719e-02,  2.28710153e-03,\n",
       "        -5.00157522e-04],\n",
       "       [ 1.51737344e-01, -5.91069725e-02,  2.30242214e-02,\n",
       "        -8.96873499e-03],\n",
       "       [ 9.41714926e-01, -9.13858974e-01,  8.86827002e-01,\n",
       "        -8.60594637e-01],\n",
       "       [ 1.02297777e+00,  1.03466389e+00,  1.04648352e+00,\n",
       "         1.05843816e+00],\n",
       "       [ 1.90566038e+00, -2.63068141e+00,  3.63154147e+00,\n",
       "        -5.01318533e+00],\n",
       "       [ 2.96581356e+00, -5.10758697e+00,  8.79605009e+00,\n",
       "        -1.51481507e+01],\n",
       "       [ 1.22566785e+00, -1.35693546e+00,  1.50226168e+00,\n",
       "        -1.66315217e+00],\n",
       "       [ 4.85895759e-01, -3.38699584e-01,  2.36094689e-01,\n",
       "        -1.64572692e-01],\n",
       "       [ 5.96347842e-01,  4.60521042e-01,  3.55630749e-01,\n",
       "         2.74630730e-01],\n",
       "       [ 3.53493368e-01, -2.10170572e-01,  1.24957561e-01,\n",
       "        -7.42939033e-02],\n",
       "       [ 1.83093592e+00,  2.47747750e+00,  3.35232636e+00,\n",
       "         4.53610255e+00],\n",
       "       [ 2.51373062e+00, -3.98545677e+00,  6.31884162e+00,\n",
       "        -1.00183647e+01],\n",
       "       [ 7.65178405e-01,  6.69335804e-01,  5.85497991e-01,\n",
       "         5.12161303e-01],\n",
       "       [ 8.26125537e-01,  7.50877465e-01,  6.82483403e-01,\n",
       "         6.20319049e-01],\n",
       "       [ 1.72165141e+00, -2.25900834e+00,  2.96408358e+00,\n",
       "        -3.88922489e+00],\n",
       "       [ 4.39426490e-01, -2.91292532e-01,  1.93095640e-01,\n",
       "        -1.28001655e-01],\n",
       "       [ 2.47057725e-02,  3.88327061e-03,  6.10375193e-04,\n",
       "         9.59392001e-05],\n",
       "       [ 1.65066318e+00,  2.12074131e+00,  2.72468893e+00,\n",
       "         3.50062959e+00],\n",
       "       [ 6.95124229e-01, -5.79553643e-01,  4.83197694e-01,\n",
       "        -4.02861779e-01],\n",
       "       [ 8.23837101e-02, -2.36462360e-02,  6.78707568e-03,\n",
       "        -1.94806465e-03],\n",
       "       [ 4.03932374e-01,  2.56721944e-01,  1.63161363e-01,\n",
       "         1.03698305e-01]])"
      ]
     },
     "execution_count": 17,
     "metadata": {},
     "output_type": "execute_result"
    }
   ],
   "source": [
    "X_test_5"
   ]
  },
  {
   "cell_type": "code",
   "execution_count": 18,
   "metadata": {},
   "outputs": [
    {
     "data": {
      "text/plain": [
       "<matplotlib.legend.Legend at 0x7fdcb030d670>"
      ]
     },
     "execution_count": 18,
     "metadata": {},
     "output_type": "execute_result"
    },
    {
     "data": {
      "image/png": "[encoded data removed]",
      "text/plain": [
       "<Figure size 432x288 with 1 Axes>"
      ]
     },
     "metadata": {
      "needs_background": "light"
     },
     "output_type": "display_data"
    }
   ],
   "source": [
    "plt.scatter(X_test_5[:,3], f(X_test_5[:,3]), label='quad')\n",
    "plt.scatter(X_test_5[:,3], y_test, label='actual')\n",
    "plt.legend()"
   ]
  },
  {
   "cell_type": "code",
   "execution_count": 19,
   "metadata": {},
   "outputs": [
    {
     "data": {
      "text/plain": [
       "<matplotlib.collections.PathCollection at 0x7fdc80a98580>"
      ]
     },
     "execution_count": 19,
     "metadata": {},
     "output_type": "execute_result"
    },
    {
     "data": {
      "image/png": "[encoded data removed]",
      "text/plain": [
       "<Figure size 432x288 with 1 Axes>"
      ]
     },
     "metadata": {
      "needs_background": "light"
     },
     "output_type": "display_data"
    }
   ],
   "source": [
    "plt.scatter(X_test, X_test_5[:,0])"
   ]
  },
  {
   "cell_type": "code",
   "execution_count": 20,
   "metadata": {
    "deletable": false,
    "nbgrader": {
     "cell_type": "code",
     "checksum": "c35a3b35c061e4d450181a6cc02523cf",
     "grade": false,
     "grade_id": "cell-b997e64b15252409",
     "locked": false,
     "schema_version": 3,
     "solution": true
    }
   },
   "outputs": [
    {
     "name": "stdout",
     "output_type": "stream",
     "text": [
      "d\n"
     ]
    }
   ],
   "source": [
    "### GRADED\n",
    "ans3 = ''\n",
    "# YOUR CODE HERE\n",
    "#raise NotImplementedError()\n",
    "ans3 = 'd'\n",
    "\n",
    "### ANSWER CHECK\n",
    "print(ans3)"
   ]
  },
  {
   "cell_type": "code",
   "execution_count": null,
   "metadata": {
    "deletable": false,
    "editable": false,
    "nbgrader": {
     "cell_type": "code",
     "checksum": "c3c364c4b0662eba918c45c828d56476",
     "grade": true,
     "grade_id": "cell-875b168203539ed2",
     "locked": true,
     "points": 10,
     "schema_version": 3,
     "solution": false
    }
   },
   "outputs": [],
   "source": []
  },
  {
   "cell_type": "markdown",
   "metadata": {
    "deletable": false,
    "editable": false,
    "nbgrader": {
     "cell_type": "markdown",
     "checksum": "6b54d06d756fbeeae06fbff67aed6ef5",
     "grade": false,
     "grade_id": "cell-f9485f1781b43def",
     "locked": true,
     "schema_version": 3,
     "solution": false
    }
   },
   "source": [
    "In this example, we manufactured a cubic polynomial and seem to have arrived at a higher complexity model as the optimal choice.  This seems to demonstrate a bit of the idea that going beyond the model complexity may find variance dipping again.  However, please note it took some work to get the parameters of the polynomial in the right place for this to happen -- so sometimes less complexity may be better and sometimes more.  Of greater importance is that you consider how to evaluate and compare the bias and variance in multiple models while building regressors."
   ]
  }
 ],
 "metadata": {
  "kernelspec": {
   "display_name": "Python 3 (ipykernel)",
   "language": "python",
   "name": "python3"
  },
  "language_info": {
   "codemirror_mode": {
    "name": "ipython",
    "version": 3
   },
   "file_extension": ".py",
   "mimetype": "text/x-python",
   "name": "python",
   "nbconvert_exporter": "python",
   "pygments_lexer": "ipython3",
   "version": "3.9.7"
  }
 },
 "nbformat": 4,
 "nbformat_minor": 4
}
