{
 "cells": [
  {
   "cell_type": "markdown",
   "metadata": {
    "deletable": false,
    "editable": false,
    "nbgrader": {
     "cell_type": "markdown",
     "checksum": "5b897b36f2a6b34973b66db1d58ae111",
     "grade": false,
     "grade_id": "cell-814f0610a20067e9",
     "locked": true,
     "schema_version": 3,
     "solution": false
    }
   },
   "source": [
    "## Codio Activity 8.1: Adding Nonlinear Features\n",
    "\n",
    "**Estimated time: 60 minutes**\n",
    "\n",
    "**Total Points: 20 Points**\n",
    "\n",
    "This activity focuses on building polynomial models with `sklearn`.  You will fit both a standard first degree linear regression model and create a quadratic term similar to the `hp2` from video 8.2.  Using scikit-learn, you will compare the performance of the models and determine the appropriate model complexity.\n",
    "\n",
    "## Index:\n",
    "\n",
    "- [Problem 1](#Problem-1)\n",
    "- [Problem 2](#Problem-2)\n",
    "- [Problem 3](#Problem-3)\n",
    "- [Problem 4](#Problem-4)\n",
    "- [Problem 5](#Problem-5)\n"
   ]
  },
  {
   "cell_type": "code",
   "execution_count": null,
   "metadata": {},
   "outputs": [],
   "source": [
    "import pandas as pd\n",
    "import numpy as np\n",
    "import matplotlib.pyplot as plt\n",
    "import seaborn as sns\n",
    "from sklearn.linear_model import LinearRegression\n",
    "from sklearn.metrics import mean_squared_error\n",
    "import plotly.express as px"
   ]
  },
  {
   "cell_type": "markdown",
   "metadata": {
    "deletable": false,
    "editable": false,
    "nbgrader": {
     "cell_type": "markdown",
     "checksum": "8d7dc431b9a2e8873de71291418d5a16",
     "grade": false,
     "grade_id": "cell-607d5fcca15ef2ef",
     "locked": true,
     "schema_version": 3,
     "solution": false
    }
   },
   "source": [
    "### The Data\n",
    "\n",
    "For this exercise, a dataset containing data on automobiles including their horsepower and fuel economy is used.  Your goal is to build a model to predict the `mpg` column using the `horsepower` column as your models input.  Below, the dataset is loaded and a scatterplot of `horsepower` vs. `mpg` is displayed.  "
   ]
  },
  {
   "cell_type": "code",
   "execution_count": null,
   "metadata": {},
   "outputs": [],
   "source": [
    "auto = pd.read_csv('data/auto.csv')\n",
    "auto"
   ]
  },
  {
   "cell_type": "code",
   "execution_count": null,
   "metadata": {},
   "outputs": [],
   "source": [
    "px.scatter(data_frame=auto, x='horsepower', y='mpg')"
   ]
  },
  {
   "cell_type": "code",
   "execution_count": null,
   "metadata": {},
   "outputs": [],
   "source": [
    "auto.info()"
   ]
  },
  {
   "cell_type": "code",
   "execution_count": null,
   "metadata": {},
   "outputs": [],
   "source": [
    "auto.head()"
   ]
  },
  {
   "cell_type": "markdown",
   "metadata": {
    "deletable": false,
    "editable": false,
    "nbgrader": {
     "cell_type": "markdown",
     "checksum": "63c03fe1cf16f844b72f2033c99a91cb",
     "grade": false,
     "grade_id": "cell-d4c203dea01b8f96",
     "locked": true,
     "schema_version": 3,
     "solution": false
    }
   },
   "source": [
    "[Back to top](#Index:) \n",
    "\n",
    "## Problem 1\n",
    "\n",
    "### Regression with `horsepower`\n",
    "\n",
    "**4 Points**\n",
    "\n",
    "Below, instantiate and fit an sklearn `LinearRegression` model to predict `mpg` using the `horsepower` column.  Your model will be of the form:\n",
    "\n",
    "$$\\text{mpg} = \\beta_0 + \\beta_1*\\text{horsepower}$$\n",
    "\n",
    "Your model should be instantiated as `first_degree_model` below.  Assign the models mean squared error as a float to the variable `first_degree_mse` below.  "
   ]
  },
  {
   "cell_type": "code",
   "execution_count": null,
   "metadata": {
    "deletable": false,
    "nbgrader": {
     "cell_type": "code",
     "checksum": "5b0646163acb8135e526ba1a6295bfac",
     "grade": false,
     "grade_id": "cell-6ecaefdeb1c53572",
     "locked": false,
     "schema_version": 3,
     "solution": true
    }
   },
   "outputs": [],
   "source": [
    "### GRADED\n",
    "\n",
    "X = ''\n",
    "y = ''\n",
    "first_degree_model = ''\n",
    "first_degree_mse = ''\n",
    "\n",
    "# YOUR CODE HERE\n",
    "#raise NotImplementedError()\n",
    "X = auto[['horsepower']]\n",
    "y = auto['mpg']\n",
    "first_degree_model = LinearRegression().fit(X,y)\n",
    "first_degree_mse = float(mean_squared_error(y, first_degree_model.predict(X)))\n",
    "\n",
    "\n",
    "# Answer check\n",
    "print(type(first_degree_model))\n",
    "print(first_degree_model.coef_)\n",
    "print(first_degree_mse)"
   ]
  },
  {
   "cell_type": "code",
   "execution_count": null,
   "metadata": {
    "deletable": false,
    "editable": false,
    "nbgrader": {
     "cell_type": "code",
     "checksum": "3e7a3cafcc9dd796e63d82df98e127cc",
     "grade": true,
     "grade_id": "cell-00a93f6adede854b",
     "locked": true,
     "points": 4,
     "schema_version": 3,
     "solution": false
    }
   },
   "outputs": [],
   "source": []
  },
  {
   "cell_type": "markdown",
   "metadata": {
    "deletable": false,
    "editable": false,
    "nbgrader": {
     "cell_type": "markdown",
     "checksum": "3bca008ab30f0b2b9653b797da5fbd89",
     "grade": false,
     "grade_id": "cell-e8d01c6361f6cbc2",
     "locked": true,
     "schema_version": 3,
     "solution": false
    }
   },
   "source": [
    "[Back to top](#Index:) \n",
    "\n",
    "## Problem 2\n",
    "\n",
    "### Creating quadratic feature\n",
    "\n",
    "**4 Points**\n",
    "\n",
    "To build a second degree or quadratic model, you will first add a new column to the data based on squaring the `horsepower` column.  Do so below, assigning the new column with the name `hp2` below. "
   ]
  },
  {
   "cell_type": "code",
   "execution_count": null,
   "metadata": {
    "deletable": false,
    "nbgrader": {
     "cell_type": "code",
     "checksum": "bdc7f0b8d52c7b05fb7cc18e57d38fd5",
     "grade": false,
     "grade_id": "cell-bd222adf2dc9fb27",
     "locked": false,
     "schema_version": 3,
     "solution": true
    }
   },
   "outputs": [],
   "source": [
    "### GRADED\n",
    "\n",
    "auto['hp2'] = ''\n",
    "\n",
    "# YOUR CODE HERE\n",
    "#raise NotImplementedError()\n",
    "auto['hp2'] = auto['horsepower'] ** 2\n",
    "\n",
    "# Answer check\n",
    "print(auto.shape)\n",
    "print(auto.columns)"
   ]
  },
  {
   "cell_type": "code",
   "execution_count": null,
   "metadata": {
    "deletable": false,
    "editable": false,
    "nbgrader": {
     "cell_type": "code",
     "checksum": "73b68854de21ff30ec4e2c1390c06cbf",
     "grade": true,
     "grade_id": "cell-13307819d51c4cac",
     "locked": true,
     "points": 4,
     "schema_version": 3,
     "solution": false
    }
   },
   "outputs": [],
   "source": []
  },
  {
   "cell_type": "markdown",
   "metadata": {
    "deletable": false,
    "editable": false,
    "nbgrader": {
     "cell_type": "markdown",
     "checksum": "9eddcac700bad3e0b86032b67e214bd1",
     "grade": false,
     "grade_id": "cell-776ffb44f091c774",
     "locked": true,
     "schema_version": 3,
     "solution": false
    }
   },
   "source": [
    "[Back to top](#Index:) \n",
    "\n",
    "## Problem 3\n",
    "\n",
    "### Building a quadratic model\n",
    "\n",
    "**4 Points**\n",
    "\n",
    "Using both the `horsepower` and `hp2` features, fit a `LinearRegression` model using `mpg` as the target.  When creating the features, do so as a two column DataFrame in the order `horsepower, hp2`.  Assign your instantiated model to the variable `quadratic_model` below, and the models mean squared error as a float to `quad_mse` below. Note that your model will be of the form:\n",
    "\n",
    "$$\\text{mpg} = \\beta_0 + \\beta_1*\\text{horsepower} + \\beta_2*\\text{hp2}$$"
   ]
  },
  {
   "cell_type": "code",
   "execution_count": null,
   "metadata": {
    "deletable": false,
    "nbgrader": {
     "cell_type": "code",
     "checksum": "692d453e2c44c9f743e5fc7a4fa1c1c6",
     "grade": false,
     "grade_id": "cell-1f1deb42159262c5",
     "locked": false,
     "schema_version": 3,
     "solution": true
    }
   },
   "outputs": [],
   "source": [
    "### GRADED\n",
    "\n",
    "X = ''\n",
    "y = ''\n",
    "quadratic_model = ''\n",
    "quad_mse = ''\n",
    "\n",
    "# YOUR CODE HERE\n",
    "#raise NotImplementedError()\n",
    "X = auto[['horsepower', 'hp2']]\n",
    "y = auto['mpg']\n",
    "quadratic_model = LinearRegression().fit(X,y)\n",
    "quad_mse = float(mean_squared_error(y, quadratic_model.predict(X)))\n",
    "\n",
    "# Answer check\n",
    "print(quadratic_model.coef_)\n",
    "print(quadratic_model.intercept_)\n",
    "print(quad_mse)"
   ]
  },
  {
   "cell_type": "code",
   "execution_count": null,
   "metadata": {
    "deletable": false,
    "editable": false,
    "nbgrader": {
     "cell_type": "code",
     "checksum": "32ddb6d3d2c1581ce89a2e14039c38a7",
     "grade": true,
     "grade_id": "cell-adc8d22f056736ff",
     "locked": true,
     "points": 4,
     "schema_version": 3,
     "solution": false
    }
   },
   "outputs": [],
   "source": []
  },
  {
   "cell_type": "markdown",
   "metadata": {
    "deletable": false,
    "editable": false,
    "nbgrader": {
     "cell_type": "markdown",
     "checksum": "d3b0653ba618b0c22240a07d420c8c01",
     "grade": false,
     "grade_id": "cell-ddb6a8e8de3cbac7",
     "locked": true,
     "schema_version": 3,
     "solution": false
    }
   },
   "source": [
    "[Back to top](#Index:) \n",
    "\n",
    "## Problem 4\n",
    "\n",
    "### Plotting Predictions\n",
    "\n",
    "**4 Points**\n",
    "\n",
    "Because our data is not ordered by horsepower, a lineplot of `.predict(X)` would not be sensible.  To plot the correct predictions for your quadratic model, sort the two features by the `horsepower` column from least to greatest and assign this as a DataFrame to `x_for_pred` below.  Note that the resulting DataFrame should start with:\n",
    "\n",
    "<table border=\"1\" class=\"dataframe\">  <thead>    <tr style=\"text-align: right;\">      <th></th>      <th>horsepower</th>      <th>hp2</th>    </tr>  </thead>  <tbody>    <tr>      <th>19</th>      <td>46.0</td>      <td>2116.0</td>    </tr>    <tr>      <th>101</th>      <td>46.0</td>      <td>2116.0</td>    </tr>    <tr>      <th>324</th>      <td>48.0</td>      <td>2304.0</td>    </tr>    <tr>      <th>323</th>      <td>48.0</td>      <td>2304.0</td>    </tr>    <tr>      <th>242</th>      <td>48.0</td>      <td>2304.0</td>    </tr>  </tbody></table>"
   ]
  },
  {
   "cell_type": "code",
   "execution_count": null,
   "metadata": {
    "deletable": false,
    "nbgrader": {
     "cell_type": "code",
     "checksum": "e24959b2ba7e725480347a5f441b23b7",
     "grade": false,
     "grade_id": "cell-b95b556bebe1f5ce",
     "locked": false,
     "schema_version": 3,
     "solution": true
    }
   },
   "outputs": [],
   "source": [
    "### GRADED\n",
    "\n",
    "x_for_pred = ''\n",
    "\n",
    "# YOUR CODE HERE\n",
    "#raise NotImplementedError()\n",
    "x_for_pred = X.sort_values(by='horsepower')\n",
    "\n",
    "# Answer check\n",
    "print(type(x_for_pred))\n",
    "x_for_pred.head()"
   ]
  },
  {
   "cell_type": "code",
   "execution_count": null,
   "metadata": {
    "deletable": false,
    "editable": false,
    "nbgrader": {
     "cell_type": "code",
     "checksum": "848f64d4f6d79e3e27ce1b8dddbe2ceb",
     "grade": true,
     "grade_id": "cell-bd59288be9c2e4da",
     "locked": true,
     "points": 4,
     "schema_version": 3,
     "solution": false
    }
   },
   "outputs": [],
   "source": []
  },
  {
   "cell_type": "markdown",
   "metadata": {
    "deletable": false,
    "editable": false,
    "nbgrader": {
     "cell_type": "markdown",
     "checksum": "6aa8833b3490cc4af433d6c26a52f69e",
     "grade": false,
     "grade_id": "cell-342b489684a73b5e",
     "locked": true,
     "schema_version": 3,
     "solution": false
    }
   },
   "source": [
    "[Back to top](#Index:) \n",
    "\n",
    "## Problem 5\n",
    "\n",
    "### Comparing the model performance\n",
    "\n",
    "**4 Points**\n",
    "\n",
    "Reflect on the mean squared error of the two models.  Which model more closely approximated the data -- linear or quadratic?  Assign your answer as a string to `best_model` below (`linear` or `quadratic`).  "
   ]
  },
  {
   "cell_type": "code",
   "execution_count": null,
   "metadata": {
    "deletable": false,
    "nbgrader": {
     "cell_type": "code",
     "checksum": "2b998766c9171a9089b2d3c2aecc698e",
     "grade": false,
     "grade_id": "cell-3bb0d0c6df3cd22c",
     "locked": false,
     "schema_version": 3,
     "solution": true
    }
   },
   "outputs": [],
   "source": [
    "### GRADED\n",
    "\n",
    "best_model = ''\n",
    "\n",
    "# YOUR CODE HERE\n",
    "#raise NotImplementedError()\n",
    "best_model = 'quadratic'\n",
    "\n",
    "# Answer check\n",
    "print(best_model)"
   ]
  },
  {
   "cell_type": "code",
   "execution_count": null,
   "metadata": {
    "deletable": false,
    "editable": false,
    "nbgrader": {
     "cell_type": "code",
     "checksum": "2ea9b280160b65bb8cbfdda227b2c671",
     "grade": true,
     "grade_id": "cell-1937119042a86944",
     "locked": true,
     "points": 4,
     "schema_version": 3,
     "solution": false
    }
   },
   "outputs": [],
   "source": []
  },
  {
   "cell_type": "markdown",
   "metadata": {
    "deletable": false,
    "editable": false,
    "nbgrader": {
     "cell_type": "markdown",
     "checksum": "709c9e893cf49ae65faddd4713fe4bd7",
     "grade": false,
     "grade_id": "cell-801eca3357159e06",
     "locked": true,
     "schema_version": 3,
     "solution": false
    }
   },
   "source": [
    "#### Visualization and Summary\n",
    "\n",
    "As an ungraded exercise, use `plotly` or `matplotlib` to create a scatterplot of the data alongside the quadratic model as a line plot. "
   ]
  },
  {
   "cell_type": "code",
   "execution_count": null,
   "metadata": {},
   "outputs": [],
   "source": []
  }
 ],
 "metadata": {
  "kernelspec": {
   "display_name": "Python 3 (ipykernel)",
   "language": "python",
   "name": "python3"
  },
  "language_info": {
   "codemirror_mode": {
    "name": "ipython",
    "version": 3
   },
   "file_extension": ".py",
   "mimetype": "text/x-python",
   "name": "python",
   "nbconvert_exporter": "python",
   "pygments_lexer": "ipython3",
   "version": "3.9.7"
  },
  "widgets": {
   "application/vnd.jupyter.widget-state+json": {
    "state": {},
    "version_major": 2,
    "version_minor": 0
   }
  }
 },
 "nbformat": 4,
 "nbformat_minor": 4
}
