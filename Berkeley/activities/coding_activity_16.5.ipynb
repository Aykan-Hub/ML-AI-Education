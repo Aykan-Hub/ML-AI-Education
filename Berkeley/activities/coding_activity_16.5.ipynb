{
 "cells": [
  {
   "cell_type": "markdown",
   "metadata": {
    "deletable": false,
    "editable": false,
    "nbgrader": {
     "cell_type": "markdown",
     "checksum": "a0def57f4ca4904d71c2524fcb29deb1",
     "grade": false,
     "grade_id": "cell-610b0c7676cb0aca",
     "locked": true,
     "schema_version": 3,
     "solution": false
    }
   },
   "source": [
    "### Codio Activity 16.5: Comparing Margins in Classifiers\n",
    "\n",
    "**Expected Time = 60 minutes** \n",
    "\n",
    "**Total Points = 45** \n",
    "\n",
    "This activity focuses on comparing different linear classification models and their margins.  You will draw linear boundaries on a sample dataset using algebra and compare their margins.  This is an intuitive introduction to choosing a maximum margin classifier."
   ]
  },
  {
   "cell_type": "markdown",
   "metadata": {
    "deletable": false,
    "editable": false,
    "nbgrader": {
     "cell_type": "markdown",
     "checksum": "08770bafed19fa659b127918d27d60bd",
     "grade": false,
     "grade_id": "cell-be9f8dd7064eba79",
     "locked": true,
     "schema_version": 3,
     "solution": false
    }
   },
   "source": [
    "#### Index\n",
    "\n",
    "- [Problem 1](#-Problem-1)\n",
    "- [Problem 2](#-Problem-2)\n",
    "- [Problem 3](#-Problem-3)\n",
    "- [Problem 4](#-Problem-4)\n",
    "- [Problem 5](#-Problem-5)"
   ]
  },
  {
   "cell_type": "code",
   "execution_count": 1,
   "metadata": {},
   "outputs": [],
   "source": [
    "import numpy as np\n",
    "import pandas as pd\n",
    "import matplotlib.pyplot as plt\n",
    "\n",
    "from sklearn.linear_model import LogisticRegression\n",
    "from sklearn.datasets import make_blobs"
   ]
  },
  {
   "cell_type": "code",
   "execution_count": 2,
   "metadata": {},
   "outputs": [],
   "source": [
    "X, y = make_blobs(cluster_std=2.0, centers = 2, random_state=42)"
   ]
  },
  {
   "cell_type": "code",
   "execution_count": 3,
   "metadata": {},
   "outputs": [
    {
     "data": {
      "image/png": "[encoded data removed]",
      "text/plain": [
       "<Figure size 432x288 with 1 Axes>"
      ]
     },
     "metadata": {
      "needs_background": "light"
     },
     "output_type": "display_data"
    }
   ],
   "source": [
    "fig, ax = plt.subplots()\n",
    "for label, color in enumerate(['blue', 'orange']):\n",
    "    ax.scatter(X[y == label][:, 0], X[y == label][:, 1], c=color, label=label,\n",
    "               alpha=0.8, edgecolors='none')\n",
    "ax.legend(title = 'Class')\n",
    "ax.set_title('Synthetic Binary Classification Dataset')\n",
    "ax.set_xlabel('x')\n",
    "ax.set_ylabel('y')\n",
    "ax.grid(True)"
   ]
  },
  {
   "cell_type": "code",
   "execution_count": 4,
   "metadata": {},
   "outputs": [
    {
     "data": {
      "text/html": [
       "<div>\n",
       "<style scoped>\n",
       "    .dataframe tbody tr th:only-of-type {\n",
       "        vertical-align: middle;\n",
       "    }\n",
       "\n",
       "    .dataframe tbody tr th {\n",
       "        vertical-align: top;\n",
       "    }\n",
       "\n",
       "    .dataframe thead th {\n",
       "        text-align: right;\n",
       "    }\n",
       "</style>\n",
       "<table border=\"1\" class=\"dataframe\">\n",
       "  <thead>\n",
       "    <tr style=\"text-align: right;\">\n",
       "      <th></th>\n",
       "      <th>x</th>\n",
       "      <th>y</th>\n",
       "      <th>class</th>\n",
       "    </tr>\n",
       "  </thead>\n",
       "  <tbody>\n",
       "    <tr>\n",
       "      <th>0</th>\n",
       "      <td>-3.467546</td>\n",
       "      <td>8.642968</td>\n",
       "      <td>0</td>\n",
       "    </tr>\n",
       "    <tr>\n",
       "      <th>1</th>\n",
       "      <td>6.805981</td>\n",
       "      <td>4.080774</td>\n",
       "      <td>1</td>\n",
       "    </tr>\n",
       "    <tr>\n",
       "      <th>2</th>\n",
       "      <td>-3.597963</td>\n",
       "      <td>9.236131</td>\n",
       "      <td>0</td>\n",
       "    </tr>\n",
       "    <tr>\n",
       "      <th>3</th>\n",
       "      <td>6.283999</td>\n",
       "      <td>5.766756</td>\n",
       "      <td>1</td>\n",
       "    </tr>\n",
       "    <tr>\n",
       "      <th>4</th>\n",
       "      <td>5.094799</td>\n",
       "      <td>4.587455</td>\n",
       "      <td>1</td>\n",
       "    </tr>\n",
       "  </tbody>\n",
       "</table>\n",
       "</div>"
      ],
      "text/plain": [
       "          x         y  class\n",
       "0 -3.467546  8.642968      0\n",
       "1  6.805981  4.080774      1\n",
       "2 -3.597963  9.236131      0\n",
       "3  6.283999  5.766756      1\n",
       "4  5.094799  4.587455      1"
      ]
     },
     "execution_count": 4,
     "metadata": {},
     "output_type": "execute_result"
    }
   ],
   "source": [
    "df = pd.DataFrame(X, columns = ['x', 'y'])\n",
    "df['class'] = y\n",
    "df.head()"
   ]
  },
  {
   "cell_type": "markdown",
   "metadata": {
    "deletable": false,
    "editable": false,
    "nbgrader": {
     "cell_type": "markdown",
     "checksum": "a3b1ce35d68c1fba797f01fca12da3b8",
     "grade": false,
     "grade_id": "cell-10e81f2d17296bdb",
     "locked": true,
     "schema_version": 3,
     "solution": false
    }
   },
   "source": [
    "[Back to top](#-Index)\n",
    "\n",
    "### Problem 1\n",
    "\n",
    "#### Linear Boundary through Given Points\n",
    "\n",
    "**10 Points**\n",
    "\n",
    "Create a linear function that goes through the two points where:\n",
    "\n",
    "- $(x_0, y_0)$ corresponds to the point in class 1 with the lowest $x$ value. \n",
    "- $(x_1, y_1)$ corresponds to the point in class 0 with the highest $x$ value.\n",
    "\n",
    "Define your points as `x0, y0` and `x1, y1`, determine the slope and write the equation by completing the function `boundary_1` below.\n",
    "\n",
    "**RECALL**: A linear function can be determined as:\n",
    "\n",
    "$$y = m(x_0 - x) + y_0$$\n",
    "\n",
    "where $m$ is the slope (`slope0`) and $(x_0, y_0)$ is a point on the line.\n",
    "\n",
    "Assign each of these as floats to their respective variables below.  Uncomment the code to visualize your completed boundary."
   ]
  },
  {
   "cell_type": "code",
   "execution_count": 5,
   "metadata": {},
   "outputs": [
    {
     "data": {
      "text/html": [
       "<div>\n",
       "<style scoped>\n",
       "    .dataframe tbody tr th:only-of-type {\n",
       "        vertical-align: middle;\n",
       "    }\n",
       "\n",
       "    .dataframe tbody tr th {\n",
       "        vertical-align: top;\n",
       "    }\n",
       "\n",
       "    .dataframe thead th {\n",
       "        text-align: right;\n",
       "    }\n",
       "</style>\n",
       "<table border=\"1\" class=\"dataframe\">\n",
       "  <thead>\n",
       "    <tr style=\"text-align: right;\">\n",
       "      <th></th>\n",
       "      <th>x</th>\n",
       "      <th>y</th>\n",
       "      <th>class</th>\n",
       "    </tr>\n",
       "  </thead>\n",
       "  <tbody>\n",
       "    <tr>\n",
       "      <th>29</th>\n",
       "      <td>4.110565</td>\n",
       "      <td>7.413508</td>\n",
       "      <td>1</td>\n",
       "    </tr>\n",
       "    <tr>\n",
       "      <th>16</th>\n",
       "      <td>4.760339</td>\n",
       "      <td>6.899654</td>\n",
       "      <td>1</td>\n",
       "    </tr>\n",
       "    <tr>\n",
       "      <th>35</th>\n",
       "      <td>5.813593</td>\n",
       "      <td>6.354081</td>\n",
       "      <td>1</td>\n",
       "    </tr>\n",
       "    <tr>\n",
       "      <th>3</th>\n",
       "      <td>6.283999</td>\n",
       "      <td>5.766756</td>\n",
       "      <td>1</td>\n",
       "    </tr>\n",
       "    <tr>\n",
       "      <th>78</th>\n",
       "      <td>2.801030</td>\n",
       "      <td>5.073038</td>\n",
       "      <td>1</td>\n",
       "    </tr>\n",
       "    <tr>\n",
       "      <th>50</th>\n",
       "      <td>4.665883</td>\n",
       "      <td>4.880238</td>\n",
       "      <td>1</td>\n",
       "    </tr>\n",
       "    <tr>\n",
       "      <th>4</th>\n",
       "      <td>5.094799</td>\n",
       "      <td>4.587455</td>\n",
       "      <td>1</td>\n",
       "    </tr>\n",
       "    <tr>\n",
       "      <th>1</th>\n",
       "      <td>6.805981</td>\n",
       "      <td>4.080774</td>\n",
       "      <td>1</td>\n",
       "    </tr>\n",
       "    <tr>\n",
       "      <th>74</th>\n",
       "      <td>3.746849</td>\n",
       "      <td>3.685967</td>\n",
       "      <td>1</td>\n",
       "    </tr>\n",
       "    <tr>\n",
       "      <th>6</th>\n",
       "      <td>5.193260</td>\n",
       "      <td>3.627536</td>\n",
       "      <td>1</td>\n",
       "    </tr>\n",
       "    <tr>\n",
       "      <th>42</th>\n",
       "      <td>2.690515</td>\n",
       "      <td>3.547339</td>\n",
       "      <td>1</td>\n",
       "    </tr>\n",
       "    <tr>\n",
       "      <th>24</th>\n",
       "      <td>5.159644</td>\n",
       "      <td>3.536815</td>\n",
       "      <td>1</td>\n",
       "    </tr>\n",
       "    <tr>\n",
       "      <th>73</th>\n",
       "      <td>6.925524</td>\n",
       "      <td>3.477036</td>\n",
       "      <td>1</td>\n",
       "    </tr>\n",
       "    <tr>\n",
       "      <th>61</th>\n",
       "      <td>4.192953</td>\n",
       "      <td>3.401171</td>\n",
       "      <td>1</td>\n",
       "    </tr>\n",
       "    <tr>\n",
       "      <th>49</th>\n",
       "      <td>2.257272</td>\n",
       "      <td>3.286277</td>\n",
       "      <td>1</td>\n",
       "    </tr>\n",
       "    <tr>\n",
       "      <th>53</th>\n",
       "      <td>5.355454</td>\n",
       "      <td>3.094739</td>\n",
       "      <td>1</td>\n",
       "    </tr>\n",
       "    <tr>\n",
       "      <th>17</th>\n",
       "      <td>2.498094</td>\n",
       "      <td>2.938115</td>\n",
       "      <td>1</td>\n",
       "    </tr>\n",
       "    <tr>\n",
       "      <th>72</th>\n",
       "      <td>8.371428</td>\n",
       "      <td>2.920836</td>\n",
       "      <td>1</td>\n",
       "    </tr>\n",
       "    <tr>\n",
       "      <th>84</th>\n",
       "      <td>2.515271</td>\n",
       "      <td>2.920355</td>\n",
       "      <td>1</td>\n",
       "    </tr>\n",
       "    <tr>\n",
       "      <th>23</th>\n",
       "      <td>6.566631</td>\n",
       "      <td>2.798732</td>\n",
       "      <td>1</td>\n",
       "    </tr>\n",
       "    <tr>\n",
       "      <th>75</th>\n",
       "      <td>4.317307</td>\n",
       "      <td>2.781271</td>\n",
       "      <td>1</td>\n",
       "    </tr>\n",
       "    <tr>\n",
       "      <th>36</th>\n",
       "      <td>4.986241</td>\n",
       "      <td>2.743804</td>\n",
       "      <td>1</td>\n",
       "    </tr>\n",
       "    <tr>\n",
       "      <th>69</th>\n",
       "      <td>5.140865</td>\n",
       "      <td>2.666066</td>\n",
       "      <td>1</td>\n",
       "    </tr>\n",
       "    <tr>\n",
       "      <th>26</th>\n",
       "      <td>4.485675</td>\n",
       "      <td>2.655474</td>\n",
       "      <td>1</td>\n",
       "    </tr>\n",
       "    <tr>\n",
       "      <th>21</th>\n",
       "      <td>4.255157</td>\n",
       "      <td>2.576264</td>\n",
       "      <td>1</td>\n",
       "    </tr>\n",
       "    <tr>\n",
       "      <th>28</th>\n",
       "      <td>5.683762</td>\n",
       "      <td>2.567139</td>\n",
       "      <td>1</td>\n",
       "    </tr>\n",
       "    <tr>\n",
       "      <th>14</th>\n",
       "      <td>3.279829</td>\n",
       "      <td>2.437677</td>\n",
       "      <td>1</td>\n",
       "    </tr>\n",
       "    <tr>\n",
       "      <th>68</th>\n",
       "      <td>1.424912</td>\n",
       "      <td>2.342437</td>\n",
       "      <td>1</td>\n",
       "    </tr>\n",
       "    <tr>\n",
       "      <th>66</th>\n",
       "      <td>8.412251</td>\n",
       "      <td>2.322325</td>\n",
       "      <td>1</td>\n",
       "    </tr>\n",
       "    <tr>\n",
       "      <th>65</th>\n",
       "      <td>2.872164</td>\n",
       "      <td>2.280620</td>\n",
       "      <td>1</td>\n",
       "    </tr>\n",
       "    <tr>\n",
       "      <th>7</th>\n",
       "      <td>1.538552</td>\n",
       "      <td>2.110296</td>\n",
       "      <td>1</td>\n",
       "    </tr>\n",
       "    <tr>\n",
       "      <th>63</th>\n",
       "      <td>0.802336</td>\n",
       "      <td>1.920142</td>\n",
       "      <td>1</td>\n",
       "    </tr>\n",
       "    <tr>\n",
       "      <th>43</th>\n",
       "      <td>5.586354</td>\n",
       "      <td>1.827512</td>\n",
       "      <td>1</td>\n",
       "    </tr>\n",
       "    <tr>\n",
       "      <th>57</th>\n",
       "      <td>5.154980</td>\n",
       "      <td>1.824278</td>\n",
       "      <td>1</td>\n",
       "    </tr>\n",
       "    <tr>\n",
       "      <th>15</th>\n",
       "      <td>3.073372</td>\n",
       "      <td>1.329047</td>\n",
       "      <td>1</td>\n",
       "    </tr>\n",
       "    <tr>\n",
       "      <th>76</th>\n",
       "      <td>4.839182</td>\n",
       "      <td>0.966218</td>\n",
       "      <td>1</td>\n",
       "    </tr>\n",
       "    <tr>\n",
       "      <th>71</th>\n",
       "      <td>2.658806</td>\n",
       "      <td>0.840574</td>\n",
       "      <td>1</td>\n",
       "    </tr>\n",
       "    <tr>\n",
       "      <th>80</th>\n",
       "      <td>5.226024</td>\n",
       "      <td>0.544467</td>\n",
       "      <td>1</td>\n",
       "    </tr>\n",
       "    <tr>\n",
       "      <th>44</th>\n",
       "      <td>4.149103</td>\n",
       "      <td>0.465697</td>\n",
       "      <td>1</td>\n",
       "    </tr>\n",
       "    <tr>\n",
       "      <th>58</th>\n",
       "      <td>2.860850</td>\n",
       "      <td>0.341549</td>\n",
       "      <td>1</td>\n",
       "    </tr>\n",
       "    <tr>\n",
       "      <th>64</th>\n",
       "      <td>6.957070</td>\n",
       "      <td>0.331805</td>\n",
       "      <td>1</td>\n",
       "    </tr>\n",
       "    <tr>\n",
       "      <th>55</th>\n",
       "      <td>5.891214</td>\n",
       "      <td>0.258855</td>\n",
       "      <td>1</td>\n",
       "    </tr>\n",
       "    <tr>\n",
       "      <th>22</th>\n",
       "      <td>6.221943</td>\n",
       "      <td>0.154395</td>\n",
       "      <td>1</td>\n",
       "    </tr>\n",
       "    <tr>\n",
       "      <th>18</th>\n",
       "      <td>4.756296</td>\n",
       "      <td>-0.312771</td>\n",
       "      <td>1</td>\n",
       "    </tr>\n",
       "    <tr>\n",
       "      <th>88</th>\n",
       "      <td>4.570455</td>\n",
       "      <td>-0.364186</td>\n",
       "      <td>1</td>\n",
       "    </tr>\n",
       "    <tr>\n",
       "      <th>41</th>\n",
       "      <td>6.266913</td>\n",
       "      <td>-0.488559</td>\n",
       "      <td>1</td>\n",
       "    </tr>\n",
       "    <tr>\n",
       "      <th>20</th>\n",
       "      <td>5.068066</td>\n",
       "      <td>-0.518308</td>\n",
       "      <td>1</td>\n",
       "    </tr>\n",
       "    <tr>\n",
       "      <th>11</th>\n",
       "      <td>2.165977</td>\n",
       "      <td>-0.667744</td>\n",
       "      <td>1</td>\n",
       "    </tr>\n",
       "    <tr>\n",
       "      <th>90</th>\n",
       "      <td>7.445467</td>\n",
       "      <td>-0.830532</td>\n",
       "      <td>1</td>\n",
       "    </tr>\n",
       "    <tr>\n",
       "      <th>97</th>\n",
       "      <td>2.946291</td>\n",
       "      <td>-1.056525</td>\n",
       "      <td>1</td>\n",
       "    </tr>\n",
       "  </tbody>\n",
       "</table>\n",
       "</div>"
      ],
      "text/plain": [
       "           x         y  class\n",
       "29  4.110565  7.413508      1\n",
       "16  4.760339  6.899654      1\n",
       "35  5.813593  6.354081      1\n",
       "3   6.283999  5.766756      1\n",
       "78  2.801030  5.073038      1\n",
       "50  4.665883  4.880238      1\n",
       "4   5.094799  4.587455      1\n",
       "1   6.805981  4.080774      1\n",
       "74  3.746849  3.685967      1\n",
       "6   5.193260  3.627536      1\n",
       "42  2.690515  3.547339      1\n",
       "24  5.159644  3.536815      1\n",
       "73  6.925524  3.477036      1\n",
       "61  4.192953  3.401171      1\n",
       "49  2.257272  3.286277      1\n",
       "53  5.355454  3.094739      1\n",
       "17  2.498094  2.938115      1\n",
       "72  8.371428  2.920836      1\n",
       "84  2.515271  2.920355      1\n",
       "23  6.566631  2.798732      1\n",
       "75  4.317307  2.781271      1\n",
       "36  4.986241  2.743804      1\n",
       "69  5.140865  2.666066      1\n",
       "26  4.485675  2.655474      1\n",
       "21  4.255157  2.576264      1\n",
       "28  5.683762  2.567139      1\n",
       "14  3.279829  2.437677      1\n",
       "68  1.424912  2.342437      1\n",
       "66  8.412251  2.322325      1\n",
       "65  2.872164  2.280620      1\n",
       "7   1.538552  2.110296      1\n",
       "63  0.802336  1.920142      1\n",
       "43  5.586354  1.827512      1\n",
       "57  5.154980  1.824278      1\n",
       "15  3.073372  1.329047      1\n",
       "76  4.839182  0.966218      1\n",
       "71  2.658806  0.840574      1\n",
       "80  5.226024  0.544467      1\n",
       "44  4.149103  0.465697      1\n",
       "58  2.860850  0.341549      1\n",
       "64  6.957070  0.331805      1\n",
       "55  5.891214  0.258855      1\n",
       "22  6.221943  0.154395      1\n",
       "18  4.756296 -0.312771      1\n",
       "88  4.570455 -0.364186      1\n",
       "41  6.266913 -0.488559      1\n",
       "20  5.068066 -0.518308      1\n",
       "11  2.165977 -0.667744      1\n",
       "90  7.445467 -0.830532      1\n",
       "97  2.946291 -1.056525      1"
      ]
     },
     "execution_count": 5,
     "metadata": {},
     "output_type": "execute_result"
    }
   ],
   "source": [
    "df[df['class'] == 1].sort_values(by='y', ascending=False)\n",
    "#df[(df['class'] == 1) & (df['x'] == x0)]['y'].values[0]"
   ]
  },
  {
   "cell_type": "code",
   "execution_count": 6,
   "metadata": {
    "deletable": false,
    "nbgrader": {
     "cell_type": "code",
     "checksum": "e80e06e9b17938a6a7bba64914a142d0",
     "grade": false,
     "grade_id": "cell-f66793265a44da17",
     "locked": false,
     "schema_version": 3,
     "solution": true
    }
   },
   "outputs": [
    {
     "name": "stdout",
     "output_type": "stream",
     "text": [
      "0.8023364056300184 1.9201419330422982\n",
      "0.6492280079620327 10.549155586504138\n"
     ]
    }
   ],
   "source": [
    "### GRADED\n",
    "x0 = ''\n",
    "x1 = ''\n",
    "y0 = ''\n",
    "y1 = ''\n",
    "slope0 = ''\n",
    "def boundary_1(x):\n",
    "    '''\n",
    "    This function takes in an array of x and \n",
    "    returns a linear boundary between class 0 and class 1\n",
    "    using slope0.\n",
    "    '''\n",
    "    pass\n",
    "\n",
    "# YOUR CODE HERE\n",
    "#raise NotImplementedError()\n",
    "x0 = df[df['class'] == 1]['x'].min()\n",
    "x1 = df[df['class'] == 0]['x'].max()\n",
    "y0 = df[(df['class'] == 1) & (df['x'] == x0)]['y'].values[0]\n",
    "y1 = df[(df['class'] == 0) & (df['x'] == x1)]['y'].values[0]\n",
    "slope0 = (y1 - y0)/(x1 - x0)\n",
    "def boundary_1(x):\n",
    "    return (slope0 * (x0 - x) + y0)\n",
    "\n",
    "    \n",
    "### ANSWER CHECK\n",
    "print(x0, y0)\n",
    "print(x1, y1)"
   ]
  },
  {
   "cell_type": "code",
   "execution_count": 7,
   "metadata": {},
   "outputs": [
    {
     "data": {
      "text/plain": [
       "(-2.0, 15.0)"
      ]
     },
     "execution_count": 7,
     "metadata": {},
     "output_type": "execute_result"
    },
    {
     "data": {
      "image/png": "[encoded data removed]",
      "text/plain": [
       "<Figure size 432x288 with 1 Axes>"
      ]
     },
     "metadata": {
      "needs_background": "light"
     },
     "output_type": "display_data"
    }
   ],
   "source": [
    "## Uncomment to visualize the decision boundary\n",
    "## what is good about this boundary and what is not so good?\n",
    "\n",
    "x = np.linspace(-8, 8, 10000)\n",
    "fig, ax = plt.subplots()\n",
    "for label, color in enumerate(['blue', 'orange']):\n",
    "    ax.scatter(X[y == label][:, 0], X[y == label][:, 1], c=color, label=label,\n",
    "               alpha=0.8, edgecolors='none')\n",
    "ax.set_title('Synthetic Binary Classification Dataset')\n",
    "ax.set_xlabel('X1')\n",
    "ax.set_ylabel('X2')\n",
    "ax.grid(True)\n",
    "ax.plot(x, boundary_1(x), '--r', label = 'Boundary 1')\n",
    "ax.legend()\n",
    "ax.set_ylim(-2, 15)"
   ]
  },
  {
   "cell_type": "code",
   "execution_count": null,
   "metadata": {
    "deletable": false,
    "editable": false,
    "nbgrader": {
     "cell_type": "code",
     "checksum": "c9a9f4c367802ed928effbeade73883e",
     "grade": true,
     "grade_id": "cell-057d7aec85aad74a",
     "locked": true,
     "points": 10,
     "schema_version": 3,
     "solution": false
    }
   },
   "outputs": [],
   "source": []
  },
  {
   "cell_type": "markdown",
   "metadata": {
    "deletable": false,
    "editable": false,
    "nbgrader": {
     "cell_type": "markdown",
     "checksum": "b6d074007c85c54af6285f2fd0eb1cf6",
     "grade": false,
     "grade_id": "cell-c13c8932630645a1",
     "locked": true,
     "schema_version": 3,
     "solution": false
    }
   },
   "source": [
    "[Back to top](#-Index)\n",
    "\n",
    "### Problem 2\n",
    "\n",
    "#### Linear Boundary through Given Points\n",
    "\n",
    "**10 Points**\n",
    "\n",
    "\n",
    "Create a linear function that goes through the two points where:\n",
    "\n",
    "- $(x_2, y_2)$ corresponds to the point in class 0 with the lowest $y$ value. \n",
    "- $(x_3, y_3)$ corresponds to the point in class 1 with the highest $y$ value.\n",
    "\n",
    "Define your points as `x2, y2` and `x3, y3`, determine the slope and write the equation by completing the function `boundary_2` below.\n"
   ]
  },
  {
   "cell_type": "code",
   "execution_count": 8,
   "metadata": {
    "deletable": false,
    "nbgrader": {
     "cell_type": "code",
     "checksum": "6fff7679a686c5e46a18940301cdd06b",
     "grade": false,
     "grade_id": "cell-156a13425eec2c19",
     "locked": false,
     "schema_version": 3,
     "solution": true
    }
   },
   "outputs": [
    {
     "name": "stdout",
     "output_type": "stream",
     "text": [
      "(-2.3256760699817454, 5.039148298996536)\n",
      "(4.110565169752189, 7.41350801711997)\n",
      "0.3689047115675836\n"
     ]
    }
   ],
   "source": [
    "### GRADED\n",
    "x2 = ''\n",
    "x3 = ''\n",
    "y2 = ''\n",
    "y3 = ''\n",
    "slope1 = ''\n",
    "def boundary_2(x):\n",
    "    '''\n",
    "    This function takes in an array of x and \n",
    "    returns a linear boundary between class 0 and class 1\n",
    "    using slope1.\n",
    "    '''\n",
    "    pass\n",
    "\n",
    "# YOUR CODE HERE\n",
    "#raise NotImplementedError()\n",
    "y2 = df[df['class'] == 0]['y'].min()\n",
    "y3 = df[df['class'] == 1]['y'].max()\n",
    "x2 = df[(df['class'] == 0) & (df['y'] == y2)]['x'].values[0]\n",
    "x3 = df[(df['class'] == 1) & (df['y'] == y3)]['x'].values[0]\n",
    "slope1 = (y2 - y3)/(x2 - x3)\n",
    "def boundary_2(x):\n",
    "    return (-slope1 * (x2 - x) + y2)\n",
    "\n",
    "    \n",
    "    \n",
    "### ANSWER CHECK\n",
    "print((x2, y2))\n",
    "print((x3, y3))\n",
    "print(slope1)"
   ]
  },
  {
   "cell_type": "code",
   "execution_count": 9,
   "metadata": {},
   "outputs": [
    {
     "data": {
      "text/plain": [
       "(-8.0, 8.0)"
      ]
     },
     "execution_count": 9,
     "metadata": {},
     "output_type": "execute_result"
    },
    {
     "data": {
      "image/png": "[encoded data removed]",
      "text/plain": [
       "<Figure size 432x288 with 1 Axes>"
      ]
     },
     "metadata": {
      "needs_background": "light"
     },
     "output_type": "display_data"
    }
   ],
   "source": [
    "## Uncomment to visualize the decision boundary\n",
    "## what is good about this boundary and what is not so good?\n",
    "\n",
    "x = np.linspace(-8, 8, 10000)\n",
    "fig, ax = plt.subplots()\n",
    "for label, color in enumerate(['blue', 'orange']):\n",
    "    ax.scatter(X[y == label][:, 0], X[y == label][:, 1], c=color, label=label,\n",
    "               alpha=0.8, edgecolors='none')\n",
    "ax.set_title('Synthetic Binary Classification Dataset')\n",
    "ax.set_xlabel('x')\n",
    "ax.set_ylabel('y')\n",
    "ax.grid(True)\n",
    "ax.plot(x, boundary_1(x), '--g', label = 'Boundary 1')\n",
    "ax.plot(x, boundary_2(x), '--r', label = 'Boundary 2')\n",
    "ax.legend()\n",
    "ax.set_ylim(-2, 15)\n",
    "ax.set_xlim(-8, 8)"
   ]
  },
  {
   "cell_type": "code",
   "execution_count": null,
   "metadata": {
    "deletable": false,
    "editable": false,
    "nbgrader": {
     "cell_type": "code",
     "checksum": "405a93d6d38f0e8ddd6331def8d5b715",
     "grade": true,
     "grade_id": "cell-99be80c8e9e5f5ae",
     "locked": true,
     "points": 10,
     "schema_version": 3,
     "solution": false
    }
   },
   "outputs": [],
   "source": []
  },
  {
   "cell_type": "markdown",
   "metadata": {
    "deletable": false,
    "editable": false,
    "nbgrader": {
     "cell_type": "markdown",
     "checksum": "7f2bbc40bd4285335a7ebf71c19cada6",
     "grade": false,
     "grade_id": "cell-5f6c86cdf2428b1d",
     "locked": true,
     "schema_version": 3,
     "solution": false
    }
   },
   "source": [
    "[Back to top](#-Index)\n",
    "\n",
    "### Problem 3\n",
    "\n",
    "#### Intersection of Boundaries\n",
    "\n",
    "**5 Points**\n",
    "\n",
    "Below, the `scipy.optimize` module is used to determine the intersection of the boundaries.  The $x$ coordinate is assigned as `xint` below. Use this point to determine the $y$-coordinate of the point of intersection and assign this to `yint` below. "
   ]
  },
  {
   "cell_type": "code",
   "execution_count": 10,
   "metadata": {},
   "outputs": [],
   "source": [
    "from scipy.optimize import root"
   ]
  },
  {
   "cell_type": "code",
   "execution_count": 11,
   "metadata": {},
   "outputs": [
    {
     "data": {
      "text/plain": [
       "array([0.87865269])"
      ]
     },
     "execution_count": 11,
     "metadata": {},
     "output_type": "execute_result"
    }
   ],
   "source": [
    "def intersection(x):\n",
    "    '''\n",
    "    This function can be used to determine\n",
    "    the intersection of boundary_1 and boundary_2\n",
    "    '''\n",
    "    return boundary_1(x) - boundary_2(x)\n",
    "\n",
    "xint = root(intersection, 2)['x'] #x value of intersection point\n",
    "xint"
   ]
  },
  {
   "cell_type": "code",
   "execution_count": 12,
   "metadata": {
    "deletable": false,
    "nbgrader": {
     "cell_type": "code",
     "checksum": "8fc34209d243442c07071b313a8e99e4",
     "grade": false,
     "grade_id": "cell-69e99fbb743606d9",
     "locked": false,
     "schema_version": 3,
     "solution": true
    }
   },
   "outputs": [
    {
     "name": "stdout",
     "output_type": "stream",
     "text": [
      "(array([0.87865269]), array([-1.77635684e-15]))\n"
     ]
    }
   ],
   "source": [
    "### GRADED\n",
    "yint = ''\n",
    "\n",
    "# YOUR CODE HERE\n",
    "#raise NotImplementedError()\n",
    "yint = intersection(xint)\n",
    "\n",
    "print((xint, yint))"
   ]
  },
  {
   "cell_type": "code",
   "execution_count": 13,
   "metadata": {},
   "outputs": [
    {
     "data": {
      "text/plain": [
       "(array([6.22124028]), array([6.22124028]))"
      ]
     },
     "execution_count": 13,
     "metadata": {},
     "output_type": "execute_result"
    }
   ],
   "source": [
    "boundary_1(xint), boundary_2(xint)"
   ]
  },
  {
   "cell_type": "code",
   "execution_count": 14,
   "metadata": {},
   "outputs": [
    {
     "data": {
      "image/png": "[encoded data removed]",
      "text/plain": [
       "<Figure size 432x288 with 1 Axes>"
      ]
     },
     "metadata": {
      "needs_background": "light"
     },
     "output_type": "display_data"
    }
   ],
   "source": [
    "# Uncomment to visualize intersection point\n",
    "plt.scatter(df['x'], df['y'], c = df['class'])\n",
    "plt.plot(x, boundary_2(x), '--r')\n",
    "plt.plot(x, boundary_1(x), '--r')\n",
    "plt.plot(xint, yint, 'ro')\n",
    "plt.ylim(-2, 15)\n",
    "plt.grid()"
   ]
  },
  {
   "cell_type": "code",
   "execution_count": 15,
   "metadata": {},
   "outputs": [
    {
     "data": {
      "image/png": "[encoded data removed]",
      "text/plain": [
       "<Figure size 432x288 with 1 Axes>"
      ]
     },
     "metadata": {
      "needs_background": "light"
     },
     "output_type": "display_data"
    }
   ],
   "source": [
    "# Uncomment to visualize intersection point\n",
    "plt.scatter(df['x'], df['y'], c = df['class'])\n",
    "plt.plot(x, boundary_2(x), '--r')\n",
    "plt.plot(x, boundary_1(x), '--r')\n",
    "#plt.plot(xint, yint, 'ro')\n",
    "plt.plot(xint,  boundary_2(xint), 'ro')\n",
    "plt.ylim(-2, 15)\n",
    "plt.grid()"
   ]
  },
  {
   "cell_type": "code",
   "execution_count": null,
   "metadata": {
    "deletable": false,
    "editable": false,
    "nbgrader": {
     "cell_type": "code",
     "checksum": "11b2c81f9d642d79268f3b925dd20949",
     "grade": true,
     "grade_id": "cell-710ce33f0730743a",
     "locked": true,
     "points": 5,
     "schema_version": 3,
     "solution": false
    }
   },
   "outputs": [],
   "source": []
  },
  {
   "cell_type": "markdown",
   "metadata": {
    "deletable": false,
    "editable": false,
    "nbgrader": {
     "cell_type": "markdown",
     "checksum": "fd1f16f6764d64d51213f2341d2fe967",
     "grade": false,
     "grade_id": "cell-0dca2a6dfe907702",
     "locked": true,
     "schema_version": 3,
     "solution": false
    }
   },
   "source": [
    "[Back to top](#-Index)\n",
    "\n",
    "### Problem 4\n",
    "\n",
    "#### Linear Boundary Compromise\n",
    "\n",
    "**10 Points**\n",
    "\n",
    "Now, build a linear function that uses a slope that is the determined by the points:\n",
    "\n",
    "$$(x_4, y_4) = (x0 + x2)/2, (y0 + y2)/2$$\n",
    "$$(x_5, y_5) = (x1 + x3)/2, (y1 + y3)/2$$\n",
    "\n",
    "and goes through the intersection point of the lines `boundary_1` and `boundary_2`. \n"
   ]
  },
  {
   "cell_type": "code",
   "execution_count": 16,
   "metadata": {},
   "outputs": [
    {
     "data": {
      "text/plain": [
       "(-0.7616698321758635, 3.479645116019417)"
      ]
     },
     "execution_count": 16,
     "metadata": {},
     "output_type": "execute_result"
    }
   ],
   "source": [
    "(𝑥0+𝑥2)/2,(𝑦0+𝑦2)/2"
   ]
  },
  {
   "cell_type": "code",
   "execution_count": 17,
   "metadata": {
    "deletable": false,
    "nbgrader": {
     "cell_type": "code",
     "checksum": "2a43ffae217efc46a1cdf1100ece64d3",
     "grade": false,
     "grade_id": "cell-23cf31f2bb30187d",
     "locked": false,
     "schema_version": 3,
     "solution": true
    }
   },
   "outputs": [
    {
     "name": "stdout",
     "output_type": "stream",
     "text": [
      "(4.110565169752189, 7.41350801711997)\n",
      "(-0.7616698321758635, 3.479645116019417)\n"
     ]
    }
   ],
   "source": [
    "### GRADED\n",
    "x4 = ''\n",
    "x5 = ''\n",
    "y4 = ''\n",
    "y5 = ''\n",
    "slope3 = ''\n",
    "def boundary_3(x):\n",
    "    pass\n",
    "\n",
    "\n",
    "# YOUR CODE HERE\n",
    "#raise NotImplementedError()\n",
    "x4, y4 = (𝑥0+𝑥2)/2,(𝑦0+𝑦2)/2\n",
    "x5, y5 = (𝑥1+𝑥3)/2,(𝑦1+𝑦3)/2\n",
    "slope3 = (y5 - y4)/(x5 - x4)\n",
    "def boundary_3(x):\n",
    "    return (-slope3 * (xint - x) + boundary_1(xint))\n",
    "\n",
    "print((x3, y3))\n",
    "print((x4, y4))"
   ]
  },
  {
   "cell_type": "code",
   "execution_count": 18,
   "metadata": {},
   "outputs": [
    {
     "data": {
      "text/plain": [
       "(-7.5, 10.0)"
      ]
     },
     "execution_count": 18,
     "metadata": {},
     "output_type": "execute_result"
    },
    {
     "data": {
      "image/png": "[encoded data removed]",
      "text/plain": [
       "<Figure size 432x288 with 1 Axes>"
      ]
     },
     "metadata": {
      "needs_background": "light"
     },
     "output_type": "display_data"
    }
   ],
   "source": [
    "# Uncomment to visualize boundaries\n",
    "x = np.linspace(-10, 10, 100)\n",
    "fig, ax = plt.subplots()\n",
    "for label, color in enumerate(['blue', 'orange']):\n",
    "    ax.scatter(X[y == label][:, 0], X[y == label][:, 1], c=color, label=label,\n",
    "               alpha=0.8, edgecolors='none')\n",
    "ax.set_title('Synthetic Binary Classification Dataset')\n",
    "ax.set_xlabel('x')\n",
    "ax.set_ylabel('y')\n",
    "ax.grid(True)\n",
    "ax.plot(x, boundary_1(x), '--g', label = 'Boundary 1')\n",
    "ax.plot(x, boundary_2(x), '--r', label = 'Boundary 2')\n",
    "ax.plot(x, boundary_3(x), '--', color = 'purple', label = 'Boundary 3')\n",
    "ax.legend()\n",
    "ax.set_ylim(-2, 15)\n",
    "ax.set_xlim(-7.5, 10)"
   ]
  },
  {
   "cell_type": "code",
   "execution_count": null,
   "metadata": {
    "deletable": false,
    "editable": false,
    "nbgrader": {
     "cell_type": "code",
     "checksum": "2173c4ae4e1978b3b073a595df92652d",
     "grade": true,
     "grade_id": "cell-d3740166c73a81c9",
     "locked": true,
     "points": 10,
     "schema_version": 3,
     "solution": false
    }
   },
   "outputs": [],
   "source": []
  },
  {
   "cell_type": "markdown",
   "metadata": {
    "deletable": false,
    "editable": false,
    "nbgrader": {
     "cell_type": "markdown",
     "checksum": "eb50c6e505f370be5a8b673781464cbc",
     "grade": false,
     "grade_id": "cell-157733931d5aa0cb",
     "locked": true,
     "schema_version": 3,
     "solution": false
    }
   },
   "source": [
    "[Back to top](#-Index)\n",
    "\n",
    "### Problem 5\n",
    "\n",
    "#### Selecting the Optimal Decision Boundary\n",
    "\n",
    "**10 Points**\n",
    "\n",
    "Despite all three examples being near perfect linear boundaries for the two classes, which boundary do you think would be the best for predicting new data points?  Assign your answer as a string to `ans5` below.\n",
    "\n",
    "```\n",
    "a. boundary_1\n",
    "b. boundary_2\n",
    "c. boundary_3\n",
    "d. all are same\n",
    "```\n"
   ]
  },
  {
   "cell_type": "code",
   "execution_count": 19,
   "metadata": {
    "deletable": false,
    "nbgrader": {
     "cell_type": "code",
     "checksum": "cc3f1f225104f312615e63d6cf3e7ed3",
     "grade": false,
     "grade_id": "cell-282c786c34a0508c",
     "locked": false,
     "schema_version": 3,
     "solution": true
    }
   },
   "outputs": [
    {
     "name": "stdout",
     "output_type": "stream",
     "text": [
      "c\n"
     ]
    }
   ],
   "source": [
    "### GRADED\n",
    "ans5 = ''\n",
    "    \n",
    "# YOUR CODE HERE\n",
    "#raise NotImplementedError()\n",
    "ans5 = 'c'\n",
    "\n",
    "### ANSWER CHECK\n",
    "print(ans5)"
   ]
  },
  {
   "cell_type": "code",
   "execution_count": null,
   "metadata": {
    "deletable": false,
    "editable": false,
    "nbgrader": {
     "cell_type": "code",
     "checksum": "d413e90194db21874727a491387983f4",
     "grade": true,
     "grade_id": "cell-2b5717bd3061a3ed",
     "locked": true,
     "points": 10,
     "schema_version": 3,
     "solution": false
    }
   },
   "outputs": [],
   "source": []
  }
 ],
 "metadata": {
  "kernelspec": {
   "display_name": "Python 3 (ipykernel)",
   "language": "python",
   "name": "python3"
  },
  "language_info": {
   "codemirror_mode": {
    "name": "ipython",
    "version": 3
   },
   "file_extension": ".py",
   "mimetype": "text/x-python",
   "name": "python",
   "nbconvert_exporter": "python",
   "pygments_lexer": "ipython3",
   "version": "3.9.7"
  }
 },
 "nbformat": 4,
 "nbformat_minor": 4
}
