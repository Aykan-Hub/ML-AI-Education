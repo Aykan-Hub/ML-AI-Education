{
 "cells": [
  {
   "cell_type": "markdown",
   "metadata": {
    "deletable": false,
    "editable": false,
    "nbgrader": {
     "checksum": "70f903be2006859bdaef4fb698405afd",
     "grade": false,
     "grade_id": "cell-f39384a7d88ab3ff",
     "locked": true,
     "schema_version": 1,
     "solution": false
    }
   },
   "source": [
    "### Codio Activity 4.2: Complex Joins on Datasets\n",
    "\n",
    "**Expected Time: 60 Minutes**\n",
    "\n",
    "**Total Points: 10**\n",
    "\n",
    "![](images/kiva.png)\n",
    "\n",
    "This assignment focuses on using pandas merge to answer questions using multiple data sources.  Here you will combine data and use many of the earlier `pandas` methods together with the `merge` function to extract insights from our data source.  The data comes from the Kiva loan provider organization and was part of a kaggle Data Science for good contest [here](https://www.kaggle.com/kiva/data-science-for-good-kiva-crowdfunding).\n",
    "\n",
    "#### Index:\n",
    "\n",
    "- [Problem 1](#Problem-1)\n",
    "- [Problem 2](#Problem-2)\n",
    "- [Problem 3](#Problem-3)\n",
    "- [Problem 4](#Problem-4)\n",
    "- [Problem 5](#Problem-5)"
   ]
  },
  {
   "cell_type": "markdown",
   "metadata": {
    "deletable": false,
    "editable": false,
    "nbgrader": {
     "checksum": "eff259e35fdb383d81d8f856a967d597",
     "grade": false,
     "grade_id": "cell-e71e1b128fd909de",
     "locked": true,
     "schema_version": 1,
     "solution": false
    }
   },
   "source": [
    "### The Data\n",
    "\n",
    "Kiva allows users to fund loans to small organizations around the world.  The four datasets contain a subset of the data provided on kaggle and describe information on the individual loan, when it was given, where the borrowers were located, and what the loans were being used for.  Below, the data is loaded into four DataFrames and the first two rows of each displayed.  Note the shared `id` column across all four datasets."
   ]
  },
  {
   "cell_type": "code",
   "execution_count": 1,
   "metadata": {
    "deletable": false,
    "editable": false,
    "nbgrader": {
     "checksum": "6e9bda67cf333ca36b7877fcc9609e82",
     "grade": false,
     "grade_id": "cell-6279f9a688b63708",
     "locked": true,
     "schema_version": 1,
     "solution": false
    }
   },
   "outputs": [],
   "source": [
    "import pandas as pd"
   ]
  },
  {
   "cell_type": "code",
   "execution_count": 2,
   "metadata": {
    "deletable": false,
    "editable": false,
    "nbgrader": {
     "checksum": "44ee48dae1d9d12f02a0c795ebff09b7",
     "grade": false,
     "grade_id": "cell-86322bdf0dc50289",
     "locked": true,
     "schema_version": 1,
     "solution": false
    }
   },
   "outputs": [
    {
     "data": {
      "text/html": [
       "<div>\n",
       "<style scoped>\n",
       "    .dataframe tbody tr th:only-of-type {\n",
       "        vertical-align: middle;\n",
       "    }\n",
       "\n",
       "    .dataframe tbody tr th {\n",
       "        vertical-align: top;\n",
       "    }\n",
       "\n",
       "    .dataframe thead th {\n",
       "        text-align: right;\n",
       "    }\n",
       "</style>\n",
       "<table border=\"1\" class=\"dataframe\">\n",
       "  <thead>\n",
       "    <tr style=\"text-align: right;\">\n",
       "      <th></th>\n",
       "      <th>id</th>\n",
       "      <th>posted_time</th>\n",
       "      <th>funded_time</th>\n",
       "      <th>lender_count</th>\n",
       "    </tr>\n",
       "  </thead>\n",
       "  <tbody>\n",
       "    <tr>\n",
       "      <th>0</th>\n",
       "      <td>658776</td>\n",
       "      <td>2014-01-17 21:21:10+00:00</td>\n",
       "      <td>2014-02-05 17:57:55+00:00</td>\n",
       "      <td>33</td>\n",
       "    </tr>\n",
       "    <tr>\n",
       "      <th>1</th>\n",
       "      <td>1314847</td>\n",
       "      <td>2017-06-07 02:02:41+00:00</td>\n",
       "      <td>2017-06-21 17:10:38+00:00</td>\n",
       "      <td>9</td>\n",
       "    </tr>\n",
       "  </tbody>\n",
       "</table>\n",
       "</div>"
      ],
      "text/plain": [
       "        id                posted_time                funded_time  lender_count\n",
       "0   658776  2014-01-17 21:21:10+00:00  2014-02-05 17:57:55+00:00            33\n",
       "1  1314847  2017-06-07 02:02:41+00:00  2017-06-21 17:10:38+00:00             9"
      ]
     },
     "execution_count": 2,
     "metadata": {},
     "output_type": "execute_result"
    }
   ],
   "source": [
    "crowdsource = pd.read_csv('data/kiva/crowdsource.csv')\n",
    "crowdsource.head(2)"
   ]
  },
  {
   "cell_type": "code",
   "execution_count": 3,
   "metadata": {
    "deletable": false,
    "editable": false,
    "nbgrader": {
     "checksum": "0351a20e3a7fa7b8a6101f4c6f171321",
     "grade": false,
     "grade_id": "cell-82230968cb790dda",
     "locked": true,
     "schema_version": 1,
     "solution": false
    }
   },
   "outputs": [
    {
     "data": {
      "text/html": [
       "<div>\n",
       "<style scoped>\n",
       "    .dataframe tbody tr th:only-of-type {\n",
       "        vertical-align: middle;\n",
       "    }\n",
       "\n",
       "    .dataframe tbody tr th {\n",
       "        vertical-align: top;\n",
       "    }\n",
       "\n",
       "    .dataframe thead th {\n",
       "        text-align: right;\n",
       "    }\n",
       "</style>\n",
       "<table border=\"1\" class=\"dataframe\">\n",
       "  <thead>\n",
       "    <tr style=\"text-align: right;\">\n",
       "      <th></th>\n",
       "      <th>id</th>\n",
       "      <th>country</th>\n",
       "      <th>region</th>\n",
       "      <th>borrower_genders</th>\n",
       "    </tr>\n",
       "  </thead>\n",
       "  <tbody>\n",
       "    <tr>\n",
       "      <th>0</th>\n",
       "      <td>658776</td>\n",
       "      <td>El Salvador</td>\n",
       "      <td>Ciudad El Triunfo</td>\n",
       "      <td>male</td>\n",
       "    </tr>\n",
       "    <tr>\n",
       "      <th>1</th>\n",
       "      <td>1314847</td>\n",
       "      <td>Philippines</td>\n",
       "      <td>Bais, Negros Oriental</td>\n",
       "      <td>female</td>\n",
       "    </tr>\n",
       "  </tbody>\n",
       "</table>\n",
       "</div>"
      ],
      "text/plain": [
       "        id      country                 region borrower_genders\n",
       "0   658776  El Salvador      Ciudad El Triunfo             male\n",
       "1  1314847  Philippines  Bais, Negros Oriental           female"
      ]
     },
     "execution_count": 3,
     "metadata": {},
     "output_type": "execute_result"
    }
   ],
   "source": [
    "demographics = pd.read_csv('data/kiva/demographics.csv')\n",
    "demographics.head(2)"
   ]
  },
  {
   "cell_type": "code",
   "execution_count": 4,
   "metadata": {
    "deletable": false,
    "editable": false,
    "nbgrader": {
     "checksum": "34b998da91a8a1b1889bbb2e78a94ae3",
     "grade": false,
     "grade_id": "cell-31297e7068c5831f",
     "locked": true,
     "schema_version": 1,
     "solution": false
    }
   },
   "outputs": [
    {
     "data": {
      "text/html": [
       "<div>\n",
       "<style scoped>\n",
       "    .dataframe tbody tr th:only-of-type {\n",
       "        vertical-align: middle;\n",
       "    }\n",
       "\n",
       "    .dataframe tbody tr th {\n",
       "        vertical-align: top;\n",
       "    }\n",
       "\n",
       "    .dataframe thead th {\n",
       "        text-align: right;\n",
       "    }\n",
       "</style>\n",
       "<table border=\"1\" class=\"dataframe\">\n",
       "  <thead>\n",
       "    <tr style=\"text-align: right;\">\n",
       "      <th></th>\n",
       "      <th>id</th>\n",
       "      <th>funded_amount</th>\n",
       "      <th>currency</th>\n",
       "      <th>term_in_months</th>\n",
       "    </tr>\n",
       "  </thead>\n",
       "  <tbody>\n",
       "    <tr>\n",
       "      <th>0</th>\n",
       "      <td>658776</td>\n",
       "      <td>1000.0</td>\n",
       "      <td>USD</td>\n",
       "      <td>20.0</td>\n",
       "    </tr>\n",
       "    <tr>\n",
       "      <th>1</th>\n",
       "      <td>1314847</td>\n",
       "      <td>225.0</td>\n",
       "      <td>PHP</td>\n",
       "      <td>13.0</td>\n",
       "    </tr>\n",
       "  </tbody>\n",
       "</table>\n",
       "</div>"
      ],
      "text/plain": [
       "        id  funded_amount currency  term_in_months\n",
       "0   658776         1000.0      USD            20.0\n",
       "1  1314847          225.0      PHP            13.0"
      ]
     },
     "execution_count": 4,
     "metadata": {},
     "output_type": "execute_result"
    }
   ],
   "source": [
    "financials = pd.read_csv('data/kiva/financials.csv')\n",
    "financials.head(2)"
   ]
  },
  {
   "cell_type": "code",
   "execution_count": 5,
   "metadata": {
    "deletable": false,
    "editable": false,
    "nbgrader": {
     "checksum": "873db2e2d1073657b50c522524b43852",
     "grade": false,
     "grade_id": "cell-2ebb50994101b895",
     "locked": true,
     "schema_version": 1,
     "solution": false
    }
   },
   "outputs": [
    {
     "data": {
      "text/html": [
       "<div>\n",
       "<style scoped>\n",
       "    .dataframe tbody tr th:only-of-type {\n",
       "        vertical-align: middle;\n",
       "    }\n",
       "\n",
       "    .dataframe tbody tr th {\n",
       "        vertical-align: top;\n",
       "    }\n",
       "\n",
       "    .dataframe thead th {\n",
       "        text-align: right;\n",
       "    }\n",
       "</style>\n",
       "<table border=\"1\" class=\"dataframe\">\n",
       "  <thead>\n",
       "    <tr style=\"text-align: right;\">\n",
       "      <th></th>\n",
       "      <th>id</th>\n",
       "      <th>activity</th>\n",
       "      <th>sector</th>\n",
       "      <th>use</th>\n",
       "    </tr>\n",
       "  </thead>\n",
       "  <tbody>\n",
       "    <tr>\n",
       "      <th>0</th>\n",
       "      <td>658776</td>\n",
       "      <td>Vehicle</td>\n",
       "      <td>Personal Use</td>\n",
       "      <td>to purchase a motorcycle in order to travel fr...</td>\n",
       "    </tr>\n",
       "    <tr>\n",
       "      <th>1</th>\n",
       "      <td>1314847</td>\n",
       "      <td>Pigs</td>\n",
       "      <td>Agriculture</td>\n",
       "      <td>to buy feed and other supplies like vitamins t...</td>\n",
       "    </tr>\n",
       "  </tbody>\n",
       "</table>\n",
       "</div>"
      ],
      "text/plain": [
       "        id activity        sector  \\\n",
       "0   658776  Vehicle  Personal Use   \n",
       "1  1314847     Pigs   Agriculture   \n",
       "\n",
       "                                                 use  \n",
       "0  to purchase a motorcycle in order to travel fr...  \n",
       "1  to buy feed and other supplies like vitamins t...  "
      ]
     },
     "execution_count": 5,
     "metadata": {},
     "output_type": "execute_result"
    }
   ],
   "source": [
    "use = pd.read_csv('data/kiva/use.csv')\n",
    "use.head(2)"
   ]
  },
  {
   "cell_type": "markdown",
   "metadata": {
    "deletable": false,
    "editable": false,
    "nbgrader": {
     "checksum": "09549fec7eac7da2e6865c8b826fe478",
     "grade": false,
     "grade_id": "cell-8a1101ef968bdddd",
     "locked": true,
     "schema_version": 1,
     "solution": false
    }
   },
   "source": [
    "[Back to top](#Index:) \n",
    "\n",
    "### Problem 1\n",
    "\n",
    "#### Kenyan Loan Amounts\n",
    "\n",
    "**5 Points**\n",
    "\n",
    "Use the `demographics` and `financials` data to determine the average loan amount for the country Kenya.  Save your response as a float to `ans1` below."
   ]
  },
  {
   "cell_type": "code",
   "execution_count": 6,
   "metadata": {},
   "outputs": [
    {
     "data": {
      "text/plain": [
       "funded_amount    443.472344\n",
       "dtype: float64"
      ]
     },
     "execution_count": 6,
     "metadata": {},
     "output_type": "execute_result"
    }
   ],
   "source": [
    "geofin = pd.merge(left = demographics, right = financials, on = 'id')\n",
    "geofin.query('country == \"Kenya\"')[['funded_amount']].agg('mean')\n"
   ]
  },
  {
   "cell_type": "code",
   "execution_count": 7,
   "metadata": {
    "deletable": false,
    "nbgrader": {
     "checksum": "165041062bdc4a209424402edf0ec692",
     "grade": false,
     "grade_id": "cell-30ba4362a6bbb79d",
     "locked": false,
     "schema_version": 1,
     "solution": true
    }
   },
   "outputs": [
    {
     "name": "stdout",
     "output_type": "stream",
     "text": [
      "443.4723441615452\n",
      "<class 'numpy.float64'>\n"
     ]
    }
   ],
   "source": [
    "### GRADED\n",
    "\n",
    "ans1 = None\n",
    "\n",
    "# YOUR CODE HERE\n",
    "#raise NotImplementedError()\n",
    "geofin = pd.merge(left = demographics, right = financials, on = 'id')\n",
    "ans1 = geofin.query('country == \"Kenya\"')[['funded_amount']].agg('mean').values[0]\n",
    "# Answer check\n",
    "print(ans1)\n",
    "print(type(ans1))"
   ]
  },
  {
   "cell_type": "code",
   "execution_count": null,
   "metadata": {
    "deletable": false,
    "editable": false,
    "nbgrader": {
     "checksum": "eecda4b53023ee32754fe61ebece4713",
     "grade": true,
     "grade_id": "cell-3c3e3fda1e1b70e8",
     "locked": true,
     "points": 2,
     "schema_version": 1,
     "solution": false
    }
   },
   "outputs": [],
   "source": []
  },
  {
   "cell_type": "markdown",
   "metadata": {
    "deletable": false,
    "editable": false,
    "nbgrader": {
     "checksum": "c810e563136dc9a1785b3d564d888306",
     "grade": false,
     "grade_id": "cell-850d79c95dd9419a",
     "locked": true,
     "schema_version": 1,
     "solution": false
    }
   },
   "source": [
    "[Back to top](#Index:) \n",
    "\n",
    "### Problem 2\n",
    "\n",
    "### El Salvador Top Sector\n",
    "\n",
    "**5 Points**\n",
    "\n",
    "Use the `demographics` and `use` datasets to determine the sector of work that received the most loans in El Salvador.  Assign your result as a string to `ans2` below."
   ]
  },
  {
   "cell_type": "code",
   "execution_count": 8,
   "metadata": {},
   "outputs": [
    {
     "data": {
      "text/plain": [
       "0        Agriculture\n",
       "5               Food\n",
       "10            Retail\n",
       "7            Housing\n",
       "11          Services\n",
       "2           Clothing\n",
       "8      Manufacturing\n",
       "9       Personal Use\n",
       "1               Arts\n",
       "12    Transportation\n",
       "3       Construction\n",
       "6             Health\n",
       "4          Education\n",
       "Name: sector, dtype: object"
      ]
     },
     "execution_count": 8,
     "metadata": {},
     "output_type": "execute_result"
    }
   ],
   "source": [
    "geofinuse = pd.merge(left = geofin, right = use, on = 'id')\n",
    "geofinuse.query('country == \"El Salvador\"').groupby('sector')[['funded_amount']].agg('sum').reset_index().sort_values(by='funded_amount',ascending=False)['sector']\n"
   ]
  },
  {
   "cell_type": "code",
   "execution_count": 39,
   "metadata": {},
   "outputs": [
    {
     "data": {
      "text/plain": [
       "'Personal Housing Expenses'"
      ]
     },
     "execution_count": 39,
     "metadata": {},
     "output_type": "execute_result"
    }
   ],
   "source": [
    "pd.merge(demographics.loc[demographics['country'] == 'El Salvador'], use, on = 'id')['activity'].value_counts()\n",
    "geofinuse.query('country == \"El Salvador\"').groupby('activity').count().sort_values(by='id',ascending=False).index[0]"
   ]
  },
  {
   "cell_type": "code",
   "execution_count": null,
   "metadata": {},
   "outputs": [],
   "source": []
  },
  {
   "cell_type": "code",
   "execution_count": 40,
   "metadata": {
    "deletable": false,
    "nbgrader": {
     "checksum": "3cd2370daacbb97613a0f6512a91929b",
     "grade": false,
     "grade_id": "cell-4037ebf501493e72",
     "locked": false,
     "schema_version": 1,
     "solution": true
    }
   },
   "outputs": [
    {
     "name": "stdout",
     "output_type": "stream",
     "text": [
      "Personal Housing Expenses\n",
      "<class 'str'>\n"
     ]
    }
   ],
   "source": [
    "### GRADED\n",
    "\n",
    "ans2 = None\n",
    "\n",
    "# YOUR CODE HERE\n",
    "#raise NotImplementedError()\n",
    "geofinuse = pd.merge(left = geofin, right = use, on = 'id')\n",
    "ans2 = geofinuse.query('country == \"El Salvador\"').groupby('activity').count().sort_values(by='id',ascending=False).index[0]\n",
    "\n",
    "# Answer check\n",
    "print(ans2)\n",
    "print(type(ans2))"
   ]
  },
  {
   "cell_type": "code",
   "execution_count": null,
   "metadata": {
    "deletable": false,
    "editable": false,
    "nbgrader": {
     "checksum": "aa1812e7d047531cc90668db5e0da8e5",
     "grade": true,
     "grade_id": "cell-2bf2a356d27da211",
     "locked": true,
     "points": 2,
     "schema_version": 1,
     "solution": false
    }
   },
   "outputs": [],
   "source": []
  },
  {
   "cell_type": "markdown",
   "metadata": {
    "deletable": false,
    "editable": false,
    "nbgrader": {
     "checksum": "a52868e813c41f011d52634fc5025cfd",
     "grade": false,
     "grade_id": "cell-730d7b85d6989699",
     "locked": true,
     "schema_version": 1,
     "solution": false
    }
   },
   "source": [
    "### Problem 3\n",
    "\n",
    "#### Pakistan Loans in Agriculture\n",
    "\n",
    "**5 Points**\n",
    "\n",
    "Combine the `use`, `demographics`, and `financials` data to determine the total amount of loans for Agriculture in Pakistan.  Assign your results as a float to `ans3` below."
   ]
  },
  {
   "cell_type": "code",
   "execution_count": 41,
   "metadata": {},
   "outputs": [
    {
     "data": {
      "text/plain": [
       "array(['Vehicle', 'Pigs', 'Bookstore', 'Photography', 'Fuel/Firewood',\n",
       "       'Tailoring', 'Barber Shop', 'Cereals', 'Farming', 'Clothing Sales',\n",
       "       'Fruits & Vegetables', 'Food Production/Sales',\n",
       "       'Higher education costs', 'General Store', 'Services',\n",
       "       'Construction Supplies', 'Poultry', 'Personal Housing Expenses',\n",
       "       'Personal Products Sales', 'Retail', 'Agriculture',\n",
       "       'Education provider', 'Grocery Store', 'Transportation',\n",
       "       'Home Appliances', 'Crafts', 'Cattle', 'Restaurant',\n",
       "       'Fish Selling', 'Livestock', 'Primary/secondary school costs',\n",
       "       'Beauty Salon', 'Sewing', 'Farm Supplies', 'Cafe', 'Food',\n",
       "       'Clothing', 'Food Stall', 'Personal Medical Expenses', 'Fishing',\n",
       "       'Butcher Shop', 'Cloth & Dressmaking Supplies',\n",
       "       'Secretarial Services', 'Animal Sales', 'Electronics Sales',\n",
       "       'Electrical Goods', 'Plastics Sales', 'Food Market',\n",
       "       'Personal Expenses', 'Land Rental', 'Wedding Expenses', 'Rickshaw',\n",
       "       'Weaving', 'Internet Cafe', 'Cheese Making', 'Property',\n",
       "       'Liquor Store / Off-License', 'Charcoal Sales', 'Dental', 'Pub',\n",
       "       'Embroidery', 'Spare Parts', 'Dairy', 'Natural Medicines',\n",
       "       'Auto Repair', 'Motorcycle Transport', 'Cosmetics Sales',\n",
       "       'Vehicle Repairs', 'Home Energy', 'Waste Management', 'Taxi',\n",
       "       'Construction', 'Textiles', 'Used Clothing', 'Shoe Sales',\n",
       "       'Electronics Repair', 'Hardware', 'Manufacturing',\n",
       "       'Veterinary Sales', 'Used Shoes', 'Flowers', 'Arts',\n",
       "       'Home Products Sales', 'Bakery', 'Phone Accessories', 'Laundry',\n",
       "       'Perfumes', 'Milk Sales', 'Recycling', 'Furniture Making',\n",
       "       'Mobile Phones', 'Renewable Energy Products', 'Beverages',\n",
       "       'Call Center', 'Metal Shop', 'Carpentry', 'Paper Sales',\n",
       "       'Water Distribution', 'Bricks', 'Utilities', 'Jewelry', 'Games',\n",
       "       'Health', 'Motorcycle Repair', 'Hotel', 'Medical Clinic',\n",
       "       'Timber Sales', 'Knitting', 'Phone Use Sales', 'Pharmacy',\n",
       "       'Catering', 'Cleaning Services', 'Entertainment', 'Consumer Goods',\n",
       "       'Musical Instruments', 'Decorations Sales', 'Movie Tapes & DVDs',\n",
       "       'Souvenir Sales', 'Recycled Materials', 'Tourism', 'Cobbler',\n",
       "       'Sporting Good Sales', 'Mobile Transactions', 'Computers',\n",
       "       'Traveling Sales', 'Child Care', 'Office Supplies', 'Cement',\n",
       "       'Quarrying', 'Musical Performance', 'Printing', 'Upholstery',\n",
       "       'Machine Shop', 'Phone Repair', 'Aquaculture', 'Air Conditioning',\n",
       "       'Technology', 'Bookbinding', 'Energy', 'Bicycle Repair',\n",
       "       'Goods Distribution', 'Blacksmith', 'Wholesale', 'Electrician',\n",
       "       'Patchwork', 'Bicycle Sales', 'Computer', 'Party Supplies'],\n",
       "      dtype=object)"
      ]
     },
     "execution_count": 41,
     "metadata": {},
     "output_type": "execute_result"
    }
   ],
   "source": [
    "geofinuse.activity.unique()"
   ]
  },
  {
   "cell_type": "code",
   "execution_count": 43,
   "metadata": {
    "deletable": false,
    "nbgrader": {
     "checksum": "7c177a1b307f0982693190f49aae215f",
     "grade": false,
     "grade_id": "cell-00a00bf68209058f",
     "locked": false,
     "schema_version": 1,
     "solution": true
    }
   },
   "outputs": [
    {
     "name": "stdout",
     "output_type": "stream",
     "text": [
      "1275.0\n",
      "<class 'numpy.float64'>\n"
     ]
    }
   ],
   "source": [
    "### GRADED\n",
    "\n",
    "ans3 = None\n",
    "\n",
    "# YOUR CODE HERE\n",
    "#raise NotImplementedError()\n",
    "ans3 = geofinuse.query('country == \"Pakistan\" and activity == \"Agriculture\"').groupby('activity')[['funded_amount']].agg('sum').reset_index()['funded_amount'][0]\n",
    "\n",
    "# Answer check\n",
    "print(ans3)\n",
    "print(type(ans3))"
   ]
  },
  {
   "cell_type": "code",
   "execution_count": null,
   "metadata": {
    "deletable": false,
    "editable": false,
    "nbgrader": {
     "checksum": "297154e93976736e0282ba22577d449e",
     "grade": true,
     "grade_id": "cell-79780abf2a643093",
     "locked": true,
     "points": 2,
     "schema_version": 1,
     "solution": false
    }
   },
   "outputs": [],
   "source": []
  },
  {
   "cell_type": "markdown",
   "metadata": {
    "deletable": false,
    "editable": false,
    "nbgrader": {
     "checksum": "38cc852afb9c2a01184c161a0a23e74a",
     "grade": false,
     "grade_id": "cell-7241f3c603d05fbb",
     "locked": true,
     "schema_version": 1,
     "solution": false
    }
   },
   "source": [
    "[Back to top](#Index:) \n",
    "\n",
    "### Problem 4\n",
    "\n",
    "#### Top Total Loan Sector\n",
    "\n",
    "**5 Points**\n",
    "\n",
    "\n",
    "What sector received the most total dollars in funding?  Assign your response as a string to `ans4` below."
   ]
  },
  {
   "cell_type": "code",
   "execution_count": 46,
   "metadata": {},
   "outputs": [
    {
     "data": {
      "text/html": [
       "<div>\n",
       "<style scoped>\n",
       "    .dataframe tbody tr th:only-of-type {\n",
       "        vertical-align: middle;\n",
       "    }\n",
       "\n",
       "    .dataframe tbody tr th {\n",
       "        vertical-align: top;\n",
       "    }\n",
       "\n",
       "    .dataframe thead th {\n",
       "        text-align: right;\n",
       "    }\n",
       "</style>\n",
       "<table border=\"1\" class=\"dataframe\">\n",
       "  <thead>\n",
       "    <tr style=\"text-align: right;\">\n",
       "      <th></th>\n",
       "      <th>funded_amount</th>\n",
       "    </tr>\n",
       "    <tr>\n",
       "      <th>activity</th>\n",
       "      <th></th>\n",
       "    </tr>\n",
       "  </thead>\n",
       "  <tbody>\n",
       "    <tr>\n",
       "      <th>Farming</th>\n",
       "      <td>678550.0</td>\n",
       "    </tr>\n",
       "    <tr>\n",
       "      <th>General Store</th>\n",
       "      <td>543600.0</td>\n",
       "    </tr>\n",
       "    <tr>\n",
       "      <th>Agriculture</th>\n",
       "      <td>420940.0</td>\n",
       "    </tr>\n",
       "    <tr>\n",
       "      <th>Retail</th>\n",
       "      <td>359400.0</td>\n",
       "    </tr>\n",
       "    <tr>\n",
       "      <th>Clothing Sales</th>\n",
       "      <td>324825.0</td>\n",
       "    </tr>\n",
       "    <tr>\n",
       "      <th>...</th>\n",
       "      <td>...</td>\n",
       "    </tr>\n",
       "    <tr>\n",
       "      <th>Blacksmith</th>\n",
       "      <td>750.0</td>\n",
       "    </tr>\n",
       "    <tr>\n",
       "      <th>Bicycle Sales</th>\n",
       "      <td>350.0</td>\n",
       "    </tr>\n",
       "    <tr>\n",
       "      <th>Party Supplies</th>\n",
       "      <td>350.0</td>\n",
       "    </tr>\n",
       "    <tr>\n",
       "      <th>Sporting Good Sales</th>\n",
       "      <td>300.0</td>\n",
       "    </tr>\n",
       "    <tr>\n",
       "      <th>Energy</th>\n",
       "      <td>225.0</td>\n",
       "    </tr>\n",
       "  </tbody>\n",
       "</table>\n",
       "<p>148 rows × 1 columns</p>\n",
       "</div>"
      ],
      "text/plain": [
       "                     funded_amount\n",
       "activity                          \n",
       "Farming                   678550.0\n",
       "General Store             543600.0\n",
       "Agriculture               420940.0\n",
       "Retail                    359400.0\n",
       "Clothing Sales            324825.0\n",
       "...                            ...\n",
       "Blacksmith                   750.0\n",
       "Bicycle Sales                350.0\n",
       "Party Supplies               350.0\n",
       "Sporting Good Sales          300.0\n",
       "Energy                       225.0\n",
       "\n",
       "[148 rows x 1 columns]"
      ]
     },
     "execution_count": 46,
     "metadata": {},
     "output_type": "execute_result"
    }
   ],
   "source": [
    "pd.merge(financials, use, on = 'id').groupby('activity')[['funded_amount']].sum().sort_values(by = 'funded_amount', ascending = False)"
   ]
  },
  {
   "cell_type": "code",
   "execution_count": 71,
   "metadata": {},
   "outputs": [
    {
     "data": {
      "text/plain": [
       "'Farming'"
      ]
     },
     "execution_count": 71,
     "metadata": {},
     "output_type": "execute_result"
    }
   ],
   "source": [
    "geofinuse.groupby('activity')[['funded_amount']].agg('sum').sort_values(by='funded_amount',ascending=False).reset_index()['activity'].loc[0]"
   ]
  },
  {
   "cell_type": "code",
   "execution_count": 72,
   "metadata": {
    "deletable": false,
    "nbgrader": {
     "checksum": "0264e4c6cb878f11f88a283c41091dd4",
     "grade": false,
     "grade_id": "cell-a8d7b30a738b7adc",
     "locked": false,
     "schema_version": 1,
     "solution": true
    }
   },
   "outputs": [
    {
     "name": "stdout",
     "output_type": "stream",
     "text": [
      "Farming\n",
      "<class 'str'>\n"
     ]
    }
   ],
   "source": [
    "### GRADED\n",
    "\n",
    "ans4 = None\n",
    "\n",
    "# YOUR CODE HERE\n",
    "#raise NotImplementedError()\n",
    "ans4 = geofinuse.groupby('activity')[['funded_amount']].agg('sum').sort_values(by='funded_amount',ascending=False).reset_index()['activity'].loc[0]\n",
    "\n",
    "# Answer check\n",
    "print(ans4)\n",
    "print(type(ans4))"
   ]
  },
  {
   "cell_type": "code",
   "execution_count": null,
   "metadata": {
    "deletable": false,
    "editable": false,
    "nbgrader": {
     "checksum": "4e7119fc9cdf6018a35a778d2ea3c049",
     "grade": true,
     "grade_id": "cell-c4a056a912aea7e0",
     "locked": true,
     "points": 2,
     "schema_version": 1,
     "solution": false
    }
   },
   "outputs": [],
   "source": []
  },
  {
   "cell_type": "markdown",
   "metadata": {
    "deletable": false,
    "editable": false,
    "nbgrader": {
     "checksum": "4f538ab97bfddd628135077aa246fb7c",
     "grade": false,
     "grade_id": "cell-061672558861bf9e",
     "locked": true,
     "schema_version": 1,
     "solution": false
    }
   },
   "source": [
    "[Back to top](#Index:) \n",
    "\n",
    "### Problem 5\n",
    "\n",
    "#### Top Loan by Lender Amount\n",
    "\n",
    "**5 Points**\n",
    "\n",
    "\n",
    "Note that each loan is a combination of lenders.  Determine which loan sector has the highest ratio of dollar to lender amount.  Assign the sector with the highest ratio as a string to `ans5` below. "
   ]
  },
  {
   "cell_type": "code",
   "execution_count": 74,
   "metadata": {},
   "outputs": [
    {
     "data": {
      "text/html": [
       "<div>\n",
       "<style scoped>\n",
       "    .dataframe tbody tr th:only-of-type {\n",
       "        vertical-align: middle;\n",
       "    }\n",
       "\n",
       "    .dataframe tbody tr th {\n",
       "        vertical-align: top;\n",
       "    }\n",
       "\n",
       "    .dataframe thead th {\n",
       "        text-align: right;\n",
       "    }\n",
       "</style>\n",
       "<table border=\"1\" class=\"dataframe\">\n",
       "  <thead>\n",
       "    <tr style=\"text-align: right;\">\n",
       "      <th></th>\n",
       "      <th>id</th>\n",
       "      <th>country</th>\n",
       "      <th>region</th>\n",
       "      <th>borrower_genders</th>\n",
       "      <th>funded_amount</th>\n",
       "      <th>currency</th>\n",
       "      <th>term_in_months</th>\n",
       "      <th>activity</th>\n",
       "      <th>sector</th>\n",
       "      <th>use</th>\n",
       "      <th>posted_time</th>\n",
       "      <th>funded_time</th>\n",
       "      <th>lender_count</th>\n",
       "      <th>dollar_to_lender_ratio</th>\n",
       "    </tr>\n",
       "  </thead>\n",
       "  <tbody>\n",
       "    <tr>\n",
       "      <th>0</th>\n",
       "      <td>658776</td>\n",
       "      <td>El Salvador</td>\n",
       "      <td>Ciudad El Triunfo</td>\n",
       "      <td>male</td>\n",
       "      <td>1000.0</td>\n",
       "      <td>USD</td>\n",
       "      <td>20.0</td>\n",
       "      <td>Vehicle</td>\n",
       "      <td>Personal Use</td>\n",
       "      <td>to purchase a motorcycle in order to travel fr...</td>\n",
       "      <td>2014-01-17 21:21:10+00:00</td>\n",
       "      <td>2014-02-05 17:57:55+00:00</td>\n",
       "      <td>33</td>\n",
       "      <td>30.303030</td>\n",
       "    </tr>\n",
       "    <tr>\n",
       "      <th>1</th>\n",
       "      <td>1314847</td>\n",
       "      <td>Philippines</td>\n",
       "      <td>Bais, Negros Oriental</td>\n",
       "      <td>female</td>\n",
       "      <td>225.0</td>\n",
       "      <td>PHP</td>\n",
       "      <td>13.0</td>\n",
       "      <td>Pigs</td>\n",
       "      <td>Agriculture</td>\n",
       "      <td>to buy feed and other supplies like vitamins t...</td>\n",
       "      <td>2017-06-07 02:02:41+00:00</td>\n",
       "      <td>2017-06-21 17:10:38+00:00</td>\n",
       "      <td>9</td>\n",
       "      <td>25.000000</td>\n",
       "    </tr>\n",
       "    <tr>\n",
       "      <th>2</th>\n",
       "      <td>863063</td>\n",
       "      <td>Peru</td>\n",
       "      <td>Huarochiri</td>\n",
       "      <td>female, female, female, female, female, female...</td>\n",
       "      <td>1150.0</td>\n",
       "      <td>PEN</td>\n",
       "      <td>6.0</td>\n",
       "      <td>Bookstore</td>\n",
       "      <td>Retail</td>\n",
       "      <td>to buy notebooks, pencils, and pens.</td>\n",
       "      <td>2015-03-27 20:08:04+00:00</td>\n",
       "      <td>2015-04-04 15:01:22+00:00</td>\n",
       "      <td>1</td>\n",
       "      <td>1150.000000</td>\n",
       "    </tr>\n",
       "    <tr>\n",
       "      <th>3</th>\n",
       "      <td>1184347</td>\n",
       "      <td>Armenia</td>\n",
       "      <td>Vanadzor town</td>\n",
       "      <td>female</td>\n",
       "      <td>1700.0</td>\n",
       "      <td>AMD</td>\n",
       "      <td>26.0</td>\n",
       "      <td>Photography</td>\n",
       "      <td>Services</td>\n",
       "      <td>to pay for a new lens for providing photograph...</td>\n",
       "      <td>2016-11-14 07:32:12+00:00</td>\n",
       "      <td>2016-11-25 03:07:13+00:00</td>\n",
       "      <td>47</td>\n",
       "      <td>36.170213</td>\n",
       "    </tr>\n",
       "    <tr>\n",
       "      <th>4</th>\n",
       "      <td>729745</td>\n",
       "      <td>Uganda</td>\n",
       "      <td>Masindi</td>\n",
       "      <td>female</td>\n",
       "      <td>400.0</td>\n",
       "      <td>UGX</td>\n",
       "      <td>8.0</td>\n",
       "      <td>Fuel/Firewood</td>\n",
       "      <td>Retail</td>\n",
       "      <td>to buy  firewood to sell.</td>\n",
       "      <td>2014-06-24 07:35:46+00:00</td>\n",
       "      <td>2014-07-10 16:12:43+00:00</td>\n",
       "      <td>12</td>\n",
       "      <td>33.333333</td>\n",
       "    </tr>\n",
       "    <tr>\n",
       "      <th>...</th>\n",
       "      <td>...</td>\n",
       "      <td>...</td>\n",
       "      <td>...</td>\n",
       "      <td>...</td>\n",
       "      <td>...</td>\n",
       "      <td>...</td>\n",
       "      <td>...</td>\n",
       "      <td>...</td>\n",
       "      <td>...</td>\n",
       "      <td>...</td>\n",
       "      <td>...</td>\n",
       "      <td>...</td>\n",
       "      <td>...</td>\n",
       "      <td>...</td>\n",
       "    </tr>\n",
       "    <tr>\n",
       "      <th>9995</th>\n",
       "      <td>679499</td>\n",
       "      <td>Pakistan</td>\n",
       "      <td>Lahore</td>\n",
       "      <td>female</td>\n",
       "      <td>400.0</td>\n",
       "      <td>PKR</td>\n",
       "      <td>12.0</td>\n",
       "      <td>Fruits &amp; Vegetables</td>\n",
       "      <td>Food</td>\n",
       "      <td>to help her husband buy onions for resale.</td>\n",
       "      <td>2014-03-05 07:05:38+00:00</td>\n",
       "      <td>2014-03-13 01:01:41+00:00</td>\n",
       "      <td>11</td>\n",
       "      <td>36.363636</td>\n",
       "    </tr>\n",
       "    <tr>\n",
       "      <th>9996</th>\n",
       "      <td>873525</td>\n",
       "      <td>Kenya</td>\n",
       "      <td>Machakos</td>\n",
       "      <td>male, male, female, female, male</td>\n",
       "      <td>375.0</td>\n",
       "      <td>KES</td>\n",
       "      <td>14.0</td>\n",
       "      <td>Farming</td>\n",
       "      <td>Agriculture</td>\n",
       "      <td>to buy fertilizer and pesticides to boost his ...</td>\n",
       "      <td>2015-04-22 06:32:13+00:00</td>\n",
       "      <td>NaN</td>\n",
       "      <td>6</td>\n",
       "      <td>62.500000</td>\n",
       "    </tr>\n",
       "    <tr>\n",
       "      <th>9997</th>\n",
       "      <td>917686</td>\n",
       "      <td>Senegal</td>\n",
       "      <td>NaN</td>\n",
       "      <td>female, female</td>\n",
       "      <td>1375.0</td>\n",
       "      <td>XOF</td>\n",
       "      <td>8.0</td>\n",
       "      <td>Fish Selling</td>\n",
       "      <td>Food</td>\n",
       "      <td>buy fish</td>\n",
       "      <td>2015-07-15 11:53:33+00:00</td>\n",
       "      <td>2015-08-14 11:45:40+00:00</td>\n",
       "      <td>44</td>\n",
       "      <td>31.250000</td>\n",
       "    </tr>\n",
       "    <tr>\n",
       "      <th>9998</th>\n",
       "      <td>905789</td>\n",
       "      <td>Philippines</td>\n",
       "      <td>Binalbagan, Negros Occidental</td>\n",
       "      <td>female</td>\n",
       "      <td>450.0</td>\n",
       "      <td>PHP</td>\n",
       "      <td>13.0</td>\n",
       "      <td>General Store</td>\n",
       "      <td>Retail</td>\n",
       "      <td>to buy more groceries to sell.</td>\n",
       "      <td>2015-06-22 07:44:18+00:00</td>\n",
       "      <td>2015-07-14 00:20:45+00:00</td>\n",
       "      <td>11</td>\n",
       "      <td>40.909091</td>\n",
       "    </tr>\n",
       "    <tr>\n",
       "      <th>9999</th>\n",
       "      <td>1216411</td>\n",
       "      <td>Philippines</td>\n",
       "      <td>Carmen, Bohol</td>\n",
       "      <td>female</td>\n",
       "      <td>125.0</td>\n",
       "      <td>PHP</td>\n",
       "      <td>16.0</td>\n",
       "      <td>Personal Housing Expenses</td>\n",
       "      <td>Housing</td>\n",
       "      <td>to buy cement, hollow blocks, GI sheets, sand,...</td>\n",
       "      <td>2017-01-06 06:54:07+00:00</td>\n",
       "      <td>2017-01-08 01:17:28+00:00</td>\n",
       "      <td>1</td>\n",
       "      <td>125.000000</td>\n",
       "    </tr>\n",
       "  </tbody>\n",
       "</table>\n",
       "<p>10000 rows × 14 columns</p>\n",
       "</div>"
      ],
      "text/plain": [
       "           id      country                         region  \\\n",
       "0      658776  El Salvador              Ciudad El Triunfo   \n",
       "1     1314847  Philippines          Bais, Negros Oriental   \n",
       "2      863063         Peru                     Huarochiri   \n",
       "3     1184347      Armenia                  Vanadzor town   \n",
       "4      729745       Uganda                        Masindi   \n",
       "...       ...          ...                            ...   \n",
       "9995   679499     Pakistan                         Lahore   \n",
       "9996   873525        Kenya                       Machakos   \n",
       "9997   917686      Senegal                            NaN   \n",
       "9998   905789  Philippines  Binalbagan, Negros Occidental   \n",
       "9999  1216411  Philippines                  Carmen, Bohol   \n",
       "\n",
       "                                       borrower_genders  funded_amount  \\\n",
       "0                                                  male         1000.0   \n",
       "1                                                female          225.0   \n",
       "2     female, female, female, female, female, female...         1150.0   \n",
       "3                                                female         1700.0   \n",
       "4                                                female          400.0   \n",
       "...                                                 ...            ...   \n",
       "9995                                             female          400.0   \n",
       "9996                   male, male, female, female, male          375.0   \n",
       "9997                                     female, female         1375.0   \n",
       "9998                                             female          450.0   \n",
       "9999                                             female          125.0   \n",
       "\n",
       "     currency  term_in_months                   activity        sector  \\\n",
       "0         USD            20.0                    Vehicle  Personal Use   \n",
       "1         PHP            13.0                       Pigs   Agriculture   \n",
       "2         PEN             6.0                  Bookstore        Retail   \n",
       "3         AMD            26.0                Photography      Services   \n",
       "4         UGX             8.0              Fuel/Firewood        Retail   \n",
       "...       ...             ...                        ...           ...   \n",
       "9995      PKR            12.0        Fruits & Vegetables          Food   \n",
       "9996      KES            14.0                    Farming   Agriculture   \n",
       "9997      XOF             8.0               Fish Selling          Food   \n",
       "9998      PHP            13.0              General Store        Retail   \n",
       "9999      PHP            16.0  Personal Housing Expenses       Housing   \n",
       "\n",
       "                                                    use  \\\n",
       "0     to purchase a motorcycle in order to travel fr...   \n",
       "1     to buy feed and other supplies like vitamins t...   \n",
       "2                  to buy notebooks, pencils, and pens.   \n",
       "3     to pay for a new lens for providing photograph...   \n",
       "4                             to buy  firewood to sell.   \n",
       "...                                                 ...   \n",
       "9995        to help her husband buy onions for resale.    \n",
       "9996  to buy fertilizer and pesticides to boost his ...   \n",
       "9997                                           buy fish   \n",
       "9998                     to buy more groceries to sell.   \n",
       "9999  to buy cement, hollow blocks, GI sheets, sand,...   \n",
       "\n",
       "                    posted_time                funded_time  lender_count  \\\n",
       "0     2014-01-17 21:21:10+00:00  2014-02-05 17:57:55+00:00            33   \n",
       "1     2017-06-07 02:02:41+00:00  2017-06-21 17:10:38+00:00             9   \n",
       "2     2015-03-27 20:08:04+00:00  2015-04-04 15:01:22+00:00             1   \n",
       "3     2016-11-14 07:32:12+00:00  2016-11-25 03:07:13+00:00            47   \n",
       "4     2014-06-24 07:35:46+00:00  2014-07-10 16:12:43+00:00            12   \n",
       "...                         ...                        ...           ...   \n",
       "9995  2014-03-05 07:05:38+00:00  2014-03-13 01:01:41+00:00            11   \n",
       "9996  2015-04-22 06:32:13+00:00                        NaN             6   \n",
       "9997  2015-07-15 11:53:33+00:00  2015-08-14 11:45:40+00:00            44   \n",
       "9998  2015-06-22 07:44:18+00:00  2015-07-14 00:20:45+00:00            11   \n",
       "9999  2017-01-06 06:54:07+00:00  2017-01-08 01:17:28+00:00             1   \n",
       "\n",
       "      dollar_to_lender_ratio  \n",
       "0                  30.303030  \n",
       "1                  25.000000  \n",
       "2                1150.000000  \n",
       "3                  36.170213  \n",
       "4                  33.333333  \n",
       "...                      ...  \n",
       "9995               36.363636  \n",
       "9996               62.500000  \n",
       "9997               31.250000  \n",
       "9998               40.909091  \n",
       "9999              125.000000  \n",
       "\n",
       "[10000 rows x 14 columns]"
      ]
     },
     "execution_count": 74,
     "metadata": {},
     "output_type": "execute_result"
    }
   ],
   "source": [
    "geofinusecrowd = pd.merge(left = geofinuse, right = crowdsource, on = 'id')\n",
    "geofinusecrowd['dollar_to_lender_ratio'] = geofinusecrowd['funded_amount'] / geofinusecrowd['lender_count']\n",
    "geofinusecrowd"
   ]
  },
  {
   "cell_type": "code",
   "execution_count": 78,
   "metadata": {},
   "outputs": [
    {
     "data": {
      "text/plain": [
       "'General Store'"
      ]
     },
     "execution_count": 78,
     "metadata": {},
     "output_type": "execute_result"
    }
   ],
   "source": [
    "geofinusecrowd.groupby('activity')[['dollar_to_lender_ratio']].sum().sort_values('dollar_to_lender_ratio', ascending = False).index[0]\n"
   ]
  },
  {
   "cell_type": "code",
   "execution_count": 81,
   "metadata": {
    "deletable": false,
    "nbgrader": {
     "checksum": "37c3b2045a2863eb84c7119a617708a6",
     "grade": false,
     "grade_id": "cell-1739efe5ab750822",
     "locked": false,
     "schema_version": 1,
     "solution": true
    }
   },
   "outputs": [
    {
     "name": "stdout",
     "output_type": "stream",
     "text": [
      "General Store\n",
      "<class 'str'>\n"
     ]
    }
   ],
   "source": [
    "### GRADED\n",
    "\n",
    "ans5 = None\n",
    "\n",
    "# YOUR CODE HERE\n",
    "#raise NotImplementedError()\n",
    "ans5 = geofinusecrowd.groupby('activity')[['dollar_to_lender_ratio']].agg('sum').sort_values(by='dollar_to_lender_ratio',ascending=False).reset_index()['activity'][0]\n",
    "\n",
    "# Answer check\n",
    "print(ans5)\n",
    "print(type(ans5))"
   ]
  },
  {
   "cell_type": "code",
   "execution_count": null,
   "metadata": {
    "deletable": false,
    "editable": false,
    "nbgrader": {
     "checksum": "2cd8ecac47a902f42d7f070ab40ae6d8",
     "grade": true,
     "grade_id": "cell-95ae34d4661d4478",
     "locked": true,
     "points": 2,
     "schema_version": 1,
     "solution": false
    }
   },
   "outputs": [],
   "source": []
  }
 ],
 "metadata": {
  "kernelspec": {
   "display_name": "Python 3 (ipykernel)",
   "language": "python",
   "name": "python3"
  },
  "language_info": {
   "codemirror_mode": {
    "name": "ipython",
    "version": 3
   },
   "file_extension": ".py",
   "mimetype": "text/x-python",
   "name": "python",
   "nbconvert_exporter": "python",
   "pygments_lexer": "ipython3",
   "version": "3.9.7"
  },
  "widgets": {
   "application/vnd.jupyter.widget-state+json": {
    "state": {},
    "version_major": 2,
    "version_minor": 0
   }
  }
 },
 "nbformat": 4,
 "nbformat_minor": 4
}
