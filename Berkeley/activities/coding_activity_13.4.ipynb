{
 "cells": [
  {
   "cell_type": "markdown",
   "metadata": {
    "deletable": false,
    "editable": false,
    "nbgrader": {
     "cell_type": "markdown",
     "checksum": "52ef12f9fe6e3d388e7d650bd9e5bf5e",
     "grade": false,
     "grade_id": "cell-3a2fb5123ae5c455",
     "locked": true,
     "schema_version": 3,
     "solution": false
    }
   },
   "source": [
    "### Codio Activity 13.4: Decision Boundaries with Two Variables\n",
    "\n",
    "**Expected Time = 60 minutes** \n",
    "\n",
    "**Total Points = 40** \n",
    "\n",
    "In the first examples, your work has utilized a straight vertical line as the decision boundary for logistic regression. This is what a decision boundary looks like with only one feature, however with two features the decision boundary becomes a linear function of the two inputs. In this activity, you will focus on generating functions for these boundaries and show strategies for visualizing these boundaries. \n",
    "\n",
    "#### Index\n",
    "\n",
    "  - [Problem 1](#-Problem-1)\n",
    "  - [Problem 2](#-Problem-2)\n",
    "  - [Problem 3](#-Problem-3)\n",
    "  - [Problem 4](#-Problem-4)"
   ]
  },
  {
   "cell_type": "code",
   "execution_count": 1,
   "metadata": {},
   "outputs": [],
   "source": [
    "import pandas as pd\n",
    "import numpy as np\n",
    "import seaborn as sns\n",
    "import matplotlib.pyplot as plt\n",
    "\n",
    "from sklearn.linear_model import LogisticRegression\n",
    "from sklearn.metrics import accuracy_score, recall_score, precision_score\n",
    "from sklearn.model_selection import train_test_split"
   ]
  },
  {
   "cell_type": "markdown",
   "metadata": {
    "deletable": false,
    "editable": false,
    "nbgrader": {
     "cell_type": "markdown",
     "checksum": "9abaa9f0858e7ba7965f8bfd41e861fa",
     "grade": false,
     "grade_id": "cell-180308aae7d2d7b0",
     "locked": true,
     "schema_version": 3,
     "solution": false
    }
   },
   "source": [
    "### The Data\n",
    "\n",
    "Again, you will use the penguins data from seaborn.  This time, you will use two features -- `flipper_length_mm` and `bill_length_mm` to build a logistic model and visualize the decision boundary.  The data is loaded and visualized below.  "
   ]
  },
  {
   "cell_type": "code",
   "execution_count": 2,
   "metadata": {},
   "outputs": [],
   "source": [
    "penguins = sns.load_dataset('penguins').dropna()\n",
    "penguins = penguins.loc[(penguins['species'] == 'Adelie') | (penguins['species'] == 'Gentoo')]\n",
    "X = penguins.drop('species', axis = 1)[['flipper_length_mm', 'bill_length_mm']]\n",
    "y = np.where(penguins.species == 'Adelie', 0, 1)\n",
    "X_train, X_test, y_train, y_test = train_test_split(X, y, random_state = 42)"
   ]
  },
  {
   "cell_type": "code",
   "execution_count": 3,
   "metadata": {},
   "outputs": [
    {
     "data": {
      "text/html": [
       "<div>\n",
       "<style scoped>\n",
       "    .dataframe tbody tr th:only-of-type {\n",
       "        vertical-align: middle;\n",
       "    }\n",
       "\n",
       "    .dataframe tbody tr th {\n",
       "        vertical-align: top;\n",
       "    }\n",
       "\n",
       "    .dataframe thead th {\n",
       "        text-align: right;\n",
       "    }\n",
       "</style>\n",
       "<table border=\"1\" class=\"dataframe\">\n",
       "  <thead>\n",
       "    <tr style=\"text-align: right;\">\n",
       "      <th></th>\n",
       "      <th>flipper_length_mm</th>\n",
       "      <th>bill_length_mm</th>\n",
       "    </tr>\n",
       "  </thead>\n",
       "  <tbody>\n",
       "    <tr>\n",
       "      <th>0</th>\n",
       "      <td>181.0</td>\n",
       "      <td>39.1</td>\n",
       "    </tr>\n",
       "    <tr>\n",
       "      <th>1</th>\n",
       "      <td>186.0</td>\n",
       "      <td>39.5</td>\n",
       "    </tr>\n",
       "    <tr>\n",
       "      <th>2</th>\n",
       "      <td>195.0</td>\n",
       "      <td>40.3</td>\n",
       "    </tr>\n",
       "    <tr>\n",
       "      <th>4</th>\n",
       "      <td>193.0</td>\n",
       "      <td>36.7</td>\n",
       "    </tr>\n",
       "    <tr>\n",
       "      <th>5</th>\n",
       "      <td>190.0</td>\n",
       "      <td>39.3</td>\n",
       "    </tr>\n",
       "  </tbody>\n",
       "</table>\n",
       "</div>"
      ],
      "text/plain": [
       "   flipper_length_mm  bill_length_mm\n",
       "0              181.0            39.1\n",
       "1              186.0            39.5\n",
       "2              195.0            40.3\n",
       "4              193.0            36.7\n",
       "5              190.0            39.3"
      ]
     },
     "execution_count": 3,
     "metadata": {},
     "output_type": "execute_result"
    }
   ],
   "source": [
    "X.head()"
   ]
  },
  {
   "cell_type": "code",
   "execution_count": 4,
   "metadata": {},
   "outputs": [
    {
     "data": {
      "text/plain": [
       "<AxesSubplot:xlabel='flipper_length_mm', ylabel='bill_length_mm'>"
      ]
     },
     "execution_count": 4,
     "metadata": {},
     "output_type": "execute_result"
    },
    {
     "data": {
      "image/png": "[encoded data removed]",
      "text/plain": [
       "<Figure size 432x288 with 1 Axes>"
      ]
     },
     "metadata": {
      "needs_background": "light"
     },
     "output_type": "display_data"
    }
   ],
   "source": [
    "sns.scatterplot(data = penguins, x = 'flipper_length_mm', y = 'bill_length_mm', hue = 'species')"
   ]
  },
  {
   "cell_type": "markdown",
   "metadata": {
    "deletable": false,
    "editable": false,
    "nbgrader": {
     "cell_type": "markdown",
     "checksum": "e27acc857bb742193c915877db16c799",
     "grade": false,
     "grade_id": "cell-61ccd016c98fc188",
     "locked": true,
     "schema_version": 3,
     "solution": false
    }
   },
   "source": [
    "[Back to top](#-Index)\n",
    "\n",
    "### Problem 1\n",
    "\n",
    "#### A Logistic Model\n",
    "\n",
    "**10 Points**\n",
    "\n",
    "To get started, instantiate a `LogisticRegression` object as `log_reg` below and fit on the training data."
   ]
  },
  {
   "cell_type": "code",
   "execution_count": 5,
   "metadata": {
    "deletable": false,
    "nbgrader": {
     "cell_type": "code",
     "checksum": "5fb2784026d48e4af6ceca6e5d5a05f0",
     "grade": false,
     "grade_id": "cell-2a9e2edd23d53626",
     "locked": false,
     "schema_version": 3,
     "solution": true
    }
   },
   "outputs": [
    {
     "name": "stdout",
     "output_type": "stream",
     "text": [
      "LogisticRegression()\n"
     ]
    }
   ],
   "source": [
    "### GRADED\n",
    "\n",
    "log_reg = ''\n",
    "\n",
    "# YOUR CODE HERE\n",
    "#raise NotImplementedError()\n",
    "log_reg = LogisticRegression().fit(X_train, y_train)\n",
    "\n",
    "# Answer check\n",
    "print(log_reg)"
   ]
  },
  {
   "cell_type": "code",
   "execution_count": null,
   "metadata": {
    "deletable": false,
    "editable": false,
    "nbgrader": {
     "cell_type": "code",
     "checksum": "bb678ea9d7353f5a46ecba99d3c00072",
     "grade": true,
     "grade_id": "cell-5edb70583e600596",
     "locked": true,
     "points": 10,
     "schema_version": 3,
     "solution": false
    }
   },
   "outputs": [],
   "source": []
  },
  {
   "cell_type": "markdown",
   "metadata": {
    "deletable": false,
    "editable": false,
    "nbgrader": {
     "cell_type": "markdown",
     "checksum": "f5ea888e5093bf19c8cfeaad69f9bef7",
     "grade": false,
     "grade_id": "cell-5e0354e412867e85",
     "locked": true,
     "schema_version": 3,
     "solution": false
    }
   },
   "source": [
    "[Back to top](#-Index)\n",
    "\n",
    "### Problem 2\n",
    "\n",
    "#### Examining the coefficients\n",
    "\n",
    "**10 Points**\n",
    "\n",
    "Now, our sigma function looks like:\n",
    "\n",
    "$$\\sigma(x) = \\frac{1}{1 + e^{-z}}$$\n",
    "\n",
    "where\n",
    "\n",
    "$$z = \\beta_0 + \\beta_1 * x_0 + \\beta_2 * x_1.$$\n",
    "\n",
    "Below, assign the coefficients and intercept to `beta_0`, `beta_1` and `beta_2` respectively as floats.  Note that $x_0$ is flipper length.  "
   ]
  },
  {
   "cell_type": "code",
   "execution_count": 6,
   "metadata": {},
   "outputs": [
    {
     "data": {
      "text/plain": [
       "(array([0.61278933, 0.69025164]), -156.05999253205056)"
      ]
     },
     "execution_count": 6,
     "metadata": {},
     "output_type": "execute_result"
    }
   ],
   "source": [
    "log_reg.coef_[0], log_reg.intercept_[0]"
   ]
  },
  {
   "cell_type": "code",
   "execution_count": 7,
   "metadata": {
    "deletable": false,
    "nbgrader": {
     "cell_type": "code",
     "checksum": "0e7f9218ad223be1eeb08a4b775e9e19",
     "grade": false,
     "grade_id": "cell-de41271c6395179d",
     "locked": false,
     "schema_version": 3,
     "solution": true
    }
   },
   "outputs": [
    {
     "name": "stdout",
     "output_type": "stream",
     "text": [
      "z = -156.06 +  0.61x0 +  0.69x1\n"
     ]
    }
   ],
   "source": [
    "### GRADED\n",
    "\n",
    "beta_0 = ''\n",
    "beta_1 = ''\n",
    "beta_2 = ''\n",
    "\n",
    "# YOUR CODE HERE\n",
    "#raise NotImplementedError()\n",
    "beta_0 = log_reg.intercept_[0]\n",
    "beta_1 = log_reg.coef_[0][0]\n",
    "beta_2 = log_reg.coef_[0][1]\n",
    "\n",
    "# Answer check\n",
    "print(f'z = {beta_0: .2f} + {beta_1: .2f}x0 + {beta_2: .2f}x1')"
   ]
  },
  {
   "cell_type": "code",
   "execution_count": null,
   "metadata": {
    "deletable": false,
    "editable": false,
    "nbgrader": {
     "cell_type": "code",
     "checksum": "9b7147e16c362b811a1f7f9a007e94fe",
     "grade": true,
     "grade_id": "cell-ba95f7318397f251",
     "locked": true,
     "points": 10,
     "schema_version": 3,
     "solution": false
    }
   },
   "outputs": [],
   "source": []
  },
  {
   "cell_type": "markdown",
   "metadata": {
    "deletable": false,
    "editable": false,
    "nbgrader": {
     "cell_type": "markdown",
     "checksum": "d672ab0caee67f49cce54615a4215715",
     "grade": false,
     "grade_id": "cell-81c77c9e7339f736",
     "locked": true,
     "schema_version": 3,
     "solution": false
    }
   },
   "source": [
    "[Back to top](#-Index)\n",
    "\n",
    "### Problem 3\n",
    "\n",
    "#### Visualizing the decision boundary\n",
    "\n",
    "**10 Points**\n",
    "\n",
    "<center>\n",
    "    <img src = 'images/dboundary.png' />\n",
    "</center>\n",
    "\n",
    "\n",
    "There is both a brute force and more formal approach for visualizing the decision boundary.  What we won't do is create a grid of points, use the model to make predictions for them, and plot colored regions according to their predicted value. \n",
    "\n",
    "Instead, with two variables we can directly solve for the linear function in terms of $x_0$ and $x_1$, and your $\\beta$'s. Upon doing so we find a linear function defined as: "
   ]
  },
  {
   "cell_type": "markdown",
   "metadata": {
    "deletable": false,
    "editable": false,
    "nbgrader": {
     "cell_type": "markdown",
     "checksum": "b04d3f298f83c0ecf628f049a2c19233",
     "grade": false,
     "grade_id": "cell-e8f4438af8e043b9",
     "locked": true,
     "schema_version": 3,
     "solution": false
    }
   },
   "source": [
    "$$y = -\\frac{\\beta_1}{\\beta_2} * x_0 - \\frac{\\beta_0}{\\beta_2}$$\n",
    "\n",
    "Complete the function `decision_boundary` below that takes in $x_0$ and returns the appropriate value for $y$ based on this formula.  Uncomment the plot to verify your results using the defined `x = np.linspace`."
   ]
  },
  {
   "cell_type": "code",
   "execution_count": 24,
   "metadata": {
    "deletable": false,
    "nbgrader": {
     "cell_type": "code",
     "checksum": "ed43f2b6f1af62a1470f769648724ab0",
     "grade": false,
     "grade_id": "cell-7e6d6568117a8e6b",
     "locked": false,
     "schema_version": 3,
     "solution": true
    }
   },
   "outputs": [
    {
     "name": "stdout",
     "output_type": "stream",
     "text": [
      "79.60829112553546 13.025037666169567\n"
     ]
    }
   ],
   "source": [
    "### GRADED\n",
    "\n",
    "def decision_boundary(x0, beta_0, beta_1, beta_2):\n",
    "    '''\n",
    "    Function returns values for linear decision boundaries\n",
    "    in binary classification setting according to the formula\n",
    "    y = -beta_1/beta_2 * x0 - beta_0/beta_2\n",
    "    \n",
    "    Arguments\n",
    "    ---------\n",
    "    x0: np.array\n",
    "        domain for evaluation of function\n",
    "        \n",
    "    beta_0: float\n",
    "         intercept from fit logistic model\n",
    "    beta_1: float\n",
    "        first coefficient from logistic model\n",
    "    beta_2: float\n",
    "        second coefficient from logistic model\n",
    "    \n",
    "    Returns\n",
    "    -------\n",
    "    np.array\n",
    "        values of y\n",
    "    '''\n",
    "    return None\n",
    "    \n",
    "# YOUR CODE HERE\n",
    "#raise NotImplementedError()\n",
    "def decision_boundary(x0, beta_0, beta_1, beta_2):\n",
    "    return (-beta_1/beta_2 * x0 - beta_0/beta_2)\n",
    "\n",
    "# Answer check\n",
    "x = np.linspace(165, 240, 100)\n",
    "print(decision_boundary(x, beta_0, beta_1, beta_2)[0], decision_boundary(x, beta_0, beta_1, beta_2)[-1])"
   ]
  },
  {
   "cell_type": "code",
   "execution_count": 25,
   "metadata": {},
   "outputs": [
    {
     "data": {
      "text/plain": [
       "array([79.60829113, 78.93573301, 78.26317489, 77.59061678, 76.91805866,\n",
       "       76.24550055, 75.57294243, 74.90038432, 74.2278262 , 73.55526808,\n",
       "       72.88270997, 72.21015185, 71.53759374, 70.86503562, 70.19247751,\n",
       "       69.51991939, 68.84736127, 68.17480316, 67.50224504, 66.82968693,\n",
       "       66.15712881, 65.48457069, 64.81201258, 64.13945446, 63.46689635,\n",
       "       62.79433823, 62.12178012, 61.449222  , 60.77666388, 60.10410577,\n",
       "       59.43154765, 58.75898954, 58.08643142, 57.41387331, 56.74131519,\n",
       "       56.06875707, 55.39619896, 54.72364084, 54.05108273, 53.37852461,\n",
       "       52.7059665 , 52.03340838, 51.36085026, 50.68829215, 50.01573403,\n",
       "       49.34317592, 48.6706178 , 47.99805969, 47.32550157, 46.65294345,\n",
       "       45.98038534, 45.30782722, 44.63526911, 43.96271099, 43.29015287,\n",
       "       42.61759476, 41.94503664, 41.27247853, 40.59992041, 39.9273623 ,\n",
       "       39.25480418, 38.58224606, 37.90968795, 37.23712983, 36.56457172,\n",
       "       35.8920136 , 35.21945549, 34.54689737, 33.87433925, 33.20178114,\n",
       "       32.52922302, 31.85666491, 31.18410679, 30.51154868, 29.83899056,\n",
       "       29.16643244, 28.49387433, 27.82131621, 27.1487581 , 26.47619998,\n",
       "       25.80364187, 25.13108375, 24.45852563, 23.78596752, 23.1134094 ,\n",
       "       22.44085129, 21.76829317, 21.09573506, 20.42317694, 19.75061882,\n",
       "       19.07806071, 18.40550259, 17.73294448, 17.06038636, 16.38782824,\n",
       "       15.71527013, 15.04271201, 14.3701539 , 13.69759578, 13.02503767])"
      ]
     },
     "execution_count": 25,
     "metadata": {},
     "output_type": "execute_result"
    }
   ],
   "source": [
    "decision_boundary(x, beta_0, beta_1, beta_2)"
   ]
  },
  {
   "cell_type": "code",
   "execution_count": 26,
   "metadata": {},
   "outputs": [
    {
     "data": {
      "text/plain": [
       "array([165.        , 165.75757576, 166.51515152, 167.27272727,\n",
       "       168.03030303, 168.78787879, 169.54545455, 170.3030303 ,\n",
       "       171.06060606, 171.81818182, 172.57575758, 173.33333333,\n",
       "       174.09090909, 174.84848485, 175.60606061, 176.36363636,\n",
       "       177.12121212, 177.87878788, 178.63636364, 179.39393939,\n",
       "       180.15151515, 180.90909091, 181.66666667, 182.42424242,\n",
       "       183.18181818, 183.93939394, 184.6969697 , 185.45454545,\n",
       "       186.21212121, 186.96969697, 187.72727273, 188.48484848,\n",
       "       189.24242424, 190.        , 190.75757576, 191.51515152,\n",
       "       192.27272727, 193.03030303, 193.78787879, 194.54545455,\n",
       "       195.3030303 , 196.06060606, 196.81818182, 197.57575758,\n",
       "       198.33333333, 199.09090909, 199.84848485, 200.60606061,\n",
       "       201.36363636, 202.12121212, 202.87878788, 203.63636364,\n",
       "       204.39393939, 205.15151515, 205.90909091, 206.66666667,\n",
       "       207.42424242, 208.18181818, 208.93939394, 209.6969697 ,\n",
       "       210.45454545, 211.21212121, 211.96969697, 212.72727273,\n",
       "       213.48484848, 214.24242424, 215.        , 215.75757576,\n",
       "       216.51515152, 217.27272727, 218.03030303, 218.78787879,\n",
       "       219.54545455, 220.3030303 , 221.06060606, 221.81818182,\n",
       "       222.57575758, 223.33333333, 224.09090909, 224.84848485,\n",
       "       225.60606061, 226.36363636, 227.12121212, 227.87878788,\n",
       "       228.63636364, 229.39393939, 230.15151515, 230.90909091,\n",
       "       231.66666667, 232.42424242, 233.18181818, 233.93939394,\n",
       "       234.6969697 , 235.45454545, 236.21212121, 236.96969697,\n",
       "       237.72727273, 238.48484848, 239.24242424, 240.        ])"
      ]
     },
     "execution_count": 26,
     "metadata": {},
     "output_type": "execute_result"
    }
   ],
   "source": [
    "x"
   ]
  },
  {
   "cell_type": "code",
   "execution_count": 27,
   "metadata": {},
   "outputs": [
    {
     "data": {
      "text/plain": [
       "<matplotlib.collections.PolyCollection at 0x7f0d7247e9a0>"
      ]
     },
     "execution_count": 27,
     "metadata": {},
     "output_type": "execute_result"
    },
    {
     "data": {
      "image/png": "[encoded data removed]",
      "text/plain": [
       "<Figure size 432x288 with 1 Axes>"
      ]
     },
     "metadata": {
      "needs_background": "light"
     },
     "output_type": "display_data"
    }
   ],
   "source": [
    "# code for figure\n",
    "#x = np.linspace(165, 240, 100)\n",
    "sns.scatterplot(data = penguins, x = 'flipper_length_mm', y = 'bill_length_mm', hue = 'species')\n",
    "plt.plot(x, decision_boundary(x, beta_0, beta_1, beta_2), '--', color = 'red')\n",
    "plt.ylim(25, 65)\n",
    "plt.fill_between(x, decision_boundary(x, beta_0, beta_1, beta_2), alpha = 0.3, color = 'lightblue')\n",
    "plt.fill_between(x, decision_boundary(x, beta_0, beta_1, beta_2), np.repeat(70, 100), alpha = 0.3)"
   ]
  },
  {
   "cell_type": "code",
   "execution_count": null,
   "metadata": {
    "deletable": false,
    "editable": false,
    "nbgrader": {
     "cell_type": "code",
     "checksum": "47d84576642018fcb06dc6ba74385130",
     "grade": true,
     "grade_id": "cell-6713f398a08b64d4",
     "locked": true,
     "points": 10,
     "schema_version": 3,
     "solution": false
    }
   },
   "outputs": [],
   "source": []
  },
  {
   "cell_type": "markdown",
   "metadata": {
    "deletable": false,
    "editable": false,
    "nbgrader": {
     "cell_type": "markdown",
     "checksum": "5983bbb73846ec6d00254c6e48d80eb6",
     "grade": false,
     "grade_id": "cell-769e80a3f0f16a66",
     "locked": true,
     "schema_version": 3,
     "solution": false
    }
   },
   "source": [
    "[Back to top](#-Index)\n",
    "\n",
    "### Problem 4\n",
    "\n",
    "#### Comparing regressors\n",
    "\n",
    "**10 Points**\n",
    "\n",
    "Now, fit a second regressor using the argument `C = 0.001`. Compare the decision boundary by using what you've seen earlier. How did the decision boundary change based on this?  The slope of the new decision boundary should either be more or less than the default settings.  Assign your answer as a string -- `greater than` or `less than` to `ans4` below\n",
    "\n"
   ]
  },
  {
   "cell_type": "code",
   "execution_count": 28,
   "metadata": {},
   "outputs": [],
   "source": [
    "log_reg2 = LogisticRegression(C = 0.001).fit(X_train, y_train)\n",
    "beta2_0 = log_reg2.intercept_[0]\n",
    "beta2_1 = log_reg2.coef_[0][0]\n",
    "beta2_2 = log_reg2.coef_[0][1]"
   ]
  },
  {
   "cell_type": "code",
   "execution_count": 31,
   "metadata": {},
   "outputs": [
    {
     "data": {
      "text/plain": [
       "<matplotlib.collections.PolyCollection at 0x7f0d723b5f70>"
      ]
     },
     "execution_count": 31,
     "metadata": {},
     "output_type": "execute_result"
    },
    {
     "data": {
      "image/png": "[encoded data removed]",
      "text/plain": [
       "<Figure size 432x288 with 1 Axes>"
      ]
     },
     "metadata": {
      "needs_background": "light"
     },
     "output_type": "display_data"
    }
   ],
   "source": [
    "#plot\n",
    "sns.scatterplot(data = penguins, x = 'flipper_length_mm', y = 'bill_length_mm', hue = 'species')\n",
    "plt.plot(x, decision_boundary(x, beta2_0, beta2_1, beta2_2), '--', color = 'yellow')\n",
    "plt.plot(x, decision_boundary(x, beta_0, beta_1, beta_2), '--', color = 'red')\n",
    "plt.ylim(25, 65)\n",
    "plt.fill_between(x, decision_boundary(x, beta2_0, beta2_1, beta2_2), alpha = 0.3, color = 'lightblue')\n",
    "plt.fill_between(x, decision_boundary(x, beta2_0, beta2_1, beta2_2), np.repeat(70, 100), alpha = 0.3)"
   ]
  },
  {
   "cell_type": "code",
   "execution_count": 32,
   "metadata": {},
   "outputs": [
    {
     "data": {
      "text/plain": [
       "array([79.60829113, 78.93573301, 78.26317489, 77.59061678, 76.91805866,\n",
       "       76.24550055, 75.57294243, 74.90038432, 74.2278262 , 73.55526808,\n",
       "       72.88270997, 72.21015185, 71.53759374, 70.86503562, 70.19247751,\n",
       "       69.51991939, 68.84736127, 68.17480316, 67.50224504, 66.82968693,\n",
       "       66.15712881, 65.48457069, 64.81201258, 64.13945446, 63.46689635,\n",
       "       62.79433823, 62.12178012, 61.449222  , 60.77666388, 60.10410577,\n",
       "       59.43154765, 58.75898954, 58.08643142, 57.41387331, 56.74131519,\n",
       "       56.06875707, 55.39619896, 54.72364084, 54.05108273, 53.37852461,\n",
       "       52.7059665 , 52.03340838, 51.36085026, 50.68829215, 50.01573403,\n",
       "       49.34317592, 48.6706178 , 47.99805969, 47.32550157, 46.65294345,\n",
       "       45.98038534, 45.30782722, 44.63526911, 43.96271099, 43.29015287,\n",
       "       42.61759476, 41.94503664, 41.27247853, 40.59992041, 39.9273623 ,\n",
       "       39.25480418, 38.58224606, 37.90968795, 37.23712983, 36.56457172,\n",
       "       35.8920136 , 35.21945549, 34.54689737, 33.87433925, 33.20178114,\n",
       "       32.52922302, 31.85666491, 31.18410679, 30.51154868, 29.83899056,\n",
       "       29.16643244, 28.49387433, 27.82131621, 27.1487581 , 26.47619998,\n",
       "       25.80364187, 25.13108375, 24.45852563, 23.78596752, 23.1134094 ,\n",
       "       22.44085129, 21.76829317, 21.09573506, 20.42317694, 19.75061882,\n",
       "       19.07806071, 18.40550259, 17.73294448, 17.06038636, 16.38782824,\n",
       "       15.71527013, 15.04271201, 14.3701539 , 13.69759578, 13.02503767])"
      ]
     },
     "execution_count": 32,
     "metadata": {},
     "output_type": "execute_result"
    }
   ],
   "source": [
    "decision_boundary(x, beta_0, beta_1, beta_2)"
   ]
  },
  {
   "cell_type": "code",
   "execution_count": 33,
   "metadata": {},
   "outputs": [
    {
     "data": {
      "text/plain": [
       "array([157.26640499, 155.06793189, 152.86945879, 150.67098568,\n",
       "       148.47251258, 146.27403948, 144.07556638, 141.87709328,\n",
       "       139.67862018, 137.48014708, 135.28167398, 133.08320088,\n",
       "       130.88472778, 128.68625468, 126.48778158, 124.28930848,\n",
       "       122.09083538, 119.89236228, 117.69388918, 115.49541608,\n",
       "       113.29694297, 111.09846987, 108.89999677, 106.70152367,\n",
       "       104.50305057, 102.30457747, 100.10610437,  97.90763127,\n",
       "        95.70915817,  93.51068507,  91.31221197,  89.11373887,\n",
       "        86.91526577,  84.71679267,  82.51831957,  80.31984647,\n",
       "        78.12137336,  75.92290026,  73.72442716,  71.52595406,\n",
       "        69.32748096,  67.12900786,  64.93053476,  62.73206166,\n",
       "        60.53358856,  58.33511546,  56.13664236,  53.93816926,\n",
       "        51.73969616,  49.54122306,  47.34274996,  45.14427686,\n",
       "        42.94580375,  40.74733065,  38.54885755,  36.35038445,\n",
       "        34.15191135,  31.95343825,  29.75496515,  27.55649205,\n",
       "        25.35801895,  23.15954585,  20.96107275,  18.76259965,\n",
       "        16.56412655,  14.36565345,  12.16718035,   9.96870725,\n",
       "         7.77023415,   5.57176104,   3.37328794,   1.17481484,\n",
       "        -1.02365826,  -3.22213136,  -5.42060446,  -7.61907756,\n",
       "        -9.81755066, -12.01602376, -14.21449686, -16.41296996,\n",
       "       -18.61144306, -20.80991616, -23.00838926, -25.20686236,\n",
       "       -27.40533546, -29.60380857, -31.80228167, -34.00075477,\n",
       "       -36.19922787, -38.39770097, -40.59617407, -42.79464717,\n",
       "       -44.99312027, -47.19159337, -49.39006647, -51.58853957,\n",
       "       -53.78701267, -55.98548577, -58.18395887, -60.38243197])"
      ]
     },
     "execution_count": 33,
     "metadata": {},
     "output_type": "execute_result"
    }
   ],
   "source": [
    "decision_boundary(x, beta2_0, beta2_1, beta2_2)"
   ]
  },
  {
   "cell_type": "code",
   "execution_count": 34,
   "metadata": {
    "deletable": false,
    "nbgrader": {
     "cell_type": "code",
     "checksum": "0770a11cbcf904620be9bf545009dce9",
     "grade": false,
     "grade_id": "cell-66dfc51fc45c7a0f",
     "locked": false,
     "schema_version": 3,
     "solution": true
    }
   },
   "outputs": [
    {
     "name": "stdout",
     "output_type": "stream",
     "text": [
      "greater than\n"
     ]
    }
   ],
   "source": [
    "### GRADED\n",
    "\n",
    "ans4 = ''\n",
    "\n",
    "# YOUR CODE HERE\n",
    "#raise NotImplementedError()\n",
    "ans4 = 'greater than'\n",
    "\n",
    "# Answer check\n",
    "print(ans4)"
   ]
  },
  {
   "cell_type": "code",
   "execution_count": null,
   "metadata": {
    "deletable": false,
    "editable": false,
    "nbgrader": {
     "cell_type": "code",
     "checksum": "6f43b17006e110536501b39325cce6e8",
     "grade": true,
     "grade_id": "cell-d0c153c049b09fc1",
     "locked": true,
     "points": 10,
     "schema_version": 3,
     "solution": false
    }
   },
   "outputs": [],
   "source": []
  }
 ],
 "metadata": {
  "kernelspec": {
   "display_name": "Python 3 (ipykernel)",
   "language": "python",
   "name": "python3"
  },
  "language_info": {
   "codemirror_mode": {
    "name": "ipython",
    "version": 3
   },
   "file_extension": ".py",
   "mimetype": "text/x-python",
   "name": "python",
   "nbconvert_exporter": "python",
   "pygments_lexer": "ipython3",
   "version": "3.9.7"
  },
  "widgets": {
   "application/vnd.jupyter.widget-state+json": {
    "state": {},
    "version_major": 2,
    "version_minor": 0
   }
  }
 },
 "nbformat": 4,
 "nbformat_minor": 4
}
