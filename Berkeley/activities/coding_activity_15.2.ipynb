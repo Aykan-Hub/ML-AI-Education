{
 "cells": [
  {
   "cell_type": "markdown",
   "metadata": {
    "deletable": false,
    "editable": false,
    "id": "Y4QRq3M_Ml7I",
    "nbgrader": {
     "cell_type": "markdown",
     "checksum": "c5b76349c7a37041df5f4c28635dfc38",
     "grade": false,
     "grade_id": "cell-50b74faf363760d1",
     "locked": true,
     "schema_version": 3,
     "solution": false
    }
   },
   "source": [
    "### Codio Activity 15.2: Gradient Descent by Hand\n",
    "\n",
    "**Expected Time = 60 minutes**\n",
    "\n",
    "**Total Points = 45**\n",
    "\n",
    "This activity focuses on computing the minimum of a function using gradient descent.  Following the examples in the lectures, you will compare the effect of adjusting the step size and the starting point.  The beginning of the work was started in the last activity where one step of size 0.1 was taken.  In this assignment you will complete the work using the update formula provided in the lectures.\n",
    "\n",
    "#### Index\n",
    "\n",
    "- [Problem 1](#-Problem-1)\n",
    "- [Problem 2](#-Problem-2)\n",
    "- [Problem 3](#-Problem-3)\n",
    "- [Problem 4](#-Problem-4)\n",
    "- [Problem 5](#-Problem-5)"
   ]
  },
  {
   "cell_type": "code",
   "execution_count": 1,
   "metadata": {
    "executionInfo": {
     "elapsed": 1137,
     "status": "ok",
     "timestamp": 1645664761493,
     "user": {
      "displayName": "Jacob Koehler",
      "photoUrl": "https://lh3.googleusercontent.com/a/default-user=s64",
      "userId": "12300099689640094899"
     },
     "user_tz": 300
    },
    "id": "J8Uupi0HMl7M"
   },
   "outputs": [],
   "source": [
    "import numpy as np\n",
    "import pandas as pd\n",
    "import plotly.express as px\n",
    "import matplotlib.pyplot as plt"
   ]
  },
  {
   "cell_type": "markdown",
   "metadata": {
    "deletable": false,
    "editable": false,
    "id": "Iqj6dkrRMl7N",
    "nbgrader": {
     "cell_type": "markdown",
     "checksum": "1b43c932c207053d32fe6a9ce6fdfd9c",
     "grade": false,
     "grade_id": "cell-f5637b2991a19241",
     "locked": true,
     "schema_version": 3,
     "solution": false
    }
   },
   "source": [
    "#### Gradient Descent Formula\n",
    "\n",
    "Below is the formula for the gradient descent algorithm.  Note that you need three key ingredients:\n",
    "\n",
    "- $x_{prev}$: Initial x-value\n",
    "- $df$: Derivative of function interested in optimizing\n",
    "- $\\alpha$: Step size\n",
    "\n",
    "These are used to update the previous $x$ value as follows:\n",
    "\n",
    "$$x_{next} = x_{prev} - \\alpha * df(x_{prev})$$\n",
    "\n",
    "Once updated, the $x_{next}$ becomes $x_{prev}$ and the process is repeated until a minimum is found.  "
   ]
  },
  {
   "cell_type": "markdown",
   "metadata": {
    "deletable": false,
    "editable": false,
    "id": "uuVuEUUsURvF",
    "nbgrader": {
     "cell_type": "markdown",
     "checksum": "06e55e57564f2b774df515e9a43d9f9c",
     "grade": false,
     "grade_id": "cell-effb284a71214fd7",
     "locked": true,
     "schema_version": 3,
     "solution": false
    }
   },
   "source": [
    "[Back to top](#-Index)\n",
    "\n",
    "### Problem 1\n",
    "\n",
    "#### Examining the Function\n",
    "\n",
    "To begin, define a function $f(x) = x^2$ and a domain $x = [-2, 2]$.  Plot the function and identify whether a maximum or minimum value exists.\n",
    "\n",
    "**10 Points**"
   ]
  },
  {
   "cell_type": "code",
   "execution_count": 2,
   "metadata": {
    "colab": {
     "base_uri": "https://localhost:8080/",
     "height": 265
    },
    "deletable": false,
    "executionInfo": {
     "elapsed": 385,
     "status": "ok",
     "timestamp": 1645664856874,
     "user": {
      "displayName": "Jacob Koehler",
      "photoUrl": "https://lh3.googleusercontent.com/a/default-user=s64",
      "userId": "12300099689640094899"
     },
     "user_tz": 300
    },
    "id": "uEemtPoIMl7O",
    "nbgrader": {
     "cell_type": "code",
     "checksum": "25d836a2b1c908e06d068657560b9276",
     "grade": false,
     "grade_id": "cell-e8e1a12ec52abfb0",
     "locked": false,
     "schema_version": 3,
     "solution": true
    },
    "outputId": "496c8414-c0cb-41bc-9b45-4bdbbfed3029"
   },
   "outputs": [
    {
     "data": {
      "image/png": "[encoded data removed]",
      "text/plain": [
       "<Figure size 432x288 with 1 Axes>"
      ]
     },
     "metadata": {
      "needs_background": "light"
     },
     "output_type": "display_data"
    }
   ],
   "source": [
    "### GRADED\n",
    "\n",
    "def f(x):\n",
    "    pass\n",
    "x = ''\n",
    "# YOUR CODE HERE\n",
    "#raise NotImplementedError()\n",
    "def f(x):\n",
    "    return x**2\n",
    "x = np.linspace(-2,2,100)\n",
    "\n",
    "# Answer check\n",
    "plt.plot(x, f(x), label = 'f')\n",
    "plt.legend();"
   ]
  },
  {
   "cell_type": "code",
   "execution_count": null,
   "metadata": {
    "deletable": false,
    "editable": false,
    "executionInfo": {
     "elapsed": 204,
     "status": "ok",
     "timestamp": 1645664857075,
     "user": {
      "displayName": "Jacob Koehler",
      "photoUrl": "https://lh3.googleusercontent.com/a/default-user=s64",
      "userId": "12300099689640094899"
     },
     "user_tz": 300
    },
    "id": "BFFciv48Ml7O",
    "nbgrader": {
     "cell_type": "code",
     "checksum": "2f2e340d29a168979b1064613a15a9b7",
     "grade": true,
     "grade_id": "cell-d8f82428c07948ae",
     "locked": true,
     "points": 10,
     "schema_version": 3,
     "solution": false
    }
   },
   "outputs": [],
   "source": []
  },
  {
   "cell_type": "markdown",
   "metadata": {
    "deletable": false,
    "editable": false,
    "id": "RhP0BzGKUhSo",
    "nbgrader": {
     "cell_type": "markdown",
     "checksum": "1677867b8bb61404379ec20773cfab36",
     "grade": false,
     "grade_id": "cell-0544b01e9c489f38",
     "locked": true,
     "schema_version": 3,
     "solution": false
    }
   },
   "source": [
    "[Back to top](#-Index)\n",
    "\n",
    "### Problem 2\n",
    "\n",
    "#### Taking a step\n",
    "\n",
    "**5 Points**\n",
    "\n",
    "Now, use the function `df` below to approximate the value of a derivative of $f$. Use the formula for gradient descent to compute the next value of $x$ given the starting point `x0` and `step_size = 0.1`.\n",
    "\n",
    "$$x_{1} = x_{0} - \\alpha * df(x_{0})$$"
   ]
  },
  {
   "cell_type": "code",
   "execution_count": 3,
   "metadata": {
    "executionInfo": {
     "elapsed": 2,
     "status": "ok",
     "timestamp": 1645664857675,
     "user": {
      "displayName": "Jacob Koehler",
      "photoUrl": "https://lh3.googleusercontent.com/a/default-user=s64",
      "userId": "12300099689640094899"
     },
     "user_tz": 300
    },
    "id": "9QVl8j-OVXxB"
   },
   "outputs": [],
   "source": [
    "def df(x):\n",
    "    return (f(x + 0.00001) - f(x))/0.00001"
   ]
  },
  {
   "cell_type": "code",
   "execution_count": 4,
   "metadata": {
    "deletable": false,
    "executionInfo": {
     "elapsed": 169,
     "status": "ok",
     "timestamp": 1645665825358,
     "user": {
      "displayName": "Jacob Koehler",
      "photoUrl": "https://lh3.googleusercontent.com/a/default-user=s64",
      "userId": "12300099689640094899"
     },
     "user_tz": 300
    },
    "id": "dMIC8wL6VXtk",
    "nbgrader": {
     "cell_type": "code",
     "checksum": "64f5535a6ecd0c3457a5496294c877d1",
     "grade": false,
     "grade_id": "cell-995b4e6d73ed5a5e",
     "locked": false,
     "schema_version": 3,
     "solution": true
    }
   },
   "outputs": [
    {
     "data": {
      "text/plain": [
       "<matplotlib.legend.Legend at 0x7fbe10ed61c0>"
      ]
     },
     "execution_count": 4,
     "metadata": {},
     "output_type": "execute_result"
    },
    {
     "data": {
      "image/png": "[encoded data removed]",
      "text/plain": [
       "<Figure size 432x288 with 1 Axes>"
      ]
     },
     "metadata": {
      "needs_background": "light"
     },
     "output_type": "display_data"
    }
   ],
   "source": [
    "### GRADED\n",
    "x0 = 1\n",
    "step_size = ''\n",
    "x1 = ''\n",
    "\n",
    "# YOUR CODE HERE\n",
    "#raise NotImplementedError()\n",
    "x0 = 1\n",
    "step_size = 0.1\n",
    "x1 = x0 - step_size * df(x0)\n",
    "\n",
    "# # Answer check\n",
    "plt.plot(x0, f(x0), 'o', label = 'Step 0')\n",
    "plt.plot(x1, f(x1), 'o', label = 'Step 1')\n",
    "plt.plot(x, f(x))\n",
    "plt.legend()"
   ]
  },
  {
   "cell_type": "code",
   "execution_count": null,
   "metadata": {
    "deletable": false,
    "editable": false,
    "executionInfo": {
     "elapsed": 4,
     "status": "ok",
     "timestamp": 1645664858160,
     "user": {
      "displayName": "Jacob Koehler",
      "photoUrl": "https://lh3.googleusercontent.com/a/default-user=s64",
      "userId": "12300099689640094899"
     },
     "user_tz": 300
    },
    "id": "oMAliGpDW5_W",
    "nbgrader": {
     "cell_type": "code",
     "checksum": "bdcd1a33a79a90662a4003d06f7658e3",
     "grade": true,
     "grade_id": "cell-8f2240fef82669ac",
     "locked": true,
     "points": 5,
     "schema_version": 3,
     "solution": false
    }
   },
   "outputs": [],
   "source": []
  },
  {
   "cell_type": "markdown",
   "metadata": {
    "deletable": false,
    "editable": false,
    "id": "YV1IeXMxXO9f",
    "nbgrader": {
     "cell_type": "markdown",
     "checksum": "7dcd450fae55806490f3717baafea051",
     "grade": false,
     "grade_id": "cell-25608fd950219d34",
     "locked": true,
     "schema_version": 3,
     "solution": false
    }
   },
   "source": [
    "[Back to top](#-Index)\n",
    "\n",
    "### Problem 3\n",
    "\n",
    "#### Repeating the Process\n",
    "\n",
    "**10 Points**\n",
    "\n",
    "Now, keep track of your updated $x$ values in the list `xs` below.  Use the starting value $x_0 = 1$ as given in the list, and perform 50 updates using the gradient descent formula.  Be sure to append each update to the list `xs`. \n",
    "\n",
    "$$x_{next} = x_{prev} - \\alpha * df(x_{prev})$$"
   ]
  },
  {
   "cell_type": "code",
   "execution_count": 5,
   "metadata": {
    "colab": {
     "base_uri": "https://localhost:8080/"
    },
    "deletable": false,
    "executionInfo": {
     "elapsed": 157,
     "status": "ok",
     "timestamp": 1645665528975,
     "user": {
      "displayName": "Jacob Koehler",
      "photoUrl": "https://lh3.googleusercontent.com/a/default-user=s64",
      "userId": "12300099689640094899"
     },
     "user_tz": 300
    },
    "id": "uQc25HV9Ml7Q",
    "nbgrader": {
     "cell_type": "code",
     "checksum": "ea442878b7628bc5e65358401017a4e6",
     "grade": false,
     "grade_id": "cell-18f52ce59b74a853",
     "locked": false,
     "schema_version": 3,
     "solution": true
    },
    "outputId": "a5ce38c0-598e-47fc-a2d8-10d49717491e"
   },
   "outputs": [
    {
     "name": "stdout",
     "output_type": "stream",
     "text": [
      "51\n",
      "[0.0, 0.0, 0.0, 0.0, 0.0]\n"
     ]
    }
   ],
   "source": [
    "### GRADED\n",
    "xs = [1]\n",
    "for i in range(50):\n",
    "    pass #replace with code to update \n",
    "        #xs using gradient descent\n",
    "\n",
    "\n",
    "# YOUR CODE HERE\n",
    "#raise NotImplementedError()\n",
    "xs = [1]\n",
    "for i in range(50):\n",
    "    xs.append(xs[i] - step_size * df(xs[i]))\n",
    "\n",
    "\n",
    "print(len(xs)) #should be 51\n",
    "print([round(i, 2) for i in xs[-5:]])"
   ]
  },
  {
   "cell_type": "code",
   "execution_count": 6,
   "metadata": {},
   "outputs": [
    {
     "data": {
      "text/plain": [
       "[1,\n",
       " 0.799998999998607,\n",
       " 0.6399982000006013,\n",
       " 0.5119975600005313,\n",
       " 0.4095970480006974,\n",
       " 0.3276766384003862,\n",
       " 0.262140310720276,\n",
       " 0.20971124857616008,\n",
       " 0.16776799886088123,\n",
       " 0.1342133990886859,\n",
       " 0.1073697192709227,\n",
       " 0.08589477541675031,\n",
       " 0.06871482033341239,\n",
       " 0.05497085626674032,\n",
       " 0.04397568501339226,\n",
       " 0.03517954801071034,\n",
       " 0.028142638408567407,\n",
       " 0.022513110726853493,\n",
       " 0.01800948858148301,\n",
       " 0.014406590865186194,\n",
       " 0.011524272692148957,\n",
       " 0.00921841815371922,\n",
       " 0.007373734522975405,\n",
       " 0.005897987618380434,\n",
       " 0.0047173900947043755,\n",
       " 0.0037729120757635493,\n",
       " 0.0030173296606108343,\n",
       " 0.0024128637284886755,\n",
       " 0.0019292909827909384,\n",
       " 0.0015424327862327471,\n",
       " 0.0012329462289861941,\n",
       " 0.0009853569831889542,\n",
       " 0.000787285586551164,\n",
       " 0.0006288284692409305,\n",
       " 0.0005020627753927441,\n",
       " 0.00040065022031419496,\n",
       " 0.00031952017625135585,\n",
       " 0.00025461614100108455,\n",
       " 0.00020269291280086753,\n",
       " 0.00016115433024069405,\n",
       " 0.00012792346419255525,\n",
       " 0.00010133877135404418,\n",
       " 8.007101708323535e-05,\n",
       " 6.305681366658829e-05,\n",
       " 4.9445450933270635e-05,\n",
       " 3.8556360746616507e-05,\n",
       " 2.9845088597293208e-05,\n",
       " 2.287607087783457e-05,\n",
       " 1.7300856702267656e-05,\n",
       " 1.2840685361814124e-05,\n",
       " 9.272548289451298e-06]"
      ]
     },
     "execution_count": 6,
     "metadata": {},
     "output_type": "execute_result"
    }
   ],
   "source": [
    "xs"
   ]
  },
  {
   "cell_type": "code",
   "execution_count": 7,
   "metadata": {
    "executionInfo": {
     "elapsed": 155,
     "status": "ok",
     "timestamp": 1645665529745,
     "user": {
      "displayName": "Jacob Koehler",
      "photoUrl": "https://lh3.googleusercontent.com/a/default-user=s64",
      "userId": "12300099689640094899"
     },
     "user_tz": 300
    },
    "id": "XCSLrakaMl7R"
   },
   "outputs": [
    {
     "data": {
      "image/png": "[encoded data removed]",
      "text/plain": [
       "<Figure size 1080x432 with 1 Axes>"
      ]
     },
     "metadata": {
      "needs_background": "light"
     },
     "output_type": "display_data"
    }
   ],
   "source": [
    "x = np.linspace(-3, 3, 1000)\n",
    "plt.figure(figsize = (15, 6))\n",
    "for i, x0 in enumerate(xs):\n",
    "  plt.text(x0, f(x0), f'Step: {i}');\n",
    "plt.axvline(x0, color = 'red', alpha = 0.3)\n",
    "plt.plot(x, f(x), color = 'gray')\n",
    "plt.plot(xs, f(np.array(xs)), 'o')\n",
    "plt.xlim(-.3, 1.1)\n",
    "plt.ylim(-0.1, 1.1)\n",
    "plt.title('50 Iterations of Gradient Descent')\n",
    "plt.grid()"
   ]
  },
  {
   "cell_type": "code",
   "execution_count": null,
   "metadata": {
    "deletable": false,
    "editable": false,
    "executionInfo": {
     "elapsed": 3,
     "status": "ok",
     "timestamp": 1645665530197,
     "user": {
      "displayName": "Jacob Koehler",
      "photoUrl": "https://lh3.googleusercontent.com/a/default-user=s64",
      "userId": "12300099689640094899"
     },
     "user_tz": 300
    },
    "id": "TdWKu7FIcMOP",
    "nbgrader": {
     "cell_type": "code",
     "checksum": "bd27500f4ef3978bb566f834051d5dc7",
     "grade": true,
     "grade_id": "cell-1f8449b0e6189de6",
     "locked": true,
     "points": 10,
     "schema_version": 3,
     "solution": false
    }
   },
   "outputs": [],
   "source": []
  },
  {
   "cell_type": "markdown",
   "metadata": {
    "deletable": false,
    "editable": false,
    "id": "AV47ti1jbXUr",
    "nbgrader": {
     "cell_type": "markdown",
     "checksum": "397043580ef0649b8d544393151f29e9",
     "grade": false,
     "grade_id": "cell-4be665b21e7673c5",
     "locked": true,
     "schema_version": 3,
     "solution": false
    }
   },
   "source": [
    "[Back to top](#-Index)\n",
    "\n",
    "### Problem 4\n",
    "\n",
    "#### Adjusting the Step Size\n",
    "\n",
    "**10 Points**\n",
    "\n",
    "Repeat the above process but this time use `step_size = 0.01`.  Again, compute 50 iterations of gradient descent tracking the updated values in the list `xs`.  What is different about the results this time?  \n",
    "\n",
    "$$x_{next} = x_{prev} - \\alpha * df(x_{prev})$$"
   ]
  },
  {
   "cell_type": "code",
   "execution_count": 8,
   "metadata": {
    "colab": {
     "base_uri": "https://localhost:8080/"
    },
    "deletable": false,
    "executionInfo": {
     "elapsed": 139,
     "status": "ok",
     "timestamp": 1645665568558,
     "user": {
      "displayName": "Jacob Koehler",
      "photoUrl": "https://lh3.googleusercontent.com/a/default-user=s64",
      "userId": "12300099689640094899"
     },
     "user_tz": 300
    },
    "id": "sjfVyB4VMl7R",
    "nbgrader": {
     "cell_type": "code",
     "checksum": "518f85aacd79d73141acd481da5f1060",
     "grade": false,
     "grade_id": "cell-b2fb51e5169e403f",
     "locked": false,
     "schema_version": 3,
     "solution": true
    },
    "outputId": "5d43c286-efb3-452a-e4c6-a7fad6968f84"
   },
   "outputs": [
    {
     "name": "stdout",
     "output_type": "stream",
     "text": [
      "51\n",
      "[0.39, 0.39, 0.38, 0.37, 0.36]\n"
     ]
    }
   ],
   "source": [
    "### GRADED\n",
    "xs = [1]\n",
    "for i in range(50):\n",
    "  pass #replace with code to update \n",
    "        #xs using gradient descent\n",
    "\n",
    "\n",
    "# YOUR CODE HERE\n",
    "#raise NotImplementedError()\n",
    "xs = [1]\n",
    "step_size = 0.01\n",
    "for i in range(50):\n",
    "    xs.append(xs[i] - step_size * df(xs[i]))\n",
    "\n",
    "\n",
    "print(len(xs)) #should be 51\n",
    "print([round(i, 2) for i in xs[-5:]])"
   ]
  },
  {
   "cell_type": "code",
   "execution_count": 9,
   "metadata": {
    "executionInfo": {
     "elapsed": 137,
     "status": "ok",
     "timestamp": 1645665571932,
     "user": {
      "displayName": "Jacob Koehler",
      "photoUrl": "https://lh3.googleusercontent.com/a/default-user=s64",
      "userId": "12300099689640094899"
     },
     "user_tz": 300
    },
    "id": "wISbXw2jMl7S"
   },
   "outputs": [
    {
     "data": {
      "image/png": "[encoded data removed]",
      "text/plain": [
       "<Figure size 1080x432 with 1 Axes>"
      ]
     },
     "metadata": {
      "needs_background": "light"
     },
     "output_type": "display_data"
    }
   ],
   "source": [
    "x = np.linspace(-3, 3, 1000)\n",
    "plt.figure(figsize = (15, 6))\n",
    "for i, x0 in enumerate(xs):\n",
    "    plt.text(x0, f(x0), f'Step: {i}');\n",
    "    plt.axvline(x0, color = 'red', alpha = 0.3)\n",
    "plt.plot(x, f(x), color = 'gray', label = 'f')\n",
    "plt.plot(xs, f(np.array(xs)), 'o')\n",
    "plt.xlim(-.3, 1.1)\n",
    "plt.ylim(-0.1, 1.1)\n",
    "plt.legend()\n",
    "plt.title('50 Iterations of Gradient Descent')\n",
    "plt.grid()"
   ]
  },
  {
   "cell_type": "code",
   "execution_count": null,
   "metadata": {
    "deletable": false,
    "editable": false,
    "executionInfo": {
     "elapsed": 2,
     "status": "ok",
     "timestamp": 1645665572456,
     "user": {
      "displayName": "Jacob Koehler",
      "photoUrl": "https://lh3.googleusercontent.com/a/default-user=s64",
      "userId": "12300099689640094899"
     },
     "user_tz": 300
    },
    "id": "05dSweruMl7S",
    "nbgrader": {
     "cell_type": "code",
     "checksum": "edd68a5e3fc32debbd4de51a69fba80f",
     "grade": true,
     "grade_id": "cell-faa794f992aa1b1b",
     "locked": true,
     "points": 10,
     "schema_version": 3,
     "solution": false
    }
   },
   "outputs": [],
   "source": []
  },
  {
   "cell_type": "markdown",
   "metadata": {
    "deletable": false,
    "editable": false,
    "id": "mX5CvbIscmg4",
    "nbgrader": {
     "cell_type": "markdown",
     "checksum": "e4a6be6525effa3d0e8f6a3aa9dd4662",
     "grade": false,
     "grade_id": "cell-00a4635af58d67bf",
     "locked": true,
     "schema_version": 3,
     "solution": false
    }
   },
   "source": [
    "[Back to top](#-Index)\n",
    "\n",
    "### Problem 5\n",
    "\n",
    "#### Adjusting the starting value\n",
    "\n",
    "**10 Points**\n",
    "\n",
    "Now, you are to examine the effect of changing the starting value. To demonstrate the effect of changing the starting point, consider instead the function\n",
    "\n",
    "$$f(x) = x^2(x - 2)(x + 1)$$\n",
    "\n",
    "Use gradient descent to examine the minimum value found with $x_0 = 2$ compared to that when $x_0 = -2$.  Which of the starting values locates the **absolute minimum** of the function $f(x)$?  Assign your solution as an integer to `best_start` below."
   ]
  },
  {
   "cell_type": "code",
   "execution_count": 10,
   "metadata": {
    "colab": {
     "base_uri": "https://localhost:8080/",
     "height": 285
    },
    "executionInfo": {
     "elapsed": 230,
     "status": "ok",
     "timestamp": 1645665629514,
     "user": {
      "displayName": "Jacob Koehler",
      "photoUrl": "https://lh3.googleusercontent.com/a/default-user=s64",
      "userId": "12300099689640094899"
     },
     "user_tz": 300
    },
    "id": "V19hiy3JRoFt",
    "outputId": "b638ed38-7044-4c6b-b5f5-0c41ed601082"
   },
   "outputs": [
    {
     "data": {
      "image/png": "[encoded data removed]",
      "text/plain": [
       "<Figure size 432x288 with 1 Axes>"
      ]
     },
     "metadata": {
      "needs_background": "light"
     },
     "output_type": "display_data"
    }
   ],
   "source": [
    "def f(x):\n",
    "    return x**2*(x - 2)*(x + 1)\n",
    "\n",
    "plt.plot(x, f(x))\n",
    "plt.title(r'$f(x) = x^2(x - 2)(x + 1)$')\n",
    "plt.grid()"
   ]
  },
  {
   "cell_type": "code",
   "execution_count": 11,
   "metadata": {
    "colab": {
     "base_uri": "https://localhost:8080/"
    },
    "deletable": false,
    "executionInfo": {
     "elapsed": 162,
     "status": "ok",
     "timestamp": 1645665368517,
     "user": {
      "displayName": "Jacob Koehler",
      "photoUrl": "https://lh3.googleusercontent.com/a/default-user=s64",
      "userId": "12300099689640094899"
     },
     "user_tz": 300
    },
    "id": "9O7WlsK9Ml7T",
    "nbgrader": {
     "cell_type": "code",
     "checksum": "04bb0d3123cdb6930e803fcf1d503267",
     "grade": false,
     "grade_id": "cell-425a47206882406a",
     "locked": false,
     "schema_version": 3,
     "solution": true
    },
    "outputId": "9882c514-a4de-418c-8839-8fba6f588db4"
   },
   "outputs": [
    {
     "name": "stdout",
     "output_type": "stream",
     "text": [
      "[-2, -1.640002799987215, -1.448477878520869, -1.3219144703711088, -1.229968964590043, -1.1593550445110328, -1.103075321338241, -1.0570081540123826, -1.0185328995642433, -0.9858872467518649, -0.9578339481148954, -0.9334741356110796, -0.9121362828083799, -0.8933069035583616, -0.8765855526013786, -0.861654620014791, -0.8482584746964792, -0.8361887077843309, -0.8252734675575477, -0.8153696057284618, -0.8063567971162542, -0.7981330709579801, -0.7906113692831405, -0.7837168640451984, -0.7773848426000771, -0.7715590242986357, -0.7661902078811409, -0.761235175398429, -0.7566557970077168, -0.752418294484176, -0.7484926311921278, -0.7448520035968473, -0.7414724149036165, -0.7383323155696739, -0.7354122986193266, -0.7326948401353126, -0.7301640772022064, -0.7278056170628553, -0.7256063724178483, -0.7235544187265528, -0.721638870106218, -0.7198497710213367, -0.7181780014327408, -0.7166151934637053, -0.7151536579589177, -0.7137863195707925, -0.7125066592196647, -0.7113086629529761, -0.7101867763736178, -0.7091358639309939, -0.7081511724674037] -0.396353605846833\n",
      "Minimum is at x = -2\n"
     ]
    },
    {
     "data": {
      "text/plain": [
       "[<matplotlib.lines.Line2D at 0x7fbe10f96e20>]"
      ]
     },
     "execution_count": 11,
     "metadata": {},
     "output_type": "execute_result"
    },
    {
     "data": {
      "image/png": "[encoded data removed]",
      "text/plain": [
       "<Figure size 432x288 with 1 Axes>"
      ]
     },
     "metadata": {
      "needs_background": "light"
     },
     "output_type": "display_data"
    }
   ],
   "source": [
    "### GRADED\n",
    "xs = [-2]\n",
    "for i in range(50):\n",
    "  pass\n",
    "  \n",
    "best_start = ''\n",
    "\n",
    "# YOUR CODE HERE\n",
    "#raise NotImplementedError()\n",
    "xs = [-2]\n",
    "for i in range(50):\n",
    "    xs.append(xs[i] - step_size * df(xs[i]))\n",
    "print(xs, f(xs[50]))\n",
    "best_start = -2\n",
    "\n",
    "### ANSWER CHECK\n",
    "print(f'Minimum is at x = {best_start}')\n",
    "plt.plot(x, f(x))\n",
    "plt.plot(xs, f(np.array(xs)), 'o')"
   ]
  },
  {
   "cell_type": "code",
   "execution_count": 12,
   "metadata": {},
   "outputs": [
    {
     "name": "stdout",
     "output_type": "stream",
     "text": [
      "[2, 1.8799983999922139, 1.7954425974744532, 1.7324549650417216, 1.6838024611587483, 1.645253240430758, 1.6141294956049241, 1.5886371919991011, 1.567520809365522, 1.5498709198205203, 1.535010187068156, 1.5224224341441468, 1.5117066936603114, 1.502546417723863, 1.4946882421163072, 1.4879269699435012, 1.4820947188489837, 1.477052924622871, 1.4726863473626535, 1.468898508985031, 1.4656081717645681, 1.4627465860561768, 1.460255314559525, 1.4580844944736133, 1.4561914362900692, 1.454539484305531, 1.4530970827295737, 1.4518370048675207, 1.4507357128166338, 1.4497728224767277, 1.4489306542104925, 1.4481938536565904, 1.4475490703707157, 1.446984684446498, 1.4464905731466222, 1.446057911086221, 1.4456789986701108, 1.4453471144384584, 1.4450563877046603, 1.4448016884971577, 1.4445785322792088, 1.4443829973505158, 1.4442116531312583, 1.4440614978470518, 1.4439299042927762, 1.443814572612126, 1.4437134891385346, 1.4436248904989986, 1.4435472322831406, 1.4434791616850935, 1.443419493604395] -2.8334213262718984\n",
      "Minimum is at x = 2\n"
     ]
    },
    {
     "data": {
      "text/plain": [
       "[<matplotlib.lines.Line2D at 0x7fbe10f7b760>]"
      ]
     },
     "execution_count": 12,
     "metadata": {},
     "output_type": "execute_result"
    },
    {
     "data": {
      "image/png": "[encoded data removed]",
      "text/plain": [
       "<Figure size 432x288 with 1 Axes>"
      ]
     },
     "metadata": {
      "needs_background": "light"
     },
     "output_type": "display_data"
    }
   ],
   "source": [
    "### GRADED\n",
    "xs = [2]\n",
    "for i in range(50):\n",
    "    xs.append(xs[i] - step_size * df(xs[i]))\n",
    "print(xs, f(xs[50]))\n",
    "\n",
    "best_start = 2\n",
    "# best is fx=-2.8334213262718984\n",
    "\n",
    "\n",
    "### ANSWER CHECK\n",
    "print(f'Minimum is at x = {best_start}')\n",
    "plt.plot(x, f(x))\n",
    "plt.plot(xs, f(np.array(xs)), 'o')"
   ]
  },
  {
   "cell_type": "code",
   "execution_count": 13,
   "metadata": {
    "executionInfo": {
     "elapsed": 140,
     "status": "ok",
     "timestamp": 1645665371513,
     "user": {
      "displayName": "Jacob Koehler",
      "photoUrl": "https://lh3.googleusercontent.com/a/default-user=s64",
      "userId": "12300099689640094899"
     },
     "user_tz": 300
    },
    "id": "lWPh8kXLMl7T"
   },
   "outputs": [
    {
     "data": {
      "text/plain": [
       "[<matplotlib.lines.Line2D at 0x7fbe00df3d00>]"
      ]
     },
     "execution_count": 13,
     "metadata": {},
     "output_type": "execute_result"
    },
    {
     "data": {
      "image/png": "[encoded data removed]",
      "text/plain": [
       "<Figure size 432x288 with 1 Axes>"
      ]
     },
     "metadata": {
      "needs_background": "light"
     },
     "output_type": "display_data"
    }
   ],
   "source": [
    "plt.plot(x, f(x))\n",
    "plt.plot(xs, f(np.array(xs)), 'o')"
   ]
  },
  {
   "cell_type": "code",
   "execution_count": null,
   "metadata": {
    "deletable": false,
    "editable": false,
    "id": "1VhXyE5BXxH7",
    "nbgrader": {
     "cell_type": "code",
     "checksum": "1ddbd47ad18edf4e05619126f53f2cd2",
     "grade": true,
     "grade_id": "cell-5a4f6269b813db7d",
     "locked": true,
     "points": 10,
     "schema_version": 3,
     "solution": false
    }
   },
   "outputs": [],
   "source": []
  },
  {
   "cell_type": "markdown",
   "metadata": {
    "deletable": false,
    "editable": false,
    "id": "f5Q7yIJ-Ml7V",
    "nbgrader": {
     "cell_type": "markdown",
     "checksum": "d9f66f79ece3c9cf571cd57bf71665d2",
     "grade": false,
     "grade_id": "cell-bb24b91141f60ff9",
     "locked": true,
     "schema_version": 3,
     "solution": false
    }
   },
   "source": [
    "Now that you see the importance of both the starting value and step size parameter, consider looking for further refinements to the basic gradient descent model.  In the next activity, you will explore how to use gradient descent in identifying the parameters for a linear regression model.  Here, you will minimize the **MEAN SQUARED ERROR** function rather than an aribitrary polynomial."
   ]
  }
 ],
 "metadata": {
  "colab": {
   "collapsed_sections": [],
   "name": "coding_assignment_15.2.ipynb",
   "provenance": []
  },
  "kernelspec": {
   "display_name": "Python 3 (ipykernel)",
   "language": "python",
   "name": "python3"
  },
  "language_info": {
   "codemirror_mode": {
    "name": "ipython",
    "version": 3
   },
   "file_extension": ".py",
   "mimetype": "text/x-python",
   "name": "python",
   "nbconvert_exporter": "python",
   "pygments_lexer": "ipython3",
   "version": "3.9.7"
  }
 },
 "nbformat": 4,
 "nbformat_minor": 1
}
