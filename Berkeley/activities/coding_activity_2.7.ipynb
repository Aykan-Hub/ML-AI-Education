{
 "cells": [
  {
   "cell_type": "markdown",
   "metadata": {
    "deletable": false,
    "editable": false,
    "nbgrader": {
     "checksum": "b92f88b7663280156236c019ef9d37ec",
     "grade": false,
     "grade_id": "cell-10f9b559c32d5bcd",
     "locked": true,
     "schema_version": 1,
     "solution": false
    }
   },
   "source": [
    "### COdio Activity 2.7: Approximating Correlation from scatterplots\n",
    "\n",
    "**Expected Time: 30 Minutes**\n",
    "\n",
    "**Total Points: 25**\n",
    "\n",
    "This assignment aims to reinforce your understanding of correlation.  A scatterplot of two random variables is shown in an image, and you are asked to guess the correlation between these variables.  Your guesses should be with $0.1$ of the actual correlation value.\n",
    "\n",
    "## Index:\n",
    "\n",
    "- [Problem 1](#Problem-1)\n",
    "- [Problem 2](#Problem-2)\n",
    "- [Problem 3](#Problem-3)\n",
    "- [Problem 4](#Problem-4)\n",
    "- [Problem 5](#Problem-5)\n"
   ]
  },
  {
   "cell_type": "code",
   "execution_count": 1,
   "metadata": {},
   "outputs": [],
   "source": [
    "import scipy.stats as stats\n",
    "import seaborn as sns\n",
    "import pandas as pd\n",
    "import matplotlib.pyplot as plt\n",
    "import numpy as np"
   ]
  },
  {
   "cell_type": "markdown",
   "metadata": {
    "deletable": false,
    "editable": false,
    "nbgrader": {
     "checksum": "6ef17f68969c05c7c1a1b91942c60cb7",
     "grade": false,
     "grade_id": "cell-01d3b09871580bea",
     "locked": true,
     "schema_version": 1,
     "solution": false
    }
   },
   "source": [
    "[Back to top](#Index:) \n",
    "\n",
    "### Problem 1\n",
    "\n",
    "**5 Points**\n",
    "\n",
    "Given the scatterplot below, guess the correlation between the features `x1` and `y`. Assign your answer as a float to `ans1` below.  An answer within .1 of the true correlation will receive credit.\n",
    "\n",
    "![](images/guess_1.png)"
   ]
  },
  {
   "cell_type": "code",
   "execution_count": 2,
   "metadata": {},
   "outputs": [
    {
     "name": "stdout",
     "output_type": "stream",
     "text": [
      "         0        1\n",
      "0  1.00000  0.82728\n",
      "1  0.82728  1.00000\n"
     ]
    },
    {
     "data": {
      "image/png": "[encoded data removed]",
      "text/plain": [
       "<Figure size 360x360 with 6 Axes>"
      ]
     },
     "metadata": {
      "needs_background": "light"
     },
     "output_type": "display_data"
    }
   ],
   "source": [
    "lst=[[0,0],[-3,-375],[-1.1,-300],[-0.95,-100],[0.5,50],[1.10,33],[2,20],[3,33],[1.75,175],[-0.9,-200],[-0.9,-100],[0.5,100]]\n",
    "df=pd.DataFrame(lst)\n",
    "corr=df.corr()\n",
    "sns.pairplot(df)\n",
    "print(corr)"
   ]
  },
  {
   "cell_type": "code",
   "execution_count": 3,
   "metadata": {
    "deletable": false,
    "nbgrader": {
     "checksum": "9b82456715c87019015bfb2343d8bbe7",
     "grade": false,
     "grade_id": "cell-d8bbfa13f2b7ae0a",
     "locked": false,
     "schema_version": 1,
     "solution": true
    }
   },
   "outputs": [
    {
     "name": "stdout",
     "output_type": "stream",
     "text": [
      "0.55\n",
      "<class 'float'>\n"
     ]
    }
   ],
   "source": [
    "### GRADED\n",
    "\n",
    "ans1 = None\n",
    "\n",
    "# YOUR CODE HERE\n",
    "#raise NotImplementedError()\n",
    "ans1=0.55\n",
    "\n",
    "\n",
    "# Answer check\n",
    "print(ans1)\n",
    "print(type(ans1))"
   ]
  },
  {
   "cell_type": "code",
   "execution_count": null,
   "metadata": {
    "deletable": false,
    "editable": false,
    "nbgrader": {
     "checksum": "8488386a0b87a06fd11568a47ac9ba04",
     "grade": true,
     "grade_id": "cell-2173092ece0a4682",
     "locked": true,
     "points": 5,
     "schema_version": 1,
     "solution": false
    }
   },
   "outputs": [],
   "source": []
  },
  {
   "cell_type": "markdown",
   "metadata": {
    "deletable": false,
    "editable": false,
    "nbgrader": {
     "checksum": "0aba837f0aa7911e5ad447ea4727820d",
     "grade": false,
     "grade_id": "cell-382de1b5c8f63c5a",
     "locked": true,
     "schema_version": 1,
     "solution": false
    }
   },
   "source": [
    "[Back to top](#Index:) \n",
    "\n",
    "### Problem 2\n",
    "\n",
    "**5 Points**\n",
    "\n",
    "\n",
    "Given the scatterplot below, guess the correlation between the features `x2` and `y`. Assign your answer as a float to `ans2` below.  An answer within .1 of the true correlation will receive credit.\n",
    "\n",
    "![](images/guess_2.png)"
   ]
  },
  {
   "cell_type": "code",
   "execution_count": 4,
   "metadata": {
    "deletable": false,
    "nbgrader": {
     "checksum": "be98a31b545d8b59402e5789bc0bd893",
     "grade": false,
     "grade_id": "cell-5d7037f91eeb36be",
     "locked": false,
     "schema_version": 1,
     "solution": true
    }
   },
   "outputs": [
    {
     "name": "stdout",
     "output_type": "stream",
     "text": [
      "0.2\n",
      "<class 'float'>\n"
     ]
    }
   ],
   "source": [
    "### GRADED\n",
    "\n",
    "ans2 = None\n",
    "\n",
    "# YOUR CODE HERE\n",
    "#raise NotImplementedError()\n",
    "ans2 = 0.2\n",
    "\n",
    "# Answer check\n",
    "print(ans2)\n",
    "print(type(ans2))"
   ]
  },
  {
   "cell_type": "code",
   "execution_count": null,
   "metadata": {
    "deletable": false,
    "editable": false,
    "nbgrader": {
     "checksum": "80fe2175635996e6d2425dd44a0ca7da",
     "grade": true,
     "grade_id": "cell-b1b7fa4feb4f789f",
     "locked": true,
     "points": 5,
     "schema_version": 1,
     "solution": false
    }
   },
   "outputs": [],
   "source": []
  },
  {
   "cell_type": "markdown",
   "metadata": {
    "deletable": false,
    "editable": false,
    "nbgrader": {
     "checksum": "ed367c9b393b7d00346006505c4554d1",
     "grade": false,
     "grade_id": "cell-e0ab12dd7b45e4e1",
     "locked": true,
     "schema_version": 1,
     "solution": false
    }
   },
   "source": [
    "[Back to top](#Index:) \n",
    "\n",
    "### Problem 3\n",
    "\n",
    "**5 Points**\n",
    "\n",
    "Given the scatterplot below, guess the correlation between the features `x3` and `y`. Assign your answer as a float to `ans3` below.  An answer within .1 of the true correlation will receive credit.\n",
    "\n",
    "![](images/guess_3.png)"
   ]
  },
  {
   "cell_type": "code",
   "execution_count": 5,
   "metadata": {
    "deletable": false,
    "nbgrader": {
     "checksum": "50b6ca8c2f8d9c951e5fc6439796bb0f",
     "grade": false,
     "grade_id": "cell-54c7bc870388a32e",
     "locked": false,
     "schema_version": 1,
     "solution": true
    }
   },
   "outputs": [
    {
     "name": "stdout",
     "output_type": "stream",
     "text": [
      "0.85\n",
      "<class 'float'>\n"
     ]
    }
   ],
   "source": [
    "### GRADED\n",
    "\n",
    "ans3 = None\n",
    "\n",
    "# YOUR CODE HERE\n",
    "#raise NotImplementedError()\n",
    "ans3=0.85\n",
    "\n",
    "# Answer check\n",
    "print(ans3)\n",
    "print(type(ans3))"
   ]
  },
  {
   "cell_type": "code",
   "execution_count": null,
   "metadata": {
    "deletable": false,
    "editable": false,
    "nbgrader": {
     "checksum": "75ece13fc60ee5a3e4ec797c346a530b",
     "grade": true,
     "grade_id": "cell-ca9169fc61fd4941",
     "locked": true,
     "points": 5,
     "schema_version": 1,
     "solution": false
    }
   },
   "outputs": [],
   "source": []
  },
  {
   "cell_type": "markdown",
   "metadata": {
    "deletable": false,
    "editable": false,
    "nbgrader": {
     "checksum": "6d9010b917e8230cb04d9baf43593515",
     "grade": false,
     "grade_id": "cell-c0ae18c147b12cb6",
     "locked": true,
     "schema_version": 1,
     "solution": false
    }
   },
   "source": [
    "[Back to top](#Index:) \n",
    "\n",
    "### Problem 4\n",
    "\n",
    "**5 Points**\n",
    "\n",
    "\n",
    "Given the scatterplot below, guess the correlation between the features `x4` and `y`. Assign your answer as a float to `ans4` below.  An answer within .1 of the true correlation will receive credit.\n",
    "\n",
    "![](images/guess_4.png)"
   ]
  },
  {
   "cell_type": "code",
   "execution_count": 6,
   "metadata": {
    "deletable": false,
    "nbgrader": {
     "checksum": "fe28db9314f37fb7d920d0abb0abe243",
     "grade": false,
     "grade_id": "cell-d337632c05c8c07e",
     "locked": false,
     "schema_version": 1,
     "solution": true
    }
   },
   "outputs": [
    {
     "name": "stdout",
     "output_type": "stream",
     "text": [
      "-0.45\n",
      "<class 'float'>\n"
     ]
    }
   ],
   "source": [
    "### GRADED\n",
    "\n",
    "ans4 = None\n",
    "\n",
    "# YOUR CODE HERE\n",
    "#raise NotImplementedError()\n",
    "ans4=-0.45\n",
    "\n",
    "# Answer check\n",
    "print(ans4)\n",
    "print(type(ans4))"
   ]
  },
  {
   "cell_type": "code",
   "execution_count": null,
   "metadata": {
    "deletable": false,
    "editable": false,
    "nbgrader": {
     "checksum": "312a221025e6bd242cb9df9296814daa",
     "grade": true,
     "grade_id": "cell-094f8ab7c512e017",
     "locked": true,
     "points": 5,
     "schema_version": 1,
     "solution": false
    }
   },
   "outputs": [],
   "source": []
  },
  {
   "cell_type": "markdown",
   "metadata": {
    "deletable": false,
    "editable": false,
    "nbgrader": {
     "checksum": "ab7a24faa117993c01304f5475b6fbca",
     "grade": false,
     "grade_id": "cell-1c2ddcf3b6b8dbd9",
     "locked": true,
     "schema_version": 1,
     "solution": false
    }
   },
   "source": [
    "[Back to top](#Index:) \n",
    "\n",
    "### Problem 5\n",
    "\n",
    "**5 Points**\n",
    "\n",
    "Given the scatterplot below, guess the correlation between the features `x5` and `y`. Assign your answer as a float to `ans5` below.  An answer within .1 of the true correlation will receive credit.\n",
    "\n",
    "![](images/guess_5.png)"
   ]
  },
  {
   "cell_type": "code",
   "execution_count": 7,
   "metadata": {
    "deletable": false,
    "nbgrader": {
     "checksum": "a2386537bb79b016bd7aa6ce34ba8422",
     "grade": false,
     "grade_id": "cell-f21cf8efefa20152",
     "locked": false,
     "schema_version": 1,
     "solution": true
    }
   },
   "outputs": [
    {
     "name": "stdout",
     "output_type": "stream",
     "text": [
      "-0.15\n",
      "<class 'float'>\n"
     ]
    }
   ],
   "source": [
    "### GRADED\n",
    "\n",
    "ans5 = None\n",
    "\n",
    "# YOUR CODE HERE\n",
    "#raise NotImplementedError()\n",
    "ans5=-0.15\n",
    "\n",
    "# Answer check\n",
    "print(ans5)\n",
    "print(type(ans5))"
   ]
  },
  {
   "cell_type": "code",
   "execution_count": null,
   "metadata": {
    "deletable": false,
    "editable": false,
    "nbgrader": {
     "checksum": "d5458b41d42cf410206e34f1e77ed381",
     "grade": true,
     "grade_id": "cell-19b36c42fe499d50",
     "locked": true,
     "points": 5,
     "schema_version": 1,
     "solution": false
    }
   },
   "outputs": [],
   "source": []
  }
 ],
 "metadata": {
  "kernelspec": {
   "display_name": "Python 3",
   "language": "python",
   "name": "python3"
  },
  "language_info": {
   "codemirror_mode": {
    "name": "ipython",
    "version": 3
   },
   "file_extension": ".py",
   "mimetype": "text/x-python",
   "name": "python",
   "nbconvert_exporter": "python",
   "pygments_lexer": "ipython3",
   "version": "3.6.9"
  },
  "widgets": {
   "application/vnd.jupyter.widget-state+json": {
    "state": {},
    "version_major": 2,
    "version_minor": 0
   }
  }
 },
 "nbformat": 4,
 "nbformat_minor": 4
}
