{
 "cells": [
  {
   "cell_type": "markdown",
   "metadata": {
    "deletable": false,
    "editable": false,
    "nbgrader": {
     "cell_type": "markdown",
     "checksum": "c7b579d5652dd959fcafb10214062b45",
     "grade": false,
     "grade_id": "cell-9feeb9ef6cb32d51",
     "locked": true,
     "schema_version": 3,
     "solution": false
    }
   },
   "source": [
    "### Codio Activity 16.4: Using Scikit-learn's Kernel Functions\n",
    "\n",
    "**Expected Time = 30 minutes**\n",
    "\n",
    "**Total Points = 30**\n",
    "\n",
    "Similar to the previous assignment, kernelized `LogisticRegression` can be performed with functions from scikit-learn.  In this activity, you will use the `polynomial_kernel` and `rbf` kernel functions to transform the data and use the transformed data in a `LogisticRegression` estimator.  \n",
    "\n",
    "#### Index\n",
    "\n",
    "- [Problem 1](#-Problem-1)\n",
    "- [Problem 2](#-Problem-2)\n",
    "- [Problem 3](#-Problem-3)"
   ]
  },
  {
   "cell_type": "code",
   "execution_count": 1,
   "metadata": {},
   "outputs": [],
   "source": [
    "import numpy as np\n",
    "import pandas as pd\n",
    "import matplotlib.pyplot as plt\n",
    "\n",
    "from sklearn.datasets import load_wine\n",
    "from sklearn.linear_model import LogisticRegression, LinearRegression\n",
    "from sklearn.model_selection import train_test_split\n",
    "from sklearn.metrics.pairwise import polynomial_kernel, rbf_kernel\n",
    "\n",
    "import seaborn as sns"
   ]
  },
  {
   "cell_type": "markdown",
   "metadata": {
    "deletable": false,
    "editable": false,
    "nbgrader": {
     "cell_type": "markdown",
     "checksum": "47ed2f1dfe7bb281eb74e5f91611029c",
     "grade": false,
     "grade_id": "cell-0b9bf7e005d6bc88",
     "locked": true,
     "schema_version": 3,
     "solution": false
    }
   },
   "source": [
    "### A Regression Example\n",
    "\n",
    "Below, a small synthetic quadratic dataset is created.  Using the `x` variable, a quadratic polynomial kernel is used to transform the data as `ktrain`.  Then, a `LinearRegression` estimator is fit on the transformed data.  The results of the model are visualized following the model fit."
   ]
  },
  {
   "cell_type": "code",
   "execution_count": 2,
   "metadata": {},
   "outputs": [
    {
     "data": {
      "text/plain": [
       "Text(0.5, 1.0, 'Synthetic Quadratic Dataset')"
      ]
     },
     "execution_count": 2,
     "metadata": {},
     "output_type": "execute_result"
    },
    {
     "data": {
      "image/png": "[encoded data removed]",
      "text/plain": [
       "<Figure size 432x288 with 1 Axes>"
      ]
     },
     "metadata": {
      "needs_background": "light"
     },
     "output_type": "display_data"
    }
   ],
   "source": [
    "x = np.linspace(-4, 4, 40)\n",
    "def quad_x(x): return x**2 + np.random.normal(size = len(x))\n",
    "plt.scatter(x, quad_x(x))\n",
    "plt.title('Synthetic Quadratic Dataset')"
   ]
  },
  {
   "cell_type": "code",
   "execution_count": 3,
   "metadata": {},
   "outputs": [],
   "source": [
    "#polynomial kernel\n",
    "ktrain = polynomial_kernel(x.reshape(-1, 1), x.reshape(-1, 1), degree = 2)\n",
    "#fit regressor on kernel data\n",
    "lr = LinearRegression().fit(ktrain, quad_x(x))"
   ]
  },
  {
   "cell_type": "code",
   "execution_count": 4,
   "metadata": {},
   "outputs": [
    {
     "data": {
      "image/png": "[encoded data removed]",
      "text/plain": [
       "<Figure size 432x288 with 1 Axes>"
      ]
     },
     "metadata": {
      "needs_background": "light"
     },
     "output_type": "display_data"
    }
   ],
   "source": [
    "#visualize the predictions\n",
    "plt.plot(x, lr.predict(ktrain), '--r', label = 'Quadratic Kernel Regressor')\n",
    "plt.scatter(x, quad_x(x))\n",
    "plt.title('Synthetic Quadratic Data and Kernel Model')\n",
    "plt.legend();"
   ]
  },
  {
   "cell_type": "markdown",
   "metadata": {
    "deletable": false,
    "editable": false,
    "nbgrader": {
     "cell_type": "markdown",
     "checksum": "2ed2ba600cf568b0a80386fa613c556c",
     "grade": false,
     "grade_id": "cell-e441198b6cab189e",
     "locked": true,
     "schema_version": 3,
     "solution": false
    }
   },
   "source": [
    "#### Loading the Wine Data\n",
    "\n",
    "The wine data is loaded and the `X`, `y` variables created to use in applying the kernels for classification models below."
   ]
  },
  {
   "cell_type": "code",
   "execution_count": 5,
   "metadata": {},
   "outputs": [],
   "source": [
    "X, y = load_wine(return_X_y=True, as_frame=True)\n",
    "X, y = X[['total_phenols', 'color_intensity']].values, y"
   ]
  },
  {
   "cell_type": "code",
   "execution_count": 6,
   "metadata": {},
   "outputs": [
    {
     "data": {
      "text/plain": [
       "((178, 2), (178,))"
      ]
     },
     "execution_count": 6,
     "metadata": {},
     "output_type": "execute_result"
    }
   ],
   "source": [
    "X.shape, y.shape"
   ]
  },
  {
   "cell_type": "markdown",
   "metadata": {
    "deletable": false,
    "editable": false,
    "nbgrader": {
     "cell_type": "markdown",
     "checksum": "7bc1336de47bc17c6644c35386a7f7b0",
     "grade": false,
     "grade_id": "cell-e64072e35de21071",
     "locked": true,
     "schema_version": 3,
     "solution": false
    }
   },
   "source": [
    "[Back to top](#-Index)\n",
    "\n",
    "### Problem 1\n",
    "\n",
    "#### Logistic Regression with Linear Kernel\n",
    "\n",
    "**10 Points**\n",
    "\n",
    "Below, build a transformed version of the data under a first degree polynomial kernel.  Assign the transformed data as `ktrain` below. Use the transformed data to build a `LogisticRegression` estimator with `max_iter = 1000` named `linear_logistic`, and examine the accuracy score of the estimator.  "
   ]
  },
  {
   "cell_type": "code",
   "execution_count": 7,
   "metadata": {},
   "outputs": [
    {
     "data": {
      "text/plain": [
       "(356, 356)"
      ]
     },
     "execution_count": 7,
     "metadata": {},
     "output_type": "execute_result"
    }
   ],
   "source": [
    "polynomial_kernel(X.reshape(-1, 1), X.reshape(-1, 1), degree = 1).shape"
   ]
  },
  {
   "cell_type": "code",
   "execution_count": 8,
   "metadata": {},
   "outputs": [
    {
     "data": {
      "text/plain": [
       "(178, 178)"
      ]
     },
     "execution_count": 8,
     "metadata": {},
     "output_type": "execute_result"
    }
   ],
   "source": [
    "polynomial_kernel(X, X, degree = 1).shape"
   ]
  },
  {
   "cell_type": "code",
   "execution_count": 9,
   "metadata": {
    "deletable": false,
    "nbgrader": {
     "cell_type": "code",
     "checksum": "b55b1cab679e425d876ed13811fd595c",
     "grade": false,
     "grade_id": "cell-8d07258c96e8b31a",
     "locked": false,
     "schema_version": 3,
     "solution": true
    }
   },
   "outputs": [
    {
     "name": "stdout",
     "output_type": "stream",
     "text": [
      "0.8820224719101124\n"
     ]
    }
   ],
   "source": [
    "### GRADED\n",
    "ktrain = ''\n",
    "linear_logistic = ''\n",
    "\n",
    "# YOUR CODE HERE\n",
    "#raise NotImplementedError()\n",
    "#kX = \n",
    "\n",
    "ktrain = polynomial_kernel(X, X, degree = 1)\n",
    "linear_logistic = LogisticRegression(max_iter = 1000).fit(ktrain, y)\n",
    "\n",
    "\n",
    "### ANSWER CHECK\n",
    "print(linear_logistic.score(ktrain, y))"
   ]
  },
  {
   "cell_type": "code",
   "execution_count": null,
   "metadata": {
    "deletable": false,
    "editable": false,
    "nbgrader": {
     "cell_type": "code",
     "checksum": "a54e6c761bb34aa7b658d9a6607b5f36",
     "grade": true,
     "grade_id": "cell-7af0c8211cd930d8",
     "locked": true,
     "points": 10,
     "schema_version": 3,
     "solution": false
    }
   },
   "outputs": [],
   "source": []
  },
  {
   "cell_type": "markdown",
   "metadata": {
    "deletable": false,
    "editable": false,
    "nbgrader": {
     "cell_type": "markdown",
     "checksum": "b1856b1ec7b75599ff3f924010ba547a",
     "grade": false,
     "grade_id": "cell-2524fe28cd09d841",
     "locked": true,
     "schema_version": 3,
     "solution": false
    }
   },
   "source": [
    "[Back to top](#-Index)\n",
    "\n",
    "### Problem 2\n",
    "\n",
    "#### Logistic Regression with Cubic Kernel\n",
    "\n",
    "**10 Points**\n",
    "\n",
    "Below, build a transformed version of the data under a third degree polynomial kernel. Assign the transformed data as `ktrain_cubic` below. Use the transformed data to build a `LogisticRegression` estimator with `max_iter = 1000` named `cubic_logistic`, and examine the accuracy score of the estimator."
   ]
  },
  {
   "cell_type": "code",
   "execution_count": 10,
   "metadata": {
    "deletable": false,
    "nbgrader": {
     "cell_type": "code",
     "checksum": "fede1bc41a2f4b9357d29342156f2721",
     "grade": false,
     "grade_id": "cell-d331acc1500088b1",
     "locked": false,
     "schema_version": 3,
     "solution": true
    }
   },
   "outputs": [
    {
     "name": "stdout",
     "output_type": "stream",
     "text": [
      "0.9157303370786517\n"
     ]
    }
   ],
   "source": [
    "### GRADED\n",
    "ktrain_cubic = ''\n",
    "cubic_logistic = ''\n",
    "\n",
    "# YOUR CODE HERE\n",
    "#raise NotImplementedError()\n",
    "ktrain_cubic = polynomial_kernel(X, X, degree = 3)\n",
    "cubic_logistic = LogisticRegression(max_iter = 1000).fit(ktrain_cubic, y)\n",
    "\n",
    "### ANSWER CHECK\n",
    "print(cubic_logistic.score(ktrain_cubic, y))"
   ]
  },
  {
   "cell_type": "code",
   "execution_count": null,
   "metadata": {
    "deletable": false,
    "editable": false,
    "nbgrader": {
     "cell_type": "code",
     "checksum": "35b800fadf8076b5fa1d9d6bfd8004db",
     "grade": true,
     "grade_id": "cell-39a2d04fe94fc491",
     "locked": true,
     "points": 10,
     "schema_version": 3,
     "solution": false
    }
   },
   "outputs": [],
   "source": []
  },
  {
   "cell_type": "markdown",
   "metadata": {
    "deletable": false,
    "editable": false,
    "nbgrader": {
     "cell_type": "markdown",
     "checksum": "96bf51d1ebff422702e520463cd7eaed",
     "grade": false,
     "grade_id": "cell-2d147c9234349949",
     "locked": true,
     "schema_version": 3,
     "solution": false
    }
   },
   "source": [
    "[Back to top](#-Index)\n",
    "\n",
    "### Problem 3\n",
    "\n",
    "#### Logistic Regression with Gaussian Kernel\n",
    "\n",
    "**10 Points**\n",
    "\n",
    "Below, build a transformed version of the data under a gaussian kernel -- `rbf_kernel`. Assign the transformed data as `ktrain_rbf` below. Use the transformed data to build a `LogisticRegression` estimator named `rbf_logistic`, and examine the accuracy score of the estimator."
   ]
  },
  {
   "cell_type": "code",
   "execution_count": 11,
   "metadata": {
    "deletable": false,
    "nbgrader": {
     "cell_type": "code",
     "checksum": "cd7df17ae85add1257f61e27eb8a51f8",
     "grade": false,
     "grade_id": "cell-3750d3172110e5c9",
     "locked": false,
     "schema_version": 3,
     "solution": true
    }
   },
   "outputs": [
    {
     "name": "stdout",
     "output_type": "stream",
     "text": [
      "0.9101123595505618\n"
     ]
    }
   ],
   "source": [
    "### GRADED\n",
    "ktrain_rbf = ''\n",
    "rbf_logistic = ''\n",
    "\n",
    "# YOUR CODE HERE\n",
    "#raise NotImplementedError()\n",
    "ktrain_rbf = rbf_kernel(X, X)\n",
    "rbf_logistic = LogisticRegression(max_iter = 1000).fit(ktrain_rbf, y)\n",
    "\n",
    "### ANSWER CHECK\n",
    "print(rbf_logistic.score(ktrain_rbf, y))"
   ]
  },
  {
   "cell_type": "code",
   "execution_count": null,
   "metadata": {
    "deletable": false,
    "editable": false,
    "nbgrader": {
     "cell_type": "code",
     "checksum": "17233e1ba5187befb03615f286fe0acd",
     "grade": true,
     "grade_id": "cell-9c80d095b0f57712",
     "locked": true,
     "points": 10,
     "schema_version": 3,
     "solution": false
    }
   },
   "outputs": [],
   "source": []
  }
 ],
 "metadata": {
  "kernelspec": {
   "display_name": "Python 3 (ipykernel)",
   "language": "python",
   "name": "python3"
  },
  "language_info": {
   "codemirror_mode": {
    "name": "ipython",
    "version": 3
   },
   "file_extension": ".py",
   "mimetype": "text/x-python",
   "name": "python",
   "nbconvert_exporter": "python",
   "pygments_lexer": "ipython3",
   "version": "3.9.11"
  },
  "widgets": {
   "application/vnd.jupyter.widget-state+json": {
    "state": {},
    "version_major": 2,
    "version_minor": 0
   }
  }
 },
 "nbformat": 4,
 "nbformat_minor": 4
}
