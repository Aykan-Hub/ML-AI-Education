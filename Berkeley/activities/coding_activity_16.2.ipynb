{
 "cells": [
  {
   "cell_type": "markdown",
   "metadata": {
    "deletable": false,
    "editable": false,
    "nbgrader": {
     "cell_type": "markdown",
     "checksum": "511c93ad741997fb6db6b103f7e07506",
     "grade": false,
     "grade_id": "cell-9748a49b33f25ab7",
     "locked": true,
     "schema_version": 3,
     "solution": false
    }
   },
   "source": [
    "### Codio Activity 16.2: Decision Boundaries for Different Classification Models\n",
    "\n",
    "**Expected Time = 60 minutes**\n",
    "\n",
    "**Total Points = 50**\n",
    "\n",
    "This activity continues to examine how different classifiers decision boundaries shift as parameters change.  Both the `DecisionTreeClassifier` and its `max_depth` hyperparameter and the `KNeighborsClassifier` and its `n_neighbors` parameter will be explored.\n",
    "\n",
    "#### Index\n",
    "\n",
    "- [Problem 1](#-Problem-1)\n",
    "- [Problem 2](#-Problem-2)\n",
    "- [Problem 3](#-Problem-3)\n",
    "- [Problem 4](#-Problem-4)\n",
    "- [Problem 5](#-Problem-5)"
   ]
  },
  {
   "cell_type": "code",
   "execution_count": null,
   "metadata": {},
   "outputs": [],
   "source": [
    "import numpy as np\n",
    "import pandas as pd\n",
    "import matplotlib.pyplot as plt\n",
    "import seaborn as sns\n",
    "import warnings\n",
    "\n",
    "from sklearn.datasets import load_wine\n",
    "from sklearn.neighbors import KNeighborsClassifier\n",
    "from sklearn.tree import DecisionTreeClassifier\n",
    "from sklearn.preprocessing import StandardScaler, PolynomialFeatures\n",
    "from sklearn.pipeline import Pipeline\n",
    "from sklearn import set_config\n",
    "set_config(display=\"diagram\")\n",
    "warnings.filterwarnings('ignore')"
   ]
  },
  {
   "cell_type": "markdown",
   "metadata": {
    "deletable": false,
    "editable": false,
    "nbgrader": {
     "cell_type": "markdown",
     "checksum": "7d4d11b82070209824ed961556237ea7",
     "grade": false,
     "grade_id": "cell-21682d3439be561a",
     "locked": true,
     "schema_version": 3,
     "solution": false
    }
   },
   "source": [
    "### The Data\n",
    "\n",
    "Below, the scikitlearn wine dataset from the videos is loaded and displayed.  You will follow the example using `['total_phenols', 'color_intensity']` as predictors.  The `make_plot` function will plot the decision boundary of a given estimator."
   ]
  },
  {
   "cell_type": "code",
   "execution_count": null,
   "metadata": {},
   "outputs": [],
   "source": [
    "X, y = load_wine(return_X_y=True, as_frame=True)"
   ]
  },
  {
   "cell_type": "code",
   "execution_count": null,
   "metadata": {},
   "outputs": [],
   "source": [
    "X1 = X[['total_phenols', 'color_intensity']]"
   ]
  },
  {
   "cell_type": "code",
   "execution_count": null,
   "metadata": {},
   "outputs": [],
   "source": [
    "def make_plot(estimator):\n",
    "    xx = np.linspace(X1.iloc[:, 0].min(), X1.iloc[:, 0].max(), 50)\n",
    "    yy = np.linspace(X1.iloc[:, 1].min(), X1.iloc[:, 1].max(), 50)\n",
    "    XX, YY = np.meshgrid(xx, yy)\n",
    "    grid = np.c_[XX.ravel(), YY.ravel()]\n",
    "    labels = pd.factorize(estimator.predict(grid))[0]\n",
    "    plt.contourf(xx, yy, labels.reshape(XX.shape), cmap = 'twilight', alpha = 0.6)\n",
    "    sns.scatterplot(data = X1, x = 'total_phenols', y = 'color_intensity', hue = y,  palette = 'flare')"
   ]
  },
  {
   "cell_type": "markdown",
   "metadata": {
    "deletable": false,
    "editable": false,
    "nbgrader": {
     "cell_type": "markdown",
     "checksum": "c40e564aa3fc863439fca77a95a4d2d5",
     "grade": false,
     "grade_id": "cell-b949357e6d5f0071",
     "locked": true,
     "schema_version": 3,
     "solution": false
    }
   },
   "source": [
    "[Back to top](#-Index)\n",
    "\n",
    "### Problem 1\n",
    "\n",
    "#### KNN with `n_neighbors = 5`\n",
    "\n",
    "**10 Points**\n",
    "\n",
    "To begin, instantiate a pipeline to scale the data and fit a `KNeighborsClassifier` with `n_neighbors = 1`.  Assign this to `knn_pipe_1` below."
   ]
  },
  {
   "cell_type": "code",
   "execution_count": null,
   "metadata": {
    "deletable": false,
    "nbgrader": {
     "cell_type": "code",
     "checksum": "9ca279d9efe11b8d4fd4d1d7327ea618",
     "grade": false,
     "grade_id": "cell-eea32c4096e5f0f1",
     "locked": false,
     "schema_version": 3,
     "solution": true
    }
   },
   "outputs": [],
   "source": [
    "### GRADED\n",
    "knn_pipe_1 = ''\n",
    "    \n",
    "# YOUR CODE HERE\n",
    "#raise NotImplementedError()\n",
    "knn_pipe_1 = Pipeline([\n",
    "    ('scale', StandardScaler()),\n",
    "    ('model', KNeighborsClassifier(n_neighbors=1))\n",
    "]).fit(X1, y)\n",
    "\n",
    "### ANSWER CHECK\n",
    "print(knn_pipe_1)\n",
    "make_plot(knn_pipe_1)"
   ]
  },
  {
   "cell_type": "code",
   "execution_count": null,
   "metadata": {
    "deletable": false,
    "editable": false,
    "nbgrader": {
     "cell_type": "code",
     "checksum": "5bfc860ac07dd27cf20784afb79d1191",
     "grade": true,
     "grade_id": "cell-ac344e5046ca9c91",
     "locked": true,
     "points": 10,
     "schema_version": 3,
     "solution": false
    }
   },
   "outputs": [],
   "source": []
  },
  {
   "cell_type": "markdown",
   "metadata": {
    "deletable": false,
    "editable": false,
    "nbgrader": {
     "cell_type": "markdown",
     "checksum": "14e58f434da187ced245635a2507d77b",
     "grade": false,
     "grade_id": "cell-51e0aa64f322fd07",
     "locked": true,
     "schema_version": 3,
     "solution": false
    }
   },
   "source": [
    "[Back to top](#-Index)\n",
    "\n",
    "### Problem 2\n",
    "\n",
    "#### KNN with `n_neighbors = 5`\n",
    "\n",
    "**10 Points**\n",
    "\n",
    "\n",
    "Next, build a pipeline named `knn_pipe_5` below with named steps `scale` and `model` that uses `StandardScaler` and `KNeighborsClassifier` with `n_neighbors = 5`.  Fit this to the data and visualize the decision boundary."
   ]
  },
  {
   "cell_type": "code",
   "execution_count": null,
   "metadata": {
    "deletable": false,
    "nbgrader": {
     "cell_type": "code",
     "checksum": "df41f7a7acbaad3b17f95faea44f9c1e",
     "grade": false,
     "grade_id": "cell-888c62e592fc3048",
     "locked": false,
     "schema_version": 3,
     "solution": true
    }
   },
   "outputs": [],
   "source": [
    "### GRADED\n",
    "knn_pipe_5 = ''\n",
    "    \n",
    "# YOUR CODE HERE\n",
    "#raise NotImplementedError()\n",
    "knn_pipe_5 = Pipeline([\n",
    "    ('scale', StandardScaler()),\n",
    "    ('model', KNeighborsClassifier(n_neighbors=5))\n",
    "]).fit(X1, y)\n",
    "\n",
    "### ANSWER CHECK\n",
    "print(knn_pipe_5)\n",
    "make_plot(knn_pipe_5)"
   ]
  },
  {
   "cell_type": "code",
   "execution_count": null,
   "metadata": {
    "deletable": false,
    "editable": false,
    "nbgrader": {
     "cell_type": "code",
     "checksum": "4553447d7e0aa1f04693ef45a43d5d3b",
     "grade": true,
     "grade_id": "cell-3ef51f6e2de68eb0",
     "locked": true,
     "points": 10,
     "schema_version": 3,
     "solution": false
    }
   },
   "outputs": [],
   "source": []
  },
  {
   "cell_type": "markdown",
   "metadata": {
    "deletable": false,
    "editable": false,
    "nbgrader": {
     "cell_type": "markdown",
     "checksum": "5821e770cba729223552fcb55df45d9e",
     "grade": false,
     "grade_id": "cell-49f20e6fe293f1fa",
     "locked": true,
     "schema_version": 3,
     "solution": false
    }
   },
   "source": [
    "[Back to top](#-Index)\n",
    "\n",
    "### Problem 3\n",
    "\n",
    "#### `DecisionTreeClassifier` with `max_depth = 2`\n",
    "\n",
    "**10 Points**\n",
    "\n",
    "Now, fit a `DecisionTreeClassifier` with `max_depth = 2` and assign to `tree_depth_2` below.  Visualize the results and note the complexity of the decision boundary."
   ]
  },
  {
   "cell_type": "code",
   "execution_count": null,
   "metadata": {
    "deletable": false,
    "nbgrader": {
     "cell_type": "code",
     "checksum": "e1246d01a5c35d0bf9f3c13be21e790f",
     "grade": false,
     "grade_id": "cell-775ad666d08a3e7b",
     "locked": false,
     "schema_version": 3,
     "solution": true
    }
   },
   "outputs": [],
   "source": [
    "### GRADED\n",
    "tree_depth_2 = ''\n",
    "    \n",
    "# YOUR CODE HERE\n",
    "#raise NotImplementedError()\n",
    "tree_depth_2 = DecisionTreeClassifier(max_depth=2).fit(X1, y)\n",
    "\n",
    "### ANSWER CHECK\n",
    "print(tree_depth_2)\n",
    "make_plot(tree_depth_2)"
   ]
  },
  {
   "cell_type": "code",
   "execution_count": null,
   "metadata": {
    "deletable": false,
    "editable": false,
    "nbgrader": {
     "cell_type": "code",
     "checksum": "1132491e78516270ea15793237d49c19",
     "grade": true,
     "grade_id": "cell-7ac35f55a34c935d",
     "locked": true,
     "points": 10,
     "schema_version": 3,
     "solution": false
    }
   },
   "outputs": [],
   "source": []
  },
  {
   "cell_type": "markdown",
   "metadata": {
    "deletable": false,
    "editable": false,
    "nbgrader": {
     "cell_type": "markdown",
     "checksum": "ff48595c06c8c078d5e94fc5ff260bf8",
     "grade": false,
     "grade_id": "cell-9b92e3f22c8194f9",
     "locked": true,
     "schema_version": 3,
     "solution": false
    }
   },
   "source": [
    "[Back to top](#-Index)\n",
    "\n",
    "### Problem 4\n",
    "\n",
    "#### DecisionTreeClassifier with `max_depth = None`\n",
    "\n",
    "**10 Points**\n",
    "\n",
    "Finally, fit a `DecisionTreeClassifier` with `max_depth = None` and assign to `tree_depth_none` below.  Visualize the results and note the complexity of the decision boundary."
   ]
  },
  {
   "cell_type": "code",
   "execution_count": null,
   "metadata": {
    "deletable": false,
    "nbgrader": {
     "cell_type": "code",
     "checksum": "41491ba8bf003bf7d9bad5e8c8fe9b96",
     "grade": false,
     "grade_id": "cell-729d4829d1ea326c",
     "locked": false,
     "schema_version": 3,
     "solution": true
    }
   },
   "outputs": [],
   "source": [
    "### GRADED\n",
    "tree_depth_none = ''\n",
    "    \n",
    "# YOUR CODE HERE\n",
    "#raise NotImplementedError()\n",
    "tree_depth_none = DecisionTreeClassifier(max_depth=None).fit(X1, y)\n",
    "\n",
    "### ANSWER CHECK\n",
    "print(tree_depth_none)\n",
    "make_plot(tree_depth_none)"
   ]
  },
  {
   "cell_type": "code",
   "execution_count": null,
   "metadata": {
    "deletable": false,
    "editable": false,
    "nbgrader": {
     "cell_type": "code",
     "checksum": "4fd9589cee7119b669b6a468d60d74fa",
     "grade": true,
     "grade_id": "cell-d388c47c702d1371",
     "locked": true,
     "points": 10,
     "schema_version": 3,
     "solution": false
    }
   },
   "outputs": [],
   "source": []
  },
  {
   "cell_type": "markdown",
   "metadata": {
    "deletable": false,
    "editable": false,
    "nbgrader": {
     "cell_type": "markdown",
     "checksum": "b9a5e27d9abed5f32f7609dff9f783cc",
     "grade": false,
     "grade_id": "cell-e994ad840e43ff45",
     "locked": true,
     "schema_version": 3,
     "solution": false
    }
   },
   "source": [
    "### Problem 5\n",
    "\n",
    "#### Complexity and Parameters in KNN and Decision Tree\n",
    "\n",
    "**10 Points**\n",
    "\n",
    "Based on the above results, which of the statements align with increasingly complex decision boundaries?\n",
    "\n",
    "```\n",
    "a. Increase in `max_depth` and `n_neighbors`\n",
    "b. Decrease in `max_depth` and `n_neighbors`\n",
    "c. Increase in `max_depth` and  Decrease in `n_neighbors`\n",
    "d. Decrease in `max_depth` and Increase in `n_neighbors`\n",
    "```\n",
    "\n",
    "Enter your answer choice as a string to `ans_5` below."
   ]
  },
  {
   "cell_type": "code",
   "execution_count": null,
   "metadata": {
    "deletable": false,
    "nbgrader": {
     "cell_type": "code",
     "checksum": "11cc54e4dbadc24724086041f54971cd",
     "grade": false,
     "grade_id": "cell-e86c51f82e2b94ad",
     "locked": false,
     "schema_version": 3,
     "solution": true
    }
   },
   "outputs": [],
   "source": [
    "### GRADED\n",
    "ans_5 = ''\n",
    "    \n",
    "# YOUR CODE HERE\n",
    "#raise NotImplementedError()\n",
    "ans_5 = 'c'\n",
    "\n",
    "### ANSWER CHECK\n",
    "print(ans_5)"
   ]
  },
  {
   "cell_type": "code",
   "execution_count": null,
   "metadata": {
    "deletable": false,
    "editable": false,
    "nbgrader": {
     "cell_type": "code",
     "checksum": "e1ac4387af2da34ba9c18e41b1efd353",
     "grade": true,
     "grade_id": "cell-04551bb36aee02d1",
     "locked": true,
     "points": 10,
     "schema_version": 3,
     "solution": false
    }
   },
   "outputs": [],
   "source": []
  }
 ],
 "metadata": {
  "kernelspec": {
   "display_name": "Python 3 (ipykernel)",
   "language": "python",
   "name": "python3"
  },
  "language_info": {
   "codemirror_mode": {
    "name": "ipython",
    "version": 3
   },
   "file_extension": ".py",
   "mimetype": "text/x-python",
   "name": "python",
   "nbconvert_exporter": "python",
   "pygments_lexer": "ipython3",
   "version": "3.9.7"
  }
 },
 "nbformat": 4,
 "nbformat_minor": 4
}
