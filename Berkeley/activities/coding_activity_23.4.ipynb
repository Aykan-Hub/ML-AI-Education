{
 "cells": [
  {
   "cell_type": "markdown",
   "metadata": {
    "deletable": false,
    "editable": false,
    "nbgrader": {
     "cell_type": "markdown",
     "checksum": "5b0a00e6bf62dc05ab6d29e0dcd72d2f",
     "grade": false,
     "grade_id": "cell-1af27d3e65f74335",
     "locked": true,
     "schema_version": 3,
     "solution": false,
     "task": false
    }
   },
   "source": [
    "### Codio Activity 23.4: Fine Tuning a Pre-trained Network\n",
    "\n",
    "**Expected Time = 60 minutes**\n",
    "\n",
    "**Total Points = 30**\n",
    "\n",
    "In addition to the use of a pre-trained network to extract features from a different dataset, the weights can be adjusted or **fine-tuned** as a last step to squeeze additional performance from the network.  To do so, you will again use the `EfficientNetV2B0` network on the `cifar10` data from `keras`.  This time you are encouraged to use the functional API syntax to construct your network.  \n",
    "\n",
    "For a second example, consult the `keras` documentation example [here](https://keras.io/guides/transfer_learning/). \n",
    "\n",
    "#### Index\n",
    "\n",
    "- [Problem 1](#-Problem-1)\n",
    "- [Problem 2](#-Problem-2)\n",
    "- [Problem 3](#-Problem-3)"
   ]
  },
  {
   "cell_type": "code",
   "execution_count": 1,
   "metadata": {},
   "outputs": [
    {
     "name": "stderr",
     "output_type": "stream",
     "text": [
      "2022-09-17 14:28:24.229040: W tensorflow/stream_executor/platform/default/dso_loader.cc:64] Could not load dynamic library 'libcudart.so.11.0'; dlerror: libcudart.so.11.0: cannot open shared object file: No such file or directory\n",
      "2022-09-17 14:28:24.229078: I tensorflow/stream_executor/cuda/cudart_stub.cc:29] Ignore above cudart dlerror if you do not have a GPU set up on your machine.\n"
     ]
    }
   ],
   "source": [
    "import numpy as np\n",
    "import pandas as pd\n",
    "import matplotlib.pyplot as plt\n",
    "\n",
    "\n",
    "from tensorflow.keras.applications.efficientnet_v2 import EfficientNetV2B0\n",
    "from tensorflow.keras.layers import Dense, Flatten\n",
    "from tensorflow.keras.models import Sequential\n",
    "from tensorflow.keras.utils import to_categorical\n",
    "import tensorflow as tf\n",
    "from tensorflow.keras.datasets import cifar10\n",
    "from tensorflow.keras import Model, Input"
   ]
  },
  {
   "cell_type": "code",
   "execution_count": 2,
   "metadata": {},
   "outputs": [
    {
     "name": "stdout",
     "output_type": "stream",
     "text": [
      "Downloading data from https://www.cs.toronto.edu/~kriz/cifar-10-python.tar.gz\n",
      "170498071/170498071 [==============================] - 2s 0us/step\n"
     ]
    }
   ],
   "source": [
    "(X_train, y_train), (X_test, y_test) = cifar10.load_data()\n",
    "sub_indices = pd.DataFrame(y_train, columns= [\"labels\"]).groupby('labels', group_keys=False).apply(lambda x: x.sample(frac=0.3, random_state=123)).index\n",
    "X_train = X_train[sub_indices]\n",
    "y_train = y_train[sub_indices]\n",
    "\n",
    "Y_train = to_categorical(y_train)\n",
    "Y_test = to_categorical(y_test)\n"
   ]
  },
  {
   "cell_type": "markdown",
   "metadata": {
    "deletable": false,
    "editable": false,
    "nbgrader": {
     "cell_type": "markdown",
     "checksum": "a33c08ee3ca906d87dcc11789627e326",
     "grade": false,
     "grade_id": "cell-c8d37aca8ee95d87",
     "locked": true,
     "schema_version": 3,
     "solution": false,
     "task": false
    }
   },
   "source": [
    "[Back to top](#-Index)\n",
    "\n",
    "### Problem 1\n",
    "\n",
    "#### Training the Network to Convergence\n",
    "\n",
    "**10 Points**\n",
    "\n",
    "Below, use the `EfficientNetV2B0` as `base_model` with appropriate input shape and the functional API to create a model using the `base_model`, flatten the results, pass through a `Dense` layer of 100 units and an appropriate output layer.  Name the `Input` inputs and the output layer `outputs`.  Compile the model and fit it using 20 epochs, assigning the history as `history`.  \n",
    "\n",
    "**Make sure the `base_model` weights are not trainable.**"
   ]
  },
  {
   "cell_type": "code",
   "execution_count": 3,
   "metadata": {
    "deletable": false,
    "nbgrader": {
     "cell_type": "code",
     "checksum": "06e74ff5270af05f7fd75aef58b5b91d",
     "grade": false,
     "grade_id": "cell-e92e20d0c85d3026",
     "locked": false,
     "schema_version": 3,
     "solution": true,
     "task": false
    }
   },
   "outputs": [
    {
     "name": "stderr",
     "output_type": "stream",
     "text": [
      "2022-09-17 14:46:03.852249: W tensorflow/stream_executor/platform/default/dso_loader.cc:64] Could not load dynamic library 'libcuda.so.1'; dlerror: libcuda.so.1: cannot open shared object file: No such file or directory\n",
      "2022-09-17 14:46:03.853059: W tensorflow/stream_executor/cuda/cuda_driver.cc:269] failed call to cuInit: UNKNOWN ERROR (303)\n",
      "2022-09-17 14:46:03.854723: I tensorflow/stream_executor/cuda/cuda_diagnostics.cc:156] kernel driver does not appear to be running on this host (chantgravity-marydisney): /proc/driver/nvidia/version does not exist\n",
      "2022-09-17 14:46:03.860731: I tensorflow/core/platform/cpu_feature_guard.cc:193] This TensorFlow binary is optimized with oneAPI Deep Neural Network Library (oneDNN) to use the following CPU instructions in performance-critical operations:  AVX2 AVX512F FMA\n",
      "To enable them in other operations, rebuild TensorFlow with the appropriate compiler flags.\n"
     ]
    },
    {
     "name": "stdout",
     "output_type": "stream",
     "text": [
      "Downloading data from https://storage.googleapis.com/tensorflow/keras-applications/efficientnet_v2/efficientnetv2-b0_notop.h5\n",
      "24274472/24274472 [==============================] - 0s 0us/step\n",
      "Epoch 1/20\n",
      "469/469 [==============================] - 26s 44ms/step - loss: 1.5237 - accuracy: 0.4677 - val_loss: 1.2817 - val_accuracy: 0.5443\n",
      "Epoch 2/20\n",
      "469/469 [==============================] - 17s 36ms/step - loss: 1.2534 - accuracy: 0.5611 - val_loss: 1.2151 - val_accuracy: 0.5704\n",
      "Epoch 3/20\n",
      "469/469 [==============================] - 17s 36ms/step - loss: 1.1691 - accuracy: 0.5865 - val_loss: 1.2125 - val_accuracy: 0.5758\n",
      "Epoch 4/20\n",
      "469/469 [==============================] - 17s 35ms/step - loss: 1.1272 - accuracy: 0.6042 - val_loss: 1.1738 - val_accuracy: 0.5952\n",
      "Epoch 5/20\n",
      "469/469 [==============================] - 17s 35ms/step - loss: 1.0928 - accuracy: 0.6167 - val_loss: 1.2481 - val_accuracy: 0.5664\n",
      "Epoch 6/20\n",
      "469/469 [==============================] - 17s 35ms/step - loss: 1.0638 - accuracy: 0.6236 - val_loss: 1.1997 - val_accuracy: 0.5909\n",
      "Epoch 7/20\n",
      "469/469 [==============================] - 16s 35ms/step - loss: 1.0276 - accuracy: 0.6362 - val_loss: 1.1575 - val_accuracy: 0.6050\n",
      "Epoch 8/20\n",
      "469/469 [==============================] - 16s 35ms/step - loss: 1.0133 - accuracy: 0.6401 - val_loss: 1.1483 - val_accuracy: 0.5976\n",
      "Epoch 9/20\n",
      "469/469 [==============================] - 17s 35ms/step - loss: 0.9986 - accuracy: 0.6487 - val_loss: 1.1499 - val_accuracy: 0.5972\n",
      "Epoch 10/20\n",
      "469/469 [==============================] - 17s 36ms/step - loss: 0.9711 - accuracy: 0.6563 - val_loss: 1.1742 - val_accuracy: 0.5996\n",
      "Epoch 11/20\n",
      "469/469 [==============================] - 17s 35ms/step - loss: 0.9478 - accuracy: 0.6669 - val_loss: 1.1527 - val_accuracy: 0.6016\n",
      "Epoch 12/20\n",
      "469/469 [==============================] - 16s 35ms/step - loss: 0.9294 - accuracy: 0.6693 - val_loss: 1.1279 - val_accuracy: 0.6191\n",
      "Epoch 13/20\n",
      "469/469 [==============================] - 16s 35ms/step - loss: 0.9076 - accuracy: 0.6768 - val_loss: 1.1920 - val_accuracy: 0.5933\n",
      "Epoch 14/20\n",
      "469/469 [==============================] - 17s 35ms/step - loss: 0.8998 - accuracy: 0.6823 - val_loss: 1.1468 - val_accuracy: 0.6112\n",
      "Epoch 15/20\n",
      "469/469 [==============================] - 17s 36ms/step - loss: 0.8764 - accuracy: 0.6865 - val_loss: 1.1693 - val_accuracy: 0.6091\n",
      "Epoch 16/20\n",
      "469/469 [==============================] - 17s 36ms/step - loss: 0.8594 - accuracy: 0.6987 - val_loss: 1.1742 - val_accuracy: 0.6042\n",
      "Epoch 17/20\n",
      "469/469 [==============================] - 16s 35ms/step - loss: 0.8512 - accuracy: 0.7038 - val_loss: 1.1584 - val_accuracy: 0.6065\n",
      "Epoch 18/20\n",
      "469/469 [==============================] - 16s 35ms/step - loss: 0.8300 - accuracy: 0.7047 - val_loss: 1.2135 - val_accuracy: 0.5979\n",
      "Epoch 19/20\n",
      "469/469 [==============================] - 16s 35ms/step - loss: 0.8209 - accuracy: 0.7141 - val_loss: 1.1995 - val_accuracy: 0.6068\n",
      "Epoch 20/20\n",
      "469/469 [==============================] - 17s 35ms/step - loss: 0.7943 - accuracy: 0.7224 - val_loss: 1.2255 - val_accuracy: 0.6036\n",
      "Model: \"model\"\n",
      "_________________________________________________________________\n",
      " Layer (type)                Output Shape              Param #   \n",
      "=================================================================\n",
      " input_2 (InputLayer)        [(None, 32, 32, 3)]       0         \n",
      "                                                                 \n",
      " efficientnetv2-b0 (Function  (None, 1, 1, 1280)       5919312   \n",
      " al)                                                             \n",
      "                                                                 \n",
      " flatten (Flatten)           (None, 1280)              0         \n",
      "                                                                 \n",
      " dense (Dense)               (None, 100)               128100    \n",
      "                                                                 \n",
      " dense_1 (Dense)             (None, 10)                1010      \n",
      "                                                                 \n",
      "=================================================================\n",
      "Total params: 6,048,422\n",
      "Trainable params: 129,110\n",
      "Non-trainable params: 5,919,312\n",
      "_________________________________________________________________\n",
      "None\n"
     ]
    }
   ],
   "source": [
    "### GRADED\n",
    "base_model = ''\n",
    "inputs = ''\n",
    "x = ''\n",
    "x = ''\n",
    "x = ''\n",
    "output = ''\n",
    "model = ''\n",
    "#be sure to compile\n",
    "\n",
    "bottom_model = ''\n",
    "    \n",
    "# YOUR CODE HERE\n",
    "#raise NotImplementedError()\n",
    "base_model = EfficientNetV2B0(input_shape = (32, 32, 3), include_top=False)\n",
    "inputs = Input(shape = (32, 32, 3))\n",
    "x = base_model(inputs)\n",
    "x = Flatten()(x)\n",
    "x = Dense(100, activation = 'relu')(x)\n",
    "output = Dense(10, activation = 'sigmoid')(x)\n",
    "base_model.trainable = False\n",
    "model = Model(inputs, output)\n",
    "model.compile(loss = 'categorical_crossentropy', metrics = ['accuracy'])\n",
    "bottom_model = model.fit(X_train, Y_train, epochs = 20, validation_data = (X_test, Y_test))\n",
    "#be sure to compile\n",
    "### ANSWER CHECK\n",
    "print(model.summary())"
   ]
  },
  {
   "cell_type": "code",
   "execution_count": null,
   "metadata": {
    "deletable": false,
    "editable": false,
    "nbgrader": {
     "cell_type": "code",
     "checksum": "6b83eb00a52364595f510b8efcf820e0",
     "grade": true,
     "grade_id": "cell-c7a974852163092b",
     "locked": true,
     "points": 10,
     "schema_version": 3,
     "solution": false,
     "task": false
    }
   },
   "outputs": [],
   "source": []
  },
  {
   "cell_type": "markdown",
   "metadata": {
    "deletable": false,
    "editable": false,
    "nbgrader": {
     "cell_type": "markdown",
     "checksum": "a17a06e049b4578ad70e92ad18ad22fc",
     "grade": false,
     "grade_id": "cell-72d9644d3c68011b",
     "locked": true,
     "schema_version": 3,
     "solution": false,
     "task": false
    }
   },
   "source": [
    "[Back to top](#-Index)\n",
    "\n",
    "### Problem 2\n",
    "\n",
    "#### Setting to Trainable\n",
    "\n",
    "**10 Points**\n",
    "\n",
    "After fitting the model above, you can set the layers to trainable to update the weights.  Below, set the final five layers to trainable in the `base_model` as demonstrated in the lectures. "
   ]
  },
  {
   "cell_type": "code",
   "execution_count": 4,
   "metadata": {},
   "outputs": [
    {
     "data": {
      "text/plain": [
       "False"
      ]
     },
     "execution_count": 4,
     "metadata": {},
     "output_type": "execute_result"
    }
   ],
   "source": [
    "base_model.trainable #are the base model weights set to trainable?"
   ]
  },
  {
   "cell_type": "code",
   "execution_count": 5,
   "metadata": {
    "deletable": false,
    "nbgrader": {
     "cell_type": "code",
     "checksum": "465df4f734e0174f0d0a543277c31b5a",
     "grade": false,
     "grade_id": "cell-17e4f0a4de6dc3b8",
     "locked": false,
     "schema_version": 3,
     "solution": true,
     "task": false
    }
   },
   "outputs": [
    {
     "name": "stdout",
     "output_type": "stream",
     "text": [
      "Layer is trainable: False\n",
      "Layer is trainable: False\n",
      "Layer is trainable: False\n",
      "Layer is trainable: False\n",
      "Layer is trainable: False\n",
      "Layer is trainable: True\n",
      "Layer is trainable: True\n",
      "Layer is trainable: True\n",
      "Layer is trainable: True\n",
      "Layer is trainable: True\n"
     ]
    }
   ],
   "source": [
    "### GRADED\n",
    "base_model.trainable = True\n",
    "for layer in '':\n",
    "    #make trainable\n",
    "    pass\n",
    "    \n",
    "# YOUR CODE HERE\n",
    "#raise NotImplementedError()\n",
    "base_model.trainable = True\n",
    "for layer in base_model.layers[:-5]:\n",
    "    layer.trainable = False\n",
    "\n",
    "### ANSWER CHECK\n",
    "for i, layer in enumerate(base_model.layers[-10:]):\n",
    "    print(f'Layer is trainable: {layer.trainable}')"
   ]
  },
  {
   "cell_type": "code",
   "execution_count": null,
   "metadata": {
    "deletable": false,
    "editable": false,
    "nbgrader": {
     "cell_type": "code",
     "checksum": "963ff0ce2fd1f10e325f223a5842c19f",
     "grade": true,
     "grade_id": "cell-279935493600bece",
     "locked": true,
     "points": 10,
     "schema_version": 3,
     "solution": false,
     "task": false
    }
   },
   "outputs": [],
   "source": []
  },
  {
   "cell_type": "markdown",
   "metadata": {
    "deletable": false,
    "editable": false,
    "nbgrader": {
     "cell_type": "markdown",
     "checksum": "dea68b9a22fddf6285953c9b33adda5c",
     "grade": false,
     "grade_id": "cell-0307a936396eedc2",
     "locked": true,
     "schema_version": 3,
     "solution": false,
     "task": false
    }
   },
   "source": [
    "[Back to top](#-Index)\n",
    "\n",
    "### Problem 3\n",
    "\n",
    "#### Refitting the network\n",
    "\n",
    "**10 Points**\n",
    "\n",
    "Finally, specify the `model` compilation and fit this again for 10 epochs, assigning the resulting history to `fine_tuned_history` below. "
   ]
  },
  {
   "cell_type": "code",
   "execution_count": 6,
   "metadata": {
    "deletable": false,
    "nbgrader": {
     "cell_type": "code",
     "checksum": "368204078562a399aa8f7a4c82b0df6b",
     "grade": false,
     "grade_id": "cell-75f43fbafe9c0840",
     "locked": false,
     "schema_version": 3,
     "solution": true,
     "task": false
    }
   },
   "outputs": [
    {
     "name": "stdout",
     "output_type": "stream",
     "text": [
      "Epoch 1/10\n",
      "469/469 [==============================] - 32s 46ms/step - loss: 3.3728 - accuracy: 0.4691 - val_loss: 1.6639 - val_accuracy: 0.5512\n",
      "Epoch 2/10\n",
      "469/469 [==============================] - 18s 38ms/step - loss: 1.1971 - accuracy: 0.6262 - val_loss: 1.4588 - val_accuracy: 0.5830\n",
      "Epoch 3/10\n",
      "469/469 [==============================] - 17s 37ms/step - loss: 0.9860 - accuracy: 0.6750 - val_loss: 1.3650 - val_accuracy: 0.5923\n",
      "Epoch 4/10\n",
      "469/469 [==============================] - 18s 38ms/step - loss: 0.8846 - accuracy: 0.7158 - val_loss: 1.4243 - val_accuracy: 0.6008\n",
      "Epoch 5/10\n",
      "469/469 [==============================] - 17s 37ms/step - loss: 0.8062 - accuracy: 0.7449 - val_loss: 1.4638 - val_accuracy: 0.6025\n",
      "Epoch 6/10\n",
      "469/469 [==============================] - 17s 37ms/step - loss: 0.7391 - accuracy: 0.7613 - val_loss: 1.5749 - val_accuracy: 0.6060\n",
      "Epoch 7/10\n",
      "469/469 [==============================] - 18s 38ms/step - loss: 0.6831 - accuracy: 0.7818 - val_loss: 1.5384 - val_accuracy: 0.6107\n",
      "Epoch 8/10\n",
      "469/469 [==============================] - 18s 38ms/step - loss: 0.6387 - accuracy: 0.7918 - val_loss: 1.6728 - val_accuracy: 0.6121\n",
      "Epoch 9/10\n",
      "469/469 [==============================] - 17s 37ms/step - loss: 0.6033 - accuracy: 0.8090 - val_loss: 1.6301 - val_accuracy: 0.6139\n",
      "Epoch 10/10\n",
      "469/469 [==============================] - 17s 37ms/step - loss: 0.5774 - accuracy: 0.8171 - val_loss: 1.7358 - val_accuracy: 0.6115\n"
     ]
    },
    {
     "data": {
      "text/plain": [
       "0.8170666694641113"
      ]
     },
     "execution_count": 6,
     "metadata": {},
     "output_type": "execute_result"
    }
   ],
   "source": [
    "### GRADED\n",
    "fine_tuned_history = ''\n",
    "    \n",
    "# YOUR CODE HERE\n",
    "#raise NotImplementedError()\n",
    "model.compile(loss = 'categorical_crossentropy', metrics = ['accuracy'])\n",
    "fine_tuned_history = model.fit(X_train, Y_train, epochs = 10, validation_data = (X_test, Y_test))\n",
    "\n",
    "### ANSWER CHECK\n",
    "fine_tuned_history.history['accuracy'][-1]"
   ]
  },
  {
   "cell_type": "code",
   "execution_count": null,
   "metadata": {
    "deletable": false,
    "editable": false,
    "nbgrader": {
     "cell_type": "code",
     "checksum": "055bfce99aa9b476ac9303a9a6209674",
     "grade": true,
     "grade_id": "cell-c60ddea5358927c2",
     "locked": true,
     "points": 10,
     "schema_version": 3,
     "solution": false,
     "task": false
    }
   },
   "outputs": [],
   "source": []
  }
 ],
 "metadata": {
  "kernelspec": {
   "display_name": "Python 3 (ipykernel)",
   "language": "python",
   "name": "python3"
  },
  "language_info": {
   "codemirror_mode": {
    "name": "ipython",
    "version": 3
   },
   "file_extension": ".py",
   "mimetype": "text/x-python",
   "name": "python",
   "nbconvert_exporter": "python",
   "pygments_lexer": "ipython3",
   "version": "3.9.11"
  },
  "widgets": {
   "application/vnd.jupyter.widget-state+json": {
    "state": {},
    "version_major": 2,
    "version_minor": 0
   }
  }
 },
 "nbformat": 4,
 "nbformat_minor": 4
}
