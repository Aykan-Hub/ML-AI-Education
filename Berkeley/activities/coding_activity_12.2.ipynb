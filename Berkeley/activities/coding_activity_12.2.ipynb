{
 "cells": [
  {
   "cell_type": "markdown",
   "metadata": {
    "deletable": false,
    "editable": false,
    "nbgrader": {
     "cell_type": "markdown",
     "checksum": "e9e0191536062acb98a9fa075d60b502",
     "grade": false,
     "grade_id": "cell-caf9b09bbb7a6d2b",
     "locked": true,
     "schema_version": 3,
     "solution": false
    }
   },
   "source": [
    "### Codio Activity 12.2: Identifying the Best K\n",
    "\n",
    "This activity focuses on identifying the \"best\" number of neighbors that optimize the accuracy of a `KNearestNeighbors` estimator. The ideal number of neighbors will be selected through cross validation and a grid search over the `n_neighbors` parameter.  Again, prior to building the model you will want to scale the data in a `Pipeline`.\n",
    "\n",
    "**Expected Time: 60 Minutes**\n",
    "\n",
    "**Total Points: 50**\n",
    "\n",
    "#### Index\n",
    "\n",
    "- [Problem 1](#Problem-1)\n",
    "- [Problem 2](#Problem-2)\n",
    "- [Problem 3](#Problem-3)\n",
    "- [Problem 4](#Problem-4)\n",
    "- [Problem 5](#Problem-5)\n",
    "- [Problem 6](#Problem-6)\n"
   ]
  },
  {
   "cell_type": "code",
   "execution_count": 1,
   "metadata": {},
   "outputs": [],
   "source": [
    "import pandas as pd\n",
    "import numpy as np\n",
    "import matplotlib.pyplot as plt\n",
    "\n",
    "from sklearn.neighbors import KNeighborsClassifier\n",
    "from sklearn.preprocessing import StandardScaler, OneHotEncoder\n",
    "from sklearn.model_selection import train_test_split, GridSearchCV\n",
    "from sklearn.compose import make_column_transformer\n",
    "from sklearn.pipeline import Pipeline"
   ]
  },
  {
   "cell_type": "markdown",
   "metadata": {
    "deletable": false,
    "editable": false,
    "nbgrader": {
     "cell_type": "markdown",
     "checksum": "7e5aaf54bb781b2210386acc89b54044",
     "grade": false,
     "grade_id": "cell-92956d10bb3cb667",
     "locked": true,
     "schema_version": 3,
     "solution": false
    }
   },
   "source": [
    "### The Dataset\n",
    "\n",
    "Again, you will use the credit default dataset to predict default -- yes or no.  The data is loaded and split into train and test set for you below.  You will again build a column transformer to encode the `student` feature.  Note that scikitlearn handles a string target features in the `KNeighborsClassifier`, and we do not need to encode this column."
   ]
  },
  {
   "cell_type": "code",
   "execution_count": 2,
   "metadata": {},
   "outputs": [],
   "source": [
    "df = pd.read_csv('data/default.csv', index_col=0)"
   ]
  },
  {
   "cell_type": "code",
   "execution_count": 3,
   "metadata": {
    "jupyter": {
     "source_hidden": true
    }
   },
   "outputs": [
    {
     "data": {
      "text/html": [
       "<div>\n",
       "<style scoped>\n",
       "    .dataframe tbody tr th:only-of-type {\n",
       "        vertical-align: middle;\n",
       "    }\n",
       "\n",
       "    .dataframe tbody tr th {\n",
       "        vertical-align: top;\n",
       "    }\n",
       "\n",
       "    .dataframe thead th {\n",
       "        text-align: right;\n",
       "    }\n",
       "</style>\n",
       "<table border=\"1\" class=\"dataframe\">\n",
       "  <thead>\n",
       "    <tr style=\"text-align: right;\">\n",
       "      <th></th>\n",
       "      <th>default</th>\n",
       "      <th>student</th>\n",
       "      <th>balance</th>\n",
       "      <th>income</th>\n",
       "    </tr>\n",
       "  </thead>\n",
       "  <tbody>\n",
       "    <tr>\n",
       "      <th>1</th>\n",
       "      <td>No</td>\n",
       "      <td>No</td>\n",
       "      <td>729.526495</td>\n",
       "      <td>44361.625074</td>\n",
       "    </tr>\n",
       "    <tr>\n",
       "      <th>2</th>\n",
       "      <td>No</td>\n",
       "      <td>Yes</td>\n",
       "      <td>817.180407</td>\n",
       "      <td>12106.134700</td>\n",
       "    </tr>\n",
       "  </tbody>\n",
       "</table>\n",
       "</div>"
      ],
      "text/plain": [
       "  default student     balance        income\n",
       "1      No      No  729.526495  44361.625074\n",
       "2      No     Yes  817.180407  12106.134700"
      ]
     },
     "execution_count": 3,
     "metadata": {},
     "output_type": "execute_result"
    }
   ],
   "source": [
    "df.head(2)"
   ]
  },
  {
   "cell_type": "code",
   "execution_count": 4,
   "metadata": {},
   "outputs": [],
   "source": [
    "X_train, X_test, y_train, y_test = train_test_split(df.drop('default', axis = 1), \n",
    "                                                    df['default'],\n",
    "                                                   random_state=42)"
   ]
  },
  {
   "cell_type": "markdown",
   "metadata": {
    "deletable": false,
    "editable": false,
    "nbgrader": {
     "cell_type": "markdown",
     "checksum": "f3aab0dcfe040dda82d207fa9038800f",
     "grade": false,
     "grade_id": "cell-f7072b73c70cd968",
     "locked": true,
     "schema_version": 3,
     "solution": false
    }
   },
   "source": [
    "[Back to top](#-Index)\n",
    "\n",
    "### Problem 1\n",
    "\n",
    "#### Baseline for Models\n",
    "\n",
    "**5 Points**\n",
    "\n",
    "Before starting the modeling process, you should have a baseline to determine whether your model is any good.  For your classifier, consider a baseline model as one in which you always guess the most frequently occurring class.  What would the accuracy of such a classifier be?  Enter your answer as a float to `baseline` below."
   ]
  },
  {
   "cell_type": "code",
   "execution_count": 27,
   "metadata": {},
   "outputs": [
    {
     "data": {
      "text/plain": [
       "No     0.9667\n",
       "Yes    0.0333\n",
       "Name: default, dtype: float64"
      ]
     },
     "execution_count": 27,
     "metadata": {},
     "output_type": "execute_result"
    }
   ],
   "source": [
    "df['default'].value_counts(normalize = True)[0]"
   ]
  },
  {
   "cell_type": "code",
   "execution_count": 28,
   "metadata": {
    "deletable": false,
    "nbgrader": {
     "cell_type": "code",
     "checksum": "d17424a1b93c010a2e9415fc4210d2d8",
     "grade": false,
     "grade_id": "cell-c176ee67477c55e6",
     "locked": false,
     "schema_version": 3,
     "solution": true
    }
   },
   "outputs": [
    {
     "name": "stdout",
     "output_type": "stream",
     "text": [
      "0.9667\n"
     ]
    }
   ],
   "source": [
    "### GRADED\n",
    "\n",
    "baseline = ''\n",
    "\n",
    "# YOUR CODE HERE\n",
    "#raise NotImplementedError()\n",
    "baseline = df['default'].value_counts(normalize = True)[0]\n",
    "\n",
    "# Answer check\n",
    "print(baseline)"
   ]
  },
  {
   "cell_type": "code",
   "execution_count": null,
   "metadata": {
    "deletable": false,
    "editable": false,
    "nbgrader": {
     "cell_type": "code",
     "checksum": "8aa9e62193a3ff6013fc11988a7b87f4",
     "grade": true,
     "grade_id": "cell-907380b3b6381c0a",
     "locked": true,
     "points": 5,
     "schema_version": 3,
     "solution": false
    }
   },
   "outputs": [],
   "source": []
  },
  {
   "cell_type": "markdown",
   "metadata": {
    "deletable": false,
    "editable": false,
    "nbgrader": {
     "cell_type": "markdown",
     "checksum": "db3f92c60c15379ae8a8814bf9fdbd75",
     "grade": false,
     "grade_id": "cell-1dd40c4b785568a5",
     "locked": true,
     "schema_version": 3,
     "solution": false
    }
   },
   "source": [
    "[Back to top](#-Index)\n",
    "\n",
    "### Problem 2\n",
    "\n",
    "#### Column transforms and KNN\n",
    "\n",
    "**10 Points**\n",
    "\n",
    "\n",
    "Hopefully you are getting the hang of using the column transformers and estimators in scikit-learn.  Below, use `make_column_transformer` to binarize `student` with the `OneHotEncoder` with `drop = 'if_binary'` and the remaining columns are scaled with the `StandardScaler`.  Assign this to `transformer` below.  \n",
    "\n",
    "Next, build a `Pipeline` named `knn_pipe` with named steps `transform` and `knn`. Be sure to leave all the settings in `knn` to default.  "
   ]
  },
  {
   "cell_type": "code",
   "execution_count": 6,
   "metadata": {
    "deletable": false,
    "nbgrader": {
     "cell_type": "code",
     "checksum": "9ec041987e5ffa085234fc123377f98b",
     "grade": false,
     "grade_id": "cell-ec78a85ab645b292",
     "locked": false,
     "schema_version": 3,
     "solution": true
    }
   },
   "outputs": [
    {
     "data": {
      "text/plain": [
       "Pipeline(steps=[('transform',\n",
       "                 ColumnTransformer(remainder=StandardScaler(),\n",
       "                                   transformers=[('onehotencoder',\n",
       "                                                  OneHotEncoder(drop='if_binary'),\n",
       "                                                  ['student'])])),\n",
       "                ('knn', KNeighborsClassifier())])"
      ]
     },
     "execution_count": 6,
     "metadata": {},
     "output_type": "execute_result"
    }
   ],
   "source": [
    "### GRADED\n",
    "\n",
    "transformer = ''\n",
    "knn_pipe = ''\n",
    "\n",
    "# YOUR CODE HERE\n",
    "#raise NotImplementedError()\n",
    "transformer = make_column_transformer((OneHotEncoder(drop = 'if_binary'), ['student']), \n",
    "                                     remainder = StandardScaler())\n",
    "knn_pipe = Pipeline([('transform', transformer),\n",
    "                     ('knn', KNeighborsClassifier())])\n",
    "# Answer check\n",
    "knn_pipe"
   ]
  },
  {
   "cell_type": "code",
   "execution_count": null,
   "metadata": {
    "deletable": false,
    "editable": false,
    "nbgrader": {
     "cell_type": "code",
     "checksum": "484afd4711eb4f0505aae6fda21656a1",
     "grade": true,
     "grade_id": "cell-08e27e48f4cdd8e7",
     "locked": true,
     "points": 10,
     "schema_version": 3,
     "solution": false
    }
   },
   "outputs": [],
   "source": []
  },
  {
   "cell_type": "markdown",
   "metadata": {
    "deletable": false,
    "editable": false,
    "nbgrader": {
     "cell_type": "markdown",
     "checksum": "4168cb7a0fac15847a516762f3f96b9c",
     "grade": false,
     "grade_id": "cell-6401f33e5bcd4eed",
     "locked": true,
     "schema_version": 3,
     "solution": false
    }
   },
   "source": [
    "[Back to top](#-Index)\n",
    "\n",
    "### Problem 3\n",
    "\n",
    "#### Parameter grid\n",
    "\n",
    "**10 Points**\n",
    "\n",
    "Now that your pipeline is ready, you are to construct a parameter grid to search over.  Consider two things:\n",
    "\n",
    "- You will not be able to predict on a test dataset where `n_neigbors > len(test_data)`.  This will limit our upper bound on `k`.  In this example too high a `k` will slow down the computation so only consider `k = [1, 3, 5, ..., 21]`. \n",
    "- Ties in voting are decided somewhat arbitrarily and for speed and clarity you should consider only odd values for number of neighbors\n",
    "\n",
    "Below, construct a parameter grid that searches your `knn` step in the pipeline for `n_neighbors` ranging from 1 to the length of `y_test` including only odd values.  Assign your dictionary to `params` below."
   ]
  },
  {
   "cell_type": "code",
   "execution_count": 31,
   "metadata": {},
   "outputs": [
    {
     "data": {
      "text/plain": [
       "[1, 3, 5, 7, 9, 11, 13, 15, 17, 19, 21]"
      ]
     },
     "execution_count": 31,
     "metadata": {},
     "output_type": "execute_result"
    }
   ],
   "source": [
    "list(range(1, 22, 2))"
   ]
  },
  {
   "cell_type": "code",
   "execution_count": 32,
   "metadata": {
    "deletable": false,
    "nbgrader": {
     "cell_type": "code",
     "checksum": "95431866279faae8da05e09d814f4be2",
     "grade": false,
     "grade_id": "cell-49c0659213e1b9b6",
     "locked": false,
     "schema_version": 3,
     "solution": true
    }
   },
   "outputs": [
    {
     "data": {
      "text/plain": [
       "[1, 3, 5, 7, 9, 11, 13, 15, 17, 19, 21]"
      ]
     },
     "execution_count": 32,
     "metadata": {},
     "output_type": "execute_result"
    }
   ],
   "source": [
    "### GRADED\n",
    "\n",
    "params = ''\n",
    "\n",
    "# YOUR CODE HERE\n",
    "#raise NotImplementedError()\n",
    "params = {'knn__n_neighbors': list(range(1, 22, 2))}\n",
    "# Answer check\n",
    "list(params.values())[0]"
   ]
  },
  {
   "cell_type": "code",
   "execution_count": null,
   "metadata": {
    "deletable": false,
    "editable": false,
    "nbgrader": {
     "cell_type": "code",
     "checksum": "0733efc918295abb45debda297c2ba62",
     "grade": true,
     "grade_id": "cell-9778b1c93e3a9e60",
     "locked": true,
     "points": 10,
     "schema_version": 3,
     "solution": false
    }
   },
   "outputs": [],
   "source": []
  },
  {
   "cell_type": "code",
   "execution_count": 33,
   "metadata": {},
   "outputs": [
    {
     "data": {
      "text/plain": [
       "dict_keys(['knn__n_neighbors'])"
      ]
     },
     "execution_count": 33,
     "metadata": {},
     "output_type": "execute_result"
    }
   ],
   "source": [
    "params.keys()"
   ]
  },
  {
   "cell_type": "markdown",
   "metadata": {
    "deletable": false,
    "editable": false,
    "nbgrader": {
     "cell_type": "markdown",
     "checksum": "d1dde7c5dc11f21c01e6d91ff978dde7",
     "grade": false,
     "grade_id": "cell-1c309eac303dc895",
     "locked": true,
     "schema_version": 3,
     "solution": false
    }
   },
   "source": [
    "[Back to top](#-Index)\n",
    "\n",
    "### Problem 4\n",
    "\n",
    "#### Grid search `k`\n",
    "\n",
    "**10 Points**\n",
    "\n",
    "Finally, use your pipeline and parameter grid to perform a grid search over the training data with `cv = 5`. Assign your grid as `knn_grid` below.  \n",
    "\n",
    "Identify the optimal value of `n_neighbors` and assign as an integer to `best_k` below.  \n",
    "\n",
    "Also, assign your best models accuracy on the test data as a float to `best_acc` . "
   ]
  },
  {
   "cell_type": "code",
   "execution_count": 35,
   "metadata": {
    "deletable": false,
    "nbgrader": {
     "cell_type": "code",
     "checksum": "2a63a73b2ad7f486c1f6b32f60065cb3",
     "grade": false,
     "grade_id": "cell-2cd786c8b30044e8",
     "locked": false,
     "schema_version": 3,
     "solution": true
    }
   },
   "outputs": [
    {
     "name": "stdout",
     "output_type": "stream",
     "text": [
      "0.9708\n",
      "11\n"
     ]
    }
   ],
   "source": [
    "### GRADED\n",
    "\n",
    "knn_grid = ''\n",
    "best_k = ''\n",
    "best_acc = ''\n",
    "\n",
    "# YOUR CODE HERE\n",
    "#raise NotImplementedError()\n",
    "knn_grid = GridSearchCV(knn_pipe, param_grid=params)\n",
    "knn_grid.fit(X_train, y_train)\n",
    "best_k = list(knn_grid.best_params_.values())[0]\n",
    "best_acc = knn_grid.score(X_test, y_test)\n",
    "\n",
    "# Answer check\n",
    "print(best_acc)\n",
    "print(best_k)"
   ]
  },
  {
   "cell_type": "code",
   "execution_count": null,
   "metadata": {
    "deletable": false,
    "editable": false,
    "nbgrader": {
     "cell_type": "code",
     "checksum": "d2258e8edab9cf871e97bbe9a095933f",
     "grade": true,
     "grade_id": "cell-72d7708f45a51216",
     "locked": true,
     "points": 10,
     "schema_version": 3,
     "solution": false
    }
   },
   "outputs": [],
   "source": []
  },
  {
   "cell_type": "code",
   "execution_count": 38,
   "metadata": {},
   "outputs": [
    {
     "data": {
      "text/plain": [
       "{'knn__n_neighbors': 11}"
      ]
     },
     "execution_count": 38,
     "metadata": {},
     "output_type": "execute_result"
    }
   ],
   "source": [
    "knn_grid.best_params_"
   ]
  },
  {
   "cell_type": "markdown",
   "metadata": {
    "deletable": false,
    "editable": false,
    "nbgrader": {
     "cell_type": "markdown",
     "checksum": "0d077ceff10503ebc41c5c7834297a1e",
     "grade": false,
     "grade_id": "cell-915465698b91be8b",
     "locked": true,
     "schema_version": 3,
     "solution": false
    }
   },
   "source": [
    "[Back to top](#-Index)\n",
    "\n",
    "### Problem 5\n",
    "\n",
    "#### Other parameters to consider\n",
    "\n",
    "**10 Points**\n",
    "\n",
    "The number of neighbors is not the only parameter in the implementation from scikitlearn.  For example, you can also consider different weightings of points based on their distance, change the distance metric, and search over alternative versions of certain metrics like minkowski.  See the docstring from `KNeighborsClassifier` below. \n",
    "\n",
    "```\n",
    "weights : {'uniform', 'distance'} or callable, default='uniform'\n",
    "    Weight function used in prediction.  Possible values:\n",
    "\n",
    "    - 'uniform' : uniform weights.  All points in each neighborhood\n",
    "      are weighted equally.\n",
    "    - 'distance' : weight points by the inverse of their distance.\n",
    "      in this case, closer neighbors of a query point will have a\n",
    "      greater influence than neighbors which are further away.\n",
    "    - [callable] : a user-defined function which accepts an\n",
    "      array of distances, and returns an array of the same shape\n",
    "      containing the weights.\n",
    "      \n",
    "===========================\n",
    "\n",
    "p : int, default=2\n",
    "    Power parameter for the Minkowski metric. When p = 1, this is\n",
    "    equivalent to using manhattan_distance (l1), and euclidean_distance\n",
    "    (l2) for p = 2. For arbitrary p, minkowski_distance (l_p) is used.\n",
    "    \n",
    "```\n",
    "\n",
    "Create a new parameter grid and consider both weightings as well as `p = [1, 2]`.  Assign this as a dictionary to `params2` below.  \n",
    "\n",
    "Search over these parameters in your `knn_pipe` with a `GridSearchCV` named `weight_grid` below. Also, consider `n_neighbors` as in [Problem 4](#-Problem-4).  Did your new grid search results perform better than earlier?  Assign this grids accuracy to `weights_acc` below."
   ]
  },
  {
   "cell_type": "code",
   "execution_count": 46,
   "metadata": {
    "deletable": false,
    "nbgrader": {
     "cell_type": "code",
     "checksum": "b34884bc7ed7262ba57cb0cb8e75182f",
     "grade": false,
     "grade_id": "cell-a28b8c5d58df2812",
     "locked": false,
     "schema_version": 3,
     "solution": true
    }
   },
   "outputs": [
    {
     "name": "stdout",
     "output_type": "stream",
     "text": [
      "0.9708\n"
     ]
    }
   ],
   "source": [
    "### GRADED\n",
    "\n",
    "params2 = ''\n",
    "weight_grid = ''\n",
    "weights_acc = ''\n",
    "\n",
    "# YOUR CODE HERE\n",
    "#raise NotImplementedError()\n",
    "params2 = {'knn__n_neighbors': list(range(1, 22, 2)), 'knn__p': [1, 2], 'knn__weights':['uniform', 'distance']}\n",
    "weight_grid = GridSearchCV(knn_pipe, param_grid=params2)\n",
    "weight_grid.fit(X_train, y_train)\n",
    "\n",
    "weights_acc = weight_grid.score(X_test, y_test)\n",
    "\n",
    "# Answer check\n",
    "print(weights_acc)"
   ]
  },
  {
   "cell_type": "code",
   "execution_count": null,
   "metadata": {
    "deletable": false,
    "editable": false,
    "nbgrader": {
     "cell_type": "code",
     "checksum": "62e21247acf84ba4ec8d2f2c931540b6",
     "grade": true,
     "grade_id": "cell-43cf49bd74485afb",
     "locked": true,
     "points": 10,
     "schema_version": 3,
     "solution": false
    }
   },
   "outputs": [],
   "source": []
  },
  {
   "cell_type": "code",
   "execution_count": 47,
   "metadata": {},
   "outputs": [
    {
     "data": {
      "text/plain": [
       "{'knn__n_neighbors': 11, 'knn__p': 2, 'knn__weights': 'uniform'}"
      ]
     },
     "execution_count": 47,
     "metadata": {},
     "output_type": "execute_result"
    }
   ],
   "source": [
    "weight_grid.best_params_"
   ]
  },
  {
   "cell_type": "markdown",
   "metadata": {
    "deletable": false,
    "editable": false,
    "nbgrader": {
     "cell_type": "markdown",
     "checksum": "4979623ed32b9003ea535867b6df213d",
     "grade": false,
     "grade_id": "cell-f9041e2db48f6fef",
     "locked": true,
     "schema_version": 3,
     "solution": false
    }
   },
   "source": [
    "[Back to top](#-Index)\n",
    "\n",
    "### Problem 6\n",
    "\n",
    "#### Further considerations\n",
    "\n",
    "**5 Points**\n",
    "\n",
    "When performing your grid search you want to also be sensitive to the amount of parameters you are searching and the number of different models being built.  How many models were constructed in [Problem 5](#-Problem-5)?  Enter your answer as an integer to `ans6` below.  You might use the grids `.cv_results_` attribute to determine this."
   ]
  },
  {
   "cell_type": "code",
   "execution_count": 63,
   "metadata": {
    "scrolled": false
   },
   "outputs": [
    {
     "data": {
      "text/plain": [
       "44"
      ]
     },
     "execution_count": 63,
     "metadata": {},
     "output_type": "execute_result"
    }
   ],
   "source": [
    "len(list(weight_grid.cv_results_.values())[list(weight_grid.cv_results_.keys()) == 'params'])"
   ]
  },
  {
   "cell_type": "code",
   "execution_count": 65,
   "metadata": {
    "scrolled": true
   },
   "outputs": [
    {
     "data": {
      "text/plain": [
       "{'mean_fit_time': array([0.01326089, 0.01256671, 0.01350532, 0.01283641, 0.01332922,\n",
       "        0.01283126, 0.01444511, 0.01527653, 0.0171237 , 0.01484776,\n",
       "        0.01522493, 0.01591105, 0.0146307 , 0.0144855 , 0.01363454,\n",
       "        0.01547809, 0.01410308, 0.01417727, 0.01439638, 0.01454697,\n",
       "        0.01421647, 0.01406012, 0.01358514, 0.01318083, 0.01428928,\n",
       "        0.01356106, 0.01393003, 0.01467156, 0.01547923, 0.01340032,\n",
       "        0.01480207, 0.01350718, 0.01395168, 0.01368642, 0.01358423,\n",
       "        0.0131146 , 0.01344037, 0.01341658, 0.01302361, 0.01282058,\n",
       "        0.01300192, 0.01246929, 0.01287928, 0.01250405]),\n",
       " 'std_fit_time': array([0.00036744, 0.00018312, 0.00106659, 0.00021224, 0.00025033,\n",
       "        0.00027657, 0.00085378, 0.0023494 , 0.00361449, 0.00195164,\n",
       "        0.00105667, 0.00080534, 0.00119279, 0.00075689, 0.00053179,\n",
       "        0.00236264, 0.00097042, 0.00100055, 0.00133065, 0.00107511,\n",
       "        0.00063574, 0.00064352, 0.00041954, 0.00038599, 0.00065567,\n",
       "        0.0002704 , 0.00041677, 0.00169972, 0.00168441, 0.00070536,\n",
       "        0.00161182, 0.00027354, 0.00022922, 0.00021646, 0.00048597,\n",
       "        0.00016802, 0.00020019, 0.00097437, 0.00033532, 0.00034287,\n",
       "        0.00026377, 0.00016822, 0.00017767, 0.00018979]),\n",
       " 'mean_score_time': array([0.03792062, 0.00895176, 0.0375227 , 0.00831008, 0.03932142,\n",
       "        0.00970416, 0.04309735, 0.0102355 , 0.05036387, 0.01196742,\n",
       "        0.04291029, 0.0127645 , 0.04595947, 0.01276202, 0.04085326,\n",
       "        0.01204748, 0.04434724, 0.01357036, 0.04248552, 0.01134772,\n",
       "        0.04451098, 0.01367965, 0.04431939, 0.01190286, 0.04663548,\n",
       "        0.0140676 , 0.04451075, 0.01279092, 0.05063515, 0.01365552,\n",
       "        0.04580259, 0.01316004, 0.04522386, 0.01515284, 0.04273481,\n",
       "        0.01362014, 0.04384947, 0.01492543, 0.04185076, 0.01340961,\n",
       "        0.04351606, 0.01494946, 0.04213552, 0.01345444]),\n",
       " 'std_score_time': array([0.00139813, 0.00044375, 0.00144705, 0.00010957, 0.00026228,\n",
       "        0.0001355 , 0.00594883, 0.00158074, 0.00520989, 0.00091799,\n",
       "        0.00138012, 0.00097494, 0.00220494, 0.00087632, 0.00078104,\n",
       "        0.00097703, 0.00177607, 0.00123183, 0.00042161, 0.00036498,\n",
       "        0.00023048, 0.00085676, 0.00230921, 0.00093267, 0.003815  ,\n",
       "        0.00083551, 0.00088506, 0.00073371, 0.00556307, 0.00019235,\n",
       "        0.00262494, 0.00023018, 0.00049753, 0.00045356, 0.00143857,\n",
       "        0.00082726, 0.00091044, 0.00061979, 0.00042587, 0.00036455,\n",
       "        0.00026083, 0.00017262, 0.00012121, 0.00012502]),\n",
       " 'param_knn__n_neighbors': masked_array(data=[1, 1, 1, 1, 3, 3, 3, 3, 5, 5, 5, 5, 7, 7, 7, 7, 9, 9,\n",
       "                    9, 9, 11, 11, 11, 11, 13, 13, 13, 13, 15, 15, 15, 15,\n",
       "                    17, 17, 17, 17, 19, 19, 19, 19, 21, 21, 21, 21],\n",
       "              mask=[False, False, False, False, False, False, False, False,\n",
       "                    False, False, False, False, False, False, False, False,\n",
       "                    False, False, False, False, False, False, False, False,\n",
       "                    False, False, False, False, False, False, False, False,\n",
       "                    False, False, False, False, False, False, False, False,\n",
       "                    False, False, False, False],\n",
       "        fill_value='?',\n",
       "             dtype=object),\n",
       " 'param_knn__p': masked_array(data=[1, 1, 2, 2, 1, 1, 2, 2, 1, 1, 2, 2, 1, 1, 2, 2, 1, 1,\n",
       "                    2, 2, 1, 1, 2, 2, 1, 1, 2, 2, 1, 1, 2, 2, 1, 1, 2, 2,\n",
       "                    1, 1, 2, 2, 1, 1, 2, 2],\n",
       "              mask=[False, False, False, False, False, False, False, False,\n",
       "                    False, False, False, False, False, False, False, False,\n",
       "                    False, False, False, False, False, False, False, False,\n",
       "                    False, False, False, False, False, False, False, False,\n",
       "                    False, False, False, False, False, False, False, False,\n",
       "                    False, False, False, False],\n",
       "        fill_value='?',\n",
       "             dtype=object),\n",
       " 'param_knn__weights': masked_array(data=['uniform', 'distance', 'uniform', 'distance',\n",
       "                    'uniform', 'distance', 'uniform', 'distance',\n",
       "                    'uniform', 'distance', 'uniform', 'distance',\n",
       "                    'uniform', 'distance', 'uniform', 'distance',\n",
       "                    'uniform', 'distance', 'uniform', 'distance',\n",
       "                    'uniform', 'distance', 'uniform', 'distance',\n",
       "                    'uniform', 'distance', 'uniform', 'distance',\n",
       "                    'uniform', 'distance', 'uniform', 'distance',\n",
       "                    'uniform', 'distance', 'uniform', 'distance',\n",
       "                    'uniform', 'distance', 'uniform', 'distance',\n",
       "                    'uniform', 'distance', 'uniform', 'distance'],\n",
       "              mask=[False, False, False, False, False, False, False, False,\n",
       "                    False, False, False, False, False, False, False, False,\n",
       "                    False, False, False, False, False, False, False, False,\n",
       "                    False, False, False, False, False, False, False, False,\n",
       "                    False, False, False, False, False, False, False, False,\n",
       "                    False, False, False, False],\n",
       "        fill_value='?',\n",
       "             dtype=object),\n",
       " 'params': [{'knn__n_neighbors': 1, 'knn__p': 1, 'knn__weights': 'uniform'},\n",
       "  {'knn__n_neighbors': 1, 'knn__p': 1, 'knn__weights': 'distance'},\n",
       "  {'knn__n_neighbors': 1, 'knn__p': 2, 'knn__weights': 'uniform'},\n",
       "  {'knn__n_neighbors': 1, 'knn__p': 2, 'knn__weights': 'distance'},\n",
       "  {'knn__n_neighbors': 3, 'knn__p': 1, 'knn__weights': 'uniform'},\n",
       "  {'knn__n_neighbors': 3, 'knn__p': 1, 'knn__weights': 'distance'},\n",
       "  {'knn__n_neighbors': 3, 'knn__p': 2, 'knn__weights': 'uniform'},\n",
       "  {'knn__n_neighbors': 3, 'knn__p': 2, 'knn__weights': 'distance'},\n",
       "  {'knn__n_neighbors': 5, 'knn__p': 1, 'knn__weights': 'uniform'},\n",
       "  {'knn__n_neighbors': 5, 'knn__p': 1, 'knn__weights': 'distance'},\n",
       "  {'knn__n_neighbors': 5, 'knn__p': 2, 'knn__weights': 'uniform'},\n",
       "  {'knn__n_neighbors': 5, 'knn__p': 2, 'knn__weights': 'distance'},\n",
       "  {'knn__n_neighbors': 7, 'knn__p': 1, 'knn__weights': 'uniform'},\n",
       "  {'knn__n_neighbors': 7, 'knn__p': 1, 'knn__weights': 'distance'},\n",
       "  {'knn__n_neighbors': 7, 'knn__p': 2, 'knn__weights': 'uniform'},\n",
       "  {'knn__n_neighbors': 7, 'knn__p': 2, 'knn__weights': 'distance'},\n",
       "  {'knn__n_neighbors': 9, 'knn__p': 1, 'knn__weights': 'uniform'},\n",
       "  {'knn__n_neighbors': 9, 'knn__p': 1, 'knn__weights': 'distance'},\n",
       "  {'knn__n_neighbors': 9, 'knn__p': 2, 'knn__weights': 'uniform'},\n",
       "  {'knn__n_neighbors': 9, 'knn__p': 2, 'knn__weights': 'distance'},\n",
       "  {'knn__n_neighbors': 11, 'knn__p': 1, 'knn__weights': 'uniform'},\n",
       "  {'knn__n_neighbors': 11, 'knn__p': 1, 'knn__weights': 'distance'},\n",
       "  {'knn__n_neighbors': 11, 'knn__p': 2, 'knn__weights': 'uniform'},\n",
       "  {'knn__n_neighbors': 11, 'knn__p': 2, 'knn__weights': 'distance'},\n",
       "  {'knn__n_neighbors': 13, 'knn__p': 1, 'knn__weights': 'uniform'},\n",
       "  {'knn__n_neighbors': 13, 'knn__p': 1, 'knn__weights': 'distance'},\n",
       "  {'knn__n_neighbors': 13, 'knn__p': 2, 'knn__weights': 'uniform'},\n",
       "  {'knn__n_neighbors': 13, 'knn__p': 2, 'knn__weights': 'distance'},\n",
       "  {'knn__n_neighbors': 15, 'knn__p': 1, 'knn__weights': 'uniform'},\n",
       "  {'knn__n_neighbors': 15, 'knn__p': 1, 'knn__weights': 'distance'},\n",
       "  {'knn__n_neighbors': 15, 'knn__p': 2, 'knn__weights': 'uniform'},\n",
       "  {'knn__n_neighbors': 15, 'knn__p': 2, 'knn__weights': 'distance'},\n",
       "  {'knn__n_neighbors': 17, 'knn__p': 1, 'knn__weights': 'uniform'},\n",
       "  {'knn__n_neighbors': 17, 'knn__p': 1, 'knn__weights': 'distance'},\n",
       "  {'knn__n_neighbors': 17, 'knn__p': 2, 'knn__weights': 'uniform'},\n",
       "  {'knn__n_neighbors': 17, 'knn__p': 2, 'knn__weights': 'distance'},\n",
       "  {'knn__n_neighbors': 19, 'knn__p': 1, 'knn__weights': 'uniform'},\n",
       "  {'knn__n_neighbors': 19, 'knn__p': 1, 'knn__weights': 'distance'},\n",
       "  {'knn__n_neighbors': 19, 'knn__p': 2, 'knn__weights': 'uniform'},\n",
       "  {'knn__n_neighbors': 19, 'knn__p': 2, 'knn__weights': 'distance'},\n",
       "  {'knn__n_neighbors': 21, 'knn__p': 1, 'knn__weights': 'uniform'},\n",
       "  {'knn__n_neighbors': 21, 'knn__p': 1, 'knn__weights': 'distance'},\n",
       "  {'knn__n_neighbors': 21, 'knn__p': 2, 'knn__weights': 'uniform'},\n",
       "  {'knn__n_neighbors': 21, 'knn__p': 2, 'knn__weights': 'distance'}],\n",
       " 'split0_test_score': array([0.95666667, 0.95666667, 0.95733333, 0.95733333, 0.96333333,\n",
       "        0.95933333, 0.96333333, 0.95866667, 0.968     , 0.96333333,\n",
       "        0.96933333, 0.96466667, 0.97066667, 0.96666667, 0.97133333,\n",
       "        0.968     , 0.972     , 0.968     , 0.97133333, 0.968     ,\n",
       "        0.97133333, 0.968     , 0.97133333, 0.968     , 0.97266667,\n",
       "        0.97      , 0.972     , 0.97      , 0.97266667, 0.97133333,\n",
       "        0.972     , 0.97      , 0.97266667, 0.97133333, 0.97133333,\n",
       "        0.97      , 0.97266667, 0.97      , 0.97266667, 0.97066667,\n",
       "        0.97266667, 0.97133333, 0.972     , 0.97133333]),\n",
       " 'split1_test_score': array([0.958     , 0.958     , 0.95866667, 0.95866667, 0.96533333,\n",
       "        0.964     , 0.96466667, 0.96466667, 0.972     , 0.968     ,\n",
       "        0.97133333, 0.96933333, 0.97333333, 0.96866667, 0.972     ,\n",
       "        0.968     , 0.97133333, 0.96866667, 0.97066667, 0.97      ,\n",
       "        0.97066667, 0.968     , 0.97266667, 0.968     , 0.97266667,\n",
       "        0.96933333, 0.97266667, 0.96866667, 0.97266667, 0.97      ,\n",
       "        0.97266667, 0.96866667, 0.97333333, 0.972     , 0.97266667,\n",
       "        0.97      , 0.97266667, 0.972     , 0.972     , 0.97133333,\n",
       "        0.97266667, 0.97133333, 0.972     , 0.97133333]),\n",
       " 'split2_test_score': array([0.95933333, 0.95933333, 0.95933333, 0.95933333, 0.96866667,\n",
       "        0.96333333, 0.97      , 0.96466667, 0.96866667, 0.96666667,\n",
       "        0.96866667, 0.966     , 0.97133333, 0.968     , 0.97133333,\n",
       "        0.96866667, 0.97133333, 0.97      , 0.972     , 0.97066667,\n",
       "        0.97133333, 0.97      , 0.972     , 0.97133333, 0.97133333,\n",
       "        0.97133333, 0.97266667, 0.972     , 0.97066667, 0.97133333,\n",
       "        0.97      , 0.972     , 0.97      , 0.97133333, 0.97      ,\n",
       "        0.97133333, 0.97      , 0.97066667, 0.97066667, 0.97133333,\n",
       "        0.97066667, 0.97066667, 0.97      , 0.97      ]),\n",
       " 'split3_test_score': array([0.956     , 0.956     , 0.95466667, 0.95466667, 0.96266667,\n",
       "        0.96      , 0.962     , 0.96133333, 0.968     , 0.96466667,\n",
       "        0.96733333, 0.964     , 0.97      , 0.96666667, 0.96666667,\n",
       "        0.96666667, 0.97      , 0.968     , 0.96933333, 0.966     ,\n",
       "        0.97      , 0.968     , 0.97133333, 0.96666667, 0.97066667,\n",
       "        0.968     , 0.97133333, 0.96733333, 0.97      , 0.968     ,\n",
       "        0.97133333, 0.96866667, 0.97066667, 0.968     , 0.97133333,\n",
       "        0.96866667, 0.97066667, 0.968     , 0.972     , 0.96866667,\n",
       "        0.97133333, 0.968     , 0.97066667, 0.96866667]),\n",
       " 'split4_test_score': array([0.94866667, 0.94866667, 0.95      , 0.95      , 0.962     ,\n",
       "        0.95866667, 0.964     , 0.96066667, 0.97      , 0.966     ,\n",
       "        0.97      , 0.96666667, 0.97      , 0.964     , 0.976     ,\n",
       "        0.96866667, 0.97333333, 0.96733333, 0.974     , 0.96933333,\n",
       "        0.97533333, 0.972     , 0.97533333, 0.972     , 0.97266667,\n",
       "        0.972     , 0.972     , 0.972     , 0.972     , 0.972     ,\n",
       "        0.97      , 0.97066667, 0.972     , 0.972     , 0.97333333,\n",
       "        0.972     , 0.97333333, 0.97133333, 0.97333333, 0.97066667,\n",
       "        0.97266667, 0.972     , 0.974     , 0.97066667]),\n",
       " 'mean_test_score': array([0.95573333, 0.95573333, 0.956     , 0.956     , 0.9644    ,\n",
       "        0.96106667, 0.9648    , 0.962     , 0.96933333, 0.96573333,\n",
       "        0.96933333, 0.96613333, 0.97106667, 0.9668    , 0.97146667,\n",
       "        0.968     , 0.9716    , 0.9684    , 0.97146667, 0.9688    ,\n",
       "        0.97173333, 0.9692    , 0.97253333, 0.9692    , 0.972     ,\n",
       "        0.97013333, 0.97213333, 0.97      , 0.9716    , 0.97053333,\n",
       "        0.9712    , 0.97      , 0.97173333, 0.97093333, 0.97173333,\n",
       "        0.9704    , 0.97186667, 0.9704    , 0.97213333, 0.97053333,\n",
       "        0.972     , 0.97066667, 0.97173333, 0.9704    ]),\n",
       " 'std_test_score': array([0.00371424, 0.00371424, 0.00339935, 0.00339935, 0.0024074 ,\n",
       "        0.0021746 , 0.0027455 , 0.00234758, 0.00152023, 0.00161107,\n",
       "        0.00133333, 0.00185712, 0.00123648, 0.0016    , 0.00296348,\n",
       "        0.0007303 , 0.00108321, 0.00090431, 0.00154344, 0.00165462,\n",
       "        0.00186667, 0.0016    , 0.00148474, 0.00208273, 0.00084327,\n",
       "        0.00142361, 0.00049889, 0.00183787, 0.00108321, 0.00142361,\n",
       "        0.00106667, 0.00126491, 0.00123648, 0.00149666, 0.00116237,\n",
       "        0.00116237, 0.00129271, 0.00137275, 0.00088443, 0.0009798 ,\n",
       "        0.00084327, 0.00139841, 0.00137275, 0.00099778]),\n",
       " 'rank_test_score': array([43, 43, 41, 41, 38, 40, 37, 39, 27, 36, 27, 35, 16, 34, 14, 33, 11,\n",
       "        32, 13, 31,  7, 29,  1, 29,  4, 24,  2, 25, 11, 20, 15, 25,  7, 17,\n",
       "         9, 21,  6, 21,  2, 19,  4, 18,  9, 23], dtype=int32)}"
      ]
     },
     "execution_count": 65,
     "metadata": {},
     "output_type": "execute_result"
    }
   ],
   "source": [
    "weight_grid.cv_results_"
   ]
  },
  {
   "cell_type": "code",
   "execution_count": 67,
   "metadata": {
    "deletable": false,
    "nbgrader": {
     "cell_type": "code",
     "checksum": "5932a10fd3c15fc708bfbe32e7d07e73",
     "grade": false,
     "grade_id": "cell-08e9caf7dd03bc11",
     "locked": false,
     "schema_version": 3,
     "solution": true
    }
   },
   "outputs": [
    {
     "name": "stdout",
     "output_type": "stream",
     "text": [
      "220\n"
     ]
    }
   ],
   "source": [
    "### GRADED\n",
    "\n",
    "ans6 = ''\n",
    "\n",
    "# YOUR CODE HERE\n",
    "#raise NotImplementedError()\n",
    "ans6 = int(len(list(weight_grid.cv_results_.values())[list(weight_grid.cv_results_.keys()) == 'params'])*5)\n",
    "\n",
    "# Answer check\n",
    "print(ans6)"
   ]
  },
  {
   "cell_type": "code",
   "execution_count": null,
   "metadata": {
    "deletable": false,
    "editable": false,
    "nbgrader": {
     "cell_type": "code",
     "checksum": "d4e2774b6de98a740edced63ddbafb40",
     "grade": true,
     "grade_id": "cell-7dcc2d070c4d297e",
     "locked": true,
     "points": 5,
     "schema_version": 3,
     "solution": false
    }
   },
   "outputs": [],
   "source": []
  }
 ],
 "metadata": {
  "kernelspec": {
   "display_name": "Python 3 (ipykernel)",
   "language": "python",
   "name": "python3"
  },
  "language_info": {
   "codemirror_mode": {
    "name": "ipython",
    "version": 3
   },
   "file_extension": ".py",
   "mimetype": "text/x-python",
   "name": "python",
   "nbconvert_exporter": "python",
   "pygments_lexer": "ipython3",
   "version": "3.9.7"
  },
  "widgets": {
   "application/vnd.jupyter.widget-state+json": {
    "state": {},
    "version_major": 2,
    "version_minor": 0
   }
  }
 },
 "nbformat": 4,
 "nbformat_minor": 4
}
