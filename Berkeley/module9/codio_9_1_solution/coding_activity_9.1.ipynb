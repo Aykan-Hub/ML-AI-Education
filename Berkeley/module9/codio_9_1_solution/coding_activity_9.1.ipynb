{
 "cells": [
  {
   "cell_type": "markdown",
   "metadata": {
    "nbgrader": {
     "grade": false,
     "grade_id": "cell-3e196cb29dc46142",
     "locked": true,
     "schema_version": 1,
     "solution": false
    }
   },
   "source": [
    "### Sequential Feature Selection \n",
    "\n",
    "**Expected Time: 60 minutes**\n",
    "\n",
    "**Total Points: 70**\n",
    "\n",
    "This activity focuses on using the stepwise feature selection approach outlined in video 9.3.  Here, your goal is to first generate polynomial features for a `degree = 3` model and limit them to a set number using the `SequentialFeatureSelection`. For more information on the selector see [here](https://scikit-learn.org/stable/modules/feature_selection.html#sequential-feature-selection). "
   ]
  },
  {
   "cell_type": "markdown",
   "metadata": {
    "nbgrader": {
     "grade": false,
     "grade_id": "cell-c64c70c202925728",
     "locked": true,
     "schema_version": 1,
     "solution": false
    }
   },
   "source": [
    "#### Index \n",
    "\n",
    "- [Problem 1](#Problem-1)\n",
    "- [Problem 2](#Problem-2)\n",
    "- [Problem 3](#Problem-3)\n",
    "- [Problem 4](#Problem-4)\n",
    "- [Problem 5](#Problem-5)"
   ]
  },
  {
   "cell_type": "code",
   "execution_count": 1,
   "metadata": {
    "nbgrader": {
     "grade": false,
     "grade_id": "cell-de0651f861c153e6",
     "locked": true,
     "schema_version": 1,
     "solution": false
    }
   },
   "outputs": [],
   "source": [
    "from sklearn.feature_selection import SequentialFeatureSelector\n",
    "from sklearn.preprocessing import PolynomialFeatures\n",
    "from sklearn.model_selection import train_test_split\n",
    "from sklearn.linear_model import LinearRegression\n",
    "from sklearn.metrics import mean_squared_error\n",
    "from sklearn.pipeline import Pipeline\n",
    "from sklearn import set_config\n",
    "set_config(display=\"diagram\")\n",
    "\n",
    "import matplotlib.pyplot as plt\n",
    "import pandas as pd\n",
    "import numpy as np"
   ]
  },
  {
   "cell_type": "markdown",
   "metadata": {
    "nbgrader": {
     "grade": false,
     "grade_id": "cell-a8bf2667b0f39b5d",
     "locked": true,
     "schema_version": 1,
     "solution": false
    }
   },
   "source": [
    "### The Data\n",
    "\n",
    "The dataset used is from kaggle [here](https://www.kaggle.com/mirichoi0218/insurance) and contains information on insurance clients and their medical costs billed by the insurance company.  You will build regression models to predict the logarithm of the `charges`.    The dataset is loaded and displayed below, and the original target is plotted next to its resulting logarithm.   "
   ]
  },
  {
   "cell_type": "code",
   "execution_count": 2,
   "metadata": {
    "nbgrader": {
     "grade": false,
     "grade_id": "cell-fc78f6a812ad1dc1",
     "locked": true,
     "schema_version": 1,
     "solution": false
    }
   },
   "outputs": [],
   "source": [
    "insurance = pd.read_csv('data/insurance.csv')"
   ]
  },
  {
   "cell_type": "code",
   "execution_count": 3,
   "metadata": {
    "nbgrader": {
     "grade": false,
     "grade_id": "cell-3d285da4a367ac42",
     "locked": true,
     "schema_version": 1,
     "solution": false
    }
   },
   "outputs": [
    {
     "data": {
      "text/html": [
       "<div>\n",
       "<style scoped>\n",
       "    .dataframe tbody tr th:only-of-type {\n",
       "        vertical-align: middle;\n",
       "    }\n",
       "\n",
       "    .dataframe tbody tr th {\n",
       "        vertical-align: top;\n",
       "    }\n",
       "\n",
       "    .dataframe thead th {\n",
       "        text-align: right;\n",
       "    }\n",
       "</style>\n",
       "<table border=\"1\" class=\"dataframe\">\n",
       "  <thead>\n",
       "    <tr style=\"text-align: right;\">\n",
       "      <th></th>\n",
       "      <th>age</th>\n",
       "      <th>sex</th>\n",
       "      <th>bmi</th>\n",
       "      <th>children</th>\n",
       "      <th>smoker</th>\n",
       "      <th>region</th>\n",
       "      <th>charges</th>\n",
       "    </tr>\n",
       "  </thead>\n",
       "  <tbody>\n",
       "    <tr>\n",
       "      <th>0</th>\n",
       "      <td>19</td>\n",
       "      <td>female</td>\n",
       "      <td>27.900</td>\n",
       "      <td>0</td>\n",
       "      <td>yes</td>\n",
       "      <td>southwest</td>\n",
       "      <td>16884.92400</td>\n",
       "    </tr>\n",
       "    <tr>\n",
       "      <th>1</th>\n",
       "      <td>18</td>\n",
       "      <td>male</td>\n",
       "      <td>33.770</td>\n",
       "      <td>1</td>\n",
       "      <td>no</td>\n",
       "      <td>southeast</td>\n",
       "      <td>1725.55230</td>\n",
       "    </tr>\n",
       "    <tr>\n",
       "      <th>2</th>\n",
       "      <td>28</td>\n",
       "      <td>male</td>\n",
       "      <td>33.000</td>\n",
       "      <td>3</td>\n",
       "      <td>no</td>\n",
       "      <td>southeast</td>\n",
       "      <td>4449.46200</td>\n",
       "    </tr>\n",
       "    <tr>\n",
       "      <th>3</th>\n",
       "      <td>33</td>\n",
       "      <td>male</td>\n",
       "      <td>22.705</td>\n",
       "      <td>0</td>\n",
       "      <td>no</td>\n",
       "      <td>northwest</td>\n",
       "      <td>21984.47061</td>\n",
       "    </tr>\n",
       "    <tr>\n",
       "      <th>4</th>\n",
       "      <td>32</td>\n",
       "      <td>male</td>\n",
       "      <td>28.880</td>\n",
       "      <td>0</td>\n",
       "      <td>no</td>\n",
       "      <td>northwest</td>\n",
       "      <td>3866.85520</td>\n",
       "    </tr>\n",
       "  </tbody>\n",
       "</table>\n",
       "</div>"
      ],
      "text/plain": [
       "   age     sex     bmi  children smoker     region      charges\n",
       "0   19  female  27.900         0    yes  southwest  16884.92400\n",
       "1   18    male  33.770         1     no  southeast   1725.55230\n",
       "2   28    male  33.000         3     no  southeast   4449.46200\n",
       "3   33    male  22.705         0     no  northwest  21984.47061\n",
       "4   32    male  28.880         0     no  northwest   3866.85520"
      ]
     },
     "execution_count": 3,
     "metadata": {},
     "output_type": "execute_result"
    }
   ],
   "source": [
    "insurance.head()"
   ]
  },
  {
   "cell_type": "code",
   "execution_count": 4,
   "metadata": {
    "nbgrader": {
     "grade": false,
     "grade_id": "cell-7d4275de1510fbaf",
     "locked": true,
     "schema_version": 1,
     "solution": false
    }
   },
   "outputs": [
    {
     "name": "stdout",
     "output_type": "stream",
     "text": [
      "<class 'pandas.core.frame.DataFrame'>\n",
      "RangeIndex: 1338 entries, 0 to 1337\n",
      "Data columns (total 7 columns):\n",
      " #   Column    Non-Null Count  Dtype  \n",
      "---  ------    --------------  -----  \n",
      " 0   age       1338 non-null   int64  \n",
      " 1   sex       1338 non-null   object \n",
      " 2   bmi       1338 non-null   float64\n",
      " 3   children  1338 non-null   int64  \n",
      " 4   smoker    1338 non-null   object \n",
      " 5   region    1338 non-null   object \n",
      " 6   charges   1338 non-null   float64\n",
      "dtypes: float64(2), int64(2), object(3)\n",
      "memory usage: 73.3+ KB\n"
     ]
    }
   ],
   "source": [
    "insurance.info()"
   ]
  },
  {
   "cell_type": "code",
   "execution_count": 5,
   "metadata": {
    "nbgrader": {
     "grade": false,
     "grade_id": "cell-5a408db8aac7bb67",
     "locked": true,
     "schema_version": 1,
     "solution": false
    }
   },
   "outputs": [
    {
     "data": {
      "image/png": "[encoded data removed]",
      "text/plain": [
       "<Figure size 1080x288 with 2 Axes>"
      ]
     },
     "metadata": {
      "needs_background": "light"
     },
     "output_type": "display_data"
    }
   ],
   "source": [
    "fig, ax = plt.subplots(1, 2, figsize = (15, 4))\n",
    "ax[0].hist(insurance['charges'])\n",
    "ax[0].grid()\n",
    "ax[0].set_title('Original charges column')\n",
    "ax[1].hist(np.log1p(insurance['charges']))\n",
    "ax[1].grid()\n",
    "ax[1].set_title('Logarithm of charges');"
   ]
  },
  {
   "cell_type": "markdown",
   "metadata": {
    "nbgrader": {
     "grade": false,
     "grade_id": "cell-6a733df4c774e29c",
     "locked": true,
     "schema_version": 1,
     "solution": false
    }
   },
   "source": [
    "[Back to top](#Index)\n",
    "\n",
    "### Problem 1\n",
    "\n",
    "#### Train/Test split\n",
    "\n",
    "**Points: 10**\n",
    "\n",
    "Create a train and test set using `train_test_split` and assign to `X_train`, `X_test`, `y_train`, `y_test` below with parameters:\n",
    "\n",
    "- `test_size = 0.3`\n",
    "- `random_state = 42`\n",
    "\n",
    "The target data should be transformed according to the `np.log1p` function.  "
   ]
  },
  {
   "cell_type": "code",
   "execution_count": 6,
   "metadata": {
    "nbgrader": {
     "grade": false,
     "grade_id": "cell-b882d08634244046",
     "locked": false,
     "schema_version": 1,
     "solution": true
    }
   },
   "outputs": [
    {
     "name": "stdout",
     "output_type": "stream",
     "text": [
      "(936, 6)\n",
      "(402, 6)\n"
     ]
    }
   ],
   "source": [
    "### GRADED\n",
    "\n",
    "X_train, X_test, y_train, y_test = '', '', '', ''\n",
    "\n",
    "### BEGIN SOLUTION\n",
    "X_train, X_test, y_train, y_test = train_test_split(insurance.drop('charges', axis = 1), np.log1p(insurance.charges), \n",
    "                                                   random_state=42, test_size = 0.3)\n",
    "### END SOLUTION\n",
    "\n",
    "# Answer check\n",
    "print(X_train.shape)\n",
    "print(X_test.shape)"
   ]
  },
  {
   "cell_type": "code",
   "execution_count": 7,
   "metadata": {
    "nbgrader": {
     "grade": true,
     "grade_id": "cell-aebfba83b77a9b7d",
     "locked": true,
     "points": 10,
     "schema_version": 1,
     "solution": false
    }
   },
   "outputs": [],
   "source": [
    "### BEGIN HIDDEN TESTS\n",
    "X_train_, X_test_, y_train_, y_test_ = train_test_split(insurance.drop('charges', axis = 1), np.log1p(insurance.charges), \n",
    "                                                   random_state=42, test_size = 0.3)\n",
    "#\n",
    "#\n",
    "#\n",
    "pd.testing.assert_frame_equal(X_train, X_train_)\n",
    "pd.testing.assert_series_equal(y_train, y_train_)\n",
    "### END HIDDEN TESTS"
   ]
  },
  {
   "cell_type": "markdown",
   "metadata": {
    "nbgrader": {
     "grade": false,
     "grade_id": "cell-8febac9a59dee29d",
     "locked": true,
     "schema_version": 1,
     "solution": false
    }
   },
   "source": [
    "[Back to top](#Index)\n",
    "\n",
    "### Problem 2\n",
    "\n",
    "#### Building `PolynomialFeatures`\n",
    "\n",
    "**Points: 10**\n",
    "\n",
    "To begin, create a `DataFrame` with the `degree = 3` features and interaction terms added for numeric columns. Assign the following objects to the variables:\n",
    "\n",
    "- `poly_features`: Instantiate a `PolynomialFeatures` object for quadratic features without a bias term.\n",
    "- `X_train_poly`: Fit and transformed features using `['age', 'bmi', 'children']`.  \n",
    "- `X_test_poly`: Transformed test data using `['age', 'bmi', 'children']`.\n",
    "- `poly_columns`: Column names of transformed data\n",
    "- `train_df`: DataFrame with training features and column names.\n",
    "- `test_df`: DataFrame with test features and column names\n",
    "\n",
    "The DataFrame `train_df` should look like:"
   ]
  },
  {
   "cell_type": "markdown",
   "metadata": {
    "nbgrader": {
     "grade": false,
     "grade_id": "cell-1def317bb3d8486b",
     "locked": true,
     "schema_version": 1,
     "solution": false
    }
   },
   "source": [
    "'<table border=\"1\" class=\"dataframe\">  <thead>    <tr style=\"text-align: right;\">      <th></th>      <th>age</th>      <th>bmi</th>      <th>children</th>      <th>age^2</th>      <th>age bmi</th>      <th>age children</th>      <th>bmi^2</th>      <th>bmi children</th>      <th>children^2</th>      <th>age^3</th>      <th>age^2 bmi</th>      <th>age^2 children</th>      <th>age bmi^2</th>      <th>age bmi children</th>      <th>age children^2</th>      <th>bmi^3</th>      <th>bmi^2 children</th>      <th>bmi children^2</th>      <th>children^3</th>    </tr>  </thead>  <tbody>    <tr>      <th>0</th>      <td>61.0</td>      <td>31.160</td>      <td>0.0</td>      <td>3721.0</td>      <td>1900.760</td>      <td>0.0</td>      <td>970.945600</td>      <td>0.00</td>      <td>0.0</td>      <td>226981.0</td>      <td>115946.360</td>      <td>0.0</td>      <td>59227.681600</td>      <td>0.0</td>      <td>0.0</td>      <td>30254.664896</td>      <td>0.0000</td>      <td>0.00</td>      <td>0.0</td>    </tr>    <tr>      <th>1</th>      <td>46.0</td>      <td>27.600</td>      <td>0.0</td>      <td>2116.0</td>      <td>1269.600</td>      <td>0.0</td>      <td>761.760000</td>      <td>0.00</td>      <td>0.0</td>      <td>97336.0</td>      <td>58401.600</td>      <td>0.0</td>      <td>35040.960000</td>      <td>0.0</td>      <td>0.0</td>      <td>21024.576000</td>      <td>0.0000</td>      <td>0.00</td>      <td>0.0</td>    </tr>    <tr>      <th>2</th>      <td>54.0</td>      <td>31.900</td>      <td>3.0</td>      <td>2916.0</td>      <td>1722.600</td>      <td>162.0</td>      <td>1017.610000</td>      <td>95.70</td>      <td>9.0</td>      <td>157464.0</td>      <td>93020.400</td>      <td>8748.0</td>      <td>54950.940000</td>      <td>5167.8</td>      <td>486.0</td>      <td>32461.759000</td>      <td>3052.8300</td>      <td>287.10</td>      <td>27.0</td>    </tr>    <tr>      <th>3</th>      <td>55.0</td>      <td>30.685</td>      <td>0.0</td>      <td>3025.0</td>      <td>1687.675</td>      <td>0.0</td>      <td>941.569225</td>      <td>0.00</td>      <td>0.0</td>      <td>166375.0</td>      <td>92822.125</td>      <td>0.0</td>      <td>51786.307375</td>      <td>0.0</td>      <td>0.0</td>      <td>28892.051669</td>      <td>0.0000</td>      <td>0.00</td>      <td>0.0</td>    </tr>    <tr>      <th>4</th>      <td>25.0</td>      <td>45.540</td>      <td>2.0</td>      <td>625.0</td>      <td>1138.500</td>      <td>50.0</td>      <td>2073.891600</td>      <td>91.08</td>      <td>4.0</td>      <td>15625.0</td>      <td>28462.500</td>      <td>1250.0</td>      <td>51847.290000</td>      <td>2277.0</td>      <td>100.0</td>      <td>94445.023464</td>      <td>4147.7832</td>      <td>182.16</td>      <td>8.0</td>    </tr>  </tbody></table>'"
   ]
  },
  {
   "cell_type": "code",
   "execution_count": null,
   "metadata": {
    "nbgrader": {
     "grade": false,
     "grade_id": "cell-01dfed88df3e2f2a",
     "locked": false,
     "schema_version": 1,
     "solution": true
    }
   },
   "outputs": [],
   "source": [
    "### GRADED\n",
    "\n",
    "poly_features = ''\n",
    "X_train_poly = ''\n",
    "X_test_poly = ''\n",
    "columns = ''\n",
    "train_df = ''\n",
    "test_df = ''\n",
    "\n",
    "### BEGIN SOLUTION\n",
    "poly_features = PolynomialFeatures(degree = 3, include_bias=False)\n",
    "X_train_poly = poly_features.fit_transform(X_train[['age', 'bmi', 'children']])\n",
    "X_test_poly = poly_features.fit_transform(X_test[['age', 'bmi', 'children']])\n",
    "columns = poly_features.get_feature_names_out()\n",
    "train_df = pd.DataFrame(X_train_poly, columns=columns)\n",
    "test_df = pd.DataFrame(X_test_poly, columns = columns)\n",
    "### END SOLUTION\n",
    "\n",
    "train_df['target_log'] = y_train.values\n",
    "test_df['target_log'] = y_test.values\n",
    "test_df.to_csv('data/test_cubic.csv', index = False)\n",
    "train_df.to_csv('data/train_cubic.csv', index = False)\n",
    "# ANSWER CHECK\n",
    "train_df.head()"
   ]
  },
  {
   "cell_type": "code",
   "execution_count": null,
   "metadata": {
    "nbgrader": {
     "grade": false,
     "grade_id": "cell-4f844fb9a25d4ef8",
     "locked": true,
     "schema_version": 1,
     "solution": false
    }
   },
   "outputs": [],
   "source": [
    "test_df"
   ]
  },
  {
   "cell_type": "code",
   "execution_count": null,
   "metadata": {
    "nbgrader": {
     "grade": true,
     "grade_id": "cell-3de83240a90381b4",
     "locked": true,
     "points": 10,
     "schema_version": 1,
     "solution": false
    }
   },
   "outputs": [],
   "source": [
    "### BEGIN HIDDEN TESTS\n",
    "poly_features_ = PolynomialFeatures(degree = 3, include_bias=False)\n",
    "X_train_poly_ = poly_features_.fit_transform(X_train_[['age', 'bmi', 'children']])\n",
    "X_test_poly_ = poly_features_.transform(X_test_[['age', 'bmi', 'children']])\n",
    "columns_ = poly_features_.get_feature_names_out()\n",
    "train_df_ = pd.DataFrame(X_train_poly_, columns=columns_)\n",
    "test_df_ = pd.DataFrame(X_test_poly_, columns = columns_)\n",
    "#\n",
    "#\n",
    "#\n",
    "pd.testing.assert_frame_equal(train_df, train_df_)\n",
    "pd.testing.assert_frame_equal(test_df, test_df_)\n",
    "### END HIDDEN TESTS"
   ]
  },
  {
   "cell_type": "markdown",
   "metadata": {
    "nbgrader": {
     "grade": false,
     "grade_id": "cell-1441a239f8811651",
     "locked": true,
     "schema_version": 1,
     "solution": false
    }
   },
   "source": [
    "[Back to top](#Index)\n",
    "\n",
    "### Problem 3\n",
    "\n",
    "#### Using `SequentialFeatureSelector`\n",
    "\n",
    "**Points: 10**\n",
    "\n",
    "Now, using the polynomial features you will use forward feature selection to select three features (`n_features_to_select = 3`) using a `LinearRegression` estimator to perform the feature selection on the training data.  Assign your transformed features to `best_features_df` as a DataFrame with appropriate feature names.  The transformer should be instantiated as `selector` and the transformed training data should be assigned to `best_features` as an array."
   ]
  },
  {
   "cell_type": "code",
   "execution_count": null,
   "metadata": {
    "nbgrader": {
     "grade": false,
     "grade_id": "cell-9f4f9967ff33d5f2",
     "locked": false,
     "schema_version": 1,
     "solution": true
    }
   },
   "outputs": [],
   "source": [
    "### GRADED\n",
    "\n",
    "selector = ''\n",
    "best_features = ''\n",
    "best_features_df = ''\n",
    "\n",
    "### BEGIN SOLUTION\n",
    "selector = SequentialFeatureSelector(LinearRegression(), n_features_to_select=3)\n",
    "best_features = selector.fit_transform(train_df, y_train)\n",
    "best_features_df = pd.DataFrame(best_features, columns = selector.get_feature_names_out())\n",
    "### END SOLUTION\n",
    "\n",
    "# ANSWER CHECK\n",
    "best_features_df.head()"
   ]
  },
  {
   "cell_type": "code",
   "execution_count": null,
   "metadata": {
    "nbgrader": {
     "grade": true,
     "grade_id": "cell-d85b583ba81fd7d6",
     "locked": true,
     "points": 10,
     "schema_version": 1,
     "solution": false
    }
   },
   "outputs": [],
   "source": [
    "### BEGIN HIDDEN TESTS\n",
    "selector_ = SequentialFeatureSelector(LinearRegression(), n_features_to_select=3)\n",
    "best_features_ = selector_.fit_transform(train_df, y_train_)\n",
    "best_features_df_ = pd.DataFrame(best_features_, columns = selector_.get_feature_names_out())\n",
    "#\n",
    "#\n",
    "#\n",
    "assert type(selector) == type(selector_)\n",
    "np.testing.assert_array_equal(best_features, best_features_, err_msg='Make sure best_features is training data transformed to 3 best features')\n",
    "pd.testing.assert_frame_equal(best_features_df, best_features_df_)\n",
    "### END HIDDEN TESTS"
   ]
  },
  {
   "cell_type": "markdown",
   "metadata": {
    "nbgrader": {
     "grade": false,
     "grade_id": "cell-443bbe9d0e498c81",
     "locked": true,
     "schema_version": 1,
     "solution": false
    }
   },
   "source": [
    "[Back to top](#Index)\n",
    "\n",
    "### Problem 4\n",
    "\n",
    "#### `Pipeline` for regression model\n",
    "\n",
    "**Points: 20**\n",
    "\n",
    "\n",
    "Now, create a `Pipeline` object with steps `column_selector` to select three features, and `linreg` to build a `LinearRegression` estimator.  Determine the Mean Squared Error on the train and test set respectively and assign to `train_mse` and `test_mse` as a float. Be sure to use `train_df` and `test_df` from above for fitting and predicting."
   ]
  },
  {
   "cell_type": "code",
   "execution_count": null,
   "metadata": {
    "nbgrader": {
     "grade": false,
     "grade_id": "cell-18c28262fcf1b06b",
     "locked": false,
     "schema_version": 1,
     "solution": true
    }
   },
   "outputs": [],
   "source": [
    "### GRADED\n",
    "\n",
    "pipe = ''\n",
    "train_preds = ''\n",
    "test_preds = ''\n",
    "train_mse = ''\n",
    "test_mse = ''\n",
    "\n",
    "### BEGIN SOLUTION\n",
    "pipe = Pipeline([('column_selector', selector),\n",
    "                ('linreg', LinearRegression())])\n",
    "pipe.fit(train_df, y_train)\n",
    "train_preds = pipe.predict(train_df)\n",
    "test_preds = pipe.predict(test_df)\n",
    "train_mse = mean_squared_error(y_train, train_preds)\n",
    "test_mse = mean_squared_error(y_test, test_preds)\n",
    "### END SOLUTION\n",
    "\n",
    "# Answer check\n",
    "print(f'Train MSE: {train_mse: .2f}')\n",
    "print(f'Test MSE: {test_mse: .2f}')\n",
    "pipe"
   ]
  },
  {
   "cell_type": "code",
   "execution_count": null,
   "metadata": {
    "nbgrader": {
     "grade": true,
     "grade_id": "cell-e237a96bbbc90a2a",
     "locked": true,
     "points": 20,
     "schema_version": 1,
     "solution": false
    }
   },
   "outputs": [],
   "source": [
    "### BEGIN HIDDEN TESTS\n",
    "pipe_ = Pipeline([('column_selector', selector),\n",
    "                ('linreg', LinearRegression())])\n",
    "pipe_.fit(train_df, y_train)\n",
    "train_preds_ = pipe_.predict(train_df)\n",
    "test_preds_ = pipe_.predict(test_df)\n",
    "train_mse_ = mean_squared_error(y_train, train_preds_)\n",
    "test_mse_ = mean_squared_error(y_test, test_preds_)\n",
    "#\n",
    "#\n",
    "#\n",
    "assert train_mse_ == train_mse\n",
    "assert test_mse_ == test_mse\n",
    "### END HIDDEN TESTS"
   ]
  },
  {
   "cell_type": "markdown",
   "metadata": {
    "nbgrader": {
     "grade": false,
     "grade_id": "cell-70ae7b485ba6330f",
     "locked": true,
     "schema_version": 1,
     "solution": false
    }
   },
   "source": [
    "[Back to top](#Index)\n",
    "\n",
    "#### Problem 5\n",
    "\n",
    "#### Backward Selction\n",
    "\n",
    "**Points: 20**\n",
    "\n",
    "Similar to the forward selection method, backward selection starts with all features and sequentially eliminates features until the threshold is achieved.  Use the selector `backward_selector` below to again build a pipeline named `backward_pipe` and fit a `LinearRegression` model using three features from `train_df`. \n",
    "\n",
    "Assign the train and test mean squared errors as `backward_train_mse` and `backward_test_mse` respectively."
   ]
  },
  {
   "cell_type": "code",
   "execution_count": null,
   "metadata": {
    "nbgrader": {
     "grade": false,
     "grade_id": "cell-1fc33b08f14ce729",
     "locked": true,
     "schema_version": 1,
     "solution": false
    }
   },
   "outputs": [],
   "source": [
    "backward_selector = SequentialFeatureSelector(LinearRegression(), \n",
    "                                              n_features_to_select=3,\n",
    "                                              direction = 'backward')"
   ]
  },
  {
   "cell_type": "code",
   "execution_count": null,
   "metadata": {
    "nbgrader": {
     "grade": false,
     "grade_id": "cell-64f2fa2c467d6268",
     "locked": false,
     "schema_version": 1,
     "solution": true
    }
   },
   "outputs": [],
   "source": [
    "### GRADED\n",
    "backward_pipe = ''\n",
    "backward_train_mse = ''\n",
    "backward_test_mse = ''\n",
    "\n",
    "### BEGIN SOLUTION\n",
    "backward_pipe = Pipeline([('column_selector', backward_selector),\n",
    "                ('linreg', LinearRegression())])\n",
    "backward_pipe.fit(train_df, y_train)\n",
    "train_preds = backward_pipe.predict(train_df)\n",
    "test_preds = backward_pipe.predict(test_df)\n",
    "backward_train_mse = mean_squared_error(y_train, train_preds)\n",
    "backward_test_mse = mean_squared_error(y_test, test_preds)\n",
    "### END SOLUTION\n",
    "\n",
    "# Answer check\n",
    "print(f'Train MSE: {backward_train_mse: .2f}')\n",
    "print(f'Test MSE: {backward_test_mse: .2f}')\n",
    "backward_pipe"
   ]
  },
  {
   "cell_type": "code",
   "execution_count": null,
   "metadata": {
    "nbgrader": {
     "grade": true,
     "grade_id": "cell-25e395f9599eca47",
     "locked": true,
     "points": 20,
     "schema_version": 1,
     "solution": false
    }
   },
   "outputs": [],
   "source": [
    "### BEGIN HIDDEN TESTS\n",
    "backward_pipe_ = Pipeline([('column_selector', backward_selector),\n",
    "                ('linreg', LinearRegression())])\n",
    "backward_pipe_.fit(train_df_, y_train_)\n",
    "train_preds_ = backward_pipe.predict(train_df_)\n",
    "test_preds_ = backward_pipe.predict(test_df_)\n",
    "backward_train_mse_ = mean_squared_error(y_train_, train_preds_)\n",
    "backward_test_mse_ = mean_squared_error(y_test_, test_preds_)\n",
    "#\n",
    "#\n",
    "#\n",
    "assert backward_test_mse == backward_test_mse_\n",
    "assert backward_train_mse == backward_train_mse_\n",
    "### END HIDDEN TESTS"
   ]
  },
  {
   "cell_type": "markdown",
   "metadata": {
    "nbgrader": {
     "grade": false,
     "grade_id": "cell-5954d401e35d43aa",
     "locked": true,
     "schema_version": 1,
     "solution": false
    }
   },
   "source": [
    "#### Further Exploration\n",
    "\n",
    "As an optional exercise work on incorporating the `PolynomialFeatures` into the pipeline along with a `TransformedTargetRegressor` to further abstract the modeling process.  "
   ]
  }
 ],
 "metadata": {
  "celltoolbar": "Create Assignment",
  "kernelspec": {
   "display_name": "Python 3 (ipykernel)",
   "language": "python",
   "name": "python3"
  },
  "language_info": {
   "codemirror_mode": {
    "name": "ipython",
    "version": 3
   },
   "file_extension": ".py",
   "mimetype": "text/x-python",
   "name": "python",
   "nbconvert_exporter": "python",
   "pygments_lexer": "ipython3",
   "version": "3.9.7"
  },
  "widgets": {
   "application/vnd.jupyter.widget-state+json": {
    "state": {},
    "version_major": 2,
    "version_minor": 0
   }
  }
 },
 "nbformat": 4,
 "nbformat_minor": 4
}
